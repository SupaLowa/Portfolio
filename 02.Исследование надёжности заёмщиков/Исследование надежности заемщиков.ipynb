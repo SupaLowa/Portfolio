{
 "cells": [
  {
   "cell_type": "markdown",
   "id": "d430eab0",
   "metadata": {
    "deletable": false,
    "editable": false,
    "id": "c81daeeb"
   },
   "source": [
    "# Исследование надежности заемщиков\n"
   ]
  },
  {
   "cell_type": "markdown",
   "id": "b42e0bb2",
   "metadata": {
    "deletable": false,
    "editable": false,
    "id": "827c20bf"
   },
   "source": [
    "Во второй части проекта вы выполните шаги 3 и 4. Их вручную проверит ревьюер.\n",
    "Чтобы вам не пришлось писать код заново для шагов 1 и 2, мы добавили авторские решения в ячейки с кодом. \n",
    "\n"
   ]
  },
  {
   "cell_type": "markdown",
   "id": "66402011",
   "metadata": {
    "deletable": false,
    "editable": false,
    "id": "744d7639"
   },
   "source": [
    "## Откройте таблицу и изучите общую информацию о данных"
   ]
  },
  {
   "cell_type": "markdown",
   "id": "d3e58353",
   "metadata": {
    "deletable": false,
    "editable": false,
    "id": "e7a14c31"
   },
   "source": [
    "**Задание 1. Импортируйте библиотеку pandas. Считайте данные из csv-файла в датафрейм и сохраните в переменную `data`. Путь к файлу:**\n",
    "\n",
    "`/datasets/data.csv`"
   ]
  },
  {
   "cell_type": "code",
   "execution_count": 1,
   "id": "8ba2d2c6",
   "metadata": {
    "deletable": false,
    "id": "7bcf75c9"
   },
   "outputs": [],
   "source": [
    "import pandas as pd\n",
    "\n",
    "try:\n",
    "    data = pd.read_csv('/datasets/data.csv')\n",
    "except:\n",
    "    data = pd.read_csv('https://code.s3.yandex.net/datasets/data.csv')"
   ]
  },
  {
   "cell_type": "markdown",
   "id": "4245c8ad",
   "metadata": {
    "deletable": false,
    "editable": false,
    "id": "b8038fe3"
   },
   "source": [
    "**Задание 2. Выведите первые 20 строчек датафрейма `data` на экран.**"
   ]
  },
  {
   "cell_type": "code",
   "execution_count": 2,
   "id": "f2c486c5",
   "metadata": {
    "deletable": false,
    "id": "2a7cab99",
    "outputId": "1a8f3ef2-d323-4ec2-ddf7-89670b5944c4"
   },
   "outputs": [
    {
     "data": {
      "text/html": [
       "<div>\n",
       "<style scoped>\n",
       "    .dataframe tbody tr th:only-of-type {\n",
       "        vertical-align: middle;\n",
       "    }\n",
       "\n",
       "    .dataframe tbody tr th {\n",
       "        vertical-align: top;\n",
       "    }\n",
       "\n",
       "    .dataframe thead th {\n",
       "        text-align: right;\n",
       "    }\n",
       "</style>\n",
       "<table border=\"1\" class=\"dataframe\">\n",
       "  <thead>\n",
       "    <tr style=\"text-align: right;\">\n",
       "      <th></th>\n",
       "      <th>children</th>\n",
       "      <th>days_employed</th>\n",
       "      <th>dob_years</th>\n",
       "      <th>education</th>\n",
       "      <th>education_id</th>\n",
       "      <th>family_status</th>\n",
       "      <th>family_status_id</th>\n",
       "      <th>gender</th>\n",
       "      <th>income_type</th>\n",
       "      <th>debt</th>\n",
       "      <th>total_income</th>\n",
       "      <th>purpose</th>\n",
       "    </tr>\n",
       "  </thead>\n",
       "  <tbody>\n",
       "    <tr>\n",
       "      <th>0</th>\n",
       "      <td>1</td>\n",
       "      <td>-8437.673028</td>\n",
       "      <td>42</td>\n",
       "      <td>высшее</td>\n",
       "      <td>0</td>\n",
       "      <td>женат / замужем</td>\n",
       "      <td>0</td>\n",
       "      <td>F</td>\n",
       "      <td>сотрудник</td>\n",
       "      <td>0</td>\n",
       "      <td>253875.639453</td>\n",
       "      <td>покупка жилья</td>\n",
       "    </tr>\n",
       "    <tr>\n",
       "      <th>1</th>\n",
       "      <td>1</td>\n",
       "      <td>-4024.803754</td>\n",
       "      <td>36</td>\n",
       "      <td>среднее</td>\n",
       "      <td>1</td>\n",
       "      <td>женат / замужем</td>\n",
       "      <td>0</td>\n",
       "      <td>F</td>\n",
       "      <td>сотрудник</td>\n",
       "      <td>0</td>\n",
       "      <td>112080.014102</td>\n",
       "      <td>приобретение автомобиля</td>\n",
       "    </tr>\n",
       "    <tr>\n",
       "      <th>2</th>\n",
       "      <td>0</td>\n",
       "      <td>-5623.422610</td>\n",
       "      <td>33</td>\n",
       "      <td>Среднее</td>\n",
       "      <td>1</td>\n",
       "      <td>женат / замужем</td>\n",
       "      <td>0</td>\n",
       "      <td>M</td>\n",
       "      <td>сотрудник</td>\n",
       "      <td>0</td>\n",
       "      <td>145885.952297</td>\n",
       "      <td>покупка жилья</td>\n",
       "    </tr>\n",
       "    <tr>\n",
       "      <th>3</th>\n",
       "      <td>3</td>\n",
       "      <td>-4124.747207</td>\n",
       "      <td>32</td>\n",
       "      <td>среднее</td>\n",
       "      <td>1</td>\n",
       "      <td>женат / замужем</td>\n",
       "      <td>0</td>\n",
       "      <td>M</td>\n",
       "      <td>сотрудник</td>\n",
       "      <td>0</td>\n",
       "      <td>267628.550329</td>\n",
       "      <td>дополнительное образование</td>\n",
       "    </tr>\n",
       "    <tr>\n",
       "      <th>4</th>\n",
       "      <td>0</td>\n",
       "      <td>340266.072047</td>\n",
       "      <td>53</td>\n",
       "      <td>среднее</td>\n",
       "      <td>1</td>\n",
       "      <td>гражданский брак</td>\n",
       "      <td>1</td>\n",
       "      <td>F</td>\n",
       "      <td>пенсионер</td>\n",
       "      <td>0</td>\n",
       "      <td>158616.077870</td>\n",
       "      <td>сыграть свадьбу</td>\n",
       "    </tr>\n",
       "    <tr>\n",
       "      <th>5</th>\n",
       "      <td>0</td>\n",
       "      <td>-926.185831</td>\n",
       "      <td>27</td>\n",
       "      <td>высшее</td>\n",
       "      <td>0</td>\n",
       "      <td>гражданский брак</td>\n",
       "      <td>1</td>\n",
       "      <td>M</td>\n",
       "      <td>компаньон</td>\n",
       "      <td>0</td>\n",
       "      <td>255763.565419</td>\n",
       "      <td>покупка жилья</td>\n",
       "    </tr>\n",
       "    <tr>\n",
       "      <th>6</th>\n",
       "      <td>0</td>\n",
       "      <td>-2879.202052</td>\n",
       "      <td>43</td>\n",
       "      <td>высшее</td>\n",
       "      <td>0</td>\n",
       "      <td>женат / замужем</td>\n",
       "      <td>0</td>\n",
       "      <td>F</td>\n",
       "      <td>компаньон</td>\n",
       "      <td>0</td>\n",
       "      <td>240525.971920</td>\n",
       "      <td>операции с жильем</td>\n",
       "    </tr>\n",
       "    <tr>\n",
       "      <th>7</th>\n",
       "      <td>0</td>\n",
       "      <td>-152.779569</td>\n",
       "      <td>50</td>\n",
       "      <td>СРЕДНЕЕ</td>\n",
       "      <td>1</td>\n",
       "      <td>женат / замужем</td>\n",
       "      <td>0</td>\n",
       "      <td>M</td>\n",
       "      <td>сотрудник</td>\n",
       "      <td>0</td>\n",
       "      <td>135823.934197</td>\n",
       "      <td>образование</td>\n",
       "    </tr>\n",
       "    <tr>\n",
       "      <th>8</th>\n",
       "      <td>2</td>\n",
       "      <td>-6929.865299</td>\n",
       "      <td>35</td>\n",
       "      <td>ВЫСШЕЕ</td>\n",
       "      <td>0</td>\n",
       "      <td>гражданский брак</td>\n",
       "      <td>1</td>\n",
       "      <td>F</td>\n",
       "      <td>сотрудник</td>\n",
       "      <td>0</td>\n",
       "      <td>95856.832424</td>\n",
       "      <td>на проведение свадьбы</td>\n",
       "    </tr>\n",
       "    <tr>\n",
       "      <th>9</th>\n",
       "      <td>0</td>\n",
       "      <td>-2188.756445</td>\n",
       "      <td>41</td>\n",
       "      <td>среднее</td>\n",
       "      <td>1</td>\n",
       "      <td>женат / замужем</td>\n",
       "      <td>0</td>\n",
       "      <td>M</td>\n",
       "      <td>сотрудник</td>\n",
       "      <td>0</td>\n",
       "      <td>144425.938277</td>\n",
       "      <td>покупка жилья для семьи</td>\n",
       "    </tr>\n",
       "    <tr>\n",
       "      <th>10</th>\n",
       "      <td>2</td>\n",
       "      <td>-4171.483647</td>\n",
       "      <td>36</td>\n",
       "      <td>высшее</td>\n",
       "      <td>0</td>\n",
       "      <td>женат / замужем</td>\n",
       "      <td>0</td>\n",
       "      <td>M</td>\n",
       "      <td>компаньон</td>\n",
       "      <td>0</td>\n",
       "      <td>113943.491460</td>\n",
       "      <td>покупка недвижимости</td>\n",
       "    </tr>\n",
       "    <tr>\n",
       "      <th>11</th>\n",
       "      <td>0</td>\n",
       "      <td>-792.701887</td>\n",
       "      <td>40</td>\n",
       "      <td>среднее</td>\n",
       "      <td>1</td>\n",
       "      <td>женат / замужем</td>\n",
       "      <td>0</td>\n",
       "      <td>F</td>\n",
       "      <td>сотрудник</td>\n",
       "      <td>0</td>\n",
       "      <td>77069.234271</td>\n",
       "      <td>покупка коммерческой недвижимости</td>\n",
       "    </tr>\n",
       "    <tr>\n",
       "      <th>12</th>\n",
       "      <td>0</td>\n",
       "      <td>NaN</td>\n",
       "      <td>65</td>\n",
       "      <td>среднее</td>\n",
       "      <td>1</td>\n",
       "      <td>гражданский брак</td>\n",
       "      <td>1</td>\n",
       "      <td>M</td>\n",
       "      <td>пенсионер</td>\n",
       "      <td>0</td>\n",
       "      <td>NaN</td>\n",
       "      <td>сыграть свадьбу</td>\n",
       "    </tr>\n",
       "    <tr>\n",
       "      <th>13</th>\n",
       "      <td>0</td>\n",
       "      <td>-1846.641941</td>\n",
       "      <td>54</td>\n",
       "      <td>неоконченное высшее</td>\n",
       "      <td>2</td>\n",
       "      <td>женат / замужем</td>\n",
       "      <td>0</td>\n",
       "      <td>F</td>\n",
       "      <td>сотрудник</td>\n",
       "      <td>0</td>\n",
       "      <td>130458.228857</td>\n",
       "      <td>приобретение автомобиля</td>\n",
       "    </tr>\n",
       "    <tr>\n",
       "      <th>14</th>\n",
       "      <td>0</td>\n",
       "      <td>-1844.956182</td>\n",
       "      <td>56</td>\n",
       "      <td>высшее</td>\n",
       "      <td>0</td>\n",
       "      <td>гражданский брак</td>\n",
       "      <td>1</td>\n",
       "      <td>F</td>\n",
       "      <td>компаньон</td>\n",
       "      <td>1</td>\n",
       "      <td>165127.911772</td>\n",
       "      <td>покупка жилой недвижимости</td>\n",
       "    </tr>\n",
       "    <tr>\n",
       "      <th>15</th>\n",
       "      <td>1</td>\n",
       "      <td>-972.364419</td>\n",
       "      <td>26</td>\n",
       "      <td>среднее</td>\n",
       "      <td>1</td>\n",
       "      <td>женат / замужем</td>\n",
       "      <td>0</td>\n",
       "      <td>F</td>\n",
       "      <td>сотрудник</td>\n",
       "      <td>0</td>\n",
       "      <td>116820.904450</td>\n",
       "      <td>строительство собственной недвижимости</td>\n",
       "    </tr>\n",
       "    <tr>\n",
       "      <th>16</th>\n",
       "      <td>0</td>\n",
       "      <td>-1719.934226</td>\n",
       "      <td>35</td>\n",
       "      <td>среднее</td>\n",
       "      <td>1</td>\n",
       "      <td>женат / замужем</td>\n",
       "      <td>0</td>\n",
       "      <td>F</td>\n",
       "      <td>сотрудник</td>\n",
       "      <td>0</td>\n",
       "      <td>289202.704229</td>\n",
       "      <td>недвижимость</td>\n",
       "    </tr>\n",
       "    <tr>\n",
       "      <th>17</th>\n",
       "      <td>0</td>\n",
       "      <td>-2369.999720</td>\n",
       "      <td>33</td>\n",
       "      <td>высшее</td>\n",
       "      <td>0</td>\n",
       "      <td>гражданский брак</td>\n",
       "      <td>1</td>\n",
       "      <td>M</td>\n",
       "      <td>сотрудник</td>\n",
       "      <td>0</td>\n",
       "      <td>90410.586745</td>\n",
       "      <td>строительство недвижимости</td>\n",
       "    </tr>\n",
       "    <tr>\n",
       "      <th>18</th>\n",
       "      <td>0</td>\n",
       "      <td>400281.136913</td>\n",
       "      <td>53</td>\n",
       "      <td>среднее</td>\n",
       "      <td>1</td>\n",
       "      <td>вдовец / вдова</td>\n",
       "      <td>2</td>\n",
       "      <td>F</td>\n",
       "      <td>пенсионер</td>\n",
       "      <td>0</td>\n",
       "      <td>56823.777243</td>\n",
       "      <td>на покупку подержанного автомобиля</td>\n",
       "    </tr>\n",
       "    <tr>\n",
       "      <th>19</th>\n",
       "      <td>0</td>\n",
       "      <td>-10038.818549</td>\n",
       "      <td>48</td>\n",
       "      <td>СРЕДНЕЕ</td>\n",
       "      <td>1</td>\n",
       "      <td>в разводе</td>\n",
       "      <td>3</td>\n",
       "      <td>F</td>\n",
       "      <td>сотрудник</td>\n",
       "      <td>0</td>\n",
       "      <td>242831.107982</td>\n",
       "      <td>на покупку своего автомобиля</td>\n",
       "    </tr>\n",
       "  </tbody>\n",
       "</table>\n",
       "</div>"
      ],
      "text/plain": [
       "    children  days_employed  dob_years            education  education_id  \\\n",
       "0          1   -8437.673028         42               высшее             0   \n",
       "1          1   -4024.803754         36              среднее             1   \n",
       "2          0   -5623.422610         33              Среднее             1   \n",
       "3          3   -4124.747207         32              среднее             1   \n",
       "4          0  340266.072047         53              среднее             1   \n",
       "5          0    -926.185831         27               высшее             0   \n",
       "6          0   -2879.202052         43               высшее             0   \n",
       "7          0    -152.779569         50              СРЕДНЕЕ             1   \n",
       "8          2   -6929.865299         35               ВЫСШЕЕ             0   \n",
       "9          0   -2188.756445         41              среднее             1   \n",
       "10         2   -4171.483647         36               высшее             0   \n",
       "11         0    -792.701887         40              среднее             1   \n",
       "12         0            NaN         65              среднее             1   \n",
       "13         0   -1846.641941         54  неоконченное высшее             2   \n",
       "14         0   -1844.956182         56               высшее             0   \n",
       "15         1    -972.364419         26              среднее             1   \n",
       "16         0   -1719.934226         35              среднее             1   \n",
       "17         0   -2369.999720         33               высшее             0   \n",
       "18         0  400281.136913         53              среднее             1   \n",
       "19         0  -10038.818549         48              СРЕДНЕЕ             1   \n",
       "\n",
       "       family_status  family_status_id gender income_type  debt  \\\n",
       "0    женат / замужем                 0      F   сотрудник     0   \n",
       "1    женат / замужем                 0      F   сотрудник     0   \n",
       "2    женат / замужем                 0      M   сотрудник     0   \n",
       "3    женат / замужем                 0      M   сотрудник     0   \n",
       "4   гражданский брак                 1      F   пенсионер     0   \n",
       "5   гражданский брак                 1      M   компаньон     0   \n",
       "6    женат / замужем                 0      F   компаньон     0   \n",
       "7    женат / замужем                 0      M   сотрудник     0   \n",
       "8   гражданский брак                 1      F   сотрудник     0   \n",
       "9    женат / замужем                 0      M   сотрудник     0   \n",
       "10   женат / замужем                 0      M   компаньон     0   \n",
       "11   женат / замужем                 0      F   сотрудник     0   \n",
       "12  гражданский брак                 1      M   пенсионер     0   \n",
       "13   женат / замужем                 0      F   сотрудник     0   \n",
       "14  гражданский брак                 1      F   компаньон     1   \n",
       "15   женат / замужем                 0      F   сотрудник     0   \n",
       "16   женат / замужем                 0      F   сотрудник     0   \n",
       "17  гражданский брак                 1      M   сотрудник     0   \n",
       "18    вдовец / вдова                 2      F   пенсионер     0   \n",
       "19         в разводе                 3      F   сотрудник     0   \n",
       "\n",
       "     total_income                                 purpose  \n",
       "0   253875.639453                           покупка жилья  \n",
       "1   112080.014102                 приобретение автомобиля  \n",
       "2   145885.952297                           покупка жилья  \n",
       "3   267628.550329              дополнительное образование  \n",
       "4   158616.077870                         сыграть свадьбу  \n",
       "5   255763.565419                           покупка жилья  \n",
       "6   240525.971920                       операции с жильем  \n",
       "7   135823.934197                             образование  \n",
       "8    95856.832424                   на проведение свадьбы  \n",
       "9   144425.938277                 покупка жилья для семьи  \n",
       "10  113943.491460                    покупка недвижимости  \n",
       "11   77069.234271       покупка коммерческой недвижимости  \n",
       "12            NaN                         сыграть свадьбу  \n",
       "13  130458.228857                 приобретение автомобиля  \n",
       "14  165127.911772              покупка жилой недвижимости  \n",
       "15  116820.904450  строительство собственной недвижимости  \n",
       "16  289202.704229                            недвижимость  \n",
       "17   90410.586745              строительство недвижимости  \n",
       "18   56823.777243      на покупку подержанного автомобиля  \n",
       "19  242831.107982            на покупку своего автомобиля  "
      ]
     },
     "execution_count": 2,
     "metadata": {},
     "output_type": "execute_result"
    }
   ],
   "source": [
    "data.head(20)"
   ]
  },
  {
   "cell_type": "markdown",
   "id": "3afec102",
   "metadata": {
    "deletable": false,
    "editable": false,
    "id": "1c12e233"
   },
   "source": [
    "**Задание 3. Выведите основную информацию о датафрейме с помощью метода `info()`.**"
   ]
  },
  {
   "cell_type": "code",
   "execution_count": 3,
   "id": "751a374a",
   "metadata": {
    "deletable": false,
    "id": "2b757bca",
    "outputId": "15376089-8dad-46c9-b520-c05248d43158",
    "scrolled": true
   },
   "outputs": [
    {
     "name": "stdout",
     "output_type": "stream",
     "text": [
      "<class 'pandas.core.frame.DataFrame'>\n",
      "RangeIndex: 21525 entries, 0 to 21524\n",
      "Data columns (total 12 columns):\n",
      " #   Column            Non-Null Count  Dtype  \n",
      "---  ------            --------------  -----  \n",
      " 0   children          21525 non-null  int64  \n",
      " 1   days_employed     19351 non-null  float64\n",
      " 2   dob_years         21525 non-null  int64  \n",
      " 3   education         21525 non-null  object \n",
      " 4   education_id      21525 non-null  int64  \n",
      " 5   family_status     21525 non-null  object \n",
      " 6   family_status_id  21525 non-null  int64  \n",
      " 7   gender            21525 non-null  object \n",
      " 8   income_type       21525 non-null  object \n",
      " 9   debt              21525 non-null  int64  \n",
      " 10  total_income      19351 non-null  float64\n",
      " 11  purpose           21525 non-null  object \n",
      "dtypes: float64(2), int64(5), object(5)\n",
      "memory usage: 2.0+ MB\n"
     ]
    }
   ],
   "source": [
    "data.info()"
   ]
  },
  {
   "cell_type": "markdown",
   "id": "a6ce3ad7",
   "metadata": {
    "deletable": false,
    "editable": false,
    "id": "333ec665"
   },
   "source": [
    "## Предобработка данных"
   ]
  },
  {
   "cell_type": "markdown",
   "id": "424023fa",
   "metadata": {
    "deletable": false,
    "editable": false,
    "id": "02d92d53"
   },
   "source": [
    "### Удаление пропусков"
   ]
  },
  {
   "cell_type": "markdown",
   "id": "849a3aee",
   "metadata": {
    "deletable": false,
    "editable": false,
    "id": "cd84967c"
   },
   "source": [
    "**Задание 4. Выведите количество пропущенных значений для каждого столбца. Используйте комбинацию двух методов.**"
   ]
  },
  {
   "cell_type": "code",
   "execution_count": 4,
   "id": "d9628aa6",
   "metadata": {
    "deletable": false,
    "id": "7f9b2309",
    "outputId": "81f4d817-781c-465c-ed15-91ce4446810d"
   },
   "outputs": [
    {
     "data": {
      "text/plain": [
       "children               0\n",
       "days_employed       2174\n",
       "dob_years              0\n",
       "education              0\n",
       "education_id           0\n",
       "family_status          0\n",
       "family_status_id       0\n",
       "gender                 0\n",
       "income_type            0\n",
       "debt                   0\n",
       "total_income        2174\n",
       "purpose                0\n",
       "dtype: int64"
      ]
     },
     "execution_count": 4,
     "metadata": {},
     "output_type": "execute_result"
    }
   ],
   "source": [
    "data.isna().sum()"
   ]
  },
  {
   "cell_type": "markdown",
   "id": "fa8a80e8",
   "metadata": {
    "deletable": false,
    "editable": false,
    "id": "db86e27b"
   },
   "source": [
    "**Задание 5. В двух столбцах есть пропущенные значения. Один из них — `days_employed`. Пропуски в этом столбце вы обработаете на следующем этапе. Другой столбец с пропущенными значениями — `total_income` — хранит данные о доходах. На сумму дохода сильнее всего влияет тип занятости, поэтому заполнить пропуски в этом столбце нужно медианным значением по каждому типу из столбца `income_type`. Например, у человека с типом занятости `сотрудник` пропуск в столбце `total_income` должен быть заполнен медианным доходом среди всех записей с тем же типом.**"
   ]
  },
  {
   "cell_type": "code",
   "execution_count": 5,
   "id": "937dea03",
   "metadata": {
    "deletable": false,
    "id": "42006a93"
   },
   "outputs": [],
   "source": [
    "for t in data['income_type'].unique():\n",
    "    data.loc[(data['income_type'] == t) & (data['total_income'].isna()), 'total_income'] = \\\n",
    "    data.loc[(data['income_type'] == t), 'total_income'].median()"
   ]
  },
  {
   "cell_type": "markdown",
   "id": "55dd0247",
   "metadata": {
    "deletable": false,
    "editable": false,
    "id": "89da5ece"
   },
   "source": [
    "### Обработка аномальных значений"
   ]
  },
  {
   "cell_type": "markdown",
   "id": "9e20bf27",
   "metadata": {
    "deletable": false,
    "editable": false,
    "id": "57964554"
   },
   "source": [
    "**Задание 6. В данных могут встречаться артефакты (аномалии) — значения, которые не отражают действительность и появились по какой-то ошибке. таким артефактом будет отрицательное количество дней трудового стажа в столбце `days_employed`. Для реальных данных это нормально. Обработайте значения в этом столбце: замените все отрицательные значения положительными с помощью метода `abs()`.**"
   ]
  },
  {
   "cell_type": "code",
   "execution_count": 6,
   "id": "b58a2a72",
   "metadata": {
    "deletable": false,
    "id": "f6f055bf"
   },
   "outputs": [],
   "source": [
    "data['days_employed'] = data['days_employed'].abs()"
   ]
  },
  {
   "cell_type": "markdown",
   "id": "a97cd34d",
   "metadata": {
    "deletable": false,
    "editable": false,
    "id": "6107dd2f"
   },
   "source": [
    "**Задание 7. Для каждого типа занятости выведите медианное значение трудового стажа `days_employed` в днях.**"
   ]
  },
  {
   "cell_type": "code",
   "execution_count": 7,
   "id": "cb8443aa",
   "metadata": {
    "deletable": false,
    "id": "85a5faf6",
    "outputId": "801ef80e-522b-4668-f34e-565af7432bcf"
   },
   "outputs": [
    {
     "data": {
      "text/plain": [
       "income_type\n",
       "безработный        366413.652744\n",
       "в декрете            3296.759962\n",
       "госслужащий          2689.368353\n",
       "компаньон            1547.382223\n",
       "пенсионер          365213.306266\n",
       "предприниматель       520.848083\n",
       "сотрудник            1574.202821\n",
       "студент               578.751554\n",
       "Name: days_employed, dtype: float64"
      ]
     },
     "execution_count": 7,
     "metadata": {},
     "output_type": "execute_result"
    }
   ],
   "source": [
    "data.groupby('income_type')['days_employed'].agg('median')"
   ]
  },
  {
   "cell_type": "markdown",
   "id": "0726afda",
   "metadata": {
    "deletable": false,
    "editable": false,
    "id": "38d1a030"
   },
   "source": [
    "У двух типов (безработные и пенсионеры) получатся аномально большие значения. Исправить такие значения сложно, поэтому оставьте их как есть. Тем более этот столбец не понадобится вам для исследования."
   ]
  },
  {
   "cell_type": "markdown",
   "id": "334238c0",
   "metadata": {
    "deletable": false,
    "editable": false,
    "id": "d8a9f147"
   },
   "source": [
    "**Задание 8. Выведите перечень уникальных значений столбца `children`.**"
   ]
  },
  {
   "cell_type": "code",
   "execution_count": 8,
   "id": "cb286389",
   "metadata": {
    "deletable": false,
    "id": "ef5056eb",
    "outputId": "6975b15c-7f95-4697-d16d-a0c79b657b03"
   },
   "outputs": [
    {
     "data": {
      "text/plain": [
       "array([ 1,  0,  3,  2, -1,  4, 20,  5])"
      ]
     },
     "execution_count": 8,
     "metadata": {},
     "output_type": "execute_result"
    }
   ],
   "source": [
    "data['children'].unique()"
   ]
  },
  {
   "cell_type": "markdown",
   "id": "f78b2848",
   "metadata": {
    "deletable": false,
    "editable": false,
    "id": "40b9ebf2"
   },
   "source": [
    "**Задание 9. В столбце `children` есть два аномальных значения. Удалите строки, в которых встречаются такие аномальные значения из датафрейма `data`.**"
   ]
  },
  {
   "cell_type": "code",
   "execution_count": 9,
   "id": "54385f2f",
   "metadata": {
    "deletable": false,
    "id": "3ff9801d"
   },
   "outputs": [],
   "source": [
    "data = data[(data['children'] != -1) & (data['children'] != 20)]"
   ]
  },
  {
   "cell_type": "markdown",
   "id": "affe6092",
   "metadata": {
    "deletable": false,
    "editable": false,
    "id": "bbc4d0ce"
   },
   "source": [
    "**Задание 10. Ещё раз выведите перечень уникальных значений столбца `children`, чтобы убедиться, что артефакты удалены.**"
   ]
  },
  {
   "cell_type": "code",
   "execution_count": 10,
   "id": "67f60a14",
   "metadata": {
    "deletable": false,
    "id": "ad4fa8b7",
    "outputId": "b2097101-d49d-44d9-901b-32a65c9463d1"
   },
   "outputs": [
    {
     "data": {
      "text/plain": [
       "array([1, 0, 3, 2, 4, 5])"
      ]
     },
     "execution_count": 10,
     "metadata": {},
     "output_type": "execute_result"
    }
   ],
   "source": [
    "data['children'].unique()"
   ]
  },
  {
   "cell_type": "markdown",
   "id": "4d18ac2d",
   "metadata": {
    "deletable": false,
    "editable": false,
    "id": "75440b63"
   },
   "source": [
    "### Удаление пропусков (продолжение)"
   ]
  },
  {
   "cell_type": "markdown",
   "id": "d8a71e9f",
   "metadata": {
    "deletable": false,
    "editable": false,
    "id": "f4ea573f"
   },
   "source": [
    "**Задание 11. Заполните пропуски в столбце `days_employed` медианными значениями по каждого типа занятости `income_type`.**"
   ]
  },
  {
   "cell_type": "code",
   "execution_count": 11,
   "id": "10fbfda8",
   "metadata": {
    "deletable": false,
    "id": "af6b1a7e"
   },
   "outputs": [],
   "source": [
    "for t in data['income_type'].unique():\n",
    "    data.loc[(data['income_type'] == t) & (data['days_employed'].isna()), 'days_employed'] = \\\n",
    "    data.loc[(data['income_type'] == t), 'days_employed'].median()"
   ]
  },
  {
   "cell_type": "markdown",
   "id": "8c29eea5",
   "metadata": {
    "deletable": false,
    "editable": false,
    "id": "2753f40d"
   },
   "source": [
    "**Задание 12. Убедитесь, что все пропуски заполнены. Проверьте себя и ещё раз выведите количество пропущенных значений для каждого столбца с помощью двух методов.**"
   ]
  },
  {
   "cell_type": "code",
   "execution_count": 12,
   "id": "cf5fe9cc",
   "metadata": {
    "deletable": false,
    "id": "55f78bc2",
    "outputId": "8da1e4e1-358e-4e87-98c9-f261bce0a7b2"
   },
   "outputs": [
    {
     "data": {
      "text/plain": [
       "children            0\n",
       "days_employed       0\n",
       "dob_years           0\n",
       "education           0\n",
       "education_id        0\n",
       "family_status       0\n",
       "family_status_id    0\n",
       "gender              0\n",
       "income_type         0\n",
       "debt                0\n",
       "total_income        0\n",
       "purpose             0\n",
       "dtype: int64"
      ]
     },
     "execution_count": 12,
     "metadata": {},
     "output_type": "execute_result"
    }
   ],
   "source": [
    "data.isna().sum()"
   ]
  },
  {
   "cell_type": "markdown",
   "id": "55f5bcf1",
   "metadata": {
    "deletable": false,
    "editable": false,
    "id": "ddc81e43"
   },
   "source": [
    "### Изменение типов данных"
   ]
  },
  {
   "cell_type": "markdown",
   "id": "0d4051b1",
   "metadata": {
    "deletable": false,
    "editable": false,
    "id": "42d19d24"
   },
   "source": [
    "**Задание 13. Замените вещественный тип данных в столбце `total_income` на целочисленный с помощью метода `astype()`.**"
   ]
  },
  {
   "cell_type": "code",
   "execution_count": 13,
   "id": "f4d7b285",
   "metadata": {
    "deletable": false,
    "id": "920b65ad"
   },
   "outputs": [],
   "source": [
    "data['total_income'] = data['total_income'].astype(int)"
   ]
  },
  {
   "cell_type": "markdown",
   "id": "853682f0",
   "metadata": {
    "deletable": false,
    "editable": false,
    "id": "80c420ba"
   },
   "source": [
    "### Обработка дубликатов"
   ]
  },
  {
   "cell_type": "markdown",
   "id": "ce6c86b5",
   "metadata": {
    "deletable": false,
    "editable": false
   },
   "source": [
    "**Задание 14. Обработайте неявные дубликаты в столбце `education`. В этом столбце есть одни и те же значения, но записанные по-разному: с использованием заглавных и строчных букв. Приведите их к нижнему регистру. Проверьте остальные столбцы.**"
   ]
  },
  {
   "cell_type": "code",
   "execution_count": 14,
   "id": "383bce6e",
   "metadata": {
    "deletable": false
   },
   "outputs": [],
   "source": [
    "data['education'] = data['education'].str.lower()"
   ]
  },
  {
   "cell_type": "markdown",
   "id": "5e75045e",
   "metadata": {
    "deletable": false,
    "editable": false,
    "id": "dc587695"
   },
   "source": [
    "**Задание 15. Выведите на экран количество строк-дубликатов в данных. Если такие строки присутствуют, удалите их.**"
   ]
  },
  {
   "cell_type": "code",
   "execution_count": 15,
   "id": "b234b4cd",
   "metadata": {
    "deletable": false,
    "id": "3ee445e4",
    "outputId": "9684deba-1934-42d1-99e1-cda61740f822"
   },
   "outputs": [
    {
     "data": {
      "text/plain": [
       "71"
      ]
     },
     "execution_count": 15,
     "metadata": {},
     "output_type": "execute_result"
    }
   ],
   "source": [
    "data.duplicated().sum()"
   ]
  },
  {
   "cell_type": "code",
   "execution_count": 16,
   "id": "e51b6bf2",
   "metadata": {
    "deletable": false,
    "id": "8575fe05"
   },
   "outputs": [],
   "source": [
    "data = data.drop_duplicates()"
   ]
  },
  {
   "cell_type": "markdown",
   "id": "2902d599",
   "metadata": {
    "deletable": false,
    "editable": false,
    "id": "9904cf55"
   },
   "source": [
    "### Категоризация данных"
   ]
  },
  {
   "cell_type": "markdown",
   "id": "d24c6022",
   "metadata": {
    "deletable": false,
    "editable": false,
    "id": "72fcc8a2"
   },
   "source": [
    "**Задание 16. На основании диапазонов, указанных ниже, создайте в датафрейме `data` столбец `total_income_category` с категориями:**\n",
    "\n",
    "- 0–30000 — `'E'`;\n",
    "- 30001–50000 — `'D'`;\n",
    "- 50001–200000 — `'C'`;\n",
    "- 200001–1000000 — `'B'`;\n",
    "- 1000001 и выше — `'A'`.\n",
    "\n",
    "\n",
    "**Например, кредитополучателю с доходом 25000 нужно назначить категорию `'E'`, а клиенту, получающему 235000, — `'B'`. Используйте собственную функцию с именем `categorize_income()` и метод `apply()`.**"
   ]
  },
  {
   "cell_type": "code",
   "execution_count": 17,
   "id": "10821ade",
   "metadata": {
    "deletable": false,
    "id": "e1771346"
   },
   "outputs": [],
   "source": [
    "def categorize_income(income):\n",
    "    try:\n",
    "        if 0 <= income <= 30000:\n",
    "            return 'E'\n",
    "        elif 30001 <= income <= 50000:\n",
    "            return 'D'\n",
    "        elif 50001 <= income <= 200000:\n",
    "            return 'C'\n",
    "        elif 200001 <= income <= 1000000:\n",
    "            return 'B'\n",
    "        elif income >= 1000001:\n",
    "            return 'A'\n",
    "    except:\n",
    "        pass"
   ]
  },
  {
   "cell_type": "code",
   "execution_count": 18,
   "id": "15c4053d",
   "metadata": {
    "deletable": false,
    "id": "d5f3586d"
   },
   "outputs": [],
   "source": [
    "data['total_income_category'] = data['total_income'].apply(categorize_income)"
   ]
  },
  {
   "cell_type": "markdown",
   "id": "638dada2",
   "metadata": {
    "deletable": false,
    "editable": false,
    "id": "dde49b5c"
   },
   "source": [
    "**Задание 17. Выведите на экран перечень уникальных целей взятия кредита из столбца `purpose`.**"
   ]
  },
  {
   "cell_type": "code",
   "execution_count": 19,
   "id": "d8fcc300",
   "metadata": {
    "deletable": false,
    "id": "f67ce9b3",
    "outputId": "673c12d9-7d7e-4ae0-9812-c622c89dd244"
   },
   "outputs": [
    {
     "data": {
      "text/plain": [
       "array(['покупка жилья', 'приобретение автомобиля',\n",
       "       'дополнительное образование', 'сыграть свадьбу',\n",
       "       'операции с жильем', 'образование', 'на проведение свадьбы',\n",
       "       'покупка жилья для семьи', 'покупка недвижимости',\n",
       "       'покупка коммерческой недвижимости', 'покупка жилой недвижимости',\n",
       "       'строительство собственной недвижимости', 'недвижимость',\n",
       "       'строительство недвижимости', 'на покупку подержанного автомобиля',\n",
       "       'на покупку своего автомобиля',\n",
       "       'операции с коммерческой недвижимостью',\n",
       "       'строительство жилой недвижимости', 'жилье',\n",
       "       'операции со своей недвижимостью', 'автомобили',\n",
       "       'заняться образованием', 'сделка с подержанным автомобилем',\n",
       "       'получение образования', 'автомобиль', 'свадьба',\n",
       "       'получение дополнительного образования', 'покупка своего жилья',\n",
       "       'операции с недвижимостью', 'получение высшего образования',\n",
       "       'свой автомобиль', 'сделка с автомобилем',\n",
       "       'профильное образование', 'высшее образование',\n",
       "       'покупка жилья для сдачи', 'на покупку автомобиля', 'ремонт жилью',\n",
       "       'заняться высшим образованием'], dtype=object)"
      ]
     },
     "execution_count": 19,
     "metadata": {},
     "output_type": "execute_result"
    }
   ],
   "source": [
    "data['purpose'].unique()"
   ]
  },
  {
   "cell_type": "markdown",
   "id": "6175e3b8",
   "metadata": {
    "deletable": false,
    "editable": false,
    "id": "85d0aef0"
   },
   "source": [
    "**Задание 18. Создайте функцию, которая на основании данных из столбца `purpose` сформирует новый столбец `purpose_category`, в который войдут следующие категории:**\n",
    "\n",
    "- `'операции с автомобилем'`,\n",
    "- `'операции с недвижимостью'`,\n",
    "- `'проведение свадьбы'`,\n",
    "- `'получение образования'`.\n",
    "\n",
    "**Например, если в столбце `purpose` находится подстрока `'на покупку автомобиля'`, то в столбце `purpose_category` должна появиться строка `'операции с автомобилем'`.**\n",
    "\n",
    "**Используйте собственную функцию с именем `categorize_purpose()` и метод `apply()`. Изучите данные в столбце `purpose` и определите, какие подстроки помогут вам правильно определить категорию.**"
   ]
  },
  {
   "cell_type": "code",
   "execution_count": 20,
   "id": "edf9b881",
   "metadata": {
    "deletable": false,
    "id": "e149fab4"
   },
   "outputs": [],
   "source": [
    "def categorize_purpose(row):\n",
    "    try:\n",
    "        if 'автом' in row:\n",
    "            return 'операции с автомобилем'\n",
    "        elif 'жил' in row or 'недвиж' in row:\n",
    "            return 'операции с недвижимостью'\n",
    "        elif 'свад' in row:\n",
    "            return 'проведение свадьбы'\n",
    "        elif 'образов' in row:\n",
    "            return 'получение образования'\n",
    "    except:\n",
    "        return 'нет категории'"
   ]
  },
  {
   "cell_type": "code",
   "execution_count": 21,
   "id": "3192a71a",
   "metadata": {
    "deletable": false,
    "id": "bf36e69b"
   },
   "outputs": [],
   "source": [
    "data['purpose_category'] = data['purpose'].apply(categorize_purpose)"
   ]
  },
  {
   "cell_type": "markdown",
   "id": "9e0d561d",
   "metadata": {
    "deletable": false,
    "editable": false,
    "id": "09b242bf"
   },
   "source": [
    "### Шаг 3. Исследуйте данные и ответьте на вопросы"
   ]
  },
  {
   "cell_type": "markdown",
   "id": "fe4a5fb9",
   "metadata": {
    "deletable": false,
    "editable": false,
    "id": "c5d66278"
   },
   "source": [
    "#### 3.1 Есть ли зависимость между количеством детей и возвратом кредита в срок?"
   ]
  },
  {
   "cell_type": "code",
   "execution_count": 22,
   "id": "4a968a36",
   "metadata": {
    "deletable": false,
    "id": "2cacfc4a"
   },
   "outputs": [
    {
     "data": {
      "text/html": [
       "<div>\n",
       "<style scoped>\n",
       "    .dataframe tbody tr th:only-of-type {\n",
       "        vertical-align: middle;\n",
       "    }\n",
       "\n",
       "    .dataframe tbody tr th {\n",
       "        vertical-align: top;\n",
       "    }\n",
       "\n",
       "    .dataframe thead th {\n",
       "        text-align: right;\n",
       "    }\n",
       "</style>\n",
       "<table border=\"1\" class=\"dataframe\">\n",
       "  <thead>\n",
       "    <tr style=\"text-align: right;\">\n",
       "      <th></th>\n",
       "      <th>Доля должников</th>\n",
       "      <th>Всего клиентов</th>\n",
       "      <th>Есть задолжность</th>\n",
       "    </tr>\n",
       "    <tr>\n",
       "      <th>children</th>\n",
       "      <th></th>\n",
       "      <th></th>\n",
       "      <th></th>\n",
       "    </tr>\n",
       "  </thead>\n",
       "  <tbody>\n",
       "    <tr>\n",
       "      <th>4</th>\n",
       "      <td>0.097561</td>\n",
       "      <td>41</td>\n",
       "      <td>4</td>\n",
       "    </tr>\n",
       "    <tr>\n",
       "      <th>2</th>\n",
       "      <td>0.094542</td>\n",
       "      <td>2052</td>\n",
       "      <td>194</td>\n",
       "    </tr>\n",
       "    <tr>\n",
       "      <th>1</th>\n",
       "      <td>0.092346</td>\n",
       "      <td>4808</td>\n",
       "      <td>444</td>\n",
       "    </tr>\n",
       "    <tr>\n",
       "      <th>3</th>\n",
       "      <td>0.081818</td>\n",
       "      <td>330</td>\n",
       "      <td>27</td>\n",
       "    </tr>\n",
       "    <tr>\n",
       "      <th>0</th>\n",
       "      <td>0.075438</td>\n",
       "      <td>14091</td>\n",
       "      <td>1063</td>\n",
       "    </tr>\n",
       "    <tr>\n",
       "      <th>5</th>\n",
       "      <td>0.000000</td>\n",
       "      <td>9</td>\n",
       "      <td>0</td>\n",
       "    </tr>\n",
       "  </tbody>\n",
       "</table>\n",
       "</div>"
      ],
      "text/plain": [
       "          Доля должников  Всего клиентов  Есть задолжность\n",
       "children                                                  \n",
       "4               0.097561              41                 4\n",
       "2               0.094542            2052               194\n",
       "1               0.092346            4808               444\n",
       "3               0.081818             330                27\n",
       "0               0.075438           14091              1063\n",
       "5               0.000000               9                 0"
      ]
     },
     "execution_count": 22,
     "metadata": {},
     "output_type": "execute_result"
    }
   ],
   "source": [
    " \n",
    "grouped_by_children = data.groupby('children')['debt'].agg({'sum','count','mean'})\n",
    "grouped_by_children = grouped_by_children.rename(columns = {'mean':'Доля должников','sum': 'Есть задолжность', 'count':'Всего клиентов'})\n",
    "grouped_by_children.sort_values(by = 'Доля должников', ascending = False)\n"
   ]
  },
  {
   "cell_type": "code",
   "execution_count": 23,
   "id": "de8809ab",
   "metadata": {},
   "outputs": [
    {
     "data": {
      "text/html": [
       "<div>\n",
       "<style scoped>\n",
       "    .dataframe tbody tr th:only-of-type {\n",
       "        vertical-align: middle;\n",
       "    }\n",
       "\n",
       "    .dataframe tbody tr th {\n",
       "        vertical-align: top;\n",
       "    }\n",
       "\n",
       "    .dataframe thead th {\n",
       "        text-align: right;\n",
       "    }\n",
       "</style>\n",
       "<table border=\"1\" class=\"dataframe\">\n",
       "  <thead>\n",
       "    <tr style=\"text-align: right;\">\n",
       "      <th></th>\n",
       "      <th>Заемщиков</th>\n",
       "      <th>Просрочек</th>\n",
       "      <th>Доля просрочек, %</th>\n",
       "    </tr>\n",
       "    <tr>\n",
       "      <th>Детей</th>\n",
       "      <th></th>\n",
       "      <th></th>\n",
       "      <th></th>\n",
       "    </tr>\n",
       "  </thead>\n",
       "  <tbody>\n",
       "    <tr>\n",
       "      <th>0</th>\n",
       "      <td>14091</td>\n",
       "      <td>1063</td>\n",
       "      <td>7.54</td>\n",
       "    </tr>\n",
       "    <tr>\n",
       "      <th>1</th>\n",
       "      <td>4808</td>\n",
       "      <td>444</td>\n",
       "      <td>9.23</td>\n",
       "    </tr>\n",
       "    <tr>\n",
       "      <th>2</th>\n",
       "      <td>2052</td>\n",
       "      <td>194</td>\n",
       "      <td>9.45</td>\n",
       "    </tr>\n",
       "    <tr>\n",
       "      <th>3</th>\n",
       "      <td>330</td>\n",
       "      <td>27</td>\n",
       "      <td>8.18</td>\n",
       "    </tr>\n",
       "    <tr>\n",
       "      <th>4</th>\n",
       "      <td>41</td>\n",
       "      <td>4</td>\n",
       "      <td>9.76</td>\n",
       "    </tr>\n",
       "    <tr>\n",
       "      <th>5</th>\n",
       "      <td>9</td>\n",
       "      <td>0</td>\n",
       "      <td>0.00</td>\n",
       "    </tr>\n",
       "  </tbody>\n",
       "</table>\n",
       "</div>"
      ],
      "text/plain": [
       "       Заемщиков  Просрочек  Доля просрочек, %\n",
       "Детей                                         \n",
       "0          14091       1063               7.54\n",
       "1           4808        444               9.23\n",
       "2           2052        194               9.45\n",
       "3            330         27               8.18\n",
       "4             41          4               9.76\n",
       "5              9          0               0.00"
      ]
     },
     "execution_count": 23,
     "metadata": {},
     "output_type": "execute_result"
    }
   ],
   "source": [
    "children_pivot = data.pivot_table(index = ['children'], values = 'debt', aggfunc = ['count', 'sum', 'mean'])\n",
    "children_pivot.columns = ['Заемщиков', 'Просрочек', 'Доля просрочек, %']\n",
    "children_pivot.index.names = ['Детей']\n",
    "children_pivot['Доля просрочек, %'] = children_pivot['Доля просрочек, %'].round(4)*100\n",
    "children_pivot\n"
   ]
  },
  {
   "cell_type": "markdown",
   "id": "d716de35",
   "metadata": {
    "deletable": false,
    "id": "3a6b99ec"
   },
   "source": [
    "**Вывод:** Не смотря на то, что у клиентов без детей самое большое количество должников их доля самая маленькая, чего нельзя, сказать о клиентах с количеством одного, двух, трёх и четырёх детей.\n",
    "\n",
    "По клиентам с количеством детей в семье 5, нельзя сделать выводов так как данных для этой группы недостаточно."
   ]
  },
  {
   "cell_type": "markdown",
   "id": "b7899904",
   "metadata": {
    "deletable": false,
    "editable": false,
    "id": "97be82ca"
   },
   "source": [
    "#### 3.2 Есть ли зависимость между семейным положением и возвратом кредита в срок?"
   ]
  },
  {
   "cell_type": "code",
   "execution_count": 24,
   "id": "fb51405e",
   "metadata": {
    "deletable": false,
    "id": "dc3f7ee8",
    "scrolled": true
   },
   "outputs": [
    {
     "data": {
      "text/html": [
       "<div>\n",
       "<style scoped>\n",
       "    .dataframe tbody tr th:only-of-type {\n",
       "        vertical-align: middle;\n",
       "    }\n",
       "\n",
       "    .dataframe tbody tr th {\n",
       "        vertical-align: top;\n",
       "    }\n",
       "\n",
       "    .dataframe thead th {\n",
       "        text-align: right;\n",
       "    }\n",
       "</style>\n",
       "<table border=\"1\" class=\"dataframe\">\n",
       "  <thead>\n",
       "    <tr style=\"text-align: right;\">\n",
       "      <th></th>\n",
       "      <th>Доля должников</th>\n",
       "      <th>Всего клиентов</th>\n",
       "      <th>Есть задолжность</th>\n",
       "    </tr>\n",
       "    <tr>\n",
       "      <th>family_status</th>\n",
       "      <th></th>\n",
       "      <th></th>\n",
       "      <th></th>\n",
       "    </tr>\n",
       "  </thead>\n",
       "  <tbody>\n",
       "    <tr>\n",
       "      <th>Не женат / не замужем</th>\n",
       "      <td>0.097639</td>\n",
       "      <td>2796</td>\n",
       "      <td>273</td>\n",
       "    </tr>\n",
       "    <tr>\n",
       "      <th>гражданский брак</th>\n",
       "      <td>0.093130</td>\n",
       "      <td>4134</td>\n",
       "      <td>385</td>\n",
       "    </tr>\n",
       "    <tr>\n",
       "      <th>женат / замужем</th>\n",
       "      <td>0.075606</td>\n",
       "      <td>12261</td>\n",
       "      <td>927</td>\n",
       "    </tr>\n",
       "    <tr>\n",
       "      <th>в разводе</th>\n",
       "      <td>0.070648</td>\n",
       "      <td>1189</td>\n",
       "      <td>84</td>\n",
       "    </tr>\n",
       "    <tr>\n",
       "      <th>вдовец / вдова</th>\n",
       "      <td>0.066246</td>\n",
       "      <td>951</td>\n",
       "      <td>63</td>\n",
       "    </tr>\n",
       "  </tbody>\n",
       "</table>\n",
       "</div>"
      ],
      "text/plain": [
       "                       Доля должников  Всего клиентов  Есть задолжность\n",
       "family_status                                                          \n",
       "Не женат / не замужем        0.097639            2796               273\n",
       "гражданский брак             0.093130            4134               385\n",
       "женат / замужем              0.075606           12261               927\n",
       "в разводе                    0.070648            1189                84\n",
       "вдовец / вдова               0.066246             951                63"
      ]
     },
     "execution_count": 24,
     "metadata": {},
     "output_type": "execute_result"
    }
   ],
   "source": [
    "grouped_by_family = data.groupby('family_status')['debt'].agg({'sum','count','mean'})\n",
    "grouped_by_family =  grouped_by_family.rename(columns = {'mean':'Доля должников','sum': 'Есть задолжность', 'count':'Всего клиентов'})\n",
    "grouped_by_family.sort_values(by = 'Доля должников', ascending = False)"
   ]
  },
  {
   "cell_type": "markdown",
   "id": "ba3ee68e",
   "metadata": {
    "deletable": false,
    "id": "1cef7837"
   },
   "source": [
    "**Вывод:** \n",
    "    Клиенты  которые  имеют гражданский брак, не женат / не замужем, представляют собой главную группу риска, так как доля должников у них выше чем у других.\n",
    "     \n",
    "   Женатые/замужем клиенты хоть и имеют самое большое количетсво задолжней их доля не такая критичная как у гражданский брак, не женат / не замужем\n",
    "    \n",
    "   Клиенты которые сейчас в разводе или вдовец / вдова , несут наименьший риск не выплаты кредита в срок.\n"
   ]
  },
  {
   "cell_type": "markdown",
   "id": "c0027f9e",
   "metadata": {
    "deletable": false,
    "editable": false,
    "id": "1e8b2fca"
   },
   "source": [
    "#### 3.3 Есть ли зависимость между уровнем дохода и возвратом кредита в срок?"
   ]
  },
  {
   "cell_type": "code",
   "execution_count": 25,
   "id": "c2a7bde3",
   "metadata": {
    "deletable": false,
    "id": "cd7e3720"
   },
   "outputs": [
    {
     "data": {
      "text/html": [
       "<div>\n",
       "<style scoped>\n",
       "    .dataframe tbody tr th:only-of-type {\n",
       "        vertical-align: middle;\n",
       "    }\n",
       "\n",
       "    .dataframe tbody tr th {\n",
       "        vertical-align: top;\n",
       "    }\n",
       "\n",
       "    .dataframe thead th {\n",
       "        text-align: right;\n",
       "    }\n",
       "</style>\n",
       "<table border=\"1\" class=\"dataframe\">\n",
       "  <thead>\n",
       "    <tr style=\"text-align: right;\">\n",
       "      <th></th>\n",
       "      <th>Доля должников</th>\n",
       "      <th>Всего клиентов</th>\n",
       "      <th>Есть задолжность</th>\n",
       "    </tr>\n",
       "    <tr>\n",
       "      <th>total_income_category</th>\n",
       "      <th></th>\n",
       "      <th></th>\n",
       "      <th></th>\n",
       "    </tr>\n",
       "  </thead>\n",
       "  <tbody>\n",
       "    <tr>\n",
       "      <th>E</th>\n",
       "      <td>0.090909</td>\n",
       "      <td>22</td>\n",
       "      <td>2</td>\n",
       "    </tr>\n",
       "    <tr>\n",
       "      <th>C</th>\n",
       "      <td>0.084982</td>\n",
       "      <td>15921</td>\n",
       "      <td>1353</td>\n",
       "    </tr>\n",
       "    <tr>\n",
       "      <th>A</th>\n",
       "      <td>0.080000</td>\n",
       "      <td>25</td>\n",
       "      <td>2</td>\n",
       "    </tr>\n",
       "    <tr>\n",
       "      <th>B</th>\n",
       "      <td>0.070602</td>\n",
       "      <td>5014</td>\n",
       "      <td>354</td>\n",
       "    </tr>\n",
       "    <tr>\n",
       "      <th>D</th>\n",
       "      <td>0.060172</td>\n",
       "      <td>349</td>\n",
       "      <td>21</td>\n",
       "    </tr>\n",
       "  </tbody>\n",
       "</table>\n",
       "</div>"
      ],
      "text/plain": [
       "                       Доля должников  Всего клиентов  Есть задолжность\n",
       "total_income_category                                                  \n",
       "E                            0.090909              22                 2\n",
       "C                            0.084982           15921              1353\n",
       "A                            0.080000              25                 2\n",
       "B                            0.070602            5014               354\n",
       "D                            0.060172             349                21"
      ]
     },
     "execution_count": 25,
     "metadata": {},
     "output_type": "execute_result"
    }
   ],
   "source": [
    "grouped_by_income = data.groupby('total_income_category')['debt'].agg({'sum','count','mean'})\n",
    "grouped_by_income =  grouped_by_income.rename(columns = {'mean':'Доля должников','sum': 'Есть задолжность', 'count':'Всего клиентов'})\n",
    "grouped_by_income.sort_values(by = 'Доля должников', ascending = False)"
   ]
  },
  {
   "cell_type": "markdown",
   "id": "05ad42d9",
   "metadata": {
    "deletable": false,
    "id": "e8593def"
   },
   "source": [
    "**Вывод:** Клиенты с доходом от 50001 до 200000 представляют для банка основную группа риска, так как представляют основных клиентов и доля должников довольно высока, так же есть риск от клиентов с низким уровнем дохода и клиенты с доходом 1000001 и выше.\n",
    "    Остальные клиенты не несут такого высокго риска для банка.\n",
    "    "
   ]
  },
  {
   "cell_type": "markdown",
   "id": "932d795c",
   "metadata": {
    "deletable": false,
    "editable": false,
    "id": "99ecbd1f"
   },
   "source": [
    "#### 3.4 Как разные цели кредита влияют на его возврат в срок?"
   ]
  },
  {
   "cell_type": "code",
   "execution_count": 26,
   "id": "0aa87889",
   "metadata": {
    "deletable": false,
    "id": "2b687290"
   },
   "outputs": [
    {
     "data": {
      "text/html": [
       "<div>\n",
       "<style scoped>\n",
       "    .dataframe tbody tr th:only-of-type {\n",
       "        vertical-align: middle;\n",
       "    }\n",
       "\n",
       "    .dataframe tbody tr th {\n",
       "        vertical-align: top;\n",
       "    }\n",
       "\n",
       "    .dataframe thead th {\n",
       "        text-align: right;\n",
       "    }\n",
       "</style>\n",
       "<table border=\"1\" class=\"dataframe\">\n",
       "  <thead>\n",
       "    <tr style=\"text-align: right;\">\n",
       "      <th></th>\n",
       "      <th>Доля должников</th>\n",
       "      <th>Всего клиентов</th>\n",
       "      <th>Есть задолжность</th>\n",
       "    </tr>\n",
       "    <tr>\n",
       "      <th>purpose_category</th>\n",
       "      <th></th>\n",
       "      <th></th>\n",
       "      <th></th>\n",
       "    </tr>\n",
       "  </thead>\n",
       "  <tbody>\n",
       "    <tr>\n",
       "      <th>операции с автомобилем</th>\n",
       "      <td>0.093480</td>\n",
       "      <td>4279</td>\n",
       "      <td>400</td>\n",
       "    </tr>\n",
       "    <tr>\n",
       "      <th>получение образования</th>\n",
       "      <td>0.092528</td>\n",
       "      <td>3988</td>\n",
       "      <td>369</td>\n",
       "    </tr>\n",
       "    <tr>\n",
       "      <th>проведение свадьбы</th>\n",
       "      <td>0.079118</td>\n",
       "      <td>2313</td>\n",
       "      <td>183</td>\n",
       "    </tr>\n",
       "    <tr>\n",
       "      <th>операции с недвижимостью</th>\n",
       "      <td>0.072551</td>\n",
       "      <td>10751</td>\n",
       "      <td>780</td>\n",
       "    </tr>\n",
       "  </tbody>\n",
       "</table>\n",
       "</div>"
      ],
      "text/plain": [
       "                          Доля должников  Всего клиентов  Есть задолжность\n",
       "purpose_category                                                          \n",
       "операции с автомобилем          0.093480            4279               400\n",
       "получение образования           0.092528            3988               369\n",
       "проведение свадьбы              0.079118            2313               183\n",
       "операции с недвижимостью        0.072551           10751               780"
      ]
     },
     "execution_count": 26,
     "metadata": {},
     "output_type": "execute_result"
    }
   ],
   "source": [
    "grouped_by_category = data.groupby('purpose_category')['debt'].agg({'sum','count','mean'})\n",
    "grouped_by_category =  grouped_by_category.rename(columns = {'mean':'Доля должников','sum': 'Есть задолжность', 'count':'Всего клиентов'})\n",
    "grouped_by_category.sort_values(by = 'Доля должников', ascending = False)"
   ]
  },
  {
   "cell_type": "markdown",
   "id": "712a6642",
   "metadata": {
    "deletable": false,
    "id": "b4bb2ce6"
   },
   "source": [
    "**Вывод:** Основные цели по которым у клиентов возникает трудности вовзрата в срок явлются опреации с автомобилем и образование.\n",
    "    роведение свадьбы несут средний риск не выплаты кредит в срок.\n",
    "    Наименьшую опастность несёт операции с недвижимостью."
   ]
  },
  {
   "cell_type": "markdown",
   "id": "d3f8b5a7",
   "metadata": {
    "deletable": false,
    "editable": false,
    "id": "09c3ac4c"
   },
   "source": [
    "#### 3.5 Приведите возможные причины появления пропусков в исходных данных."
   ]
  },
  {
   "cell_type": "markdown",
   "id": "de53b92f",
   "metadata": {
    "deletable": false,
    "id": "9da2ceda"
   },
   "source": [
    "*Ответ:* \n",
    " Я знаю две причины почему появляются пропуски в данных, это человеческий фактор и сбой/ошибка системы, в данном случае  возможно произошёл сбой и некоторые данные не прогрузились, потому что пропуски присутсвуют не только у одной группы"
   ]
  },
  {
   "cell_type": "markdown",
   "id": "c36966a2",
   "metadata": {
    "deletable": false,
    "editable": false,
    "id": "7b0487d6"
   },
   "source": [
    "#### 3.6 Объясните, почему заполнить пропуски медианным значением — лучшее решение для количественных переменных."
   ]
  },
  {
   "cell_type": "markdown",
   "id": "5c2e50f0",
   "metadata": {
    "deletable": false,
    "id": "7ecf2b8e"
   },
   "source": [
    "*Ответ:* Потому что в представленных данных большой разброс зарплат бОльшая часть клиентов представляют средний класс, но так же есть маленький процент которые зарабатывают меньше 30 000 или больше 1 000 000."
   ]
  },
  {
   "cell_type": "markdown",
   "id": "9a64fd46",
   "metadata": {
    "deletable": false,
    "editable": false,
    "id": "6db5255a"
   },
   "source": [
    "### Шаг 4: общий вывод."
   ]
  },
  {
   "cell_type": "markdown",
   "id": "0ffb5212",
   "metadata": {
    "deletable": false,
    "id": "bad65432"
   },
   "source": [
    "   При построенние модели кредитного скоринга очень важно учитывать количетсво детей у клиента, чаще проблемы с возвращением испытывают люди четырьмя, двумя или одним ребенков.\n",
    "   \n",
    "   Так же важно смотреть на семейное положение человека, люди которые находятся в гражданском браке или ещё не были в нём больше склоны к просроке выплат по кредиту, чем те кто сейчас в разводе или потерял супруга/супругу.\n",
    "   Среднюю группу риска несут женытые/замужнии клиенты\n",
    "   \n",
    "   По уровню зарплат выделяются только две группы, бОльшая часть, на которую нужно обратить внимание при выдаче кредита, это люди со среднем достаткой от 50 000 до 200 000. Так же обратить внимание на людей с низким уровнем дохода и высоким.\n",
    "   \n",
    "   Не менее важно учитывать цель взятия кредита, клиенты которые хотят приобрести с автомобилем или образование имеют самую большую долю по задолжностям и могут не вернуть в срок кредит.\n",
    "   \n",
    "   Все четыре пункта важно уточнять при выдаче кредита, чтобы четко понимать какие риски может понести банк."
   ]
  }
 ],
 "metadata": {
  "ExecuteTimeLog": [
   {
    "duration": 71,
    "start_time": "2022-12-02T17:09:33.017Z"
   },
   {
    "duration": 14,
    "start_time": "2022-12-02T17:09:33.091Z"
   },
   {
    "duration": 31,
    "start_time": "2022-12-02T17:09:33.107Z"
   },
   {
    "duration": 11,
    "start_time": "2022-12-02T17:09:33.140Z"
   },
   {
    "duration": 50,
    "start_time": "2022-12-02T17:09:33.153Z"
   },
   {
    "duration": 4,
    "start_time": "2022-12-02T17:09:33.205Z"
   },
   {
    "duration": 41,
    "start_time": "2022-12-02T17:09:33.211Z"
   },
   {
    "duration": 24,
    "start_time": "2022-12-02T17:09:33.254Z"
   },
   {
    "duration": 21,
    "start_time": "2022-12-02T17:09:33.280Z"
   },
   {
    "duration": 27,
    "start_time": "2022-12-02T17:09:33.303Z"
   },
   {
    "duration": 48,
    "start_time": "2022-12-02T17:09:33.332Z"
   },
   {
    "duration": 8,
    "start_time": "2022-12-02T17:09:33.382Z"
   },
   {
    "duration": 35,
    "start_time": "2022-12-02T17:09:33.392Z"
   },
   {
    "duration": 21,
    "start_time": "2022-12-02T17:09:33.429Z"
   },
   {
    "duration": 30,
    "start_time": "2022-12-02T17:09:33.452Z"
   },
   {
    "duration": 28,
    "start_time": "2022-12-02T17:09:33.483Z"
   },
   {
    "duration": 4,
    "start_time": "2022-12-02T17:09:33.512Z"
   },
   {
    "duration": 27,
    "start_time": "2022-12-02T17:09:33.517Z"
   },
   {
    "duration": 16,
    "start_time": "2022-12-02T17:09:33.546Z"
   },
   {
    "duration": 14,
    "start_time": "2022-12-02T17:09:33.564Z"
   },
   {
    "duration": 30,
    "start_time": "2022-12-02T17:09:33.579Z"
   },
   {
    "duration": 21,
    "start_time": "2022-12-02T17:09:33.611Z"
   },
   {
    "duration": 69,
    "start_time": "2022-12-02T17:09:40.971Z"
   },
   {
    "duration": 14,
    "start_time": "2022-12-02T17:09:41.042Z"
   },
   {
    "duration": 32,
    "start_time": "2022-12-02T17:09:41.057Z"
   },
   {
    "duration": 22,
    "start_time": "2022-12-02T17:09:41.091Z"
   },
   {
    "duration": 72,
    "start_time": "2022-12-02T17:09:41.114Z"
   },
   {
    "duration": 9,
    "start_time": "2022-12-02T17:09:41.188Z"
   },
   {
    "duration": 29,
    "start_time": "2022-12-02T17:09:41.199Z"
   },
   {
    "duration": 38,
    "start_time": "2022-12-02T17:09:41.229Z"
   },
   {
    "duration": 36,
    "start_time": "2022-12-02T17:09:41.269Z"
   },
   {
    "duration": 43,
    "start_time": "2022-12-02T17:09:41.308Z"
   },
   {
    "duration": 52,
    "start_time": "2022-12-02T17:09:41.353Z"
   },
   {
    "duration": 22,
    "start_time": "2022-12-02T17:09:41.406Z"
   },
   {
    "duration": 16,
    "start_time": "2022-12-02T17:09:41.429Z"
   },
   {
    "duration": 56,
    "start_time": "2022-12-02T17:09:41.446Z"
   },
   {
    "duration": 22,
    "start_time": "2022-12-02T17:09:41.504Z"
   },
   {
    "duration": 54,
    "start_time": "2022-12-02T17:09:41.528Z"
   },
   {
    "duration": 4,
    "start_time": "2022-12-02T17:09:41.583Z"
   },
   {
    "duration": 13,
    "start_time": "2022-12-02T17:09:41.589Z"
   },
   {
    "duration": 8,
    "start_time": "2022-12-02T17:09:41.604Z"
   },
   {
    "duration": 4,
    "start_time": "2022-12-02T17:09:41.614Z"
   },
   {
    "duration": 10,
    "start_time": "2022-12-02T17:09:41.620Z"
   },
   {
    "duration": 4,
    "start_time": "2022-12-02T17:09:41.631Z"
   },
   {
    "duration": 69,
    "start_time": "2022-12-02T17:10:19.435Z"
   },
   {
    "duration": 15,
    "start_time": "2022-12-02T17:10:19.506Z"
   },
   {
    "duration": 25,
    "start_time": "2022-12-02T17:10:19.523Z"
   },
   {
    "duration": 9,
    "start_time": "2022-12-02T17:10:19.550Z"
   },
   {
    "duration": 37,
    "start_time": "2022-12-02T17:10:19.560Z"
   },
   {
    "duration": 3,
    "start_time": "2022-12-02T17:10:19.598Z"
   },
   {
    "duration": 17,
    "start_time": "2022-12-02T17:10:19.603Z"
   },
   {
    "duration": 7,
    "start_time": "2022-12-02T17:10:19.622Z"
   },
   {
    "duration": 8,
    "start_time": "2022-12-02T17:10:19.630Z"
   },
   {
    "duration": 8,
    "start_time": "2022-12-02T17:10:19.641Z"
   },
   {
    "duration": 36,
    "start_time": "2022-12-02T17:10:19.651Z"
   },
   {
    "duration": 10,
    "start_time": "2022-12-02T17:10:19.688Z"
   },
   {
    "duration": 16,
    "start_time": "2022-12-02T17:10:19.699Z"
   },
   {
    "duration": 9,
    "start_time": "2022-12-02T17:10:19.717Z"
   },
   {
    "duration": 20,
    "start_time": "2022-12-02T17:10:19.728Z"
   },
   {
    "duration": 15,
    "start_time": "2022-12-02T17:10:19.749Z"
   },
   {
    "duration": 3,
    "start_time": "2022-12-02T17:10:19.766Z"
   },
   {
    "duration": 13,
    "start_time": "2022-12-02T17:10:19.770Z"
   },
   {
    "duration": 6,
    "start_time": "2022-12-02T17:10:19.784Z"
   },
   {
    "duration": 3,
    "start_time": "2022-12-02T17:10:19.815Z"
   },
   {
    "duration": 13,
    "start_time": "2022-12-02T17:10:19.820Z"
   },
   {
    "duration": 7,
    "start_time": "2022-12-02T17:10:19.835Z"
   },
   {
    "duration": 72,
    "start_time": "2022-12-02T17:11:43.101Z"
   },
   {
    "duration": 14,
    "start_time": "2022-12-02T17:11:43.176Z"
   },
   {
    "duration": 17,
    "start_time": "2022-12-02T17:11:43.191Z"
   },
   {
    "duration": 10,
    "start_time": "2022-12-02T17:11:43.209Z"
   },
   {
    "duration": 32,
    "start_time": "2022-12-02T17:11:43.220Z"
   },
   {
    "duration": 3,
    "start_time": "2022-12-02T17:11:43.254Z"
   },
   {
    "duration": 10,
    "start_time": "2022-12-02T17:11:43.258Z"
   },
   {
    "duration": 5,
    "start_time": "2022-12-02T17:11:43.270Z"
   },
   {
    "duration": 5,
    "start_time": "2022-12-02T17:11:43.277Z"
   },
   {
    "duration": 8,
    "start_time": "2022-12-02T17:11:43.284Z"
   },
   {
    "duration": 30,
    "start_time": "2022-12-02T17:11:43.315Z"
   },
   {
    "duration": 9,
    "start_time": "2022-12-02T17:11:43.347Z"
   },
   {
    "duration": 5,
    "start_time": "2022-12-02T17:11:43.357Z"
   },
   {
    "duration": 11,
    "start_time": "2022-12-02T17:11:43.364Z"
   },
   {
    "duration": 40,
    "start_time": "2022-12-02T17:11:43.376Z"
   },
   {
    "duration": 19,
    "start_time": "2022-12-02T17:11:43.417Z"
   },
   {
    "duration": 3,
    "start_time": "2022-12-02T17:11:43.437Z"
   },
   {
    "duration": 26,
    "start_time": "2022-12-02T17:11:43.442Z"
   },
   {
    "duration": 6,
    "start_time": "2022-12-02T17:11:43.469Z"
   },
   {
    "duration": 4,
    "start_time": "2022-12-02T17:11:43.476Z"
   },
   {
    "duration": 11,
    "start_time": "2022-12-02T17:11:43.481Z"
   },
   {
    "duration": 12,
    "start_time": "2022-12-02T17:11:43.494Z"
   },
   {
    "duration": 71,
    "start_time": "2022-12-02T17:14:32.512Z"
   },
   {
    "duration": 16,
    "start_time": "2022-12-02T17:14:32.585Z"
   },
   {
    "duration": 15,
    "start_time": "2022-12-02T17:14:32.603Z"
   },
   {
    "duration": 9,
    "start_time": "2022-12-02T17:14:32.620Z"
   },
   {
    "duration": 33,
    "start_time": "2022-12-02T17:14:32.632Z"
   },
   {
    "duration": 4,
    "start_time": "2022-12-02T17:14:32.666Z"
   },
   {
    "duration": 11,
    "start_time": "2022-12-02T17:14:32.671Z"
   },
   {
    "duration": 7,
    "start_time": "2022-12-02T17:14:32.683Z"
   },
   {
    "duration": 27,
    "start_time": "2022-12-02T17:14:32.691Z"
   },
   {
    "duration": 6,
    "start_time": "2022-12-02T17:14:32.720Z"
   },
   {
    "duration": 35,
    "start_time": "2022-12-02T17:14:32.728Z"
   },
   {
    "duration": 9,
    "start_time": "2022-12-02T17:14:32.765Z"
   },
   {
    "duration": 4,
    "start_time": "2022-12-02T17:14:32.775Z"
   },
   {
    "duration": 10,
    "start_time": "2022-12-02T17:14:32.781Z"
   },
   {
    "duration": 39,
    "start_time": "2022-12-02T17:14:32.792Z"
   },
   {
    "duration": 17,
    "start_time": "2022-12-02T17:14:32.833Z"
   },
   {
    "duration": 4,
    "start_time": "2022-12-02T17:14:32.851Z"
   },
   {
    "duration": 14,
    "start_time": "2022-12-02T17:14:32.856Z"
   },
   {
    "duration": 10,
    "start_time": "2022-12-02T17:14:32.872Z"
   },
   {
    "duration": 3,
    "start_time": "2022-12-02T17:14:32.883Z"
   },
   {
    "duration": 30,
    "start_time": "2022-12-02T17:14:32.888Z"
   },
   {
    "duration": 6,
    "start_time": "2022-12-02T17:14:32.919Z"
   },
   {
    "duration": 7,
    "start_time": "2022-12-02T17:14:32.926Z"
   },
   {
    "duration": 69,
    "start_time": "2022-12-02T17:16:36.110Z"
   },
   {
    "duration": 14,
    "start_time": "2022-12-02T17:16:36.181Z"
   },
   {
    "duration": 18,
    "start_time": "2022-12-02T17:16:36.196Z"
   },
   {
    "duration": 10,
    "start_time": "2022-12-02T17:16:36.216Z"
   },
   {
    "duration": 44,
    "start_time": "2022-12-02T17:16:36.228Z"
   },
   {
    "duration": 6,
    "start_time": "2022-12-02T17:16:36.274Z"
   },
   {
    "duration": 26,
    "start_time": "2022-12-02T17:16:36.281Z"
   },
   {
    "duration": 10,
    "start_time": "2022-12-02T17:16:36.315Z"
   },
   {
    "duration": 15,
    "start_time": "2022-12-02T17:16:36.328Z"
   },
   {
    "duration": 19,
    "start_time": "2022-12-02T17:16:36.347Z"
   },
   {
    "duration": 49,
    "start_time": "2022-12-02T17:16:36.368Z"
   },
   {
    "duration": 15,
    "start_time": "2022-12-02T17:16:36.419Z"
   },
   {
    "duration": 3,
    "start_time": "2022-12-02T17:16:36.436Z"
   },
   {
    "duration": 13,
    "start_time": "2022-12-02T17:16:36.441Z"
   },
   {
    "duration": 20,
    "start_time": "2022-12-02T17:16:36.455Z"
   },
   {
    "duration": 15,
    "start_time": "2022-12-02T17:16:36.476Z"
   },
   {
    "duration": 3,
    "start_time": "2022-12-02T17:16:36.493Z"
   },
   {
    "duration": 10,
    "start_time": "2022-12-02T17:16:36.515Z"
   },
   {
    "duration": 9,
    "start_time": "2022-12-02T17:16:36.526Z"
   },
   {
    "duration": 4,
    "start_time": "2022-12-02T17:16:36.536Z"
   },
   {
    "duration": 10,
    "start_time": "2022-12-02T17:16:36.541Z"
   },
   {
    "duration": 9,
    "start_time": "2022-12-02T17:16:36.552Z"
   },
   {
    "duration": 13,
    "start_time": "2022-12-02T17:16:36.562Z"
   },
   {
    "duration": 38,
    "start_time": "2022-12-02T17:16:36.577Z"
   },
   {
    "duration": 8,
    "start_time": "2022-12-02T17:16:36.617Z"
   },
   {
    "duration": 565,
    "start_time": "2022-12-05T09:41:10.541Z"
   },
   {
    "duration": 26,
    "start_time": "2022-12-05T09:41:11.109Z"
   },
   {
    "duration": 17,
    "start_time": "2022-12-05T09:41:11.137Z"
   },
   {
    "duration": 12,
    "start_time": "2022-12-05T09:41:11.156Z"
   },
   {
    "duration": 38,
    "start_time": "2022-12-05T09:41:11.170Z"
   },
   {
    "duration": 16,
    "start_time": "2022-12-05T09:41:11.209Z"
   },
   {
    "duration": 17,
    "start_time": "2022-12-05T09:41:11.226Z"
   },
   {
    "duration": 16,
    "start_time": "2022-12-05T09:41:11.244Z"
   },
   {
    "duration": 10,
    "start_time": "2022-12-05T09:41:11.263Z"
   },
   {
    "duration": 5,
    "start_time": "2022-12-05T09:41:11.276Z"
   },
   {
    "duration": 56,
    "start_time": "2022-12-05T09:41:11.283Z"
   },
   {
    "duration": 10,
    "start_time": "2022-12-05T09:41:11.340Z"
   },
   {
    "duration": 7,
    "start_time": "2022-12-05T09:41:11.352Z"
   },
   {
    "duration": 21,
    "start_time": "2022-12-05T09:41:11.361Z"
   },
   {
    "duration": 22,
    "start_time": "2022-12-05T09:41:11.384Z"
   },
   {
    "duration": 29,
    "start_time": "2022-12-05T09:41:11.408Z"
   },
   {
    "duration": 5,
    "start_time": "2022-12-05T09:41:11.438Z"
   },
   {
    "duration": 19,
    "start_time": "2022-12-05T09:41:11.444Z"
   },
   {
    "duration": 10,
    "start_time": "2022-12-05T09:41:11.465Z"
   },
   {
    "duration": 6,
    "start_time": "2022-12-05T09:41:11.477Z"
   },
   {
    "duration": 32,
    "start_time": "2022-12-05T09:41:11.484Z"
   },
   {
    "duration": 594,
    "start_time": "2022-12-05T09:41:11.518Z"
   },
   {
    "duration": 79,
    "start_time": "2022-12-05T09:42:42.257Z"
   },
   {
    "duration": 16,
    "start_time": "2022-12-05T09:42:42.338Z"
   },
   {
    "duration": 19,
    "start_time": "2022-12-05T09:42:42.355Z"
   },
   {
    "duration": 10,
    "start_time": "2022-12-05T09:42:42.377Z"
   },
   {
    "duration": 58,
    "start_time": "2022-12-05T09:42:42.389Z"
   },
   {
    "duration": 3,
    "start_time": "2022-12-05T09:42:42.449Z"
   },
   {
    "duration": 19,
    "start_time": "2022-12-05T09:42:42.454Z"
   },
   {
    "duration": 6,
    "start_time": "2022-12-05T09:42:42.475Z"
   },
   {
    "duration": 8,
    "start_time": "2022-12-05T09:42:42.483Z"
   },
   {
    "duration": 19,
    "start_time": "2022-12-05T09:42:42.493Z"
   },
   {
    "duration": 32,
    "start_time": "2022-12-05T09:42:42.523Z"
   },
   {
    "duration": 10,
    "start_time": "2022-12-05T09:42:42.556Z"
   },
   {
    "duration": 4,
    "start_time": "2022-12-05T09:42:42.567Z"
   },
   {
    "duration": 14,
    "start_time": "2022-12-05T09:42:42.573Z"
   },
   {
    "duration": 45,
    "start_time": "2022-12-05T09:42:42.589Z"
   },
   {
    "duration": 18,
    "start_time": "2022-12-05T09:42:42.636Z"
   },
   {
    "duration": 4,
    "start_time": "2022-12-05T09:42:42.655Z"
   },
   {
    "duration": 14,
    "start_time": "2022-12-05T09:42:42.661Z"
   },
   {
    "duration": 7,
    "start_time": "2022-12-05T09:42:42.677Z"
   },
   {
    "duration": 37,
    "start_time": "2022-12-05T09:42:42.686Z"
   },
   {
    "duration": 21,
    "start_time": "2022-12-05T09:42:42.725Z"
   },
   {
    "duration": 10,
    "start_time": "2022-12-05T09:42:42.748Z"
   },
   {
    "duration": 9,
    "start_time": "2022-12-05T09:42:42.759Z"
   },
   {
    "duration": 7,
    "start_time": "2022-12-05T09:42:42.770Z"
   },
   {
    "duration": 10,
    "start_time": "2022-12-05T09:42:42.778Z"
   },
   {
    "duration": 757,
    "start_time": "2022-12-06T13:22:37.582Z"
   },
   {
    "duration": 23,
    "start_time": "2022-12-06T13:22:38.341Z"
   },
   {
    "duration": 30,
    "start_time": "2022-12-06T13:22:38.365Z"
   },
   {
    "duration": 9,
    "start_time": "2022-12-06T13:22:38.397Z"
   },
   {
    "duration": 38,
    "start_time": "2022-12-06T13:22:38.408Z"
   },
   {
    "duration": 3,
    "start_time": "2022-12-06T13:22:38.448Z"
   },
   {
    "duration": 12,
    "start_time": "2022-12-06T13:22:38.453Z"
   },
   {
    "duration": 5,
    "start_time": "2022-12-06T13:22:38.467Z"
   },
   {
    "duration": 8,
    "start_time": "2022-12-06T13:22:38.474Z"
   },
   {
    "duration": 5,
    "start_time": "2022-12-06T13:22:38.484Z"
   },
   {
    "duration": 36,
    "start_time": "2022-12-06T13:22:38.512Z"
   },
   {
    "duration": 10,
    "start_time": "2022-12-06T13:22:38.550Z"
   },
   {
    "duration": 4,
    "start_time": "2022-12-06T13:22:38.561Z"
   },
   {
    "duration": 12,
    "start_time": "2022-12-06T13:22:38.567Z"
   },
   {
    "duration": 50,
    "start_time": "2022-12-06T13:22:38.581Z"
   },
   {
    "duration": 19,
    "start_time": "2022-12-06T13:22:38.633Z"
   },
   {
    "duration": 5,
    "start_time": "2022-12-06T13:22:38.653Z"
   },
   {
    "duration": 13,
    "start_time": "2022-12-06T13:22:38.660Z"
   },
   {
    "duration": 5,
    "start_time": "2022-12-06T13:22:38.675Z"
   },
   {
    "duration": 4,
    "start_time": "2022-12-06T13:22:38.712Z"
   },
   {
    "duration": 14,
    "start_time": "2022-12-06T13:22:38.717Z"
   },
   {
    "duration": 7,
    "start_time": "2022-12-06T13:22:38.733Z"
   },
   {
    "duration": 8,
    "start_time": "2022-12-06T13:22:38.741Z"
   },
   {
    "duration": 7,
    "start_time": "2022-12-06T13:22:38.750Z"
   },
   {
    "duration": 9,
    "start_time": "2022-12-06T13:22:38.759Z"
   },
   {
    "duration": 69,
    "start_time": "2022-12-06T13:23:15.655Z"
   },
   {
    "duration": 15,
    "start_time": "2022-12-06T13:23:15.726Z"
   },
   {
    "duration": 20,
    "start_time": "2022-12-06T13:23:15.742Z"
   },
   {
    "duration": 10,
    "start_time": "2022-12-06T13:23:15.765Z"
   },
   {
    "duration": 57,
    "start_time": "2022-12-06T13:23:15.777Z"
   },
   {
    "duration": 4,
    "start_time": "2022-12-06T13:23:15.835Z"
   },
   {
    "duration": 11,
    "start_time": "2022-12-06T13:23:15.840Z"
   },
   {
    "duration": 4,
    "start_time": "2022-12-06T13:23:15.853Z"
   },
   {
    "duration": 7,
    "start_time": "2022-12-06T13:23:15.859Z"
   },
   {
    "duration": 4,
    "start_time": "2022-12-06T13:23:15.868Z"
   },
   {
    "duration": 58,
    "start_time": "2022-12-06T13:23:15.873Z"
   },
   {
    "duration": 10,
    "start_time": "2022-12-06T13:23:15.932Z"
   },
   {
    "duration": 5,
    "start_time": "2022-12-06T13:23:15.943Z"
   },
   {
    "duration": 12,
    "start_time": "2022-12-06T13:23:15.949Z"
   },
   {
    "duration": 20,
    "start_time": "2022-12-06T13:23:15.963Z"
   },
   {
    "duration": 45,
    "start_time": "2022-12-06T13:23:15.984Z"
   },
   {
    "duration": 4,
    "start_time": "2022-12-06T13:23:16.030Z"
   },
   {
    "duration": 17,
    "start_time": "2022-12-06T13:23:16.035Z"
   },
   {
    "duration": 6,
    "start_time": "2022-12-06T13:23:16.054Z"
   },
   {
    "duration": 3,
    "start_time": "2022-12-06T13:23:16.062Z"
   },
   {
    "duration": 14,
    "start_time": "2022-12-06T13:23:16.067Z"
   },
   {
    "duration": 84,
    "start_time": "2022-12-06T13:23:16.082Z"
   },
   {
    "duration": 71,
    "start_time": "2022-12-06T13:23:33.446Z"
   },
   {
    "duration": 16,
    "start_time": "2022-12-06T13:23:33.519Z"
   },
   {
    "duration": 22,
    "start_time": "2022-12-06T13:23:33.537Z"
   },
   {
    "duration": 12,
    "start_time": "2022-12-06T13:23:33.561Z"
   },
   {
    "duration": 49,
    "start_time": "2022-12-06T13:23:33.575Z"
   },
   {
    "duration": 3,
    "start_time": "2022-12-06T13:23:33.626Z"
   },
   {
    "duration": 14,
    "start_time": "2022-12-06T13:23:33.631Z"
   },
   {
    "duration": 7,
    "start_time": "2022-12-06T13:23:33.647Z"
   },
   {
    "duration": 9,
    "start_time": "2022-12-06T13:23:33.655Z"
   },
   {
    "duration": 5,
    "start_time": "2022-12-06T13:23:33.666Z"
   },
   {
    "duration": 58,
    "start_time": "2022-12-06T13:23:33.672Z"
   },
   {
    "duration": 9,
    "start_time": "2022-12-06T13:23:33.732Z"
   },
   {
    "duration": 3,
    "start_time": "2022-12-06T13:23:33.743Z"
   },
   {
    "duration": 12,
    "start_time": "2022-12-06T13:23:33.748Z"
   },
   {
    "duration": 21,
    "start_time": "2022-12-06T13:23:33.761Z"
   },
   {
    "duration": 45,
    "start_time": "2022-12-06T13:23:33.784Z"
   },
   {
    "duration": 3,
    "start_time": "2022-12-06T13:23:33.831Z"
   },
   {
    "duration": 16,
    "start_time": "2022-12-06T13:23:33.836Z"
   },
   {
    "duration": 8,
    "start_time": "2022-12-06T13:23:33.854Z"
   },
   {
    "duration": 3,
    "start_time": "2022-12-06T13:23:33.864Z"
   },
   {
    "duration": 15,
    "start_time": "2022-12-06T13:23:33.869Z"
   },
   {
    "duration": 30,
    "start_time": "2022-12-06T13:23:33.886Z"
   },
   {
    "duration": 70,
    "start_time": "2022-12-06T13:23:47.814Z"
   },
   {
    "duration": 16,
    "start_time": "2022-12-06T13:23:47.886Z"
   },
   {
    "duration": 17,
    "start_time": "2022-12-06T13:23:47.903Z"
   },
   {
    "duration": 9,
    "start_time": "2022-12-06T13:23:47.923Z"
   },
   {
    "duration": 36,
    "start_time": "2022-12-06T13:23:47.934Z"
   },
   {
    "duration": 3,
    "start_time": "2022-12-06T13:23:47.972Z"
   },
   {
    "duration": 12,
    "start_time": "2022-12-06T13:23:47.977Z"
   },
   {
    "duration": 4,
    "start_time": "2022-12-06T13:23:48.013Z"
   },
   {
    "duration": 8,
    "start_time": "2022-12-06T13:23:48.019Z"
   },
   {
    "duration": 6,
    "start_time": "2022-12-06T13:23:48.030Z"
   },
   {
    "duration": 37,
    "start_time": "2022-12-06T13:23:48.038Z"
   },
   {
    "duration": 9,
    "start_time": "2022-12-06T13:23:48.077Z"
   },
   {
    "duration": 25,
    "start_time": "2022-12-06T13:23:48.087Z"
   },
   {
    "duration": 10,
    "start_time": "2022-12-06T13:23:48.114Z"
   },
   {
    "duration": 22,
    "start_time": "2022-12-06T13:23:48.126Z"
   },
   {
    "duration": 20,
    "start_time": "2022-12-06T13:23:48.149Z"
   },
   {
    "duration": 3,
    "start_time": "2022-12-06T13:23:48.171Z"
   },
   {
    "duration": 36,
    "start_time": "2022-12-06T13:23:48.176Z"
   },
   {
    "duration": 6,
    "start_time": "2022-12-06T13:23:48.214Z"
   },
   {
    "duration": 3,
    "start_time": "2022-12-06T13:23:48.224Z"
   },
   {
    "duration": 17,
    "start_time": "2022-12-06T13:23:48.229Z"
   },
   {
    "duration": 14,
    "start_time": "2022-12-06T13:23:48.248Z"
   },
   {
    "duration": 72,
    "start_time": "2022-12-06T13:24:12.662Z"
   },
   {
    "duration": 17,
    "start_time": "2022-12-06T13:24:12.736Z"
   },
   {
    "duration": 16,
    "start_time": "2022-12-06T13:24:12.754Z"
   },
   {
    "duration": 9,
    "start_time": "2022-12-06T13:24:12.773Z"
   },
   {
    "duration": 60,
    "start_time": "2022-12-06T13:24:12.784Z"
   },
   {
    "duration": 4,
    "start_time": "2022-12-06T13:24:12.846Z"
   },
   {
    "duration": 16,
    "start_time": "2022-12-06T13:24:12.852Z"
   },
   {
    "duration": 5,
    "start_time": "2022-12-06T13:24:12.870Z"
   },
   {
    "duration": 8,
    "start_time": "2022-12-06T13:24:12.877Z"
   },
   {
    "duration": 26,
    "start_time": "2022-12-06T13:24:12.887Z"
   },
   {
    "duration": 34,
    "start_time": "2022-12-06T13:24:12.914Z"
   },
   {
    "duration": 9,
    "start_time": "2022-12-06T13:24:12.950Z"
   },
   {
    "duration": 4,
    "start_time": "2022-12-06T13:24:12.961Z"
   },
   {
    "duration": 12,
    "start_time": "2022-12-06T13:24:12.966Z"
   },
   {
    "duration": 43,
    "start_time": "2022-12-06T13:24:12.980Z"
   },
   {
    "duration": 17,
    "start_time": "2022-12-06T13:24:13.025Z"
   },
   {
    "duration": 3,
    "start_time": "2022-12-06T13:24:13.044Z"
   },
   {
    "duration": 13,
    "start_time": "2022-12-06T13:24:13.049Z"
   },
   {
    "duration": 6,
    "start_time": "2022-12-06T13:24:13.063Z"
   },
   {
    "duration": 4,
    "start_time": "2022-12-06T13:24:13.070Z"
   },
   {
    "duration": 37,
    "start_time": "2022-12-06T13:24:13.075Z"
   },
   {
    "duration": 5,
    "start_time": "2022-12-06T13:24:13.114Z"
   },
   {
    "duration": 69,
    "start_time": "2022-12-06T13:24:23.006Z"
   },
   {
    "duration": 15,
    "start_time": "2022-12-06T13:24:23.077Z"
   },
   {
    "duration": 17,
    "start_time": "2022-12-06T13:24:23.094Z"
   },
   {
    "duration": 10,
    "start_time": "2022-12-06T13:24:23.113Z"
   },
   {
    "duration": 34,
    "start_time": "2022-12-06T13:24:23.124Z"
   },
   {
    "duration": 3,
    "start_time": "2022-12-06T13:24:23.160Z"
   },
   {
    "duration": 11,
    "start_time": "2022-12-06T13:24:23.165Z"
   },
   {
    "duration": 4,
    "start_time": "2022-12-06T13:24:23.178Z"
   },
   {
    "duration": 29,
    "start_time": "2022-12-06T13:24:23.184Z"
   },
   {
    "duration": 7,
    "start_time": "2022-12-06T13:24:23.215Z"
   },
   {
    "duration": 37,
    "start_time": "2022-12-06T13:24:23.223Z"
   },
   {
    "duration": 10,
    "start_time": "2022-12-06T13:24:23.262Z"
   },
   {
    "duration": 4,
    "start_time": "2022-12-06T13:24:23.274Z"
   },
   {
    "duration": 41,
    "start_time": "2022-12-06T13:24:23.279Z"
   },
   {
    "duration": 20,
    "start_time": "2022-12-06T13:24:23.322Z"
   },
   {
    "duration": 18,
    "start_time": "2022-12-06T13:24:23.343Z"
   },
   {
    "duration": 3,
    "start_time": "2022-12-06T13:24:23.363Z"
   },
   {
    "duration": 26,
    "start_time": "2022-12-06T13:24:23.368Z"
   },
   {
    "duration": 19,
    "start_time": "2022-12-06T13:24:23.396Z"
   },
   {
    "duration": 3,
    "start_time": "2022-12-06T13:24:23.417Z"
   },
   {
    "duration": 12,
    "start_time": "2022-12-06T13:24:23.422Z"
   },
   {
    "duration": 7,
    "start_time": "2022-12-06T13:24:23.435Z"
   },
   {
    "duration": 73,
    "start_time": "2022-12-06T13:24:37.294Z"
   },
   {
    "duration": 16,
    "start_time": "2022-12-06T13:24:37.369Z"
   },
   {
    "duration": 20,
    "start_time": "2022-12-06T13:24:37.387Z"
   },
   {
    "duration": 9,
    "start_time": "2022-12-06T13:24:37.411Z"
   },
   {
    "duration": 44,
    "start_time": "2022-12-06T13:24:37.422Z"
   },
   {
    "duration": 3,
    "start_time": "2022-12-06T13:24:37.468Z"
   },
   {
    "duration": 12,
    "start_time": "2022-12-06T13:24:37.473Z"
   },
   {
    "duration": 28,
    "start_time": "2022-12-06T13:24:37.487Z"
   },
   {
    "duration": 11,
    "start_time": "2022-12-06T13:24:37.516Z"
   },
   {
    "duration": 6,
    "start_time": "2022-12-06T13:24:37.530Z"
   },
   {
    "duration": 38,
    "start_time": "2022-12-06T13:24:37.538Z"
   },
   {
    "duration": 34,
    "start_time": "2022-12-06T13:24:37.579Z"
   },
   {
    "duration": 4,
    "start_time": "2022-12-06T13:24:37.615Z"
   },
   {
    "duration": 14,
    "start_time": "2022-12-06T13:24:37.621Z"
   },
   {
    "duration": 22,
    "start_time": "2022-12-06T13:24:37.637Z"
   },
   {
    "duration": 18,
    "start_time": "2022-12-06T13:24:37.661Z"
   },
   {
    "duration": 3,
    "start_time": "2022-12-06T13:24:37.681Z"
   },
   {
    "duration": 34,
    "start_time": "2022-12-06T13:24:37.686Z"
   },
   {
    "duration": 8,
    "start_time": "2022-12-06T13:24:37.722Z"
   },
   {
    "duration": 4,
    "start_time": "2022-12-06T13:24:37.732Z"
   },
   {
    "duration": 10,
    "start_time": "2022-12-06T13:24:37.738Z"
   },
   {
    "duration": 4,
    "start_time": "2022-12-06T13:24:37.750Z"
   },
   {
    "duration": 78,
    "start_time": "2022-12-06T13:24:56.272Z"
   },
   {
    "duration": 15,
    "start_time": "2022-12-06T13:24:56.353Z"
   },
   {
    "duration": 22,
    "start_time": "2022-12-06T13:24:56.370Z"
   },
   {
    "duration": 25,
    "start_time": "2022-12-06T13:24:56.394Z"
   },
   {
    "duration": 90,
    "start_time": "2022-12-06T13:24:56.421Z"
   },
   {
    "duration": 4,
    "start_time": "2022-12-06T13:24:56.514Z"
   },
   {
    "duration": 22,
    "start_time": "2022-12-06T13:24:56.520Z"
   },
   {
    "duration": 10,
    "start_time": "2022-12-06T13:24:56.544Z"
   },
   {
    "duration": 23,
    "start_time": "2022-12-06T13:24:56.556Z"
   },
   {
    "duration": 29,
    "start_time": "2022-12-06T13:24:56.581Z"
   },
   {
    "duration": 61,
    "start_time": "2022-12-06T13:24:56.612Z"
   },
   {
    "duration": 18,
    "start_time": "2022-12-06T13:24:56.675Z"
   },
   {
    "duration": 6,
    "start_time": "2022-12-06T13:24:56.695Z"
   },
   {
    "duration": 27,
    "start_time": "2022-12-06T13:24:56.706Z"
   },
   {
    "duration": 58,
    "start_time": "2022-12-06T13:24:56.736Z"
   },
   {
    "duration": 32,
    "start_time": "2022-12-06T13:24:56.796Z"
   },
   {
    "duration": 5,
    "start_time": "2022-12-06T13:24:56.830Z"
   },
   {
    "duration": 24,
    "start_time": "2022-12-06T13:24:56.838Z"
   },
   {
    "duration": 8,
    "start_time": "2022-12-06T13:24:56.864Z"
   },
   {
    "duration": 12,
    "start_time": "2022-12-06T13:24:56.875Z"
   },
   {
    "duration": 25,
    "start_time": "2022-12-06T13:24:56.890Z"
   },
   {
    "duration": 6,
    "start_time": "2022-12-06T13:24:56.917Z"
   },
   {
    "duration": 69,
    "start_time": "2022-12-06T13:25:17.742Z"
   },
   {
    "duration": 17,
    "start_time": "2022-12-06T13:25:17.813Z"
   },
   {
    "duration": 19,
    "start_time": "2022-12-06T13:25:17.832Z"
   },
   {
    "duration": 13,
    "start_time": "2022-12-06T13:25:17.853Z"
   },
   {
    "duration": 51,
    "start_time": "2022-12-06T13:25:17.868Z"
   },
   {
    "duration": 4,
    "start_time": "2022-12-06T13:25:17.921Z"
   },
   {
    "duration": 11,
    "start_time": "2022-12-06T13:25:17.926Z"
   },
   {
    "duration": 4,
    "start_time": "2022-12-06T13:25:17.939Z"
   },
   {
    "duration": 8,
    "start_time": "2022-12-06T13:25:17.944Z"
   },
   {
    "duration": 5,
    "start_time": "2022-12-06T13:25:17.954Z"
   },
   {
    "duration": 64,
    "start_time": "2022-12-06T13:25:17.960Z"
   },
   {
    "duration": 10,
    "start_time": "2022-12-06T13:25:18.026Z"
   },
   {
    "duration": 4,
    "start_time": "2022-12-06T13:25:18.037Z"
   },
   {
    "duration": 11,
    "start_time": "2022-12-06T13:25:18.043Z"
   },
   {
    "duration": 21,
    "start_time": "2022-12-06T13:25:18.056Z"
   },
   {
    "duration": 48,
    "start_time": "2022-12-06T13:25:18.079Z"
   },
   {
    "duration": 4,
    "start_time": "2022-12-06T13:25:18.129Z"
   },
   {
    "duration": 13,
    "start_time": "2022-12-06T13:25:18.135Z"
   },
   {
    "duration": 15,
    "start_time": "2022-12-06T13:25:18.150Z"
   },
   {
    "duration": 6,
    "start_time": "2022-12-06T13:25:18.166Z"
   },
   {
    "duration": 13,
    "start_time": "2022-12-06T13:25:18.174Z"
   },
   {
    "duration": 29,
    "start_time": "2022-12-06T13:25:18.189Z"
   },
   {
    "duration": 73,
    "start_time": "2022-12-06T13:30:32.964Z"
   },
   {
    "duration": 16,
    "start_time": "2022-12-06T13:30:33.039Z"
   },
   {
    "duration": 26,
    "start_time": "2022-12-06T13:30:33.057Z"
   },
   {
    "duration": 10,
    "start_time": "2022-12-06T13:30:33.085Z"
   },
   {
    "duration": 44,
    "start_time": "2022-12-06T13:30:33.097Z"
   },
   {
    "duration": 3,
    "start_time": "2022-12-06T13:30:33.143Z"
   },
   {
    "duration": 17,
    "start_time": "2022-12-06T13:30:33.148Z"
   },
   {
    "duration": 4,
    "start_time": "2022-12-06T13:30:33.167Z"
   },
   {
    "duration": 10,
    "start_time": "2022-12-06T13:30:33.172Z"
   },
   {
    "duration": 4,
    "start_time": "2022-12-06T13:30:33.185Z"
   },
   {
    "duration": 36,
    "start_time": "2022-12-06T13:30:33.213Z"
   },
   {
    "duration": 10,
    "start_time": "2022-12-06T13:30:33.250Z"
   },
   {
    "duration": 4,
    "start_time": "2022-12-06T13:30:33.262Z"
   },
   {
    "duration": 20,
    "start_time": "2022-12-06T13:30:33.268Z"
   },
   {
    "duration": 38,
    "start_time": "2022-12-06T13:30:33.290Z"
   },
   {
    "duration": 18,
    "start_time": "2022-12-06T13:30:33.330Z"
   },
   {
    "duration": 4,
    "start_time": "2022-12-06T13:30:33.350Z"
   },
   {
    "duration": 18,
    "start_time": "2022-12-06T13:30:33.355Z"
   },
   {
    "duration": 6,
    "start_time": "2022-12-06T13:30:33.374Z"
   },
   {
    "duration": 12,
    "start_time": "2022-12-06T13:30:33.382Z"
   },
   {
    "duration": 9,
    "start_time": "2022-12-06T13:30:33.413Z"
   },
   {
    "duration": 13,
    "start_time": "2022-12-06T13:30:33.423Z"
   },
   {
    "duration": 10,
    "start_time": "2022-12-06T13:30:33.437Z"
   },
   {
    "duration": 7,
    "start_time": "2022-12-06T13:30:33.449Z"
   },
   {
    "duration": 73,
    "start_time": "2022-12-06T13:48:56.342Z"
   },
   {
    "duration": 17,
    "start_time": "2022-12-06T13:48:56.418Z"
   },
   {
    "duration": 38,
    "start_time": "2022-12-06T13:48:56.437Z"
   },
   {
    "duration": 39,
    "start_time": "2022-12-06T13:48:56.478Z"
   },
   {
    "duration": 58,
    "start_time": "2022-12-06T13:48:56.519Z"
   },
   {
    "duration": 13,
    "start_time": "2022-12-06T13:48:56.579Z"
   },
   {
    "duration": 32,
    "start_time": "2022-12-06T13:48:56.594Z"
   },
   {
    "duration": 40,
    "start_time": "2022-12-06T13:48:56.629Z"
   },
   {
    "duration": 35,
    "start_time": "2022-12-06T13:48:56.671Z"
   },
   {
    "duration": 36,
    "start_time": "2022-12-06T13:48:56.709Z"
   },
   {
    "duration": 62,
    "start_time": "2022-12-06T13:48:56.747Z"
   },
   {
    "duration": 10,
    "start_time": "2022-12-06T13:48:56.811Z"
   },
   {
    "duration": 25,
    "start_time": "2022-12-06T13:48:56.823Z"
   },
   {
    "duration": 62,
    "start_time": "2022-12-06T13:48:56.850Z"
   },
   {
    "duration": 30,
    "start_time": "2022-12-06T13:48:56.914Z"
   },
   {
    "duration": 29,
    "start_time": "2022-12-06T13:48:56.946Z"
   },
   {
    "duration": 13,
    "start_time": "2022-12-06T13:48:56.977Z"
   },
   {
    "duration": 36,
    "start_time": "2022-12-06T13:48:56.992Z"
   },
   {
    "duration": 70,
    "start_time": "2022-12-06T13:48:57.030Z"
   },
   {
    "duration": 15,
    "start_time": "2022-12-06T13:48:57.103Z"
   },
   {
    "duration": 56,
    "start_time": "2022-12-06T13:48:57.120Z"
   },
   {
    "duration": 39,
    "start_time": "2022-12-06T13:48:57.178Z"
   },
   {
    "duration": 23,
    "start_time": "2022-12-06T13:48:57.220Z"
   },
   {
    "duration": 16,
    "start_time": "2022-12-06T13:48:57.245Z"
   },
   {
    "duration": 33,
    "start_time": "2022-12-06T13:48:57.263Z"
   },
   {
    "duration": 77,
    "start_time": "2022-12-06T13:49:16.814Z"
   },
   {
    "duration": 19,
    "start_time": "2022-12-06T13:49:16.893Z"
   },
   {
    "duration": 15,
    "start_time": "2022-12-06T13:49:16.913Z"
   },
   {
    "duration": 11,
    "start_time": "2022-12-06T13:49:16.931Z"
   },
   {
    "duration": 39,
    "start_time": "2022-12-06T13:49:16.944Z"
   },
   {
    "duration": 30,
    "start_time": "2022-12-06T13:49:16.985Z"
   },
   {
    "duration": 12,
    "start_time": "2022-12-06T13:49:17.017Z"
   },
   {
    "duration": 9,
    "start_time": "2022-12-06T13:49:17.032Z"
   },
   {
    "duration": 7,
    "start_time": "2022-12-06T13:49:17.043Z"
   },
   {
    "duration": 5,
    "start_time": "2022-12-06T13:49:17.053Z"
   },
   {
    "duration": 74,
    "start_time": "2022-12-06T13:49:17.060Z"
   },
   {
    "duration": 12,
    "start_time": "2022-12-06T13:49:17.136Z"
   },
   {
    "duration": 7,
    "start_time": "2022-12-06T13:49:17.151Z"
   },
   {
    "duration": 25,
    "start_time": "2022-12-06T13:49:17.161Z"
   },
   {
    "duration": 52,
    "start_time": "2022-12-06T13:49:17.188Z"
   },
   {
    "duration": 29,
    "start_time": "2022-12-06T13:49:17.242Z"
   },
   {
    "duration": 6,
    "start_time": "2022-12-06T13:49:17.273Z"
   },
   {
    "duration": 36,
    "start_time": "2022-12-06T13:49:17.281Z"
   },
   {
    "duration": 6,
    "start_time": "2022-12-06T13:49:17.320Z"
   },
   {
    "duration": 7,
    "start_time": "2022-12-06T13:49:17.328Z"
   },
   {
    "duration": 15,
    "start_time": "2022-12-06T13:49:17.337Z"
   },
   {
    "duration": 9,
    "start_time": "2022-12-06T13:49:17.354Z"
   },
   {
    "duration": 8,
    "start_time": "2022-12-06T13:49:17.365Z"
   },
   {
    "duration": 8,
    "start_time": "2022-12-06T13:49:17.375Z"
   },
   {
    "duration": 9,
    "start_time": "2022-12-06T13:49:17.413Z"
   },
   {
    "duration": 75,
    "start_time": "2022-12-06T13:50:19.303Z"
   },
   {
    "duration": 17,
    "start_time": "2022-12-06T13:50:19.380Z"
   },
   {
    "duration": 22,
    "start_time": "2022-12-06T13:50:19.399Z"
   },
   {
    "duration": 30,
    "start_time": "2022-12-06T13:50:19.423Z"
   },
   {
    "duration": 39,
    "start_time": "2022-12-06T13:50:19.455Z"
   },
   {
    "duration": 4,
    "start_time": "2022-12-06T13:50:19.495Z"
   },
   {
    "duration": 34,
    "start_time": "2022-12-06T13:50:19.501Z"
   },
   {
    "duration": 20,
    "start_time": "2022-12-06T13:50:19.536Z"
   },
   {
    "duration": 15,
    "start_time": "2022-12-06T13:50:19.558Z"
   },
   {
    "duration": 21,
    "start_time": "2022-12-06T13:50:19.575Z"
   },
   {
    "duration": 57,
    "start_time": "2022-12-06T13:50:19.598Z"
   },
   {
    "duration": 9,
    "start_time": "2022-12-06T13:50:19.657Z"
   },
   {
    "duration": 10,
    "start_time": "2022-12-06T13:50:19.668Z"
   },
   {
    "duration": 15,
    "start_time": "2022-12-06T13:50:19.680Z"
   },
   {
    "duration": 90,
    "start_time": "2022-12-06T13:50:19.697Z"
   },
   {
    "duration": 19,
    "start_time": "2022-12-06T13:50:19.789Z"
   },
   {
    "duration": 4,
    "start_time": "2022-12-06T13:50:19.809Z"
   },
   {
    "duration": 28,
    "start_time": "2022-12-06T13:50:19.814Z"
   },
   {
    "duration": 27,
    "start_time": "2022-12-06T13:50:19.844Z"
   },
   {
    "duration": 30,
    "start_time": "2022-12-06T13:50:19.872Z"
   },
   {
    "duration": 41,
    "start_time": "2022-12-06T13:50:19.904Z"
   },
   {
    "duration": 22,
    "start_time": "2022-12-06T13:50:19.946Z"
   },
   {
    "duration": 13,
    "start_time": "2022-12-06T13:50:19.970Z"
   },
   {
    "duration": 25,
    "start_time": "2022-12-06T13:50:19.985Z"
   },
   {
    "duration": 18,
    "start_time": "2022-12-06T13:50:20.013Z"
   },
   {
    "duration": 75,
    "start_time": "2022-12-06T13:51:12.533Z"
   },
   {
    "duration": 17,
    "start_time": "2022-12-06T13:51:12.610Z"
   },
   {
    "duration": 21,
    "start_time": "2022-12-06T13:51:12.629Z"
   },
   {
    "duration": 10,
    "start_time": "2022-12-06T13:51:12.653Z"
   },
   {
    "duration": 64,
    "start_time": "2022-12-06T13:51:12.664Z"
   },
   {
    "duration": 3,
    "start_time": "2022-12-06T13:51:12.730Z"
   },
   {
    "duration": 10,
    "start_time": "2022-12-06T13:51:12.735Z"
   },
   {
    "duration": 4,
    "start_time": "2022-12-06T13:51:12.747Z"
   },
   {
    "duration": 9,
    "start_time": "2022-12-06T13:51:12.753Z"
   },
   {
    "duration": 5,
    "start_time": "2022-12-06T13:51:12.765Z"
   },
   {
    "duration": 70,
    "start_time": "2022-12-06T13:51:12.771Z"
   },
   {
    "duration": 10,
    "start_time": "2022-12-06T13:51:12.843Z"
   },
   {
    "duration": 8,
    "start_time": "2022-12-06T13:51:12.855Z"
   },
   {
    "duration": 13,
    "start_time": "2022-12-06T13:51:12.865Z"
   },
   {
    "duration": 43,
    "start_time": "2022-12-06T13:51:12.880Z"
   },
   {
    "duration": 19,
    "start_time": "2022-12-06T13:51:12.925Z"
   },
   {
    "duration": 4,
    "start_time": "2022-12-06T13:51:12.946Z"
   },
   {
    "duration": 27,
    "start_time": "2022-12-06T13:51:12.951Z"
   },
   {
    "duration": 13,
    "start_time": "2022-12-06T13:51:12.981Z"
   },
   {
    "duration": 19,
    "start_time": "2022-12-06T13:51:12.996Z"
   },
   {
    "duration": 18,
    "start_time": "2022-12-06T13:51:13.017Z"
   },
   {
    "duration": 9,
    "start_time": "2022-12-06T13:51:13.037Z"
   },
   {
    "duration": 12,
    "start_time": "2022-12-06T13:51:13.048Z"
   },
   {
    "duration": 10,
    "start_time": "2022-12-06T13:51:13.062Z"
   },
   {
    "duration": 42,
    "start_time": "2022-12-06T13:51:13.074Z"
   },
   {
    "duration": 73,
    "start_time": "2022-12-06T13:52:03.516Z"
   },
   {
    "duration": 16,
    "start_time": "2022-12-06T13:52:03.591Z"
   },
   {
    "duration": 18,
    "start_time": "2022-12-06T13:52:03.609Z"
   },
   {
    "duration": 9,
    "start_time": "2022-12-06T13:52:03.630Z"
   },
   {
    "duration": 34,
    "start_time": "2022-12-06T13:52:03.640Z"
   },
   {
    "duration": 3,
    "start_time": "2022-12-06T13:52:03.676Z"
   },
   {
    "duration": 32,
    "start_time": "2022-12-06T13:52:03.681Z"
   },
   {
    "duration": 5,
    "start_time": "2022-12-06T13:52:03.715Z"
   },
   {
    "duration": 15,
    "start_time": "2022-12-06T13:52:03.721Z"
   },
   {
    "duration": 10,
    "start_time": "2022-12-06T13:52:03.739Z"
   },
   {
    "duration": 47,
    "start_time": "2022-12-06T13:52:03.750Z"
   },
   {
    "duration": 15,
    "start_time": "2022-12-06T13:52:03.798Z"
   },
   {
    "duration": 5,
    "start_time": "2022-12-06T13:52:03.815Z"
   },
   {
    "duration": 14,
    "start_time": "2022-12-06T13:52:03.822Z"
   },
   {
    "duration": 27,
    "start_time": "2022-12-06T13:52:03.837Z"
   },
   {
    "duration": 20,
    "start_time": "2022-12-06T13:52:03.866Z"
   },
   {
    "duration": 24,
    "start_time": "2022-12-06T13:52:03.888Z"
   },
   {
    "duration": 34,
    "start_time": "2022-12-06T13:52:03.914Z"
   },
   {
    "duration": 10,
    "start_time": "2022-12-06T13:52:03.950Z"
   },
   {
    "duration": 7,
    "start_time": "2022-12-06T13:52:03.962Z"
   },
   {
    "duration": 11,
    "start_time": "2022-12-06T13:52:03.971Z"
   },
   {
    "duration": 11,
    "start_time": "2022-12-06T13:52:03.984Z"
   },
   {
    "duration": 24,
    "start_time": "2022-12-06T13:52:03.996Z"
   },
   {
    "duration": 15,
    "start_time": "2022-12-06T13:52:04.022Z"
   },
   {
    "duration": 14,
    "start_time": "2022-12-06T13:52:04.039Z"
   },
   {
    "duration": 71,
    "start_time": "2022-12-06T15:11:23.960Z"
   },
   {
    "duration": 17,
    "start_time": "2022-12-06T15:11:24.033Z"
   },
   {
    "duration": 33,
    "start_time": "2022-12-06T15:11:24.052Z"
   },
   {
    "duration": 12,
    "start_time": "2022-12-06T15:11:24.087Z"
   },
   {
    "duration": 45,
    "start_time": "2022-12-06T15:11:24.112Z"
   },
   {
    "duration": 4,
    "start_time": "2022-12-06T15:11:24.159Z"
   },
   {
    "duration": 19,
    "start_time": "2022-12-06T15:11:24.167Z"
   },
   {
    "duration": 10,
    "start_time": "2022-12-06T15:11:24.188Z"
   },
   {
    "duration": 8,
    "start_time": "2022-12-06T15:11:24.213Z"
   },
   {
    "duration": 21,
    "start_time": "2022-12-06T15:11:24.223Z"
   },
   {
    "duration": 46,
    "start_time": "2022-12-06T15:11:24.246Z"
   },
   {
    "duration": 22,
    "start_time": "2022-12-06T15:11:24.294Z"
   },
   {
    "duration": 4,
    "start_time": "2022-12-06T15:11:24.318Z"
   },
   {
    "duration": 14,
    "start_time": "2022-12-06T15:11:24.325Z"
   },
   {
    "duration": 22,
    "start_time": "2022-12-06T15:11:24.341Z"
   },
   {
    "duration": 53,
    "start_time": "2022-12-06T15:11:24.366Z"
   },
   {
    "duration": 6,
    "start_time": "2022-12-06T15:11:24.422Z"
   },
   {
    "duration": 15,
    "start_time": "2022-12-06T15:11:24.429Z"
   },
   {
    "duration": 11,
    "start_time": "2022-12-06T15:11:24.446Z"
   },
   {
    "duration": 5,
    "start_time": "2022-12-06T15:11:24.459Z"
   },
   {
    "duration": 15,
    "start_time": "2022-12-06T15:11:24.466Z"
   },
   {
    "duration": 30,
    "start_time": "2022-12-06T15:11:24.483Z"
   },
   {
    "duration": 69,
    "start_time": "2022-12-06T15:12:27.295Z"
   },
   {
    "duration": 17,
    "start_time": "2022-12-06T15:12:27.366Z"
   },
   {
    "duration": 29,
    "start_time": "2022-12-06T15:12:27.384Z"
   },
   {
    "duration": 10,
    "start_time": "2022-12-06T15:12:27.415Z"
   },
   {
    "duration": 39,
    "start_time": "2022-12-06T15:12:27.427Z"
   },
   {
    "duration": 3,
    "start_time": "2022-12-06T15:12:27.468Z"
   },
   {
    "duration": 11,
    "start_time": "2022-12-06T15:12:27.473Z"
   },
   {
    "duration": 28,
    "start_time": "2022-12-06T15:12:27.486Z"
   },
   {
    "duration": 10,
    "start_time": "2022-12-06T15:12:27.516Z"
   },
   {
    "duration": 12,
    "start_time": "2022-12-06T15:12:27.528Z"
   },
   {
    "duration": 37,
    "start_time": "2022-12-06T15:12:27.542Z"
   },
   {
    "duration": 30,
    "start_time": "2022-12-06T15:12:27.581Z"
   },
   {
    "duration": 4,
    "start_time": "2022-12-06T15:12:27.614Z"
   },
   {
    "duration": 14,
    "start_time": "2022-12-06T15:12:27.620Z"
   },
   {
    "duration": 33,
    "start_time": "2022-12-06T15:12:27.636Z"
   },
   {
    "duration": 51,
    "start_time": "2022-12-06T15:12:27.672Z"
   },
   {
    "duration": 5,
    "start_time": "2022-12-06T15:12:27.725Z"
   },
   {
    "duration": 19,
    "start_time": "2022-12-06T15:12:27.732Z"
   },
   {
    "duration": 6,
    "start_time": "2022-12-06T15:12:27.753Z"
   },
   {
    "duration": 7,
    "start_time": "2022-12-06T15:12:27.761Z"
   },
   {
    "duration": 12,
    "start_time": "2022-12-06T15:12:27.770Z"
   },
   {
    "duration": 34,
    "start_time": "2022-12-06T15:12:27.784Z"
   },
   {
    "duration": 13,
    "start_time": "2022-12-06T15:12:27.819Z"
   },
   {
    "duration": 71,
    "start_time": "2022-12-06T15:12:27.833Z"
   },
   {
    "duration": 0,
    "start_time": "2022-12-06T15:12:27.905Z"
   },
   {
    "duration": 68,
    "start_time": "2022-12-06T15:12:47.984Z"
   },
   {
    "duration": 16,
    "start_time": "2022-12-06T15:12:48.054Z"
   },
   {
    "duration": 24,
    "start_time": "2022-12-06T15:12:48.072Z"
   },
   {
    "duration": 21,
    "start_time": "2022-12-06T15:12:48.098Z"
   },
   {
    "duration": 38,
    "start_time": "2022-12-06T15:12:48.121Z"
   },
   {
    "duration": 4,
    "start_time": "2022-12-06T15:12:48.161Z"
   },
   {
    "duration": 19,
    "start_time": "2022-12-06T15:12:48.167Z"
   },
   {
    "duration": 5,
    "start_time": "2022-12-06T15:12:48.188Z"
   },
   {
    "duration": 8,
    "start_time": "2022-12-06T15:12:48.211Z"
   },
   {
    "duration": 6,
    "start_time": "2022-12-06T15:12:48.223Z"
   },
   {
    "duration": 38,
    "start_time": "2022-12-06T15:12:48.231Z"
   },
   {
    "duration": 10,
    "start_time": "2022-12-06T15:12:48.270Z"
   },
   {
    "duration": 30,
    "start_time": "2022-12-06T15:12:48.282Z"
   },
   {
    "duration": 13,
    "start_time": "2022-12-06T15:12:48.314Z"
   },
   {
    "duration": 18,
    "start_time": "2022-12-06T15:12:48.329Z"
   },
   {
    "duration": 20,
    "start_time": "2022-12-06T15:12:48.349Z"
   },
   {
    "duration": 3,
    "start_time": "2022-12-06T15:12:48.371Z"
   },
   {
    "duration": 38,
    "start_time": "2022-12-06T15:12:48.377Z"
   },
   {
    "duration": 6,
    "start_time": "2022-12-06T15:12:48.416Z"
   },
   {
    "duration": 4,
    "start_time": "2022-12-06T15:12:48.423Z"
   },
   {
    "duration": 11,
    "start_time": "2022-12-06T15:12:48.428Z"
   },
   {
    "duration": 10,
    "start_time": "2022-12-06T15:12:48.441Z"
   },
   {
    "duration": 11,
    "start_time": "2022-12-06T15:12:48.453Z"
   },
   {
    "duration": 11,
    "start_time": "2022-12-06T15:12:48.465Z"
   },
   {
    "duration": 43,
    "start_time": "2022-12-06T15:12:48.477Z"
   },
   {
    "duration": 70,
    "start_time": "2022-12-06T15:12:54.528Z"
   },
   {
    "duration": 19,
    "start_time": "2022-12-06T15:12:54.600Z"
   },
   {
    "duration": 18,
    "start_time": "2022-12-06T15:12:54.621Z"
   },
   {
    "duration": 9,
    "start_time": "2022-12-06T15:12:54.641Z"
   },
   {
    "duration": 34,
    "start_time": "2022-12-06T15:12:54.651Z"
   },
   {
    "duration": 4,
    "start_time": "2022-12-06T15:12:54.686Z"
   },
   {
    "duration": 8,
    "start_time": "2022-12-06T15:12:54.713Z"
   },
   {
    "duration": 4,
    "start_time": "2022-12-06T15:12:54.723Z"
   },
   {
    "duration": 5,
    "start_time": "2022-12-06T15:12:54.729Z"
   },
   {
    "duration": 7,
    "start_time": "2022-12-06T15:12:54.737Z"
   },
   {
    "duration": 34,
    "start_time": "2022-12-06T15:12:54.746Z"
   },
   {
    "duration": 36,
    "start_time": "2022-12-06T15:12:54.782Z"
   },
   {
    "duration": 5,
    "start_time": "2022-12-06T15:12:54.819Z"
   },
   {
    "duration": 17,
    "start_time": "2022-12-06T15:12:54.826Z"
   },
   {
    "duration": 20,
    "start_time": "2022-12-06T15:12:54.844Z"
   },
   {
    "duration": 47,
    "start_time": "2022-12-06T15:12:54.866Z"
   },
   {
    "duration": 4,
    "start_time": "2022-12-06T15:12:54.915Z"
   },
   {
    "duration": 22,
    "start_time": "2022-12-06T15:12:54.920Z"
   },
   {
    "duration": 10,
    "start_time": "2022-12-06T15:12:54.943Z"
   },
   {
    "duration": 4,
    "start_time": "2022-12-06T15:12:54.955Z"
   },
   {
    "duration": 11,
    "start_time": "2022-12-06T15:12:54.961Z"
   },
   {
    "duration": 10,
    "start_time": "2022-12-06T15:12:54.973Z"
   },
   {
    "duration": 34,
    "start_time": "2022-12-06T15:12:54.985Z"
   },
   {
    "duration": 11,
    "start_time": "2022-12-06T15:12:55.021Z"
   },
   {
    "duration": 12,
    "start_time": "2022-12-06T15:12:55.034Z"
   },
   {
    "duration": 72,
    "start_time": "2022-12-06T15:21:52.733Z"
   },
   {
    "duration": 18,
    "start_time": "2022-12-06T15:21:52.807Z"
   },
   {
    "duration": 33,
    "start_time": "2022-12-06T15:21:52.828Z"
   },
   {
    "duration": 11,
    "start_time": "2022-12-06T15:21:52.863Z"
   },
   {
    "duration": 43,
    "start_time": "2022-12-06T15:21:52.877Z"
   },
   {
    "duration": 4,
    "start_time": "2022-12-06T15:21:52.924Z"
   },
   {
    "duration": 14,
    "start_time": "2022-12-06T15:21:52.930Z"
   },
   {
    "duration": 7,
    "start_time": "2022-12-06T15:21:52.946Z"
   },
   {
    "duration": 7,
    "start_time": "2022-12-06T15:21:52.954Z"
   },
   {
    "duration": 4,
    "start_time": "2022-12-06T15:21:52.963Z"
   },
   {
    "duration": 66,
    "start_time": "2022-12-06T15:21:52.969Z"
   },
   {
    "duration": 9,
    "start_time": "2022-12-06T15:21:53.037Z"
   },
   {
    "duration": 11,
    "start_time": "2022-12-06T15:21:53.048Z"
   },
   {
    "duration": 23,
    "start_time": "2022-12-06T15:21:53.062Z"
   },
   {
    "duration": 26,
    "start_time": "2022-12-06T15:21:53.087Z"
   },
   {
    "duration": 20,
    "start_time": "2022-12-06T15:21:53.115Z"
   },
   {
    "duration": 3,
    "start_time": "2022-12-06T15:21:53.137Z"
   },
   {
    "duration": 18,
    "start_time": "2022-12-06T15:21:53.142Z"
   },
   {
    "duration": 9,
    "start_time": "2022-12-06T15:21:53.162Z"
   },
   {
    "duration": 5,
    "start_time": "2022-12-06T15:21:53.173Z"
   },
   {
    "duration": 22,
    "start_time": "2022-12-06T15:21:53.179Z"
   },
   {
    "duration": 53,
    "start_time": "2022-12-06T15:21:53.203Z"
   },
   {
    "duration": 70,
    "start_time": "2022-12-06T15:22:49.262Z"
   },
   {
    "duration": 18,
    "start_time": "2022-12-06T15:22:49.334Z"
   },
   {
    "duration": 18,
    "start_time": "2022-12-06T15:22:49.354Z"
   },
   {
    "duration": 10,
    "start_time": "2022-12-06T15:22:49.374Z"
   },
   {
    "duration": 49,
    "start_time": "2022-12-06T15:22:49.385Z"
   },
   {
    "duration": 12,
    "start_time": "2022-12-06T15:22:49.436Z"
   },
   {
    "duration": 19,
    "start_time": "2022-12-06T15:22:49.449Z"
   },
   {
    "duration": 8,
    "start_time": "2022-12-06T15:22:49.470Z"
   },
   {
    "duration": 10,
    "start_time": "2022-12-06T15:22:49.480Z"
   },
   {
    "duration": 5,
    "start_time": "2022-12-06T15:22:49.492Z"
   },
   {
    "duration": 46,
    "start_time": "2022-12-06T15:22:49.498Z"
   },
   {
    "duration": 9,
    "start_time": "2022-12-06T15:22:49.547Z"
   },
   {
    "duration": 5,
    "start_time": "2022-12-06T15:22:49.557Z"
   },
   {
    "duration": 16,
    "start_time": "2022-12-06T15:22:49.564Z"
   },
   {
    "duration": 39,
    "start_time": "2022-12-06T15:22:49.581Z"
   },
   {
    "duration": 20,
    "start_time": "2022-12-06T15:22:49.621Z"
   },
   {
    "duration": 3,
    "start_time": "2022-12-06T15:22:49.643Z"
   },
   {
    "duration": 20,
    "start_time": "2022-12-06T15:22:49.648Z"
   },
   {
    "duration": 6,
    "start_time": "2022-12-06T15:22:49.670Z"
   },
   {
    "duration": 4,
    "start_time": "2022-12-06T15:22:49.678Z"
   },
   {
    "duration": 11,
    "start_time": "2022-12-06T15:22:49.683Z"
   },
   {
    "duration": 12,
    "start_time": "2022-12-06T15:22:49.711Z"
   },
   {
    "duration": 74,
    "start_time": "2022-12-06T15:27:38.116Z"
   },
   {
    "duration": 21,
    "start_time": "2022-12-06T15:27:38.192Z"
   },
   {
    "duration": 18,
    "start_time": "2022-12-06T15:27:38.214Z"
   },
   {
    "duration": 10,
    "start_time": "2022-12-06T15:27:38.235Z"
   },
   {
    "duration": 35,
    "start_time": "2022-12-06T15:27:38.247Z"
   },
   {
    "duration": 28,
    "start_time": "2022-12-06T15:27:38.284Z"
   },
   {
    "duration": 12,
    "start_time": "2022-12-06T15:27:38.314Z"
   },
   {
    "duration": 5,
    "start_time": "2022-12-06T15:27:38.327Z"
   },
   {
    "duration": 11,
    "start_time": "2022-12-06T15:27:38.334Z"
   },
   {
    "duration": 5,
    "start_time": "2022-12-06T15:27:38.347Z"
   },
   {
    "duration": 63,
    "start_time": "2022-12-06T15:27:38.354Z"
   },
   {
    "duration": 10,
    "start_time": "2022-12-06T15:27:38.419Z"
   },
   {
    "duration": 4,
    "start_time": "2022-12-06T15:27:38.431Z"
   },
   {
    "duration": 12,
    "start_time": "2022-12-06T15:27:38.437Z"
   },
   {
    "duration": 19,
    "start_time": "2022-12-06T15:27:38.451Z"
   },
   {
    "duration": 46,
    "start_time": "2022-12-06T15:27:38.472Z"
   },
   {
    "duration": 4,
    "start_time": "2022-12-06T15:27:38.519Z"
   },
   {
    "duration": 13,
    "start_time": "2022-12-06T15:27:38.525Z"
   },
   {
    "duration": 9,
    "start_time": "2022-12-06T15:27:38.540Z"
   },
   {
    "duration": 4,
    "start_time": "2022-12-06T15:27:38.551Z"
   },
   {
    "duration": 19,
    "start_time": "2022-12-06T15:27:38.557Z"
   },
   {
    "duration": 42,
    "start_time": "2022-12-06T15:27:38.578Z"
   },
   {
    "duration": 73,
    "start_time": "2022-12-06T15:27:48.660Z"
   },
   {
    "duration": 16,
    "start_time": "2022-12-06T15:27:48.735Z"
   },
   {
    "duration": 18,
    "start_time": "2022-12-06T15:27:48.752Z"
   },
   {
    "duration": 10,
    "start_time": "2022-12-06T15:27:48.772Z"
   },
   {
    "duration": 53,
    "start_time": "2022-12-06T15:27:48.784Z"
   },
   {
    "duration": 3,
    "start_time": "2022-12-06T15:27:48.839Z"
   },
   {
    "duration": 10,
    "start_time": "2022-12-06T15:27:48.844Z"
   },
   {
    "duration": 5,
    "start_time": "2022-12-06T15:27:48.856Z"
   },
   {
    "duration": 7,
    "start_time": "2022-12-06T15:27:48.862Z"
   },
   {
    "duration": 5,
    "start_time": "2022-12-06T15:27:48.873Z"
   },
   {
    "duration": 62,
    "start_time": "2022-12-06T15:27:48.879Z"
   },
   {
    "duration": 10,
    "start_time": "2022-12-06T15:27:48.942Z"
   },
   {
    "duration": 9,
    "start_time": "2022-12-06T15:27:48.953Z"
   },
   {
    "duration": 13,
    "start_time": "2022-12-06T15:27:48.964Z"
   },
   {
    "duration": 47,
    "start_time": "2022-12-06T15:27:48.979Z"
   },
   {
    "duration": 23,
    "start_time": "2022-12-06T15:27:49.028Z"
   },
   {
    "duration": 4,
    "start_time": "2022-12-06T15:27:49.053Z"
   },
   {
    "duration": 30,
    "start_time": "2022-12-06T15:27:49.059Z"
   },
   {
    "duration": 8,
    "start_time": "2022-12-06T15:27:49.091Z"
   },
   {
    "duration": 14,
    "start_time": "2022-12-06T15:27:49.101Z"
   },
   {
    "duration": 12,
    "start_time": "2022-12-06T15:27:49.117Z"
   },
   {
    "duration": 15,
    "start_time": "2022-12-06T15:27:49.130Z"
   },
   {
    "duration": 74,
    "start_time": "2022-12-06T15:30:36.228Z"
   },
   {
    "duration": 16,
    "start_time": "2022-12-06T15:30:36.304Z"
   },
   {
    "duration": 26,
    "start_time": "2022-12-06T15:30:36.321Z"
   },
   {
    "duration": 10,
    "start_time": "2022-12-06T15:30:36.349Z"
   },
   {
    "duration": 35,
    "start_time": "2022-12-06T15:30:36.361Z"
   },
   {
    "duration": 14,
    "start_time": "2022-12-06T15:30:36.398Z"
   },
   {
    "duration": 8,
    "start_time": "2022-12-06T15:30:36.414Z"
   },
   {
    "duration": 5,
    "start_time": "2022-12-06T15:30:36.423Z"
   },
   {
    "duration": 7,
    "start_time": "2022-12-06T15:30:36.430Z"
   },
   {
    "duration": 5,
    "start_time": "2022-12-06T15:30:36.440Z"
   },
   {
    "duration": 73,
    "start_time": "2022-12-06T15:30:36.447Z"
   },
   {
    "duration": 14,
    "start_time": "2022-12-06T15:30:36.522Z"
   },
   {
    "duration": 11,
    "start_time": "2022-12-06T15:30:36.538Z"
   },
   {
    "duration": 17,
    "start_time": "2022-12-06T15:30:36.552Z"
   },
   {
    "duration": 44,
    "start_time": "2022-12-06T15:30:36.572Z"
   },
   {
    "duration": 25,
    "start_time": "2022-12-06T15:30:36.619Z"
   },
   {
    "duration": 5,
    "start_time": "2022-12-06T15:30:36.646Z"
   },
   {
    "duration": 16,
    "start_time": "2022-12-06T15:30:36.653Z"
   },
   {
    "duration": 17,
    "start_time": "2022-12-06T15:30:36.672Z"
   },
   {
    "duration": 24,
    "start_time": "2022-12-06T15:30:36.691Z"
   },
   {
    "duration": 22,
    "start_time": "2022-12-06T15:30:36.717Z"
   },
   {
    "duration": 19,
    "start_time": "2022-12-06T15:30:36.741Z"
   },
   {
    "duration": 74,
    "start_time": "2022-12-06T15:33:51.762Z"
   },
   {
    "duration": 17,
    "start_time": "2022-12-06T15:33:51.838Z"
   },
   {
    "duration": 19,
    "start_time": "2022-12-06T15:33:51.856Z"
   },
   {
    "duration": 10,
    "start_time": "2022-12-06T15:33:51.877Z"
   },
   {
    "duration": 54,
    "start_time": "2022-12-06T15:33:51.889Z"
   },
   {
    "duration": 4,
    "start_time": "2022-12-06T15:33:51.945Z"
   },
   {
    "duration": 14,
    "start_time": "2022-12-06T15:33:51.951Z"
   },
   {
    "duration": 12,
    "start_time": "2022-12-06T15:33:51.966Z"
   },
   {
    "duration": 17,
    "start_time": "2022-12-06T15:33:51.980Z"
   },
   {
    "duration": 6,
    "start_time": "2022-12-06T15:33:52.011Z"
   },
   {
    "duration": 36,
    "start_time": "2022-12-06T15:33:52.019Z"
   },
   {
    "duration": 12,
    "start_time": "2022-12-06T15:33:52.057Z"
   },
   {
    "duration": 5,
    "start_time": "2022-12-06T15:33:52.071Z"
   },
   {
    "duration": 44,
    "start_time": "2022-12-06T15:33:52.078Z"
   },
   {
    "duration": 27,
    "start_time": "2022-12-06T15:33:52.124Z"
   },
   {
    "duration": 22,
    "start_time": "2022-12-06T15:33:52.153Z"
   },
   {
    "duration": 4,
    "start_time": "2022-12-06T15:33:52.177Z"
   },
   {
    "duration": 34,
    "start_time": "2022-12-06T15:33:52.184Z"
   },
   {
    "duration": 7,
    "start_time": "2022-12-06T15:33:52.221Z"
   },
   {
    "duration": 11,
    "start_time": "2022-12-06T15:33:52.230Z"
   },
   {
    "duration": 17,
    "start_time": "2022-12-06T15:33:52.243Z"
   },
   {
    "duration": 15,
    "start_time": "2022-12-06T15:33:52.261Z"
   },
   {
    "duration": 75,
    "start_time": "2022-12-06T15:34:40.034Z"
   },
   {
    "duration": 16,
    "start_time": "2022-12-06T15:34:40.111Z"
   },
   {
    "duration": 22,
    "start_time": "2022-12-06T15:34:40.129Z"
   },
   {
    "duration": 11,
    "start_time": "2022-12-06T15:34:40.153Z"
   },
   {
    "duration": 64,
    "start_time": "2022-12-06T15:34:40.166Z"
   },
   {
    "duration": 4,
    "start_time": "2022-12-06T15:34:40.231Z"
   },
   {
    "duration": 11,
    "start_time": "2022-12-06T15:34:40.236Z"
   },
   {
    "duration": 4,
    "start_time": "2022-12-06T15:34:40.249Z"
   },
   {
    "duration": 18,
    "start_time": "2022-12-06T15:34:40.255Z"
   },
   {
    "duration": 7,
    "start_time": "2022-12-06T15:34:40.276Z"
   },
   {
    "duration": 41,
    "start_time": "2022-12-06T15:34:40.284Z"
   },
   {
    "duration": 10,
    "start_time": "2022-12-06T15:34:40.327Z"
   },
   {
    "duration": 6,
    "start_time": "2022-12-06T15:34:40.339Z"
   },
   {
    "duration": 22,
    "start_time": "2022-12-06T15:34:40.346Z"
   },
   {
    "duration": 26,
    "start_time": "2022-12-06T15:34:40.370Z"
   },
   {
    "duration": 31,
    "start_time": "2022-12-06T15:34:40.398Z"
   },
   {
    "duration": 4,
    "start_time": "2022-12-06T15:34:40.431Z"
   },
   {
    "duration": 23,
    "start_time": "2022-12-06T15:34:40.436Z"
   },
   {
    "duration": 6,
    "start_time": "2022-12-06T15:34:40.461Z"
   },
   {
    "duration": 9,
    "start_time": "2022-12-06T15:34:40.469Z"
   },
   {
    "duration": 16,
    "start_time": "2022-12-06T15:34:40.480Z"
   },
   {
    "duration": 22,
    "start_time": "2022-12-06T15:34:40.497Z"
   },
   {
    "duration": 74,
    "start_time": "2022-12-06T15:34:47.210Z"
   },
   {
    "duration": 17,
    "start_time": "2022-12-06T15:34:47.286Z"
   },
   {
    "duration": 29,
    "start_time": "2022-12-06T15:34:47.305Z"
   },
   {
    "duration": 10,
    "start_time": "2022-12-06T15:34:47.336Z"
   },
   {
    "duration": 49,
    "start_time": "2022-12-06T15:34:47.348Z"
   },
   {
    "duration": 4,
    "start_time": "2022-12-06T15:34:47.399Z"
   },
   {
    "duration": 32,
    "start_time": "2022-12-06T15:34:47.404Z"
   },
   {
    "duration": 21,
    "start_time": "2022-12-06T15:34:47.438Z"
   },
   {
    "duration": 20,
    "start_time": "2022-12-06T15:34:47.461Z"
   },
   {
    "duration": 10,
    "start_time": "2022-12-06T15:34:47.484Z"
   },
   {
    "duration": 61,
    "start_time": "2022-12-06T15:34:47.495Z"
   },
   {
    "duration": 10,
    "start_time": "2022-12-06T15:34:47.557Z"
   },
   {
    "duration": 10,
    "start_time": "2022-12-06T15:34:47.569Z"
   },
   {
    "duration": 27,
    "start_time": "2022-12-06T15:34:47.581Z"
   },
   {
    "duration": 32,
    "start_time": "2022-12-06T15:34:47.610Z"
   },
   {
    "duration": 29,
    "start_time": "2022-12-06T15:34:47.644Z"
   },
   {
    "duration": 4,
    "start_time": "2022-12-06T15:34:47.675Z"
   },
   {
    "duration": 44,
    "start_time": "2022-12-06T15:34:47.680Z"
   },
   {
    "duration": 35,
    "start_time": "2022-12-06T15:34:47.726Z"
   },
   {
    "duration": 16,
    "start_time": "2022-12-06T15:34:47.763Z"
   },
   {
    "duration": 35,
    "start_time": "2022-12-06T15:34:47.780Z"
   },
   {
    "duration": 33,
    "start_time": "2022-12-06T15:34:47.817Z"
   },
   {
    "duration": 73,
    "start_time": "2022-12-06T15:37:00.769Z"
   },
   {
    "duration": 15,
    "start_time": "2022-12-06T15:37:00.844Z"
   },
   {
    "duration": 38,
    "start_time": "2022-12-06T15:37:00.861Z"
   },
   {
    "duration": 37,
    "start_time": "2022-12-06T15:37:00.901Z"
   },
   {
    "duration": 50,
    "start_time": "2022-12-06T15:37:00.939Z"
   },
   {
    "duration": 4,
    "start_time": "2022-12-06T15:37:00.991Z"
   },
   {
    "duration": 19,
    "start_time": "2022-12-06T15:37:00.997Z"
   },
   {
    "duration": 12,
    "start_time": "2022-12-06T15:37:01.018Z"
   },
   {
    "duration": 28,
    "start_time": "2022-12-06T15:37:01.032Z"
   },
   {
    "duration": 38,
    "start_time": "2022-12-06T15:37:01.063Z"
   },
   {
    "duration": 52,
    "start_time": "2022-12-06T15:37:01.103Z"
   },
   {
    "duration": 10,
    "start_time": "2022-12-06T15:37:01.157Z"
   },
   {
    "duration": 53,
    "start_time": "2022-12-06T15:37:01.168Z"
   },
   {
    "duration": 28,
    "start_time": "2022-12-06T15:37:01.223Z"
   },
   {
    "duration": 48,
    "start_time": "2022-12-06T15:37:01.253Z"
   },
   {
    "duration": 24,
    "start_time": "2022-12-06T15:37:01.303Z"
   },
   {
    "duration": 4,
    "start_time": "2022-12-06T15:37:01.329Z"
   },
   {
    "duration": 24,
    "start_time": "2022-12-06T15:37:01.334Z"
   },
   {
    "duration": 6,
    "start_time": "2022-12-06T15:37:01.359Z"
   },
   {
    "duration": 9,
    "start_time": "2022-12-06T15:37:01.366Z"
   },
   {
    "duration": 14,
    "start_time": "2022-12-06T15:37:01.377Z"
   },
   {
    "duration": 23,
    "start_time": "2022-12-06T15:37:01.393Z"
   },
   {
    "duration": 14,
    "start_time": "2022-12-06T15:37:01.417Z"
   },
   {
    "duration": 72,
    "start_time": "2022-12-06T15:37:35.554Z"
   },
   {
    "duration": 16,
    "start_time": "2022-12-06T15:37:35.628Z"
   },
   {
    "duration": 24,
    "start_time": "2022-12-06T15:37:35.646Z"
   },
   {
    "duration": 18,
    "start_time": "2022-12-06T15:37:35.672Z"
   },
   {
    "duration": 41,
    "start_time": "2022-12-06T15:37:35.691Z"
   },
   {
    "duration": 3,
    "start_time": "2022-12-06T15:37:35.734Z"
   },
   {
    "duration": 10,
    "start_time": "2022-12-06T15:37:35.739Z"
   },
   {
    "duration": 4,
    "start_time": "2022-12-06T15:37:35.751Z"
   },
   {
    "duration": 7,
    "start_time": "2022-12-06T15:37:35.757Z"
   },
   {
    "duration": 4,
    "start_time": "2022-12-06T15:37:35.767Z"
   },
   {
    "duration": 64,
    "start_time": "2022-12-06T15:37:35.773Z"
   },
   {
    "duration": 10,
    "start_time": "2022-12-06T15:37:35.839Z"
   },
   {
    "duration": 8,
    "start_time": "2022-12-06T15:37:35.850Z"
   },
   {
    "duration": 16,
    "start_time": "2022-12-06T15:37:35.860Z"
   },
   {
    "duration": 37,
    "start_time": "2022-12-06T15:37:35.878Z"
   },
   {
    "duration": 20,
    "start_time": "2022-12-06T15:37:35.917Z"
   },
   {
    "duration": 4,
    "start_time": "2022-12-06T15:37:35.939Z"
   },
   {
    "duration": 13,
    "start_time": "2022-12-06T15:37:35.944Z"
   },
   {
    "duration": 9,
    "start_time": "2022-12-06T15:37:35.959Z"
   },
   {
    "duration": 3,
    "start_time": "2022-12-06T15:37:35.970Z"
   },
   {
    "duration": 37,
    "start_time": "2022-12-06T15:37:35.975Z"
   },
   {
    "duration": 16,
    "start_time": "2022-12-06T15:37:36.014Z"
   },
   {
    "duration": 14,
    "start_time": "2022-12-06T15:37:36.031Z"
   },
   {
    "duration": 72,
    "start_time": "2022-12-06T15:37:49.738Z"
   },
   {
    "duration": 16,
    "start_time": "2022-12-06T15:37:49.812Z"
   },
   {
    "duration": 19,
    "start_time": "2022-12-06T15:37:49.830Z"
   },
   {
    "duration": 10,
    "start_time": "2022-12-06T15:37:49.851Z"
   },
   {
    "duration": 57,
    "start_time": "2022-12-06T15:37:49.862Z"
   },
   {
    "duration": 4,
    "start_time": "2022-12-06T15:37:49.921Z"
   },
   {
    "duration": 11,
    "start_time": "2022-12-06T15:37:49.927Z"
   },
   {
    "duration": 4,
    "start_time": "2022-12-06T15:37:49.940Z"
   },
   {
    "duration": 8,
    "start_time": "2022-12-06T15:37:49.945Z"
   },
   {
    "duration": 5,
    "start_time": "2022-12-06T15:37:49.956Z"
   },
   {
    "duration": 61,
    "start_time": "2022-12-06T15:37:49.962Z"
   },
   {
    "duration": 10,
    "start_time": "2022-12-06T15:37:50.025Z"
   },
   {
    "duration": 6,
    "start_time": "2022-12-06T15:37:50.036Z"
   },
   {
    "duration": 15,
    "start_time": "2022-12-06T15:37:50.044Z"
   },
   {
    "duration": 20,
    "start_time": "2022-12-06T15:37:50.060Z"
   },
   {
    "duration": 43,
    "start_time": "2022-12-06T15:37:50.083Z"
   },
   {
    "duration": 5,
    "start_time": "2022-12-06T15:37:50.128Z"
   },
   {
    "duration": 13,
    "start_time": "2022-12-06T15:37:50.135Z"
   },
   {
    "duration": 6,
    "start_time": "2022-12-06T15:37:50.150Z"
   },
   {
    "duration": 5,
    "start_time": "2022-12-06T15:37:50.158Z"
   },
   {
    "duration": 16,
    "start_time": "2022-12-06T15:37:50.165Z"
   },
   {
    "duration": 40,
    "start_time": "2022-12-06T15:37:50.183Z"
   },
   {
    "duration": 12,
    "start_time": "2022-12-06T15:37:50.225Z"
   },
   {
    "duration": 75,
    "start_time": "2022-12-06T15:38:16.697Z"
   },
   {
    "duration": 16,
    "start_time": "2022-12-06T15:38:16.774Z"
   },
   {
    "duration": 27,
    "start_time": "2022-12-06T15:38:16.792Z"
   },
   {
    "duration": 11,
    "start_time": "2022-12-06T15:38:16.821Z"
   },
   {
    "duration": 45,
    "start_time": "2022-12-06T15:38:16.833Z"
   },
   {
    "duration": 4,
    "start_time": "2022-12-06T15:38:16.879Z"
   },
   {
    "duration": 19,
    "start_time": "2022-12-06T15:38:16.885Z"
   },
   {
    "duration": 5,
    "start_time": "2022-12-06T15:38:16.911Z"
   },
   {
    "duration": 12,
    "start_time": "2022-12-06T15:38:16.917Z"
   },
   {
    "duration": 6,
    "start_time": "2022-12-06T15:38:16.932Z"
   },
   {
    "duration": 44,
    "start_time": "2022-12-06T15:38:16.939Z"
   },
   {
    "duration": 10,
    "start_time": "2022-12-06T15:38:16.984Z"
   },
   {
    "duration": 19,
    "start_time": "2022-12-06T15:38:16.996Z"
   },
   {
    "duration": 14,
    "start_time": "2022-12-06T15:38:17.017Z"
   },
   {
    "duration": 31,
    "start_time": "2022-12-06T15:38:17.032Z"
   },
   {
    "duration": 26,
    "start_time": "2022-12-06T15:38:17.065Z"
   },
   {
    "duration": 19,
    "start_time": "2022-12-06T15:38:17.093Z"
   },
   {
    "duration": 19,
    "start_time": "2022-12-06T15:38:17.114Z"
   },
   {
    "duration": 6,
    "start_time": "2022-12-06T15:38:17.135Z"
   },
   {
    "duration": 4,
    "start_time": "2022-12-06T15:38:17.142Z"
   },
   {
    "duration": 16,
    "start_time": "2022-12-06T15:38:17.148Z"
   },
   {
    "duration": 15,
    "start_time": "2022-12-06T15:38:17.166Z"
   },
   {
    "duration": 35,
    "start_time": "2022-12-06T15:38:17.183Z"
   },
   {
    "duration": 74,
    "start_time": "2022-12-06T15:38:55.536Z"
   },
   {
    "duration": 16,
    "start_time": "2022-12-06T15:38:55.612Z"
   },
   {
    "duration": 17,
    "start_time": "2022-12-06T15:38:55.629Z"
   },
   {
    "duration": 10,
    "start_time": "2022-12-06T15:38:55.648Z"
   },
   {
    "duration": 61,
    "start_time": "2022-12-06T15:38:55.660Z"
   },
   {
    "duration": 3,
    "start_time": "2022-12-06T15:38:55.723Z"
   },
   {
    "duration": 10,
    "start_time": "2022-12-06T15:38:55.728Z"
   },
   {
    "duration": 4,
    "start_time": "2022-12-06T15:38:55.740Z"
   },
   {
    "duration": 7,
    "start_time": "2022-12-06T15:38:55.746Z"
   },
   {
    "duration": 5,
    "start_time": "2022-12-06T15:38:55.755Z"
   },
   {
    "duration": 63,
    "start_time": "2022-12-06T15:38:55.762Z"
   },
   {
    "duration": 9,
    "start_time": "2022-12-06T15:38:55.827Z"
   },
   {
    "duration": 4,
    "start_time": "2022-12-06T15:38:55.838Z"
   },
   {
    "duration": 13,
    "start_time": "2022-12-06T15:38:55.843Z"
   },
   {
    "duration": 29,
    "start_time": "2022-12-06T15:38:55.858Z"
   },
   {
    "duration": 39,
    "start_time": "2022-12-06T15:38:55.888Z"
   },
   {
    "duration": 4,
    "start_time": "2022-12-06T15:38:55.929Z"
   },
   {
    "duration": 12,
    "start_time": "2022-12-06T15:38:55.935Z"
   },
   {
    "duration": 10,
    "start_time": "2022-12-06T15:38:55.949Z"
   },
   {
    "duration": 4,
    "start_time": "2022-12-06T15:38:55.961Z"
   },
   {
    "duration": 10,
    "start_time": "2022-12-06T15:38:55.967Z"
   },
   {
    "duration": 42,
    "start_time": "2022-12-06T15:38:55.979Z"
   },
   {
    "duration": 16,
    "start_time": "2022-12-06T15:38:56.023Z"
   },
   {
    "duration": 80,
    "start_time": "2022-12-06T15:39:04.481Z"
   },
   {
    "duration": 16,
    "start_time": "2022-12-06T15:39:04.564Z"
   },
   {
    "duration": 34,
    "start_time": "2022-12-06T15:39:04.582Z"
   },
   {
    "duration": 29,
    "start_time": "2022-12-06T15:39:04.618Z"
   },
   {
    "duration": 44,
    "start_time": "2022-12-06T15:39:04.650Z"
   },
   {
    "duration": 8,
    "start_time": "2022-12-06T15:39:04.696Z"
   },
   {
    "duration": 15,
    "start_time": "2022-12-06T15:39:04.706Z"
   },
   {
    "duration": 13,
    "start_time": "2022-12-06T15:39:04.723Z"
   },
   {
    "duration": 27,
    "start_time": "2022-12-06T15:39:04.737Z"
   },
   {
    "duration": 24,
    "start_time": "2022-12-06T15:39:04.767Z"
   },
   {
    "duration": 63,
    "start_time": "2022-12-06T15:39:04.793Z"
   },
   {
    "duration": 14,
    "start_time": "2022-12-06T15:39:04.858Z"
   },
   {
    "duration": 24,
    "start_time": "2022-12-06T15:39:04.875Z"
   },
   {
    "duration": 23,
    "start_time": "2022-12-06T15:39:04.901Z"
   },
   {
    "duration": 22,
    "start_time": "2022-12-06T15:39:04.930Z"
   },
   {
    "duration": 21,
    "start_time": "2022-12-06T15:39:04.953Z"
   },
   {
    "duration": 4,
    "start_time": "2022-12-06T15:39:04.975Z"
   },
   {
    "duration": 12,
    "start_time": "2022-12-06T15:39:04.981Z"
   },
   {
    "duration": 20,
    "start_time": "2022-12-06T15:39:04.995Z"
   },
   {
    "duration": 4,
    "start_time": "2022-12-06T15:39:05.017Z"
   },
   {
    "duration": 16,
    "start_time": "2022-12-06T15:39:05.022Z"
   },
   {
    "duration": 16,
    "start_time": "2022-12-06T15:39:05.039Z"
   },
   {
    "duration": 15,
    "start_time": "2022-12-06T15:39:05.056Z"
   },
   {
    "duration": 71,
    "start_time": "2022-12-06T15:40:00.968Z"
   },
   {
    "duration": 16,
    "start_time": "2022-12-06T15:40:01.041Z"
   },
   {
    "duration": 29,
    "start_time": "2022-12-06T15:40:01.059Z"
   },
   {
    "duration": 17,
    "start_time": "2022-12-06T15:40:01.090Z"
   },
   {
    "duration": 57,
    "start_time": "2022-12-06T15:40:01.108Z"
   },
   {
    "duration": 4,
    "start_time": "2022-12-06T15:40:01.167Z"
   },
   {
    "duration": 36,
    "start_time": "2022-12-06T15:40:01.173Z"
   },
   {
    "duration": 18,
    "start_time": "2022-12-06T15:40:01.212Z"
   },
   {
    "duration": 13,
    "start_time": "2022-12-06T15:40:01.232Z"
   },
   {
    "duration": 11,
    "start_time": "2022-12-06T15:40:01.248Z"
   },
   {
    "duration": 51,
    "start_time": "2022-12-06T15:40:01.261Z"
   },
   {
    "duration": 10,
    "start_time": "2022-12-06T15:40:01.314Z"
   },
   {
    "duration": 9,
    "start_time": "2022-12-06T15:40:01.325Z"
   },
   {
    "duration": 15,
    "start_time": "2022-12-06T15:40:01.335Z"
   },
   {
    "duration": 26,
    "start_time": "2022-12-06T15:40:01.351Z"
   },
   {
    "duration": 33,
    "start_time": "2022-12-06T15:40:01.379Z"
   },
   {
    "duration": 4,
    "start_time": "2022-12-06T15:40:01.414Z"
   },
   {
    "duration": 15,
    "start_time": "2022-12-06T15:40:01.420Z"
   },
   {
    "duration": 7,
    "start_time": "2022-12-06T15:40:01.436Z"
   },
   {
    "duration": 4,
    "start_time": "2022-12-06T15:40:01.445Z"
   },
   {
    "duration": 12,
    "start_time": "2022-12-06T15:40:01.451Z"
   },
   {
    "duration": 53,
    "start_time": "2022-12-06T15:40:01.465Z"
   },
   {
    "duration": 13,
    "start_time": "2022-12-06T15:40:01.520Z"
   },
   {
    "duration": 18,
    "start_time": "2022-12-06T15:40:01.535Z"
   },
   {
    "duration": 84,
    "start_time": "2022-12-06T15:40:46.736Z"
   },
   {
    "duration": 16,
    "start_time": "2022-12-06T15:40:46.822Z"
   },
   {
    "duration": 17,
    "start_time": "2022-12-06T15:40:46.840Z"
   },
   {
    "duration": 10,
    "start_time": "2022-12-06T15:40:46.859Z"
   },
   {
    "duration": 60,
    "start_time": "2022-12-06T15:40:46.871Z"
   },
   {
    "duration": 3,
    "start_time": "2022-12-06T15:40:46.933Z"
   },
   {
    "duration": 11,
    "start_time": "2022-12-06T15:40:46.938Z"
   },
   {
    "duration": 4,
    "start_time": "2022-12-06T15:40:46.951Z"
   },
   {
    "duration": 9,
    "start_time": "2022-12-06T15:40:46.957Z"
   },
   {
    "duration": 4,
    "start_time": "2022-12-06T15:40:46.969Z"
   },
   {
    "duration": 62,
    "start_time": "2022-12-06T15:40:46.975Z"
   },
   {
    "duration": 11,
    "start_time": "2022-12-06T15:40:47.039Z"
   },
   {
    "duration": 5,
    "start_time": "2022-12-06T15:40:47.052Z"
   },
   {
    "duration": 18,
    "start_time": "2022-12-06T15:40:47.058Z"
   },
   {
    "duration": 40,
    "start_time": "2022-12-06T15:40:47.078Z"
   },
   {
    "duration": 21,
    "start_time": "2022-12-06T15:40:47.120Z"
   },
   {
    "duration": 4,
    "start_time": "2022-12-06T15:40:47.143Z"
   },
   {
    "duration": 16,
    "start_time": "2022-12-06T15:40:47.149Z"
   },
   {
    "duration": 6,
    "start_time": "2022-12-06T15:40:47.167Z"
   },
   {
    "duration": 4,
    "start_time": "2022-12-06T15:40:47.175Z"
   },
   {
    "duration": 36,
    "start_time": "2022-12-06T15:40:47.181Z"
   },
   {
    "duration": 20,
    "start_time": "2022-12-06T15:40:47.219Z"
   },
   {
    "duration": 15,
    "start_time": "2022-12-06T15:40:47.241Z"
   },
   {
    "duration": 13,
    "start_time": "2022-12-06T15:40:47.257Z"
   },
   {
    "duration": 16,
    "start_time": "2022-12-06T15:40:47.271Z"
   },
   {
    "duration": 74,
    "start_time": "2022-12-06T15:41:31.656Z"
   },
   {
    "duration": 16,
    "start_time": "2022-12-06T15:41:31.732Z"
   },
   {
    "duration": 17,
    "start_time": "2022-12-06T15:41:31.749Z"
   },
   {
    "duration": 10,
    "start_time": "2022-12-06T15:41:31.768Z"
   },
   {
    "duration": 56,
    "start_time": "2022-12-06T15:41:31.779Z"
   },
   {
    "duration": 4,
    "start_time": "2022-12-06T15:41:31.837Z"
   },
   {
    "duration": 13,
    "start_time": "2022-12-06T15:41:31.842Z"
   },
   {
    "duration": 5,
    "start_time": "2022-12-06T15:41:31.857Z"
   },
   {
    "duration": 10,
    "start_time": "2022-12-06T15:41:31.864Z"
   },
   {
    "duration": 5,
    "start_time": "2022-12-06T15:41:31.876Z"
   },
   {
    "duration": 58,
    "start_time": "2022-12-06T15:41:31.882Z"
   },
   {
    "duration": 9,
    "start_time": "2022-12-06T15:41:31.942Z"
   },
   {
    "duration": 9,
    "start_time": "2022-12-06T15:41:31.953Z"
   },
   {
    "duration": 13,
    "start_time": "2022-12-06T15:41:31.964Z"
   },
   {
    "duration": 37,
    "start_time": "2022-12-06T15:41:31.979Z"
   },
   {
    "duration": 19,
    "start_time": "2022-12-06T15:41:32.018Z"
   },
   {
    "duration": 4,
    "start_time": "2022-12-06T15:41:32.039Z"
   },
   {
    "duration": 18,
    "start_time": "2022-12-06T15:41:32.044Z"
   },
   {
    "duration": 11,
    "start_time": "2022-12-06T15:41:32.064Z"
   },
   {
    "duration": 4,
    "start_time": "2022-12-06T15:41:32.076Z"
   },
   {
    "duration": 12,
    "start_time": "2022-12-06T15:41:32.081Z"
   },
   {
    "duration": 15,
    "start_time": "2022-12-06T15:41:32.111Z"
   },
   {
    "duration": 15,
    "start_time": "2022-12-06T15:41:32.128Z"
   },
   {
    "duration": 14,
    "start_time": "2022-12-06T15:41:32.144Z"
   },
   {
    "duration": 15,
    "start_time": "2022-12-06T15:41:32.159Z"
   },
   {
    "duration": 78,
    "start_time": "2022-12-06T15:49:28.127Z"
   },
   {
    "duration": 22,
    "start_time": "2022-12-06T15:49:28.207Z"
   },
   {
    "duration": 24,
    "start_time": "2022-12-06T15:49:28.231Z"
   },
   {
    "duration": 12,
    "start_time": "2022-12-06T15:49:28.258Z"
   },
   {
    "duration": 53,
    "start_time": "2022-12-06T15:49:28.271Z"
   },
   {
    "duration": 4,
    "start_time": "2022-12-06T15:49:28.326Z"
   },
   {
    "duration": 30,
    "start_time": "2022-12-06T15:49:28.332Z"
   },
   {
    "duration": 10,
    "start_time": "2022-12-06T15:49:28.364Z"
   },
   {
    "duration": 19,
    "start_time": "2022-12-06T15:49:28.375Z"
   },
   {
    "duration": 25,
    "start_time": "2022-12-06T15:49:28.397Z"
   },
   {
    "duration": 62,
    "start_time": "2022-12-06T15:49:28.424Z"
   },
   {
    "duration": 10,
    "start_time": "2022-12-06T15:49:28.488Z"
   },
   {
    "duration": 14,
    "start_time": "2022-12-06T15:49:28.500Z"
   },
   {
    "duration": 19,
    "start_time": "2022-12-06T15:49:28.516Z"
   },
   {
    "duration": 40,
    "start_time": "2022-12-06T15:49:28.537Z"
   },
   {
    "duration": 32,
    "start_time": "2022-12-06T15:49:28.579Z"
   },
   {
    "duration": 9,
    "start_time": "2022-12-06T15:49:28.613Z"
   },
   {
    "duration": 53,
    "start_time": "2022-12-06T15:49:28.624Z"
   },
   {
    "duration": 29,
    "start_time": "2022-12-06T15:49:28.679Z"
   },
   {
    "duration": 42,
    "start_time": "2022-12-06T15:49:28.710Z"
   },
   {
    "duration": 19,
    "start_time": "2022-12-06T15:49:28.754Z"
   },
   {
    "duration": 73,
    "start_time": "2022-12-06T15:49:28.775Z"
   },
   {
    "duration": 69,
    "start_time": "2022-12-06T15:50:39.109Z"
   },
   {
    "duration": 16,
    "start_time": "2022-12-06T15:50:39.180Z"
   },
   {
    "duration": 32,
    "start_time": "2022-12-06T15:50:39.198Z"
   },
   {
    "duration": 26,
    "start_time": "2022-12-06T15:50:39.233Z"
   },
   {
    "duration": 63,
    "start_time": "2022-12-06T15:50:39.261Z"
   },
   {
    "duration": 5,
    "start_time": "2022-12-06T15:50:39.327Z"
   },
   {
    "duration": 34,
    "start_time": "2022-12-06T15:50:39.337Z"
   },
   {
    "duration": 14,
    "start_time": "2022-12-06T15:50:39.372Z"
   },
   {
    "duration": 10,
    "start_time": "2022-12-06T15:50:39.387Z"
   },
   {
    "duration": 8,
    "start_time": "2022-12-06T15:50:39.400Z"
   },
   {
    "duration": 41,
    "start_time": "2022-12-06T15:50:39.410Z"
   },
   {
    "duration": 12,
    "start_time": "2022-12-06T15:50:39.453Z"
   },
   {
    "duration": 10,
    "start_time": "2022-12-06T15:50:39.467Z"
   },
   {
    "duration": 19,
    "start_time": "2022-12-06T15:50:39.479Z"
   },
   {
    "duration": 31,
    "start_time": "2022-12-06T15:50:39.500Z"
   },
   {
    "duration": 22,
    "start_time": "2022-12-06T15:50:39.532Z"
   },
   {
    "duration": 4,
    "start_time": "2022-12-06T15:50:39.556Z"
   },
   {
    "duration": 21,
    "start_time": "2022-12-06T15:50:39.562Z"
   },
   {
    "duration": 6,
    "start_time": "2022-12-06T15:50:39.585Z"
   },
   {
    "duration": 4,
    "start_time": "2022-12-06T15:50:39.613Z"
   },
   {
    "duration": 12,
    "start_time": "2022-12-06T15:50:39.619Z"
   },
   {
    "duration": 14,
    "start_time": "2022-12-06T15:50:39.633Z"
   },
   {
    "duration": 78,
    "start_time": "2022-12-06T16:23:15.164Z"
   },
   {
    "duration": 7,
    "start_time": "2022-12-06T16:23:15.244Z"
   },
   {
    "duration": 72,
    "start_time": "2022-12-06T16:23:23.348Z"
   },
   {
    "duration": 25,
    "start_time": "2022-12-06T16:23:23.423Z"
   },
   {
    "duration": 72,
    "start_time": "2022-12-06T16:23:38.380Z"
   },
   {
    "duration": 22,
    "start_time": "2022-12-06T16:23:38.454Z"
   },
   {
    "duration": 74,
    "start_time": "2022-12-06T16:23:57.636Z"
   },
   {
    "duration": 22,
    "start_time": "2022-12-06T16:23:57.712Z"
   },
   {
    "duration": 85,
    "start_time": "2022-12-06T16:24:31.869Z"
   },
   {
    "duration": 23,
    "start_time": "2022-12-06T16:24:31.956Z"
   },
   {
    "duration": 70,
    "start_time": "2022-12-06T16:24:58.787Z"
   },
   {
    "duration": 22,
    "start_time": "2022-12-06T16:24:58.860Z"
   },
   {
    "duration": 70,
    "start_time": "2022-12-06T16:25:12.956Z"
   },
   {
    "duration": 22,
    "start_time": "2022-12-06T16:25:13.028Z"
   },
   {
    "duration": 73,
    "start_time": "2022-12-06T16:25:48.804Z"
   },
   {
    "duration": 22,
    "start_time": "2022-12-06T16:25:48.879Z"
   },
   {
    "duration": 73,
    "start_time": "2022-12-06T16:26:08.941Z"
   },
   {
    "duration": 17,
    "start_time": "2022-12-06T16:26:09.016Z"
   },
   {
    "duration": 73,
    "start_time": "2022-12-06T16:26:25.499Z"
   },
   {
    "duration": 16,
    "start_time": "2022-12-06T16:26:25.575Z"
   },
   {
    "duration": 75,
    "start_time": "2022-12-06T16:35:01.829Z"
   },
   {
    "duration": 17,
    "start_time": "2022-12-06T16:35:01.906Z"
   },
   {
    "duration": 31,
    "start_time": "2022-12-06T16:35:01.925Z"
   },
   {
    "duration": 12,
    "start_time": "2022-12-06T16:35:01.959Z"
   },
   {
    "duration": 53,
    "start_time": "2022-12-06T16:35:01.974Z"
   },
   {
    "duration": 4,
    "start_time": "2022-12-06T16:35:02.029Z"
   },
   {
    "duration": 34,
    "start_time": "2022-12-06T16:35:02.035Z"
   },
   {
    "duration": 26,
    "start_time": "2022-12-06T16:35:02.072Z"
   },
   {
    "duration": 22,
    "start_time": "2022-12-06T16:35:02.100Z"
   },
   {
    "duration": 29,
    "start_time": "2022-12-06T16:35:02.124Z"
   },
   {
    "duration": 62,
    "start_time": "2022-12-06T16:35:02.154Z"
   },
   {
    "duration": 11,
    "start_time": "2022-12-06T16:35:02.218Z"
   },
   {
    "duration": 18,
    "start_time": "2022-12-06T16:35:02.230Z"
   },
   {
    "duration": 28,
    "start_time": "2022-12-06T16:35:02.251Z"
   },
   {
    "duration": 40,
    "start_time": "2022-12-06T16:35:02.281Z"
   },
   {
    "duration": 26,
    "start_time": "2022-12-06T16:35:02.323Z"
   },
   {
    "duration": 45,
    "start_time": "2022-12-06T16:35:02.351Z"
   },
   {
    "duration": 28,
    "start_time": "2022-12-06T16:35:02.397Z"
   },
   {
    "duration": 32,
    "start_time": "2022-12-06T16:35:02.427Z"
   },
   {
    "duration": 35,
    "start_time": "2022-12-06T16:35:02.461Z"
   },
   {
    "duration": 27,
    "start_time": "2022-12-06T16:35:02.498Z"
   },
   {
    "duration": 53,
    "start_time": "2022-12-06T16:35:02.527Z"
   },
   {
    "duration": 51,
    "start_time": "2022-12-06T16:35:02.582Z"
   },
   {
    "duration": 32,
    "start_time": "2022-12-06T16:35:02.635Z"
   },
   {
    "duration": 23,
    "start_time": "2022-12-06T16:35:02.669Z"
   },
   {
    "duration": 74,
    "start_time": "2022-12-06T16:35:43.729Z"
   },
   {
    "duration": 16,
    "start_time": "2022-12-06T16:35:43.805Z"
   },
   {
    "duration": 21,
    "start_time": "2022-12-06T16:35:43.822Z"
   },
   {
    "duration": 11,
    "start_time": "2022-12-06T16:35:43.845Z"
   },
   {
    "duration": 55,
    "start_time": "2022-12-06T16:35:43.857Z"
   },
   {
    "duration": 4,
    "start_time": "2022-12-06T16:35:43.914Z"
   },
   {
    "duration": 11,
    "start_time": "2022-12-06T16:35:43.920Z"
   },
   {
    "duration": 5,
    "start_time": "2022-12-06T16:35:43.932Z"
   },
   {
    "duration": 9,
    "start_time": "2022-12-06T16:35:43.938Z"
   },
   {
    "duration": 7,
    "start_time": "2022-12-06T16:35:43.949Z"
   },
   {
    "duration": 69,
    "start_time": "2022-12-06T16:35:43.958Z"
   },
   {
    "duration": 10,
    "start_time": "2022-12-06T16:35:44.029Z"
   },
   {
    "duration": 10,
    "start_time": "2022-12-06T16:35:44.041Z"
   },
   {
    "duration": 13,
    "start_time": "2022-12-06T16:35:44.052Z"
   },
   {
    "duration": 25,
    "start_time": "2022-12-06T16:35:44.067Z"
   },
   {
    "duration": 37,
    "start_time": "2022-12-06T16:35:44.094Z"
   },
   {
    "duration": 4,
    "start_time": "2022-12-06T16:35:44.132Z"
   },
   {
    "duration": 14,
    "start_time": "2022-12-06T16:35:44.138Z"
   },
   {
    "duration": 6,
    "start_time": "2022-12-06T16:35:44.154Z"
   },
   {
    "duration": 9,
    "start_time": "2022-12-06T16:35:44.161Z"
   },
   {
    "duration": 45,
    "start_time": "2022-12-06T16:35:44.172Z"
   },
   {
    "duration": 26,
    "start_time": "2022-12-06T16:35:44.219Z"
   },
   {
    "duration": 17,
    "start_time": "2022-12-06T16:35:44.247Z"
   },
   {
    "duration": 16,
    "start_time": "2022-12-06T16:35:44.266Z"
   },
   {
    "duration": 31,
    "start_time": "2022-12-06T16:35:44.284Z"
   },
   {
    "duration": 62,
    "start_time": "2022-12-06T17:00:51.267Z"
   },
   {
    "duration": 0,
    "start_time": "2022-12-06T17:00:51.330Z"
   },
   {
    "duration": 0,
    "start_time": "2022-12-06T17:00:51.331Z"
   },
   {
    "duration": 488,
    "start_time": "2022-12-06T17:00:54.030Z"
   },
   {
    "duration": 24,
    "start_time": "2022-12-06T17:00:54.520Z"
   },
   {
    "duration": 151,
    "start_time": "2022-12-06T17:00:54.545Z"
   },
   {
    "duration": 14,
    "start_time": "2022-12-06T17:00:54.698Z"
   },
   {
    "duration": 45,
    "start_time": "2022-12-06T17:00:54.715Z"
   },
   {
    "duration": 28,
    "start_time": "2022-12-06T17:00:54.762Z"
   },
   {
    "duration": 17,
    "start_time": "2022-12-06T17:00:54.792Z"
   },
   {
    "duration": 48,
    "start_time": "2022-12-06T17:00:54.811Z"
   },
   {
    "duration": 37,
    "start_time": "2022-12-06T17:00:54.863Z"
   },
   {
    "duration": 19,
    "start_time": "2022-12-06T17:00:54.905Z"
   },
   {
    "duration": 68,
    "start_time": "2022-12-06T17:00:54.927Z"
   },
   {
    "duration": 15,
    "start_time": "2022-12-06T17:00:54.998Z"
   },
   {
    "duration": 23,
    "start_time": "2022-12-06T17:00:55.015Z"
   },
   {
    "duration": 39,
    "start_time": "2022-12-06T17:00:55.041Z"
   },
   {
    "duration": 40,
    "start_time": "2022-12-06T17:00:55.082Z"
   },
   {
    "duration": 24,
    "start_time": "2022-12-06T17:00:55.124Z"
   },
   {
    "duration": 8,
    "start_time": "2022-12-06T17:00:55.151Z"
   },
   {
    "duration": 43,
    "start_time": "2022-12-06T17:00:55.160Z"
   },
   {
    "duration": 13,
    "start_time": "2022-12-06T17:00:55.205Z"
   },
   {
    "duration": 4,
    "start_time": "2022-12-06T17:00:55.220Z"
   },
   {
    "duration": 17,
    "start_time": "2022-12-06T17:00:55.226Z"
   },
   {
    "duration": 25,
    "start_time": "2022-12-06T17:00:55.245Z"
   },
   {
    "duration": 27,
    "start_time": "2022-12-06T17:00:55.274Z"
   },
   {
    "duration": 14,
    "start_time": "2022-12-06T17:00:55.302Z"
   },
   {
    "duration": 13,
    "start_time": "2022-12-06T17:00:55.318Z"
   },
   {
    "duration": 33,
    "start_time": "2022-12-06T17:00:55.333Z"
   },
   {
    "duration": 652,
    "start_time": "2023-04-20T16:32:32.314Z"
   },
   {
    "duration": 25,
    "start_time": "2023-04-20T16:32:32.970Z"
   },
   {
    "duration": 12,
    "start_time": "2023-04-20T16:32:32.997Z"
   },
   {
    "duration": 11,
    "start_time": "2023-04-20T16:32:33.011Z"
   },
   {
    "duration": 53,
    "start_time": "2023-04-20T16:32:33.024Z"
   },
   {
    "duration": 4,
    "start_time": "2023-04-20T16:32:33.078Z"
   },
   {
    "duration": 12,
    "start_time": "2023-04-20T16:32:33.084Z"
   },
   {
    "duration": 9,
    "start_time": "2023-04-20T16:32:33.097Z"
   },
   {
    "duration": 21,
    "start_time": "2023-04-20T16:32:33.108Z"
   },
   {
    "duration": 18,
    "start_time": "2023-04-20T16:32:33.130Z"
   },
   {
    "duration": 29,
    "start_time": "2023-04-20T16:32:33.149Z"
   },
   {
    "duration": 8,
    "start_time": "2023-04-20T16:32:33.180Z"
   },
   {
    "duration": 3,
    "start_time": "2023-04-20T16:32:33.190Z"
   },
   {
    "duration": 10,
    "start_time": "2023-04-20T16:32:33.196Z"
   },
   {
    "duration": 17,
    "start_time": "2023-04-20T16:32:33.207Z"
   },
   {
    "duration": 13,
    "start_time": "2023-04-20T16:32:33.226Z"
   },
   {
    "duration": 31,
    "start_time": "2023-04-20T16:32:33.241Z"
   },
   {
    "duration": 9,
    "start_time": "2023-04-20T16:32:33.273Z"
   },
   {
    "duration": 17,
    "start_time": "2023-04-20T16:32:33.283Z"
   },
   {
    "duration": 9,
    "start_time": "2023-04-20T16:32:33.302Z"
   },
   {
    "duration": 35,
    "start_time": "2023-04-20T16:32:33.312Z"
   },
   {
    "duration": 19,
    "start_time": "2023-04-20T16:32:33.349Z"
   },
   {
    "duration": 49,
    "start_time": "2023-04-20T16:32:33.369Z"
   },
   {
    "duration": 13,
    "start_time": "2023-04-20T16:32:33.419Z"
   },
   {
    "duration": 17,
    "start_time": "2023-04-20T16:32:33.433Z"
   },
   {
    "duration": 37,
    "start_time": "2023-04-20T16:32:33.451Z"
   },
   {
    "duration": 571,
    "start_time": "2023-05-01T13:57:14.403Z"
   },
   {
    "duration": 22,
    "start_time": "2023-05-01T13:57:14.976Z"
   },
   {
    "duration": 24,
    "start_time": "2023-05-01T13:57:15.000Z"
   },
   {
    "duration": 10,
    "start_time": "2023-05-01T13:57:15.026Z"
   },
   {
    "duration": 35,
    "start_time": "2023-05-01T13:57:15.039Z"
   },
   {
    "duration": 4,
    "start_time": "2023-05-01T13:57:15.075Z"
   },
   {
    "duration": 10,
    "start_time": "2023-05-01T13:57:15.080Z"
   },
   {
    "duration": 32,
    "start_time": "2023-05-01T13:57:15.092Z"
   },
   {
    "duration": 8,
    "start_time": "2023-05-01T13:57:15.126Z"
   },
   {
    "duration": 4,
    "start_time": "2023-05-01T13:57:15.136Z"
   },
   {
    "duration": 36,
    "start_time": "2023-05-01T13:57:15.142Z"
   },
   {
    "duration": 10,
    "start_time": "2023-05-01T13:57:15.180Z"
   },
   {
    "duration": 5,
    "start_time": "2023-05-01T13:57:15.228Z"
   },
   {
    "duration": 12,
    "start_time": "2023-05-01T13:57:15.237Z"
   },
   {
    "duration": 22,
    "start_time": "2023-05-01T13:57:15.251Z"
   },
   {
    "duration": 18,
    "start_time": "2023-05-01T13:57:15.275Z"
   },
   {
    "duration": 4,
    "start_time": "2023-05-01T13:57:15.295Z"
   },
   {
    "duration": 17,
    "start_time": "2023-05-01T13:57:15.311Z"
   },
   {
    "duration": 6,
    "start_time": "2023-05-01T13:57:15.330Z"
   },
   {
    "duration": 15,
    "start_time": "2023-05-01T13:57:15.338Z"
   },
   {
    "duration": 10,
    "start_time": "2023-05-01T13:57:15.355Z"
   },
   {
    "duration": 30,
    "start_time": "2023-05-01T13:57:15.367Z"
   },
   {
    "duration": 54,
    "start_time": "2023-05-01T13:57:15.399Z"
   },
   {
    "duration": 15,
    "start_time": "2023-05-01T13:57:15.455Z"
   },
   {
    "duration": 13,
    "start_time": "2023-05-01T13:57:15.472Z"
   },
   {
    "duration": 15,
    "start_time": "2023-05-01T13:57:15.487Z"
   }
  ],
  "colab": {
   "name": "dpp_template_part2.ipynb",
   "provenance": []
  },
  "kernelspec": {
   "display_name": "Python 3 (ipykernel)",
   "language": "python",
   "name": "python3"
  },
  "language_info": {
   "codemirror_mode": {
    "name": "ipython",
    "version": 3
   },
   "file_extension": ".py",
   "mimetype": "text/x-python",
   "name": "python",
   "nbconvert_exporter": "python",
   "pygments_lexer": "ipython3",
   "version": "3.9.13"
  },
  "toc": {
   "base_numbering": 1,
   "nav_menu": {},
   "number_sections": true,
   "sideBar": true,
   "skip_h1_title": true,
   "title_cell": "Table of Contents",
   "title_sidebar": "Contents",
   "toc_cell": false,
   "toc_position": {},
   "toc_section_display": true,
   "toc_window_display": false
  }
 },
 "nbformat": 4,
 "nbformat_minor": 5
}
