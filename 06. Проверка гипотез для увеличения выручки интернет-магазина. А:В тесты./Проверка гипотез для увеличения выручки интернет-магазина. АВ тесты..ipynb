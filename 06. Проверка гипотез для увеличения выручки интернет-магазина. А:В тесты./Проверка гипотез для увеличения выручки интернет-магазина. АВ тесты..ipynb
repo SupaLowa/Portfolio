{
 "cells": [
  {
   "cell_type": "markdown",
   "metadata": {},
   "source": [
    "# Контекст\n",
    "**Вы — аналитик крупного интернет-магазина. Вместе с отделом маркетинга вы подготовили список гипотез для увеличения выручки.\n",
    "Приоритизируйте гипотезы, запустите A/B-тест и проанализируйте результаты.**"
   ]
  },
  {
   "cell_type": "code",
   "execution_count": 1,
   "metadata": {},
   "outputs": [],
   "source": [
    "import pandas as pd\n",
    "import numpy as np\n",
    "import scipy.stats as stats\n",
    "import datetime as dt\n",
    "from matplotlib import pyplot as plt\n",
    "from IPython.display import display\n",
    "from pandas.plotting import register_matplotlib_converters\n",
    "\n",
    "register_matplotlib_converters()"
   ]
  },
  {
   "cell_type": "code",
   "execution_count": 2,
   "metadata": {},
   "outputs": [],
   "source": [
    "hypothesis = pd.read_csv('/datasets/hypothesis.csv')\n",
    "orders = pd.read_csv('/datasets/orders.csv')\n",
    "visitors =  pd.read_csv('/datasets/visitors.csv')"
   ]
  },
  {
   "cell_type": "markdown",
   "metadata": {},
   "source": [
    "# Часть 1. Приоритизация гипотез."
   ]
  },
  {
   "cell_type": "code",
   "execution_count": 3,
   "metadata": {},
   "outputs": [
    {
     "data": {
      "text/html": [
       "<div>\n",
       "<style scoped>\n",
       "    .dataframe tbody tr th:only-of-type {\n",
       "        vertical-align: middle;\n",
       "    }\n",
       "\n",
       "    .dataframe tbody tr th {\n",
       "        vertical-align: top;\n",
       "    }\n",
       "\n",
       "    .dataframe thead th {\n",
       "        text-align: right;\n",
       "    }\n",
       "</style>\n",
       "<table border=\"1\" class=\"dataframe\">\n",
       "  <thead>\n",
       "    <tr style=\"text-align: right;\">\n",
       "      <th></th>\n",
       "      <th>Hypothesis</th>\n",
       "      <th>Reach</th>\n",
       "      <th>Impact</th>\n",
       "      <th>Confidence</th>\n",
       "      <th>Efforts</th>\n",
       "    </tr>\n",
       "  </thead>\n",
       "  <tbody>\n",
       "    <tr>\n",
       "      <th>0</th>\n",
       "      <td>Добавить два новых канала привлечения трафика,...</td>\n",
       "      <td>3</td>\n",
       "      <td>10</td>\n",
       "      <td>8</td>\n",
       "      <td>6</td>\n",
       "    </tr>\n",
       "    <tr>\n",
       "      <th>1</th>\n",
       "      <td>Запустить собственную службу доставки, что сок...</td>\n",
       "      <td>2</td>\n",
       "      <td>5</td>\n",
       "      <td>4</td>\n",
       "      <td>10</td>\n",
       "    </tr>\n",
       "    <tr>\n",
       "      <th>2</th>\n",
       "      <td>Добавить блоки рекомендаций товаров на сайт ин...</td>\n",
       "      <td>8</td>\n",
       "      <td>3</td>\n",
       "      <td>7</td>\n",
       "      <td>3</td>\n",
       "    </tr>\n",
       "    <tr>\n",
       "      <th>3</th>\n",
       "      <td>Изменить структура категорий, что увеличит кон...</td>\n",
       "      <td>8</td>\n",
       "      <td>3</td>\n",
       "      <td>3</td>\n",
       "      <td>8</td>\n",
       "    </tr>\n",
       "    <tr>\n",
       "      <th>4</th>\n",
       "      <td>Изменить цвет фона главной страницы, чтобы уве...</td>\n",
       "      <td>3</td>\n",
       "      <td>1</td>\n",
       "      <td>1</td>\n",
       "      <td>1</td>\n",
       "    </tr>\n",
       "    <tr>\n",
       "      <th>5</th>\n",
       "      <td>Добавить страницу отзывов клиентов о магазине,...</td>\n",
       "      <td>3</td>\n",
       "      <td>2</td>\n",
       "      <td>2</td>\n",
       "      <td>3</td>\n",
       "    </tr>\n",
       "    <tr>\n",
       "      <th>6</th>\n",
       "      <td>Показать на главной странице баннеры с актуаль...</td>\n",
       "      <td>5</td>\n",
       "      <td>3</td>\n",
       "      <td>8</td>\n",
       "      <td>3</td>\n",
       "    </tr>\n",
       "    <tr>\n",
       "      <th>7</th>\n",
       "      <td>Добавить форму подписки на все основные страни...</td>\n",
       "      <td>10</td>\n",
       "      <td>7</td>\n",
       "      <td>8</td>\n",
       "      <td>5</td>\n",
       "    </tr>\n",
       "    <tr>\n",
       "      <th>8</th>\n",
       "      <td>Запустить акцию, дающую скидку на товар в день...</td>\n",
       "      <td>1</td>\n",
       "      <td>9</td>\n",
       "      <td>9</td>\n",
       "      <td>5</td>\n",
       "    </tr>\n",
       "  </tbody>\n",
       "</table>\n",
       "</div>"
      ],
      "text/plain": [
       "                                          Hypothesis  Reach  Impact  \\\n",
       "0  Добавить два новых канала привлечения трафика,...      3      10   \n",
       "1  Запустить собственную службу доставки, что сок...      2       5   \n",
       "2  Добавить блоки рекомендаций товаров на сайт ин...      8       3   \n",
       "3  Изменить структура категорий, что увеличит кон...      8       3   \n",
       "4  Изменить цвет фона главной страницы, чтобы уве...      3       1   \n",
       "5  Добавить страницу отзывов клиентов о магазине,...      3       2   \n",
       "6  Показать на главной странице баннеры с актуаль...      5       3   \n",
       "7  Добавить форму подписки на все основные страни...     10       7   \n",
       "8  Запустить акцию, дающую скидку на товар в день...      1       9   \n",
       "\n",
       "   Confidence  Efforts  \n",
       "0           8        6  \n",
       "1           4       10  \n",
       "2           7        3  \n",
       "3           3        8  \n",
       "4           1        1  \n",
       "5           2        3  \n",
       "6           8        3  \n",
       "7           8        5  \n",
       "8           9        5  "
      ]
     },
     "execution_count": 3,
     "metadata": {},
     "output_type": "execute_result"
    }
   ],
   "source": [
    "hypothesis"
   ]
  },
  {
   "cell_type": "code",
   "execution_count": 4,
   "metadata": {},
   "outputs": [],
   "source": [
    "hypothesis.columns = hypothesis.columns.str.lower()"
   ]
  },
  {
   "cell_type": "code",
   "execution_count": 5,
   "metadata": {},
   "outputs": [],
   "source": [
    "hypothesis['ICE'] = round(hypothesis['impact'] * hypothesis['confidence'] / hypothesis['efforts'] , 1)\n",
    "hypothesis['RICE'] = hypothesis['reach']*hypothesis['impact']*hypothesis['confidence']/hypothesis['efforts']"
   ]
  },
  {
   "cell_type": "code",
   "execution_count": 6,
   "metadata": {
    "scrolled": false
   },
   "outputs": [
    {
     "data": {
      "text/html": [
       "<div>\n",
       "<style scoped>\n",
       "    .dataframe tbody tr th:only-of-type {\n",
       "        vertical-align: middle;\n",
       "    }\n",
       "\n",
       "    .dataframe tbody tr th {\n",
       "        vertical-align: top;\n",
       "    }\n",
       "\n",
       "    .dataframe thead th {\n",
       "        text-align: right;\n",
       "    }\n",
       "</style>\n",
       "<table border=\"1\" class=\"dataframe\">\n",
       "  <thead>\n",
       "    <tr style=\"text-align: right;\">\n",
       "      <th></th>\n",
       "      <th>hypothesis</th>\n",
       "      <th>ICE</th>\n",
       "    </tr>\n",
       "  </thead>\n",
       "  <tbody>\n",
       "    <tr>\n",
       "      <th>8</th>\n",
       "      <td>Запустить акцию, дающую скидку на товар в день рождения</td>\n",
       "      <td>16.2</td>\n",
       "    </tr>\n",
       "    <tr>\n",
       "      <th>0</th>\n",
       "      <td>Добавить два новых канала привлечения трафика, что позволит привлекать на 30% больше пользователей</td>\n",
       "      <td>13.3</td>\n",
       "    </tr>\n",
       "    <tr>\n",
       "      <th>7</th>\n",
       "      <td>Добавить форму подписки на все основные страницы, чтобы собрать базу клиентов для email-рассылок</td>\n",
       "      <td>11.2</td>\n",
       "    </tr>\n",
       "    <tr>\n",
       "      <th>6</th>\n",
       "      <td>Показать на главной странице баннеры с актуальными акциями и распродажами, чтобы увеличить конверсию</td>\n",
       "      <td>8.0</td>\n",
       "    </tr>\n",
       "    <tr>\n",
       "      <th>2</th>\n",
       "      <td>Добавить блоки рекомендаций товаров на сайт интернет магазина, чтобы повысить конверсию и средний чек заказа</td>\n",
       "      <td>7.0</td>\n",
       "    </tr>\n",
       "    <tr>\n",
       "      <th>1</th>\n",
       "      <td>Запустить собственную службу доставки, что сократит срок доставки заказов</td>\n",
       "      <td>2.0</td>\n",
       "    </tr>\n",
       "    <tr>\n",
       "      <th>5</th>\n",
       "      <td>Добавить страницу отзывов клиентов о магазине, что позволит увеличить количество заказов</td>\n",
       "      <td>1.3</td>\n",
       "    </tr>\n",
       "    <tr>\n",
       "      <th>3</th>\n",
       "      <td>Изменить структура категорий, что увеличит конверсию, т.к. пользователи быстрее найдут нужный товар</td>\n",
       "      <td>1.1</td>\n",
       "    </tr>\n",
       "    <tr>\n",
       "      <th>4</th>\n",
       "      <td>Изменить цвет фона главной страницы, чтобы увеличить вовлеченность пользователей</td>\n",
       "      <td>1.0</td>\n",
       "    </tr>\n",
       "  </tbody>\n",
       "</table>\n",
       "</div>"
      ],
      "text/plain": [
       "                                                                                                     hypothesis  \\\n",
       "8                                                       Запустить акцию, дающую скидку на товар в день рождения   \n",
       "0            Добавить два новых канала привлечения трафика, что позволит привлекать на 30% больше пользователей   \n",
       "7              Добавить форму подписки на все основные страницы, чтобы собрать базу клиентов для email-рассылок   \n",
       "6          Показать на главной странице баннеры с актуальными акциями и распродажами, чтобы увеличить конверсию   \n",
       "2  Добавить блоки рекомендаций товаров на сайт интернет магазина, чтобы повысить конверсию и средний чек заказа   \n",
       "1                                     Запустить собственную службу доставки, что сократит срок доставки заказов   \n",
       "5                      Добавить страницу отзывов клиентов о магазине, что позволит увеличить количество заказов   \n",
       "3           Изменить структура категорий, что увеличит конверсию, т.к. пользователи быстрее найдут нужный товар   \n",
       "4                              Изменить цвет фона главной страницы, чтобы увеличить вовлеченность пользователей   \n",
       "\n",
       "    ICE  \n",
       "8  16.2  \n",
       "0  13.3  \n",
       "7  11.2  \n",
       "6   8.0  \n",
       "2   7.0  \n",
       "1   2.0  \n",
       "5   1.3  \n",
       "3   1.1  \n",
       "4   1.0  "
      ]
     },
     "metadata": {},
     "output_type": "display_data"
    },
    {
     "data": {
      "text/html": [
       "<div>\n",
       "<style scoped>\n",
       "    .dataframe tbody tr th:only-of-type {\n",
       "        vertical-align: middle;\n",
       "    }\n",
       "\n",
       "    .dataframe tbody tr th {\n",
       "        vertical-align: top;\n",
       "    }\n",
       "\n",
       "    .dataframe thead th {\n",
       "        text-align: right;\n",
       "    }\n",
       "</style>\n",
       "<table border=\"1\" class=\"dataframe\">\n",
       "  <thead>\n",
       "    <tr style=\"text-align: right;\">\n",
       "      <th></th>\n",
       "      <th>hypothesis</th>\n",
       "      <th>RICE</th>\n",
       "    </tr>\n",
       "  </thead>\n",
       "  <tbody>\n",
       "    <tr>\n",
       "      <th>7</th>\n",
       "      <td>Добавить форму подписки на все основные страницы, чтобы собрать базу клиентов для email-рассылок</td>\n",
       "      <td>112.0</td>\n",
       "    </tr>\n",
       "    <tr>\n",
       "      <th>2</th>\n",
       "      <td>Добавить блоки рекомендаций товаров на сайт интернет магазина, чтобы повысить конверсию и средний чек заказа</td>\n",
       "      <td>56.0</td>\n",
       "    </tr>\n",
       "    <tr>\n",
       "      <th>0</th>\n",
       "      <td>Добавить два новых канала привлечения трафика, что позволит привлекать на 30% больше пользователей</td>\n",
       "      <td>40.0</td>\n",
       "    </tr>\n",
       "    <tr>\n",
       "      <th>6</th>\n",
       "      <td>Показать на главной странице баннеры с актуальными акциями и распродажами, чтобы увеличить конверсию</td>\n",
       "      <td>40.0</td>\n",
       "    </tr>\n",
       "    <tr>\n",
       "      <th>8</th>\n",
       "      <td>Запустить акцию, дающую скидку на товар в день рождения</td>\n",
       "      <td>16.2</td>\n",
       "    </tr>\n",
       "    <tr>\n",
       "      <th>3</th>\n",
       "      <td>Изменить структура категорий, что увеличит конверсию, т.к. пользователи быстрее найдут нужный товар</td>\n",
       "      <td>9.0</td>\n",
       "    </tr>\n",
       "    <tr>\n",
       "      <th>1</th>\n",
       "      <td>Запустить собственную службу доставки, что сократит срок доставки заказов</td>\n",
       "      <td>4.0</td>\n",
       "    </tr>\n",
       "    <tr>\n",
       "      <th>5</th>\n",
       "      <td>Добавить страницу отзывов клиентов о магазине, что позволит увеличить количество заказов</td>\n",
       "      <td>4.0</td>\n",
       "    </tr>\n",
       "    <tr>\n",
       "      <th>4</th>\n",
       "      <td>Изменить цвет фона главной страницы, чтобы увеличить вовлеченность пользователей</td>\n",
       "      <td>3.0</td>\n",
       "    </tr>\n",
       "  </tbody>\n",
       "</table>\n",
       "</div>"
      ],
      "text/plain": [
       "                                                                                                     hypothesis  \\\n",
       "7              Добавить форму подписки на все основные страницы, чтобы собрать базу клиентов для email-рассылок   \n",
       "2  Добавить блоки рекомендаций товаров на сайт интернет магазина, чтобы повысить конверсию и средний чек заказа   \n",
       "0            Добавить два новых канала привлечения трафика, что позволит привлекать на 30% больше пользователей   \n",
       "6          Показать на главной странице баннеры с актуальными акциями и распродажами, чтобы увеличить конверсию   \n",
       "8                                                       Запустить акцию, дающую скидку на товар в день рождения   \n",
       "3           Изменить структура категорий, что увеличит конверсию, т.к. пользователи быстрее найдут нужный товар   \n",
       "1                                     Запустить собственную службу доставки, что сократит срок доставки заказов   \n",
       "5                      Добавить страницу отзывов клиентов о магазине, что позволит увеличить количество заказов   \n",
       "4                              Изменить цвет фона главной страницы, чтобы увеличить вовлеченность пользователей   \n",
       "\n",
       "    RICE  \n",
       "7  112.0  \n",
       "2   56.0  \n",
       "0   40.0  \n",
       "6   40.0  \n",
       "8   16.2  \n",
       "3    9.0  \n",
       "1    4.0  \n",
       "5    4.0  \n",
       "4    3.0  "
      ]
     },
     "metadata": {},
     "output_type": "display_data"
    }
   ],
   "source": [
    "pd.options.display.max_colwidth=150\n",
    "display(hypothesis.sort_values(by = 'ICE' , ascending=False)[['hypothesis','ICE']])\n",
    "display(hypothesis.sort_values(by = 'RICE' , ascending=False)[['hypothesis','RICE']])"
   ]
  },
  {
   "cell_type": "markdown",
   "metadata": {},
   "source": [
    "**Вывод**\n",
    "\n",
    "Исходя из полученных таблиц можно увидеть что:\n",
    "\n",
    " - ICE лидируют гипотезы 8, 0, 7.\n",
    " - RICE 7, 2, 0.\n",
    "\n",
    "Разница обусловливается тем, что при подсчете RICE мы так же учитываем сколько пользователей затронет изменение(Reach), поэтому 8 гипотеза в RICE попала на середину таблицы(Reach 8 гипотезы равен 1) хотя была лидером в таблице с ICE так же и другие гипотезы изменили своё положение именно из за появление этого фактора."
   ]
  },
  {
   "cell_type": "markdown",
   "metadata": {},
   "source": [
    "# Часть 2. Анализ A/B-теста"
   ]
  },
  {
   "cell_type": "markdown",
   "metadata": {},
   "source": [
    "# 2.1 Подготовка данных для теста."
   ]
  },
  {
   "cell_type": "code",
   "execution_count": 7,
   "metadata": {},
   "outputs": [
    {
     "data": {
      "text/html": [
       "<div>\n",
       "<style scoped>\n",
       "    .dataframe tbody tr th:only-of-type {\n",
       "        vertical-align: middle;\n",
       "    }\n",
       "\n",
       "    .dataframe tbody tr th {\n",
       "        vertical-align: top;\n",
       "    }\n",
       "\n",
       "    .dataframe thead th {\n",
       "        text-align: right;\n",
       "    }\n",
       "</style>\n",
       "<table border=\"1\" class=\"dataframe\">\n",
       "  <thead>\n",
       "    <tr style=\"text-align: right;\">\n",
       "      <th></th>\n",
       "      <th>transactionId</th>\n",
       "      <th>visitorId</th>\n",
       "      <th>date</th>\n",
       "      <th>revenue</th>\n",
       "      <th>group</th>\n",
       "    </tr>\n",
       "  </thead>\n",
       "  <tbody>\n",
       "    <tr>\n",
       "      <th>0</th>\n",
       "      <td>3667963787</td>\n",
       "      <td>3312258926</td>\n",
       "      <td>2019-08-15</td>\n",
       "      <td>1650</td>\n",
       "      <td>B</td>\n",
       "    </tr>\n",
       "    <tr>\n",
       "      <th>1</th>\n",
       "      <td>2804400009</td>\n",
       "      <td>3642806036</td>\n",
       "      <td>2019-08-15</td>\n",
       "      <td>730</td>\n",
       "      <td>B</td>\n",
       "    </tr>\n",
       "    <tr>\n",
       "      <th>2</th>\n",
       "      <td>2961555356</td>\n",
       "      <td>4069496402</td>\n",
       "      <td>2019-08-15</td>\n",
       "      <td>400</td>\n",
       "      <td>A</td>\n",
       "    </tr>\n",
       "    <tr>\n",
       "      <th>3</th>\n",
       "      <td>3797467345</td>\n",
       "      <td>1196621759</td>\n",
       "      <td>2019-08-15</td>\n",
       "      <td>9759</td>\n",
       "      <td>B</td>\n",
       "    </tr>\n",
       "    <tr>\n",
       "      <th>4</th>\n",
       "      <td>2282983706</td>\n",
       "      <td>2322279887</td>\n",
       "      <td>2019-08-15</td>\n",
       "      <td>2308</td>\n",
       "      <td>B</td>\n",
       "    </tr>\n",
       "  </tbody>\n",
       "</table>\n",
       "</div>"
      ],
      "text/plain": [
       "   transactionId   visitorId        date  revenue group\n",
       "0     3667963787  3312258926  2019-08-15     1650     B\n",
       "1     2804400009  3642806036  2019-08-15      730     B\n",
       "2     2961555356  4069496402  2019-08-15      400     A\n",
       "3     3797467345  1196621759  2019-08-15     9759     B\n",
       "4     2282983706  2322279887  2019-08-15     2308     B"
      ]
     },
     "metadata": {},
     "output_type": "display_data"
    },
    {
     "data": {
      "text/html": [
       "<div>\n",
       "<style scoped>\n",
       "    .dataframe tbody tr th:only-of-type {\n",
       "        vertical-align: middle;\n",
       "    }\n",
       "\n",
       "    .dataframe tbody tr th {\n",
       "        vertical-align: top;\n",
       "    }\n",
       "\n",
       "    .dataframe thead th {\n",
       "        text-align: right;\n",
       "    }\n",
       "</style>\n",
       "<table border=\"1\" class=\"dataframe\">\n",
       "  <thead>\n",
       "    <tr style=\"text-align: right;\">\n",
       "      <th></th>\n",
       "      <th>date</th>\n",
       "      <th>group</th>\n",
       "      <th>visitors</th>\n",
       "    </tr>\n",
       "  </thead>\n",
       "  <tbody>\n",
       "    <tr>\n",
       "      <th>0</th>\n",
       "      <td>2019-08-01</td>\n",
       "      <td>A</td>\n",
       "      <td>719</td>\n",
       "    </tr>\n",
       "    <tr>\n",
       "      <th>1</th>\n",
       "      <td>2019-08-02</td>\n",
       "      <td>A</td>\n",
       "      <td>619</td>\n",
       "    </tr>\n",
       "    <tr>\n",
       "      <th>2</th>\n",
       "      <td>2019-08-03</td>\n",
       "      <td>A</td>\n",
       "      <td>507</td>\n",
       "    </tr>\n",
       "    <tr>\n",
       "      <th>3</th>\n",
       "      <td>2019-08-04</td>\n",
       "      <td>A</td>\n",
       "      <td>717</td>\n",
       "    </tr>\n",
       "    <tr>\n",
       "      <th>4</th>\n",
       "      <td>2019-08-05</td>\n",
       "      <td>A</td>\n",
       "      <td>756</td>\n",
       "    </tr>\n",
       "  </tbody>\n",
       "</table>\n",
       "</div>"
      ],
      "text/plain": [
       "         date group  visitors\n",
       "0  2019-08-01     A       719\n",
       "1  2019-08-02     A       619\n",
       "2  2019-08-03     A       507\n",
       "3  2019-08-04     A       717\n",
       "4  2019-08-05     A       756"
      ]
     },
     "metadata": {},
     "output_type": "display_data"
    }
   ],
   "source": [
    "display(orders.head())\n",
    "display(visitors.head())"
   ]
  },
  {
   "cell_type": "code",
   "execution_count": 8,
   "metadata": {},
   "outputs": [
    {
     "name": "stdout",
     "output_type": "stream",
     "text": [
      "<class 'pandas.core.frame.DataFrame'>\n",
      "RangeIndex: 1197 entries, 0 to 1196\n",
      "Data columns (total 5 columns):\n",
      " #   Column         Non-Null Count  Dtype \n",
      "---  ------         --------------  ----- \n",
      " 0   transactionId  1197 non-null   int64 \n",
      " 1   visitorId      1197 non-null   int64 \n",
      " 2   date           1197 non-null   object\n",
      " 3   revenue        1197 non-null   int64 \n",
      " 4   group          1197 non-null   object\n",
      "dtypes: int64(3), object(2)\n",
      "memory usage: 46.9+ KB\n"
     ]
    },
    {
     "data": {
      "text/plain": [
       "None"
      ]
     },
     "metadata": {},
     "output_type": "display_data"
    },
    {
     "name": "stdout",
     "output_type": "stream",
     "text": [
      "<class 'pandas.core.frame.DataFrame'>\n",
      "RangeIndex: 62 entries, 0 to 61\n",
      "Data columns (total 3 columns):\n",
      " #   Column    Non-Null Count  Dtype \n",
      "---  ------    --------------  ----- \n",
      " 0   date      62 non-null     object\n",
      " 1   group     62 non-null     object\n",
      " 2   visitors  62 non-null     int64 \n",
      "dtypes: int64(1), object(2)\n",
      "memory usage: 1.6+ KB\n"
     ]
    },
    {
     "data": {
      "text/plain": [
       "None"
      ]
     },
     "metadata": {},
     "output_type": "display_data"
    }
   ],
   "source": [
    "display(orders.info())\n",
    "display(visitors.info())"
   ]
  },
  {
   "cell_type": "code",
   "execution_count": 9,
   "metadata": {},
   "outputs": [],
   "source": [
    "orders['date'] = orders['date'].map(\n",
    "    lambda x: dt.datetime.strptime(x, '%Y-%m-%d'))\n",
    "visitors['date'] = visitors['date'].map(\n",
    "    lambda x: dt.datetime.strptime(x, '%Y-%m-%d'))"
   ]
  },
  {
   "cell_type": "code",
   "execution_count": 10,
   "metadata": {},
   "outputs": [
    {
     "name": "stdout",
     "output_type": "stream",
     "text": [
      "Количетсво дубликатов в orders: 0\n",
      "Количетсво дубликатов в visitors: 0\n"
     ]
    }
   ],
   "source": [
    "print('Количетсво дубликатов в orders:', orders.duplicated().sum())\n",
    "print('Количетсво дубликатов в visitors:',visitors.duplicated().sum())"
   ]
  },
  {
   "cell_type": "code",
   "execution_count": 11,
   "metadata": {
    "scrolled": true
   },
   "outputs": [
    {
     "name": "stdout",
     "output_type": "stream",
     "text": [
      "Количество пропусков у orders:\n",
      "transactionId    0\n",
      "visitorId        0\n",
      "date             0\n",
      "revenue          0\n",
      "group            0\n",
      "dtype: int64\n",
      "\n",
      "Количество пропусков у visitors:\n",
      "date        0\n",
      "group       0\n",
      "visitors    0\n",
      "dtype: int64\n"
     ]
    }
   ],
   "source": [
    "print('Количество пропусков у orders:')\n",
    "print(orders.isna().sum())\n",
    "print()\n",
    "print('Количество пропусков у visitors:')\n",
    "print(visitors.isna().sum())"
   ]
  },
  {
   "cell_type": "markdown",
   "metadata": {},
   "source": [
    "**Так как в в две группы может попасть один клиент, уберем их из данных для корректность проведения теста.**"
   ]
  },
  {
   "cell_type": "code",
   "execution_count": 12,
   "metadata": {},
   "outputs": [
    {
     "name": "stdout",
     "output_type": "stream",
     "text": [
      "[8300375, 199603092, 232979603, 237748145, 276558944, 351125977, 393266494, 457167155, 471551937, 477780734, 818047933, 963407295, 1230306981, 1294878855, 1316129916, 1333886533, 1404934699, 1602967004, 1614305549, 1648269707, 1668030113, 1738359350, 1801183820, 1959144690, 2038680547, 2044997962, 2378935119, 2458001652, 2579882178, 2587333274, 2600415354, 2654030115, 2686716486, 2712142231, 2716752286, 2780786433, 2927087541, 2949041841, 2954449915, 3062433592, 3202540741, 3234906277, 3656415546, 3717692402, 3766097110, 3803269165, 3891541246, 3941795274, 3951559397, 3957174400, 3963646447, 3972127743, 3984495233, 4069496402, 4120364173, 4186807279, 4256040402, 4266935830]\n"
     ]
    }
   ],
   "source": [
    "duplicate_id = ( \n",
    "    orders.groupby('visitorId', as_index=False) \n",
    "    .agg({'group': 'nunique'})    \n",
    ")\n",
    "list_duplicate_id = duplicate_id.query('group==2')['visitorId'].tolist()\n",
    "print(list_duplicate_id)\n",
    "\n",
    "orders = orders.query('visitorId not in @list_duplicate_id')"
   ]
  },
  {
   "cell_type": "code",
   "execution_count": 13,
   "metadata": {
    "scrolled": true
   },
   "outputs": [
    {
     "name": "stdout",
     "output_type": "stream",
     "text": [
      "Количество групп в тесте:  2\n",
      "\n",
      "Начало теста: 2019-08-01 00:00:00\n",
      "Конец теста:  2019-08-31 00:00:00\n",
      "Продолжительность теста 30 days 00:00:00\n",
      "\n",
      "Количество пользователей в группе А: 445\n",
      "Количество пользователей в группе B: 528\n"
     ]
    }
   ],
   "source": [
    "print('Количество групп в тесте: ', orders['group'].nunique())\n",
    "print()\n",
    "print('Начало теста:', orders['date'].min()) \n",
    "print('Конец теста: ',   orders['date'].max())\n",
    "print('Продолжительность теста' , (orders['date'].max() - orders['date'].min()))\n",
    "print()\n",
    "print('Количество пользователей в группе А:', orders[orders['group'] == 'A']['visitorId'].nunique())\n",
    "print('Количество пользователей в группе B:',orders[orders['group'] == 'B']['visitorId'].nunique())"
   ]
  },
  {
   "cell_type": "markdown",
   "metadata": {},
   "source": [
    "**Выводы**\n",
    "\n",
    " - Тест парный\n",
    " - Тест длился 30 дней\n",
    " - В группе А пользователей меньше чем в группе В"
   ]
  },
  {
   "cell_type": "code",
   "execution_count": 14,
   "metadata": {},
   "outputs": [
    {
     "data": {
      "text/html": [
       "<div>\n",
       "<style scoped>\n",
       "    .dataframe tbody tr th:only-of-type {\n",
       "        vertical-align: middle;\n",
       "    }\n",
       "\n",
       "    .dataframe tbody tr th {\n",
       "        vertical-align: top;\n",
       "    }\n",
       "\n",
       "    .dataframe thead th {\n",
       "        text-align: right;\n",
       "    }\n",
       "</style>\n",
       "<table border=\"1\" class=\"dataframe\">\n",
       "  <thead>\n",
       "    <tr style=\"text-align: right;\">\n",
       "      <th></th>\n",
       "      <th>date</th>\n",
       "      <th>group</th>\n",
       "      <th>orders</th>\n",
       "      <th>buyers</th>\n",
       "      <th>revenue</th>\n",
       "      <th>visitors</th>\n",
       "    </tr>\n",
       "  </thead>\n",
       "  <tbody>\n",
       "    <tr>\n",
       "      <th>0</th>\n",
       "      <td>2019-08-01</td>\n",
       "      <td>A</td>\n",
       "      <td>23</td>\n",
       "      <td>19</td>\n",
       "      <td>142779</td>\n",
       "      <td>719</td>\n",
       "    </tr>\n",
       "    <tr>\n",
       "      <th>1</th>\n",
       "      <td>2019-08-01</td>\n",
       "      <td>B</td>\n",
       "      <td>17</td>\n",
       "      <td>17</td>\n",
       "      <td>59758</td>\n",
       "      <td>713</td>\n",
       "    </tr>\n",
       "    <tr>\n",
       "      <th>2</th>\n",
       "      <td>2019-08-02</td>\n",
       "      <td>A</td>\n",
       "      <td>42</td>\n",
       "      <td>36</td>\n",
       "      <td>234381</td>\n",
       "      <td>1338</td>\n",
       "    </tr>\n",
       "    <tr>\n",
       "      <th>3</th>\n",
       "      <td>2019-08-02</td>\n",
       "      <td>B</td>\n",
       "      <td>40</td>\n",
       "      <td>39</td>\n",
       "      <td>221801</td>\n",
       "      <td>1294</td>\n",
       "    </tr>\n",
       "    <tr>\n",
       "      <th>4</th>\n",
       "      <td>2019-08-03</td>\n",
       "      <td>A</td>\n",
       "      <td>66</td>\n",
       "      <td>60</td>\n",
       "      <td>346854</td>\n",
       "      <td>1845</td>\n",
       "    </tr>\n",
       "  </tbody>\n",
       "</table>\n",
       "</div>"
      ],
      "text/plain": [
       "        date group  orders  buyers  revenue  visitors\n",
       "0 2019-08-01     A      23      19   142779       719\n",
       "1 2019-08-01     B      17      17    59758       713\n",
       "2 2019-08-02     A      42      36   234381      1338\n",
       "3 2019-08-02     B      40      39   221801      1294\n",
       "4 2019-08-03     A      66      60   346854      1845"
      ]
     },
     "execution_count": 14,
     "metadata": {},
     "output_type": "execute_result"
    }
   ],
   "source": [
    "datesGroups = orders[['date','group']].drop_duplicates() \n",
    "\n",
    "ordersAggregated = datesGroups.apply(lambda x: orders[np.logical_and(orders['date'] <= x['date'], orders['group'] == x['group'])]\\\n",
    ".agg({'date' : 'max', 'group' : 'max', 'transactionId' : 'nunique', 'visitorId' : 'nunique', 'revenue' : 'sum'}), axis=1).sort_values(by=['date','group'])\n",
    "\n",
    "visitorsAggregated = datesGroups.apply(lambda x: visitors[np.logical_and(visitors['date'] <= x['date'], visitors['group'] == x['group'])].agg({'date' : 'max', 'group' : 'max', 'visitors' : 'sum'}), axis=1).sort_values(by=['date','group'])\n",
    "\n",
    "cumulativeData = ordersAggregated.merge(visitorsAggregated, left_on=['date', 'group'], right_on=['date', 'group'])\n",
    "cumulativeData.columns = ['date', 'group', 'orders', 'buyers', 'revenue', 'visitors']\n",
    "\n",
    "cumulativeData.head()"
   ]
  },
  {
   "cell_type": "markdown",
   "metadata": {},
   "source": [
    "# 2.2 Построение графика кумулятивной выручки по группам."
   ]
  },
  {
   "cell_type": "code",
   "execution_count": 15,
   "metadata": {},
   "outputs": [
    {
     "data": {
      "image/png": "[encoded data removed]",
      "text/plain": [
       "<Figure size 864x360 with 1 Axes>"
      ]
     },
     "metadata": {
      "needs_background": "light"
     },
     "output_type": "display_data"
    }
   ],
   "source": [
    "# датафрейм с кумулятивным количеством заказов и кумулятивной выручкой по дням в группе А\n",
    "cumulativeRevenueA = cumulativeData[cumulativeData['group']=='A'][['date','revenue', 'orders']]\n",
    "\n",
    "# датафрейм с кумулятивным количеством заказов и кумулятивной выручкой по дням в группе B\n",
    "cumulativeRevenueB = cumulativeData[cumulativeData['group']=='B'][['date','revenue', 'orders']]\n",
    "\n",
    "plt.figure(figsize=(12,5))\n",
    "\n",
    "# Строим график выручки группы А\n",
    "plt.plot(cumulativeRevenueA['date'], cumulativeRevenueA['revenue'], label='Выручка группы A')\n",
    "\n",
    "# Строим график выручки группы B\n",
    "plt.plot(cumulativeRevenueB['date'], cumulativeRevenueB['revenue'], label='Выручка группы B')\n",
    "\n",
    "plt.title('График кумулятивной выручки по группам')\n",
    "plt.xlabel('Дата')\n",
    "plt.ylabel('Кумулятивное выручки')\n",
    "plt.legend()\n",
    "plt.show()"
   ]
  },
  {
   "cell_type": "markdown",
   "metadata": {},
   "source": [
    "**Вывод**\n",
    "\n",
    "До 5 августа выручка шла равномерно, после выручка группы B стала расти, а в свою очередбь у группы A выручка падала, к 13 августу выручка двоих групп выравнилась, но 17 августа произошёл аномальный скачок в выручки группы B, что позволило ей вырваться вперед, после 17 августа выручка показывала стабильный рост без каких либо аномалий.\n",
    "\n",
    "Из всего можно сделать вывод что 17 августа, у группы В произошло аномально много заказов либо же аномальная сумма заказа."
   ]
  },
  {
   "cell_type": "markdown",
   "metadata": {},
   "source": [
    "# 2.2 Построение графика кумулятивного среднего чека по группам."
   ]
  },
  {
   "cell_type": "code",
   "execution_count": 16,
   "metadata": {},
   "outputs": [
    {
     "data": {
      "image/png": "[encoded data removed]",
      "text/plain": [
       "<Figure size 864x360 with 1 Axes>"
      ]
     },
     "metadata": {
      "needs_background": "light"
     },
     "output_type": "display_data"
    }
   ],
   "source": [
    "plt.figure(figsize=(12,5))\n",
    "\n",
    "plt.plot(cumulativeRevenueA['date'], cumulativeRevenueA['revenue']/cumulativeRevenueA['orders'], label='Группа A')\n",
    "plt.plot(cumulativeRevenueB['date'], cumulativeRevenueB['revenue']/cumulativeRevenueB['orders'], label='Группа B')\n",
    "\n",
    "plt.title('График кумулятивного среднего чека по группам')\n",
    "plt.xlabel('Дата')\n",
    "plt.ylabel('Кумулятивное среднее чека')\n",
    "plt.legend()\n",
    "plt.show()"
   ]
  },
  {
   "cell_type": "markdown",
   "metadata": {},
   "source": [
    "**Выводы**\n",
    "\n",
    "Как в графике с выручкой наблюдаем, что до 17 августа кривые шли равномерно, было и снижение и рост , и к  17 числу они сравнялись, но 17 числа произошёл всплеск крупных заказов у группы В, после чего кривая у них стала снижаться и приходит в норму, у группы А средний чек после 17 августа устаканился."
   ]
  },
  {
   "cell_type": "markdown",
   "metadata": {},
   "source": [
    "# 2.3 График относительного изменения кумулятивного среднего чека группы B к группе A."
   ]
  },
  {
   "cell_type": "code",
   "execution_count": 17,
   "metadata": {},
   "outputs": [
    {
     "data": {
      "image/png": "[encoded data removed]",
      "text/plain": [
       "<Figure size 864x360 with 1 Axes>"
      ]
     },
     "metadata": {
      "needs_background": "light"
     },
     "output_type": "display_data"
    }
   ],
   "source": [
    "plt.figure(figsize=(12,5))\n",
    "# собираем данные в одном датафрейме\n",
    "mergedCumulativeRevenue = cumulativeRevenueA.merge(cumulativeRevenueB, left_on='date', right_on='date', how='left', suffixes=['A', 'B'])\n",
    "\n",
    "# cтроим отношение средних чеков\n",
    "plt.plot(mergedCumulativeRevenue['date'], (mergedCumulativeRevenue['revenueB']/mergedCumulativeRevenue['ordersB'])/(mergedCumulativeRevenue['revenueA']/mergedCumulativeRevenue['ordersA'])-1)\n",
    "\n",
    "# добавляем ось X\n",
    "plt.title('График относительного изменения кумулятивного среднего чека группы B к группе A')\n",
    "plt.xlabel('Дата')\n",
    "plt.ylabel('Относительное изменение среднее чека')\n",
    "plt.axhline(y=0, color='black', linestyle='--')\n",
    "plt.show()"
   ]
  },
  {
   "cell_type": "markdown",
   "metadata": {},
   "source": [
    "**Вывод**\n",
    "\n",
    "На графике наблюдаем много резких скачков, поэтому определенные выводы из такого графики сделать сложно, в данных есть аномальные значения от которых нужно избавиться ."
   ]
  },
  {
   "cell_type": "markdown",
   "metadata": {},
   "source": [
    "# 2.4 График кумулятивного среднего количества заказов на посетителя по группам."
   ]
  },
  {
   "cell_type": "code",
   "execution_count": 18,
   "metadata": {},
   "outputs": [
    {
     "data": {
      "image/png": "[encoded data removed]",
      "text/plain": [
       "<Figure size 864x360 with 1 Axes>"
      ]
     },
     "metadata": {
      "needs_background": "light"
     },
     "output_type": "display_data"
    }
   ],
   "source": [
    "cumulativeData['average_number_of_orders'] = cumulativeData['orders']/cumulativeData['visitors']\n",
    "\n",
    "# отделяем данные по группе A\n",
    "cumulativeDataA = cumulativeData[cumulativeData['group']=='A']\n",
    "\n",
    "# отделяем данные по группе B\n",
    "cumulativeDataB = cumulativeData[cumulativeData['group']=='B']\n",
    "\n",
    "plt.figure(figsize=(12,5))\n",
    "\n",
    "plt.plot(cumulativeDataA['date'], cumulativeDataA['average_number_of_orders'], label='Группа A')\n",
    "plt.plot(cumulativeDataB['date'], cumulativeDataB['average_number_of_orders'], label='Группа B')\n",
    "plt.title('График кумулятивного среднего количества заказов на посетителя по группам')\n",
    "plt.xlabel('Дата')\n",
    "plt.ylabel('Кумулятивное среднее количество заказов на посетителя')\n",
    "plt.legend()\n",
    "plt.show()"
   ]
  },
  {
   "cell_type": "markdown",
   "metadata": {},
   "source": [
    "**Выводы**\n",
    "\n",
    "Как видно из графика в самом начале у группы А среднее кол-во заказов было много выше чем у группы В, но после 5 августа, заказы у группы А упали а у В выросли.В таком виде онии зафиксировались и можно смело сказать что у группы В среднее кол-во заказов больше."
   ]
  },
  {
   "cell_type": "markdown",
   "metadata": {},
   "source": [
    "# 2.5 График относительного изменения кумулятивного среднего количества заказов на посетителя группы B к группе A. "
   ]
  },
  {
   "cell_type": "code",
   "execution_count": 19,
   "metadata": {},
   "outputs": [
    {
     "data": {
      "image/png": "[encoded data removed]",
      "text/plain": [
       "<Figure size 864x360 with 1 Axes>"
      ]
     },
     "metadata": {
      "needs_background": "light"
     },
     "output_type": "display_data"
    }
   ],
   "source": [
    "mergedCumulativeAvg = cumulativeDataA[['date','average_number_of_orders']].merge(cumulativeDataB[['date','average_number_of_orders']], left_on='date', right_on='date', how='left', suffixes=['A', 'B'])\n",
    "\n",
    "plt.figure(figsize=(12,5))\n",
    "\n",
    "plt.plot(mergedCumulativeAvg['date'], mergedCumulativeAvg['average_number_of_ordersB']/mergedCumulativeAvg['average_number_of_ordersA']-1, label=\"Относительное изменение кумулятивного среднего количества заказов на посетителя группы B к группе A\")\n",
    "plt.title('График относительного изменения кумулятивного среднего количества заказов на посетителя группы B к группе A')\n",
    "plt.xlabel('Дата')\n",
    "plt.ylabel('Относительное изменение среднего количества\\n заказов на посетителя')\n",
    "plt.legend()\n",
    "plt.axhline(y=0, color='black', linestyle='--')\n",
    "plt.show()"
   ]
  },
  {
   "cell_type": "markdown",
   "metadata": {},
   "source": [
    "**Выводы**\n",
    "\n",
    "В начале теста группа В проигрывала, но после 5 августа, график вырос вверх и оставался там, так же можно отметить что к концу теста, график показывает потенциальный рост.\n",
    "Можно смело сказать что группа В побеждает в этом значение группу А."
   ]
  },
  {
   "cell_type": "markdown",
   "metadata": {},
   "source": [
    "# 2.6 График количества заказов по пользователям и 95-й и 99-й перцентили количества заказов на пользователя.."
   ]
  },
  {
   "cell_type": "code",
   "execution_count": 20,
   "metadata": {},
   "outputs": [
    {
     "name": "stdout",
     "output_type": "stream",
     "text": [
      "95-й и 99-й перцентили количества заказов на пользователя: [1. 2.]\n"
     ]
    },
    {
     "data": {
      "image/png": "[encoded data removed]",
      "text/plain": [
       "<Figure size 864x360 with 1 Axes>"
      ]
     },
     "metadata": {
      "needs_background": "light"
     },
     "output_type": "display_data"
    }
   ],
   "source": [
    "ordersByUsers = (\n",
    "    orders.groupby('visitorId', as_index=False)\n",
    "    .agg({'transactionId': 'nunique'})\n",
    ")\n",
    "ordersByUsers.columns = ['userId', 'orders']\n",
    "\n",
    "\n",
    "\n",
    "plt.figure(figsize=(12,5))\n",
    "\n",
    "plt.title('График количества заказов по пользователям')\n",
    "x_values = pd.Series(range(0, len(ordersByUsers)))\n",
    "plt.xlabel('Пользователи')\n",
    "plt.ylabel('Количетсво заказов')\n",
    "plt.scatter(x_values, ordersByUsers['orders']) \n",
    "\n",
    "print('95-й и 99-й перцентили количества заказов на пользователя:',np.percentile(ordersByUsers['orders'], [ 95, 99]))"
   ]
  },
  {
   "cell_type": "markdown",
   "metadata": {},
   "source": [
    "**Выводы**\n",
    "\n",
    "Исходя из графика и расцета перцентиля, делаем вывод, что большинство клиентов совершают одну покупку, есть несколько значений в виде 2 покупок и 3 покупок.\n",
    "\n",
    "Будем считать аномальным значение все больше 1."
   ]
  },
  {
   "cell_type": "markdown",
   "metadata": {},
   "source": [
    "# 2.7 График стоимостей заказов и 95-й и 99-й перцентили стоимости заказов."
   ]
  },
  {
   "cell_type": "code",
   "execution_count": 21,
   "metadata": {
    "scrolled": false
   },
   "outputs": [
    {
     "name": "stdout",
     "output_type": "stream",
     "text": [
      "95-й и 99-й перцентили стоимости заказов: [26785. 53904.]\n"
     ]
    },
    {
     "data": {
      "image/png": "[encoded data removed]",
      "text/plain": [
       "<Figure size 864x360 with 1 Axes>"
      ]
     },
     "metadata": {
      "needs_background": "light"
     },
     "output_type": "display_data"
    }
   ],
   "source": [
    "plt.figure(figsize=(12,5))\n",
    "\n",
    "plt.title('График стоимостей заказов по пользователям')\n",
    "x_values = pd.Series(range(0, len(orders['revenue'])))\n",
    "plt.xlabel('Пользователи')\n",
    "plt.ylabel('Стоимость заказа')\n",
    "plt.scatter(x_values, orders['revenue']) \n",
    "\n",
    "print('95-й и 99-й перцентили стоимости заказов:',np.percentile(orders['revenue'], [95, 99]))\n"
   ]
  },
  {
   "cell_type": "code",
   "execution_count": 22,
   "metadata": {},
   "outputs": [
    {
     "data": {
      "image/png": "[encoded data removed]",
      "text/plain": [
       "<Figure size 864x360 with 1 Axes>"
      ]
     },
     "metadata": {
      "needs_background": "light"
     },
     "output_type": "display_data"
    }
   ],
   "source": [
    "not_abnormal_orders = orders[orders['revenue']<=195000]['revenue']\n",
    "xn_values = pd.Series(range(0,len(not_abnormal_orders)))\n",
    "\n",
    "plt.figure(figsize=(12,5))\n",
    "\n",
    "plt.title('График стоимостей заказов по пользователям')\n",
    "plt.xlabel('Пользователи')\n",
    "plt.ylabel('Стоимость заказа')\n",
    "plt.scatter(xn_values, not_abnormal_orders);"
   ]
  },
  {
   "cell_type": "markdown",
   "metadata": {},
   "source": [
    "**Выводы**\n",
    "\n",
    "Из графика наблюдаем один аномально большой заказ, но если убрать его то видно, что большая масса находится от 20 000, по перцентилю выяснили, что аномалдьные значениями являются суммы заказов больше 26 785."
   ]
  },
  {
   "cell_type": "markdown",
   "metadata": {},
   "source": [
    "# 2.9 Статистическая значимость различий  в среднем количестве заказов на посетителя между группами по «сырым» данным."
   ]
  },
  {
   "cell_type": "markdown",
   "metadata": {},
   "source": [
    "**Для проверки гипотезы будем использовать критерий Уилкоксона-Манна-Уитни, так как в наших значениях есть выбросы , а так же даёт возможность делать вывод о различии или его отсутствии для любого заданного уровня значимости.**\n",
    "\n",
    "**Применим критерий и отформатируем p-value, округлив его до трёх знаков после запятой.**\n",
    "\n",
    "**Для alpha возьмем значение равное 0,05**"
   ]
  },
  {
   "cell_type": "markdown",
   "metadata": {},
   "source": [
    "**Сформулируем гипотезы.**\n",
    " - Нулевая: различий в среднем количестве заказов на посетителя между группами нет. \n",
    " - Альтернативная: различия в количестве заказов на посетителя между группами есть."
   ]
  },
  {
   "cell_type": "code",
   "execution_count": 23,
   "metadata": {},
   "outputs": [
    {
     "name": "stdout",
     "output_type": "stream",
     "text": [
      "p-value: 0.011\n",
      "Отношение среднего кол-во заказов на посетителя \"B\" к \"А\":  0.160\n"
     ]
    }
   ],
   "source": [
    "ordersByUsersA = (\n",
    "    orders[orders['group'] == 'A']\n",
    "    .groupby('visitorId', as_index=False)\n",
    "    .agg({'transactionId': pd.Series.nunique})\n",
    ")\n",
    "ordersByUsersA.columns = ['userId', 'orders']\n",
    "\n",
    "ordersByUsersB = (\n",
    "    orders[orders['group'] == 'B']\n",
    "    .groupby('visitorId', as_index=False)\n",
    "    .agg({'transactionId': pd.Series.nunique})\n",
    ")\n",
    "ordersByUsersB.columns = ['userId', 'orders']\n",
    "\n",
    "sampleA = pd.concat(\n",
    "    [\n",
    "        ordersByUsersA['orders'],\n",
    "        pd.Series(\n",
    "            0,\n",
    "            index=np.arange(\n",
    "                visitors[visitors['group'] == 'A']['visitors'].sum() - len(ordersByUsersA['orders'])\n",
    "            ),\n",
    "            name='orders',\n",
    "        ),\n",
    "    ],\n",
    "    axis=0,\n",
    ")\n",
    "\n",
    "sampleB = pd.concat(\n",
    "    [\n",
    "        ordersByUsersB['orders'],\n",
    "        pd.Series(\n",
    "            0,\n",
    "            index=np.arange(\n",
    "                visitors[visitors['group'] == 'B'][ 'visitors'].sum() - len(ordersByUsersB['orders'])\n",
    "            ),\n",
    "            name='orders',\n",
    "        ),\n",
    "    ],\n",
    "    axis=0,\n",
    ")\n",
    "\n",
    "print('p-value:',\"{0:.3f}\".format(stats.mannwhitneyu(sampleA, sampleB)[1]))\n",
    "\n",
    "print('Отношение среднего кол-во заказов на посетителя \"B\" к \"А\": ',\"{0:.3f}\".format(sampleB.mean() / sampleA.mean() - 1))\n"
   ]
  },
  {
   "cell_type": "markdown",
   "metadata": {},
   "source": [
    "**Выводы**\n",
    "\n",
    "p-value оказлось меньше 0,05 это означает то , что нулевую гипотезу о том, что статистически значимых различий в среднем кол-во заказов на посетителя между группами нет ,отвергаем.\n",
    "Так же видно что группа В в выигрыше над А на 16%.\n",
    "\n",
    "Из всего это делаем вывод что по «сырым» данным различия в среднем кол-во заказов на посетителя групп A и B присутсвуют."
   ]
  },
  {
   "cell_type": "markdown",
   "metadata": {},
   "source": [
    "# 2.10 Статистическая значимость различий в среднем чеке заказа между группами по «сырым» данным."
   ]
  },
  {
   "cell_type": "markdown",
   "metadata": {},
   "source": [
    "**Сформулируем гипотезы.**\n",
    "\n",
    " - Нулевая гипотеза: различий в среднем чеке между группами нет. \n",
    " - Альтернативная гипотеза: различия в среднем чеке между группами есть. \n",
    "  "
   ]
  },
  {
   "cell_type": "code",
   "execution_count": 24,
   "metadata": {},
   "outputs": [
    {
     "name": "stdout",
     "output_type": "stream",
     "text": [
      "p-value: 0.829\n",
      "Отношение среднего чека \"B\" к \"А\":  0.287\n"
     ]
    }
   ],
   "source": [
    "print('p-value:','{0:.3f}'.format(stats.mannwhitneyu(orders[orders['group']=='A']['revenue'], orders[orders['group']=='B']['revenue'])[1]))\n",
    "print('Отношение среднего чека \"B\" к \"А\": ','{0:.3f}'.format(orders[orders['group']=='B']['revenue'].mean()/orders[orders['group']=='A']['revenue'].mean()-1))"
   ]
  },
  {
   "cell_type": "markdown",
   "metadata": {},
   "source": [
    "**Вывод**\n",
    "\n",
    "По \"сырым\" данным p-value больше 0.05 значит нет причин отвергать нулевую гипотезу и различий между группами нет , но так же видно что группа В опять в выиграше по среднему чеку над группой А на 28%."
   ]
  },
  {
   "cell_type": "code",
   "execution_count": 25,
   "metadata": {},
   "outputs": [
    {
     "name": "stdout",
     "output_type": "stream",
     "text": [
      "Первые пять строк из таблицы с ID аномальных клиентов: \n",
      "568     113298937\n",
      "1099    148427295\n",
      "928     204675465\n",
      "33      249864742\n",
      "684     358944393\n",
      "dtype: int64\n",
      "Количество аномальных клиентов :  86\n"
     ]
    }
   ],
   "source": [
    "usersWithManyOrders = pd.concat(\n",
    "    [\n",
    "        ordersByUsersA[ordersByUsersA['orders'] > np.percentile(ordersByUsers['orders'], 95)]['userId'],\n",
    "        ordersByUsersB[ordersByUsersB['orders'] > np.percentile(ordersByUsers['orders'], 95)]['userId'],\n",
    "    ],\n",
    "    axis=0,\n",
    ")\n",
    "usersWithExpensiveOrders = orders[orders['revenue'] > np.percentile(orders['revenue'], 95)]['visitorId']\n",
    "abnormalUsers = (\n",
    "    pd.concat([usersWithManyOrders, usersWithExpensiveOrders], axis=0)\n",
    "    .drop_duplicates()\n",
    "    .sort_values()\n",
    ")\n",
    "print('Первые пять строк из таблицы с ID аномальных клиентов: ')\n",
    "print(abnormalUsers.head(5))\n",
    "print('Количество аномальных клиентов : ',abnormalUsers.shape[0]) "
   ]
  },
  {
   "cell_type": "code",
   "execution_count": 26,
   "metadata": {
    "scrolled": true
   },
   "outputs": [
    {
     "name": "stdout",
     "output_type": "stream",
     "text": [
      "Отношние аномальных клиентов к общему количеству: 8.46 %\n"
     ]
    }
   ],
   "source": [
    "print('Отношние аномальных клиентов к общему количеству:', round((abnormalUsers.shape[0]/len(orders['visitorId']))*100,2),'%')"
   ]
  },
  {
   "cell_type": "markdown",
   "metadata": {},
   "source": [
    "# 2.11 Статистическая значимость различий в среднем количестве заказов на посетителя между группами по «очищенным» данным"
   ]
  },
  {
   "cell_type": "markdown",
   "metadata": {},
   "source": [
    "**Сформулируем гипотезы.**\n",
    " - Нулевая: различий в среднем количестве заказов на посетителя между группами нет. \n",
    " - Альтернативная: различия в среднем среднем количестве заказов на посетителя между группами есть."
   ]
  },
  {
   "cell_type": "code",
   "execution_count": 27,
   "metadata": {},
   "outputs": [
    {
     "name": "stdout",
     "output_type": "stream",
     "text": [
      "p-value: 0.016\n",
      "Отношение среднего кол-во заказов на посетителя \"B\" к \"А\": 0.174\n"
     ]
    }
   ],
   "source": [
    "sampleAFiltered = pd.concat(\n",
    "    [\n",
    "        ordersByUsersA[\n",
    "            np.logical_not(ordersByUsersA['userId'].isin(abnormalUsers))\n",
    "        ]['orders'],\n",
    "        pd.Series(\n",
    "            0,\n",
    "            index=np.arange(\n",
    "                visitors[visitors['group'] == 'A']['visitors'].sum() - len(ordersByUsersA['orders'])\n",
    "            ),\n",
    "            name='orders',\n",
    "        ),\n",
    "    ],\n",
    "    axis=0,\n",
    ")\n",
    "\n",
    "sampleBFiltered = pd.concat(\n",
    "    [\n",
    "        ordersByUsersB[\n",
    "            np.logical_not(ordersByUsersB['userId'].isin(abnormalUsers))\n",
    "        ]['orders'],\n",
    "        pd.Series(\n",
    "            0,\n",
    "            index=np.arange(\n",
    "                visitors[visitors['group'] == 'B'][ 'visitors'].sum() - len(ordersByUsersB['orders'])\n",
    "            ),\n",
    "            name='orders',\n",
    "        ),\n",
    "    ],\n",
    "    axis=0,\n",
    ")\n",
    "\n",
    "print('p-value:','{0:.3f}'.format(stats.mannwhitneyu(sampleAFiltered, sampleBFiltered)[1]))\n",
    "print('Отношение среднего кол-во заказов на посетителя \"B\" к \"А\": ''{0:.3f}'.format(sampleBFiltered.mean()/sampleAFiltered.mean()-1))"
   ]
  },
  {
   "cell_type": "markdown",
   "metadata": {},
   "source": [
    "**Вывод**\n",
    "\n",
    "По очищенным данным p-value меньше 0.05, отвергаем нулевую гипотезу, разница в среднем кол-во заказов на посетителя есть, и исходя из второго показателя группа В побеждает на 17%, что больше чем по сырым."
   ]
  },
  {
   "cell_type": "markdown",
   "metadata": {},
   "source": [
    "# 2.12 Статистическая значимость различий в среднем чеке заказа между группами по «очищенным» данным. "
   ]
  },
  {
   "cell_type": "markdown",
   "metadata": {},
   "source": [
    "**Сформулируем гипотезы.**\n",
    "\n",
    " - Нулевая гипотеза: различий в среднем чеке между группами нет. \n",
    " - Альтернативная гипотеза: различия в среднем чеке между группами есть. "
   ]
  },
  {
   "cell_type": "code",
   "execution_count": 28,
   "metadata": {},
   "outputs": [
    {
     "name": "stdout",
     "output_type": "stream",
     "text": [
      "p-value: 0.727\n",
      "Отношение среднего чека \"B\" к \"А\": -0.034\n"
     ]
    }
   ],
   "source": [
    "print('p-value:',\n",
    "    '{0:.3f}'.format(\n",
    "        stats.mannwhitneyu(\n",
    "            orders[\n",
    "                np.logical_and(\n",
    "                    orders['group'] == 'A',\n",
    "                    np.logical_not(orders['visitorId'].isin(abnormalUsers)),\n",
    "                )\n",
    "            ]['revenue'],\n",
    "            orders[\n",
    "                np.logical_and(\n",
    "                    orders['group'] == 'B',\n",
    "                    np.logical_not(orders['visitorId'].isin(abnormalUsers)),\n",
    "                )\n",
    "            ]['revenue'],\n",
    "        )[1]\n",
    "    )\n",
    ")\n",
    "\n",
    "print('Отношение среднего чека \"B\" к \"А\":',\n",
    "    \"{0:.3f}\".format(\n",
    "        orders[\n",
    "            np.logical_and(\n",
    "                orders['group'] == 'B',\n",
    "                np.logical_not(orders['visitorId'].isin(abnormalUsers)),\n",
    "            )\n",
    "        ]['revenue'].mean()\n",
    "        / orders[\n",
    "            np.logical_and(\n",
    "                orders['group'] == 'A',\n",
    "                np.logical_not(orders['visitorId'].isin(abnormalUsers)),\n",
    "            )\n",
    "        ]['revenue'].mean()\n",
    "        - 1\n",
    "    )\n",
    ")"
   ]
  },
  {
   "cell_type": "markdown",
   "metadata": {},
   "source": [
    "**Вывод**\n",
    "\n",
    "По очищенным данным p-value больше 0.05 это означает что нет смысла отвергать нулевую гипотезу, и можно сказать что различий в среднем чеке нет, но по очищенным данным видно, что группа В немного проиграет группе А на 3%."
   ]
  },
  {
   "cell_type": "markdown",
   "metadata": {},
   "source": [
    "# Часть 3. Вывод"
   ]
  },
  {
   "cell_type": "markdown",
   "metadata": {},
   "source": [
    "В результате теста выяснилось что,различия по среднему количеству заказов на посетителя присутсвуют, и что у группы В оно выше на 16% по \"сырым\" данным и 17% по \"очищенным\".\n",
    "\n",
    "Результаты теста по среднему чеку показали что по \"сырым\" данным различий между группами нет, но группа В побеждает на 28%, но после обработки аномальных заказов мы увидели, что разницы по среднему чеку по прежднему нет, но чек группы В просел и теперь проигрывает группе А на 3%.\n",
    "\n",
    "Итоговый результат всего теста это его остановка и констатация победы группы В, так как по среднему количетсву заказов на посетителя группа В хорошо себя показывает по всем видам данных, а относительная разница среднего чека довольно мала."
   ]
  }
 ],
 "metadata": {
  "ExecuteTimeLog": [
   {
    "duration": 1227,
    "start_time": "2023-03-21T14:46:38.879Z"
   },
   {
    "duration": 339,
    "start_time": "2023-03-21T14:46:40.109Z"
   },
   {
    "duration": 15,
    "start_time": "2023-03-21T14:46:40.450Z"
   },
   {
    "duration": 4,
    "start_time": "2023-03-21T14:46:50.780Z"
   },
   {
    "duration": 76,
    "start_time": "2023-03-21T14:46:50.786Z"
   },
   {
    "duration": 8,
    "start_time": "2023-03-21T14:46:50.864Z"
   },
   {
    "duration": 4,
    "start_time": "2023-03-21T14:50:46.519Z"
   },
   {
    "duration": 74,
    "start_time": "2023-03-21T14:50:46.525Z"
   },
   {
    "duration": 9,
    "start_time": "2023-03-21T14:50:46.600Z"
   },
   {
    "duration": 808,
    "start_time": "2023-03-21T14:50:46.610Z"
   },
   {
    "duration": 0,
    "start_time": "2023-03-21T14:50:47.420Z"
   },
   {
    "duration": 4,
    "start_time": "2023-03-21T14:51:47.631Z"
   },
   {
    "duration": 73,
    "start_time": "2023-03-21T14:51:47.637Z"
   },
   {
    "duration": 11,
    "start_time": "2023-03-21T14:51:47.712Z"
   },
   {
    "duration": 3,
    "start_time": "2023-03-21T14:51:51.020Z"
   },
   {
    "duration": 78,
    "start_time": "2023-03-21T14:51:51.025Z"
   },
   {
    "duration": 9,
    "start_time": "2023-03-21T14:51:51.105Z"
   },
   {
    "duration": 5,
    "start_time": "2023-03-21T14:51:51.115Z"
   },
   {
    "duration": 20,
    "start_time": "2023-03-21T14:51:51.122Z"
   },
   {
    "duration": 10,
    "start_time": "2023-03-21T14:51:51.144Z"
   },
   {
    "duration": 3,
    "start_time": "2023-03-21T14:52:10.895Z"
   },
   {
    "duration": 82,
    "start_time": "2023-03-21T14:52:10.900Z"
   },
   {
    "duration": 8,
    "start_time": "2023-03-21T14:52:10.984Z"
   },
   {
    "duration": 13,
    "start_time": "2023-03-21T14:52:10.993Z"
   },
   {
    "duration": 5,
    "start_time": "2023-03-21T14:52:11.009Z"
   },
   {
    "duration": 9,
    "start_time": "2023-03-21T14:52:11.017Z"
   },
   {
    "duration": 4,
    "start_time": "2023-03-21T14:52:40.230Z"
   },
   {
    "duration": 106,
    "start_time": "2023-03-21T14:52:40.237Z"
   },
   {
    "duration": 10,
    "start_time": "2023-03-21T14:52:40.345Z"
   },
   {
    "duration": 7,
    "start_time": "2023-03-21T14:52:40.357Z"
   },
   {
    "duration": 12,
    "start_time": "2023-03-21T14:52:40.367Z"
   },
   {
    "duration": 15,
    "start_time": "2023-03-21T14:52:40.381Z"
   },
   {
    "duration": 3,
    "start_time": "2023-03-21T14:53:55.917Z"
   },
   {
    "duration": 75,
    "start_time": "2023-03-21T14:53:55.922Z"
   },
   {
    "duration": 9,
    "start_time": "2023-03-21T14:53:55.999Z"
   },
   {
    "duration": 4,
    "start_time": "2023-03-21T14:53:56.009Z"
   },
   {
    "duration": 9,
    "start_time": "2023-03-21T14:53:56.015Z"
   },
   {
    "duration": 10,
    "start_time": "2023-03-21T14:53:56.026Z"
   },
   {
    "duration": 3,
    "start_time": "2023-03-21T14:54:19.974Z"
   },
   {
    "duration": 74,
    "start_time": "2023-03-21T14:54:19.978Z"
   },
   {
    "duration": 8,
    "start_time": "2023-03-21T14:54:20.054Z"
   },
   {
    "duration": 5,
    "start_time": "2023-03-21T14:54:20.063Z"
   },
   {
    "duration": 8,
    "start_time": "2023-03-21T14:54:20.069Z"
   },
   {
    "duration": 14,
    "start_time": "2023-03-21T14:54:20.079Z"
   },
   {
    "duration": 3,
    "start_time": "2023-03-21T14:54:33.590Z"
   },
   {
    "duration": 75,
    "start_time": "2023-03-21T14:54:33.595Z"
   },
   {
    "duration": 8,
    "start_time": "2023-03-21T14:54:33.672Z"
   },
   {
    "duration": 35,
    "start_time": "2023-03-21T14:54:33.682Z"
   },
   {
    "duration": 6,
    "start_time": "2023-03-21T14:54:33.719Z"
   },
   {
    "duration": 18,
    "start_time": "2023-03-21T14:54:33.727Z"
   },
   {
    "duration": 3,
    "start_time": "2023-03-21T14:55:03.095Z"
   },
   {
    "duration": 81,
    "start_time": "2023-03-21T14:55:03.100Z"
   },
   {
    "duration": 8,
    "start_time": "2023-03-21T14:55:03.183Z"
   },
   {
    "duration": 19,
    "start_time": "2023-03-21T14:55:03.192Z"
   },
   {
    "duration": 30,
    "start_time": "2023-03-21T14:55:03.213Z"
   },
   {
    "duration": 27,
    "start_time": "2023-03-21T14:55:03.245Z"
   },
   {
    "duration": 26,
    "start_time": "2023-03-21T14:55:03.274Z"
   },
   {
    "duration": 3,
    "start_time": "2023-03-21T14:55:17.638Z"
   },
   {
    "duration": 79,
    "start_time": "2023-03-21T14:55:17.643Z"
   },
   {
    "duration": 8,
    "start_time": "2023-03-21T14:55:17.724Z"
   },
   {
    "duration": 4,
    "start_time": "2023-03-21T14:55:17.733Z"
   },
   {
    "duration": 7,
    "start_time": "2023-03-21T14:55:17.739Z"
   },
   {
    "duration": 10,
    "start_time": "2023-03-21T14:55:17.748Z"
   },
   {
    "duration": 11,
    "start_time": "2023-03-21T14:55:17.759Z"
   },
   {
    "duration": 4,
    "start_time": "2023-03-21T14:55:30.474Z"
   },
   {
    "duration": 123,
    "start_time": "2023-03-21T14:55:30.481Z"
   },
   {
    "duration": 10,
    "start_time": "2023-03-21T14:55:30.607Z"
   },
   {
    "duration": 44,
    "start_time": "2023-03-21T14:55:30.619Z"
   },
   {
    "duration": 24,
    "start_time": "2023-03-21T14:55:30.664Z"
   },
   {
    "duration": 36,
    "start_time": "2023-03-21T14:55:30.690Z"
   },
   {
    "duration": 37,
    "start_time": "2023-03-21T14:55:30.728Z"
   },
   {
    "duration": 4,
    "start_time": "2023-03-21T14:58:30.544Z"
   },
   {
    "duration": 103,
    "start_time": "2023-03-21T14:58:30.550Z"
   },
   {
    "duration": 8,
    "start_time": "2023-03-21T14:58:30.655Z"
   },
   {
    "duration": 33,
    "start_time": "2023-03-21T14:58:30.664Z"
   },
   {
    "duration": 32,
    "start_time": "2023-03-21T14:58:30.699Z"
   },
   {
    "duration": 81,
    "start_time": "2023-03-21T14:58:30.733Z"
   },
   {
    "duration": 34,
    "start_time": "2023-03-21T14:58:30.815Z"
   },
   {
    "duration": 4,
    "start_time": "2023-03-21T14:58:44.089Z"
   },
   {
    "duration": 73,
    "start_time": "2023-03-21T14:58:44.095Z"
   },
   {
    "duration": 8,
    "start_time": "2023-03-21T14:58:44.170Z"
   },
   {
    "duration": 4,
    "start_time": "2023-03-21T14:58:44.179Z"
   },
   {
    "duration": 6,
    "start_time": "2023-03-21T14:58:44.185Z"
   },
   {
    "duration": 16,
    "start_time": "2023-03-21T14:58:44.192Z"
   },
   {
    "duration": 9,
    "start_time": "2023-03-21T14:58:44.209Z"
   },
   {
    "duration": 3,
    "start_time": "2023-03-21T15:14:44.648Z"
   },
   {
    "duration": 77,
    "start_time": "2023-03-21T15:14:44.654Z"
   },
   {
    "duration": 10,
    "start_time": "2023-03-21T15:14:44.733Z"
   },
   {
    "duration": 11,
    "start_time": "2023-03-21T15:14:44.744Z"
   },
   {
    "duration": 10,
    "start_time": "2023-03-21T15:14:44.757Z"
   },
   {
    "duration": 18,
    "start_time": "2023-03-21T15:14:44.769Z"
   },
   {
    "duration": 27,
    "start_time": "2023-03-21T15:14:44.789Z"
   },
   {
    "duration": 3,
    "start_time": "2023-03-21T15:16:12.541Z"
   },
   {
    "duration": 74,
    "start_time": "2023-03-21T15:16:12.546Z"
   },
   {
    "duration": 9,
    "start_time": "2023-03-21T15:16:12.622Z"
   },
   {
    "duration": 3,
    "start_time": "2023-03-21T15:16:12.633Z"
   },
   {
    "duration": 7,
    "start_time": "2023-03-21T15:16:12.638Z"
   },
   {
    "duration": 20,
    "start_time": "2023-03-21T15:16:12.646Z"
   },
   {
    "duration": 15,
    "start_time": "2023-03-21T15:16:12.668Z"
   },
   {
    "duration": 54,
    "start_time": "2023-03-21T15:16:12.684Z"
   },
   {
    "duration": 3,
    "start_time": "2023-03-21T15:17:15.287Z"
   },
   {
    "duration": 72,
    "start_time": "2023-03-21T15:17:15.293Z"
   },
   {
    "duration": 10,
    "start_time": "2023-03-21T15:17:15.367Z"
   },
   {
    "duration": 4,
    "start_time": "2023-03-21T15:17:15.379Z"
   },
   {
    "duration": 6,
    "start_time": "2023-03-21T15:17:15.386Z"
   },
   {
    "duration": 23,
    "start_time": "2023-03-21T15:17:15.395Z"
   },
   {
    "duration": 12,
    "start_time": "2023-03-21T15:17:15.420Z"
   },
   {
    "duration": 21,
    "start_time": "2023-03-21T15:17:15.434Z"
   },
   {
    "duration": 187,
    "start_time": "2023-03-21T15:17:15.457Z"
   },
   {
    "duration": 0,
    "start_time": "2023-03-21T15:17:15.646Z"
   },
   {
    "duration": 4,
    "start_time": "2023-03-21T15:18:22.078Z"
   },
   {
    "duration": 72,
    "start_time": "2023-03-21T15:18:22.084Z"
   },
   {
    "duration": 8,
    "start_time": "2023-03-21T15:18:22.158Z"
   },
   {
    "duration": 8,
    "start_time": "2023-03-21T15:18:22.168Z"
   },
   {
    "duration": 9,
    "start_time": "2023-03-21T15:18:22.177Z"
   },
   {
    "duration": 18,
    "start_time": "2023-03-21T15:18:22.188Z"
   },
   {
    "duration": 12,
    "start_time": "2023-03-21T15:18:22.207Z"
   },
   {
    "duration": 20,
    "start_time": "2023-03-21T15:18:22.221Z"
   },
   {
    "duration": 13,
    "start_time": "2023-03-21T15:18:22.242Z"
   },
   {
    "duration": 39,
    "start_time": "2023-03-21T15:18:22.258Z"
   },
   {
    "duration": 3,
    "start_time": "2023-03-21T15:18:34.046Z"
   },
   {
    "duration": 82,
    "start_time": "2023-03-21T15:18:34.051Z"
   },
   {
    "duration": 10,
    "start_time": "2023-03-21T15:18:34.135Z"
   },
   {
    "duration": 7,
    "start_time": "2023-03-21T15:18:34.147Z"
   },
   {
    "duration": 9,
    "start_time": "2023-03-21T15:18:34.156Z"
   },
   {
    "duration": 23,
    "start_time": "2023-03-21T15:18:34.167Z"
   },
   {
    "duration": 13,
    "start_time": "2023-03-21T15:18:34.192Z"
   },
   {
    "duration": 23,
    "start_time": "2023-03-21T15:18:34.222Z"
   },
   {
    "duration": 13,
    "start_time": "2023-03-21T15:18:34.246Z"
   },
   {
    "duration": 30,
    "start_time": "2023-03-21T15:18:34.260Z"
   },
   {
    "duration": 4,
    "start_time": "2023-03-21T15:19:34.646Z"
   },
   {
    "duration": 73,
    "start_time": "2023-03-21T15:19:34.652Z"
   },
   {
    "duration": 9,
    "start_time": "2023-03-21T15:19:34.727Z"
   },
   {
    "duration": 3,
    "start_time": "2023-03-21T15:19:34.738Z"
   },
   {
    "duration": 14,
    "start_time": "2023-03-21T15:19:34.744Z"
   },
   {
    "duration": 21,
    "start_time": "2023-03-21T15:19:34.763Z"
   },
   {
    "duration": 39,
    "start_time": "2023-03-21T15:19:34.786Z"
   },
   {
    "duration": 24,
    "start_time": "2023-03-21T15:19:34.827Z"
   },
   {
    "duration": 20,
    "start_time": "2023-03-21T15:19:34.853Z"
   },
   {
    "duration": 12,
    "start_time": "2023-03-21T15:19:34.875Z"
   },
   {
    "duration": 35,
    "start_time": "2023-03-21T15:19:34.889Z"
   },
   {
    "duration": 3,
    "start_time": "2023-03-21T15:20:06.986Z"
   },
   {
    "duration": 74,
    "start_time": "2023-03-21T15:20:06.992Z"
   },
   {
    "duration": 9,
    "start_time": "2023-03-21T15:20:07.068Z"
   },
   {
    "duration": 3,
    "start_time": "2023-03-21T15:20:07.079Z"
   },
   {
    "duration": 7,
    "start_time": "2023-03-21T15:20:07.085Z"
   },
   {
    "duration": 20,
    "start_time": "2023-03-21T15:20:07.094Z"
   },
   {
    "duration": 12,
    "start_time": "2023-03-21T15:20:07.115Z"
   },
   {
    "duration": 20,
    "start_time": "2023-03-21T15:20:07.129Z"
   },
   {
    "duration": 13,
    "start_time": "2023-03-21T15:20:07.150Z"
   },
   {
    "duration": 7,
    "start_time": "2023-03-21T15:20:07.165Z"
   },
   {
    "duration": 5,
    "start_time": "2023-03-21T15:20:07.174Z"
   },
   {
    "duration": 8,
    "start_time": "2023-03-21T15:20:07.180Z"
   },
   {
    "duration": 3,
    "start_time": "2023-03-21T15:20:24.872Z"
   },
   {
    "duration": 77,
    "start_time": "2023-03-21T15:20:24.877Z"
   },
   {
    "duration": 8,
    "start_time": "2023-03-21T15:20:24.956Z"
   },
   {
    "duration": 5,
    "start_time": "2023-03-21T15:20:24.965Z"
   },
   {
    "duration": 6,
    "start_time": "2023-03-21T15:20:24.972Z"
   },
   {
    "duration": 23,
    "start_time": "2023-03-21T15:20:24.979Z"
   },
   {
    "duration": 13,
    "start_time": "2023-03-21T15:20:25.003Z"
   },
   {
    "duration": 22,
    "start_time": "2023-03-21T15:20:25.017Z"
   },
   {
    "duration": 17,
    "start_time": "2023-03-21T15:20:25.041Z"
   },
   {
    "duration": 19,
    "start_time": "2023-03-21T15:20:25.060Z"
   },
   {
    "duration": 6,
    "start_time": "2023-03-21T15:20:25.081Z"
   },
   {
    "duration": 7,
    "start_time": "2023-03-21T15:20:25.089Z"
   },
   {
    "duration": 3,
    "start_time": "2023-03-21T15:20:42.990Z"
   },
   {
    "duration": 75,
    "start_time": "2023-03-21T15:20:42.996Z"
   },
   {
    "duration": 8,
    "start_time": "2023-03-21T15:20:43.073Z"
   },
   {
    "duration": 12,
    "start_time": "2023-03-21T15:20:43.083Z"
   },
   {
    "duration": 9,
    "start_time": "2023-03-21T15:20:43.097Z"
   },
   {
    "duration": 20,
    "start_time": "2023-03-21T15:20:43.108Z"
   },
   {
    "duration": 14,
    "start_time": "2023-03-21T15:20:43.130Z"
   },
   {
    "duration": 21,
    "start_time": "2023-03-21T15:20:43.146Z"
   },
   {
    "duration": 13,
    "start_time": "2023-03-21T15:20:43.168Z"
   },
   {
    "duration": 13,
    "start_time": "2023-03-21T15:20:43.183Z"
   },
   {
    "duration": 30,
    "start_time": "2023-03-21T15:20:43.198Z"
   },
   {
    "duration": 4,
    "start_time": "2023-03-21T15:21:33.637Z"
   },
   {
    "duration": 81,
    "start_time": "2023-03-21T15:21:33.644Z"
   },
   {
    "duration": 8,
    "start_time": "2023-03-21T15:21:33.727Z"
   },
   {
    "duration": 8,
    "start_time": "2023-03-21T15:21:33.737Z"
   },
   {
    "duration": 14,
    "start_time": "2023-03-21T15:21:33.747Z"
   },
   {
    "duration": 18,
    "start_time": "2023-03-21T15:21:33.762Z"
   },
   {
    "duration": 13,
    "start_time": "2023-03-21T15:21:33.781Z"
   },
   {
    "duration": 39,
    "start_time": "2023-03-21T15:21:33.795Z"
   },
   {
    "duration": 13,
    "start_time": "2023-03-21T15:21:33.836Z"
   },
   {
    "duration": 7,
    "start_time": "2023-03-21T15:21:33.851Z"
   },
   {
    "duration": 7,
    "start_time": "2023-03-21T15:21:33.860Z"
   },
   {
    "duration": 2,
    "start_time": "2023-03-21T15:21:41.971Z"
   },
   {
    "duration": 73,
    "start_time": "2023-03-21T15:21:41.976Z"
   },
   {
    "duration": 8,
    "start_time": "2023-03-21T15:21:42.051Z"
   },
   {
    "duration": 5,
    "start_time": "2023-03-21T15:21:42.061Z"
   },
   {
    "duration": 6,
    "start_time": "2023-03-21T15:21:42.068Z"
   },
   {
    "duration": 16,
    "start_time": "2023-03-21T15:21:42.076Z"
   },
   {
    "duration": 12,
    "start_time": "2023-03-21T15:21:42.094Z"
   },
   {
    "duration": 34,
    "start_time": "2023-03-21T15:21:42.107Z"
   },
   {
    "duration": 13,
    "start_time": "2023-03-21T15:21:42.143Z"
   },
   {
    "duration": 14,
    "start_time": "2023-03-21T15:21:42.158Z"
   },
   {
    "duration": 23,
    "start_time": "2023-03-21T15:21:42.174Z"
   },
   {
    "duration": 3,
    "start_time": "2023-03-21T15:22:26.150Z"
   },
   {
    "duration": 76,
    "start_time": "2023-03-21T15:22:26.155Z"
   },
   {
    "duration": 10,
    "start_time": "2023-03-21T15:22:26.233Z"
   },
   {
    "duration": 10,
    "start_time": "2023-03-21T15:22:26.244Z"
   },
   {
    "duration": 9,
    "start_time": "2023-03-21T15:22:26.257Z"
   },
   {
    "duration": 23,
    "start_time": "2023-03-21T15:22:26.268Z"
   },
   {
    "duration": 12,
    "start_time": "2023-03-21T15:22:26.292Z"
   },
   {
    "duration": 33,
    "start_time": "2023-03-21T15:22:26.305Z"
   },
   {
    "duration": 12,
    "start_time": "2023-03-21T15:22:26.340Z"
   },
   {
    "duration": 8,
    "start_time": "2023-03-21T15:22:26.353Z"
   },
   {
    "duration": 6,
    "start_time": "2023-03-21T15:22:26.362Z"
   },
   {
    "duration": 4,
    "start_time": "2023-03-21T15:22:37.997Z"
   },
   {
    "duration": 72,
    "start_time": "2023-03-21T15:22:38.004Z"
   },
   {
    "duration": 9,
    "start_time": "2023-03-21T15:22:38.077Z"
   },
   {
    "duration": 6,
    "start_time": "2023-03-21T15:22:38.087Z"
   },
   {
    "duration": 7,
    "start_time": "2023-03-21T15:22:38.095Z"
   },
   {
    "duration": 23,
    "start_time": "2023-03-21T15:22:38.103Z"
   },
   {
    "duration": 11,
    "start_time": "2023-03-21T15:22:38.127Z"
   },
   {
    "duration": 17,
    "start_time": "2023-03-21T15:22:38.140Z"
   },
   {
    "duration": 13,
    "start_time": "2023-03-21T15:22:38.159Z"
   },
   {
    "duration": 25,
    "start_time": "2023-03-21T15:22:38.173Z"
   },
   {
    "duration": 23,
    "start_time": "2023-03-21T15:22:38.200Z"
   },
   {
    "duration": 3,
    "start_time": "2023-03-21T15:22:52.173Z"
   },
   {
    "duration": 86,
    "start_time": "2023-03-21T15:22:52.178Z"
   },
   {
    "duration": 8,
    "start_time": "2023-03-21T15:22:52.266Z"
   },
   {
    "duration": 3,
    "start_time": "2023-03-21T15:22:52.276Z"
   },
   {
    "duration": 14,
    "start_time": "2023-03-21T15:22:52.281Z"
   },
   {
    "duration": 29,
    "start_time": "2023-03-21T15:22:52.297Z"
   },
   {
    "duration": 15,
    "start_time": "2023-03-21T15:22:52.328Z"
   },
   {
    "duration": 20,
    "start_time": "2023-03-21T15:22:52.345Z"
   },
   {
    "duration": 13,
    "start_time": "2023-03-21T15:22:52.366Z"
   },
   {
    "duration": 24,
    "start_time": "2023-03-21T15:22:52.381Z"
   },
   {
    "duration": 23,
    "start_time": "2023-03-21T15:22:52.407Z"
   },
   {
    "duration": 3,
    "start_time": "2023-03-21T15:30:14.843Z"
   },
   {
    "duration": 77,
    "start_time": "2023-03-21T15:30:14.848Z"
   },
   {
    "duration": 8,
    "start_time": "2023-03-21T15:30:14.927Z"
   },
   {
    "duration": 4,
    "start_time": "2023-03-21T15:30:14.936Z"
   },
   {
    "duration": 6,
    "start_time": "2023-03-21T15:30:14.942Z"
   },
   {
    "duration": 15,
    "start_time": "2023-03-21T15:30:14.949Z"
   },
   {
    "duration": 10,
    "start_time": "2023-03-21T15:30:14.966Z"
   },
   {
    "duration": 55,
    "start_time": "2023-03-21T15:30:14.978Z"
   },
   {
    "duration": 12,
    "start_time": "2023-03-21T15:30:15.035Z"
   },
   {
    "duration": 10,
    "start_time": "2023-03-21T15:30:15.048Z"
   },
   {
    "duration": 7,
    "start_time": "2023-03-21T15:30:15.060Z"
   },
   {
    "duration": 10,
    "start_time": "2023-03-21T15:30:15.069Z"
   },
   {
    "duration": 4,
    "start_time": "2023-03-21T15:32:52.203Z"
   },
   {
    "duration": 72,
    "start_time": "2023-03-21T15:32:52.209Z"
   },
   {
    "duration": 8,
    "start_time": "2023-03-21T15:32:52.283Z"
   },
   {
    "duration": 9,
    "start_time": "2023-03-21T15:32:52.293Z"
   },
   {
    "duration": 31,
    "start_time": "2023-03-21T15:32:52.305Z"
   },
   {
    "duration": 36,
    "start_time": "2023-03-21T15:32:52.338Z"
   },
   {
    "duration": 14,
    "start_time": "2023-03-21T15:32:52.376Z"
   },
   {
    "duration": 23,
    "start_time": "2023-03-21T15:32:52.392Z"
   },
   {
    "duration": 21,
    "start_time": "2023-03-21T15:32:52.424Z"
   },
   {
    "duration": 25,
    "start_time": "2023-03-21T15:32:52.447Z"
   },
   {
    "duration": 13,
    "start_time": "2023-03-21T15:32:52.474Z"
   },
   {
    "duration": 23,
    "start_time": "2023-03-21T15:32:52.488Z"
   },
   {
    "duration": 4,
    "start_time": "2023-03-21T15:33:02.282Z"
   },
   {
    "duration": 81,
    "start_time": "2023-03-21T15:33:02.288Z"
   },
   {
    "duration": 11,
    "start_time": "2023-03-21T15:33:02.371Z"
   },
   {
    "duration": 6,
    "start_time": "2023-03-21T15:33:02.384Z"
   },
   {
    "duration": 21,
    "start_time": "2023-03-21T15:33:02.393Z"
   },
   {
    "duration": 27,
    "start_time": "2023-03-21T15:33:02.416Z"
   },
   {
    "duration": 17,
    "start_time": "2023-03-21T15:33:02.445Z"
   },
   {
    "duration": 61,
    "start_time": "2023-03-21T15:33:02.464Z"
   },
   {
    "duration": 20,
    "start_time": "2023-03-21T15:33:02.527Z"
   },
   {
    "duration": 10,
    "start_time": "2023-03-21T15:33:02.549Z"
   },
   {
    "duration": 11,
    "start_time": "2023-03-21T15:33:02.562Z"
   },
   {
    "duration": 18,
    "start_time": "2023-03-21T15:33:02.575Z"
   },
   {
    "duration": 3,
    "start_time": "2023-03-21T15:33:15.826Z"
   },
   {
    "duration": 78,
    "start_time": "2023-03-21T15:33:15.832Z"
   },
   {
    "duration": 9,
    "start_time": "2023-03-21T15:33:15.912Z"
   },
   {
    "duration": 4,
    "start_time": "2023-03-21T15:33:15.923Z"
   },
   {
    "duration": 6,
    "start_time": "2023-03-21T15:33:15.929Z"
   },
   {
    "duration": 26,
    "start_time": "2023-03-21T15:33:15.936Z"
   },
   {
    "duration": 20,
    "start_time": "2023-03-21T15:33:15.964Z"
   },
   {
    "duration": 19,
    "start_time": "2023-03-21T15:33:15.985Z"
   },
   {
    "duration": 28,
    "start_time": "2023-03-21T15:33:16.006Z"
   },
   {
    "duration": 10,
    "start_time": "2023-03-21T15:33:16.036Z"
   },
   {
    "duration": 9,
    "start_time": "2023-03-21T15:33:16.048Z"
   },
   {
    "duration": 13,
    "start_time": "2023-03-21T15:33:16.058Z"
   },
   {
    "duration": 4,
    "start_time": "2023-03-21T15:35:16.626Z"
   },
   {
    "duration": 79,
    "start_time": "2023-03-21T15:35:16.632Z"
   },
   {
    "duration": 8,
    "start_time": "2023-03-21T15:35:16.713Z"
   },
   {
    "duration": 12,
    "start_time": "2023-03-21T15:35:16.723Z"
   },
   {
    "duration": 8,
    "start_time": "2023-03-21T15:35:16.738Z"
   },
   {
    "duration": 30,
    "start_time": "2023-03-21T15:35:16.748Z"
   },
   {
    "duration": 14,
    "start_time": "2023-03-21T15:35:16.780Z"
   },
   {
    "duration": 34,
    "start_time": "2023-03-21T15:35:16.796Z"
   },
   {
    "duration": 18,
    "start_time": "2023-03-21T15:35:16.832Z"
   },
   {
    "duration": 24,
    "start_time": "2023-03-21T15:35:16.852Z"
   },
   {
    "duration": 12,
    "start_time": "2023-03-21T15:35:16.878Z"
   },
   {
    "duration": 34,
    "start_time": "2023-03-21T15:35:16.892Z"
   },
   {
    "duration": 3,
    "start_time": "2023-03-21T15:35:33.172Z"
   },
   {
    "duration": 82,
    "start_time": "2023-03-21T15:35:33.178Z"
   },
   {
    "duration": 11,
    "start_time": "2023-03-21T15:35:33.262Z"
   },
   {
    "duration": 6,
    "start_time": "2023-03-21T15:35:33.274Z"
   },
   {
    "duration": 13,
    "start_time": "2023-03-21T15:35:33.283Z"
   },
   {
    "duration": 17,
    "start_time": "2023-03-21T15:35:33.298Z"
   },
   {
    "duration": 17,
    "start_time": "2023-03-21T15:35:33.317Z"
   },
   {
    "duration": 24,
    "start_time": "2023-03-21T15:35:33.337Z"
   },
   {
    "duration": 12,
    "start_time": "2023-03-21T15:35:33.363Z"
   },
   {
    "duration": 23,
    "start_time": "2023-03-21T15:35:33.377Z"
   },
   {
    "duration": 27,
    "start_time": "2023-03-21T15:35:33.402Z"
   },
   {
    "duration": 25,
    "start_time": "2023-03-21T15:35:33.431Z"
   },
   {
    "duration": 4,
    "start_time": "2023-03-21T15:37:16.048Z"
   },
   {
    "duration": 73,
    "start_time": "2023-03-21T15:37:16.054Z"
   },
   {
    "duration": 11,
    "start_time": "2023-03-21T15:37:16.128Z"
   },
   {
    "duration": 4,
    "start_time": "2023-03-21T15:37:16.141Z"
   },
   {
    "duration": 8,
    "start_time": "2023-03-21T15:37:16.147Z"
   },
   {
    "duration": 22,
    "start_time": "2023-03-21T15:37:16.157Z"
   },
   {
    "duration": 13,
    "start_time": "2023-03-21T15:37:16.181Z"
   },
   {
    "duration": 26,
    "start_time": "2023-03-21T15:37:16.223Z"
   },
   {
    "duration": 13,
    "start_time": "2023-03-21T15:37:16.251Z"
   },
   {
    "duration": 8,
    "start_time": "2023-03-21T15:37:16.266Z"
   },
   {
    "duration": 47,
    "start_time": "2023-03-21T15:37:16.276Z"
   },
   {
    "duration": 15,
    "start_time": "2023-03-21T15:37:16.325Z"
   },
   {
    "duration": 724,
    "start_time": "2023-03-21T15:37:16.343Z"
   },
   {
    "duration": 4,
    "start_time": "2023-03-21T15:38:06.689Z"
   },
   {
    "duration": 168,
    "start_time": "2023-03-21T15:38:06.695Z"
   },
   {
    "duration": 10,
    "start_time": "2023-03-21T15:38:06.865Z"
   },
   {
    "duration": 4,
    "start_time": "2023-03-21T15:38:06.878Z"
   },
   {
    "duration": 9,
    "start_time": "2023-03-21T15:38:06.885Z"
   },
   {
    "duration": 17,
    "start_time": "2023-03-21T15:38:06.895Z"
   },
   {
    "duration": 13,
    "start_time": "2023-03-21T15:38:06.915Z"
   },
   {
    "duration": 24,
    "start_time": "2023-03-21T15:38:06.930Z"
   },
   {
    "duration": 19,
    "start_time": "2023-03-21T15:38:06.956Z"
   },
   {
    "duration": 9,
    "start_time": "2023-03-21T15:38:06.977Z"
   },
   {
    "duration": 9,
    "start_time": "2023-03-21T15:38:07.024Z"
   },
   {
    "duration": 17,
    "start_time": "2023-03-21T15:38:07.035Z"
   },
   {
    "duration": 821,
    "start_time": "2023-03-21T15:38:07.054Z"
   },
   {
    "duration": 5,
    "start_time": "2023-03-21T15:40:22.084Z"
   },
   {
    "duration": 79,
    "start_time": "2023-03-21T15:40:22.091Z"
   },
   {
    "duration": 11,
    "start_time": "2023-03-21T15:40:22.173Z"
   },
   {
    "duration": 5,
    "start_time": "2023-03-21T15:40:22.185Z"
   },
   {
    "duration": 7,
    "start_time": "2023-03-21T15:40:22.192Z"
   },
   {
    "duration": 17,
    "start_time": "2023-03-21T15:40:22.200Z"
   },
   {
    "duration": 17,
    "start_time": "2023-03-21T15:40:22.219Z"
   },
   {
    "duration": 25,
    "start_time": "2023-03-21T15:40:22.239Z"
   },
   {
    "duration": 14,
    "start_time": "2023-03-21T15:40:22.266Z"
   },
   {
    "duration": 9,
    "start_time": "2023-03-21T15:40:22.282Z"
   },
   {
    "duration": 37,
    "start_time": "2023-03-21T15:40:22.293Z"
   },
   {
    "duration": 13,
    "start_time": "2023-03-21T15:40:22.332Z"
   },
   {
    "duration": 4,
    "start_time": "2023-03-21T15:46:53.374Z"
   },
   {
    "duration": 95,
    "start_time": "2023-03-21T15:46:53.380Z"
   },
   {
    "duration": 8,
    "start_time": "2023-03-21T15:46:53.477Z"
   },
   {
    "duration": 5,
    "start_time": "2023-03-21T15:46:53.487Z"
   },
   {
    "duration": 6,
    "start_time": "2023-03-21T15:46:53.495Z"
   },
   {
    "duration": 17,
    "start_time": "2023-03-21T15:46:53.503Z"
   },
   {
    "duration": 13,
    "start_time": "2023-03-21T15:46:53.522Z"
   },
   {
    "duration": 19,
    "start_time": "2023-03-21T15:46:53.536Z"
   },
   {
    "duration": 12,
    "start_time": "2023-03-21T15:46:53.557Z"
   },
   {
    "duration": 9,
    "start_time": "2023-03-21T15:46:53.571Z"
   },
   {
    "duration": 7,
    "start_time": "2023-03-21T15:46:53.581Z"
   },
   {
    "duration": 11,
    "start_time": "2023-03-21T15:46:53.623Z"
   },
   {
    "duration": 29,
    "start_time": "2023-03-21T15:46:53.635Z"
   },
   {
    "duration": 3,
    "start_time": "2023-03-21T15:50:25.101Z"
   },
   {
    "duration": 72,
    "start_time": "2023-03-21T15:50:25.106Z"
   },
   {
    "duration": 8,
    "start_time": "2023-03-21T15:50:25.180Z"
   },
   {
    "duration": 4,
    "start_time": "2023-03-21T15:50:25.189Z"
   },
   {
    "duration": 5,
    "start_time": "2023-03-21T15:50:25.195Z"
   },
   {
    "duration": 15,
    "start_time": "2023-03-21T15:50:25.202Z"
   },
   {
    "duration": 13,
    "start_time": "2023-03-21T15:50:25.219Z"
   },
   {
    "duration": 19,
    "start_time": "2023-03-21T15:50:25.233Z"
   },
   {
    "duration": 12,
    "start_time": "2023-03-21T15:50:25.253Z"
   },
   {
    "duration": 8,
    "start_time": "2023-03-21T15:50:25.266Z"
   },
   {
    "duration": 7,
    "start_time": "2023-03-21T15:50:25.275Z"
   },
   {
    "duration": 47,
    "start_time": "2023-03-21T15:50:25.283Z"
   },
   {
    "duration": 281,
    "start_time": "2023-03-21T15:50:25.332Z"
   },
   {
    "duration": 3,
    "start_time": "2023-03-21T15:53:40.116Z"
   },
   {
    "duration": 73,
    "start_time": "2023-03-21T15:53:40.122Z"
   },
   {
    "duration": 8,
    "start_time": "2023-03-21T15:53:40.197Z"
   },
   {
    "duration": 4,
    "start_time": "2023-03-21T15:53:40.207Z"
   },
   {
    "duration": 7,
    "start_time": "2023-03-21T15:53:40.213Z"
   },
   {
    "duration": 19,
    "start_time": "2023-03-21T15:53:40.222Z"
   },
   {
    "duration": 16,
    "start_time": "2023-03-21T15:53:40.242Z"
   },
   {
    "duration": 25,
    "start_time": "2023-03-21T15:53:40.260Z"
   },
   {
    "duration": 44,
    "start_time": "2023-03-21T15:53:40.287Z"
   },
   {
    "duration": 9,
    "start_time": "2023-03-21T15:53:40.334Z"
   },
   {
    "duration": 10,
    "start_time": "2023-03-21T15:53:40.345Z"
   },
   {
    "duration": 12,
    "start_time": "2023-03-21T15:53:40.357Z"
   },
   {
    "duration": 357,
    "start_time": "2023-03-21T15:53:40.371Z"
   },
   {
    "duration": 254,
    "start_time": "2023-03-21T15:53:40.731Z"
   },
   {
    "duration": 3,
    "start_time": "2023-03-21T15:54:44.492Z"
   },
   {
    "duration": 87,
    "start_time": "2023-03-21T15:54:44.497Z"
   },
   {
    "duration": 9,
    "start_time": "2023-03-21T15:54:44.585Z"
   },
   {
    "duration": 15,
    "start_time": "2023-03-21T15:54:44.595Z"
   },
   {
    "duration": 11,
    "start_time": "2023-03-21T15:54:44.612Z"
   },
   {
    "duration": 20,
    "start_time": "2023-03-21T15:54:44.624Z"
   },
   {
    "duration": 13,
    "start_time": "2023-03-21T15:54:44.645Z"
   },
   {
    "duration": 19,
    "start_time": "2023-03-21T15:54:44.659Z"
   },
   {
    "duration": 12,
    "start_time": "2023-03-21T15:54:44.680Z"
   },
   {
    "duration": 36,
    "start_time": "2023-03-21T15:54:44.694Z"
   },
   {
    "duration": 9,
    "start_time": "2023-03-21T15:54:44.732Z"
   },
   {
    "duration": 17,
    "start_time": "2023-03-21T15:54:44.743Z"
   },
   {
    "duration": 307,
    "start_time": "2023-03-21T15:54:44.762Z"
   },
   {
    "duration": 222,
    "start_time": "2023-03-21T15:54:45.072Z"
   },
   {
    "duration": 4,
    "start_time": "2023-03-21T15:54:51.603Z"
   },
   {
    "duration": 76,
    "start_time": "2023-03-21T15:54:51.609Z"
   },
   {
    "duration": 8,
    "start_time": "2023-03-21T15:54:51.687Z"
   },
   {
    "duration": 4,
    "start_time": "2023-03-21T15:54:51.698Z"
   },
   {
    "duration": 10,
    "start_time": "2023-03-21T15:54:51.704Z"
   },
   {
    "duration": 18,
    "start_time": "2023-03-21T15:54:51.715Z"
   },
   {
    "duration": 20,
    "start_time": "2023-03-21T15:54:51.735Z"
   },
   {
    "duration": 20,
    "start_time": "2023-03-21T15:54:51.758Z"
   },
   {
    "duration": 13,
    "start_time": "2023-03-21T15:54:51.780Z"
   },
   {
    "duration": 34,
    "start_time": "2023-03-21T15:54:51.794Z"
   },
   {
    "duration": 29,
    "start_time": "2023-03-21T15:54:51.830Z"
   },
   {
    "duration": 45,
    "start_time": "2023-03-21T15:54:51.862Z"
   },
   {
    "duration": 305,
    "start_time": "2023-03-21T15:54:51.908Z"
   },
   {
    "duration": 231,
    "start_time": "2023-03-21T15:54:52.214Z"
   },
   {
    "duration": 3,
    "start_time": "2023-03-21T15:55:04.489Z"
   },
   {
    "duration": 73,
    "start_time": "2023-03-21T15:55:04.494Z"
   },
   {
    "duration": 9,
    "start_time": "2023-03-21T15:55:04.569Z"
   },
   {
    "duration": 7,
    "start_time": "2023-03-21T15:55:04.580Z"
   },
   {
    "duration": 8,
    "start_time": "2023-03-21T15:55:04.590Z"
   },
   {
    "duration": 20,
    "start_time": "2023-03-21T15:55:04.599Z"
   },
   {
    "duration": 16,
    "start_time": "2023-03-21T15:55:04.621Z"
   },
   {
    "duration": 35,
    "start_time": "2023-03-21T15:55:04.640Z"
   },
   {
    "duration": 12,
    "start_time": "2023-03-21T15:55:04.677Z"
   },
   {
    "duration": 34,
    "start_time": "2023-03-21T15:55:04.692Z"
   },
   {
    "duration": 9,
    "start_time": "2023-03-21T15:55:04.728Z"
   },
   {
    "duration": 12,
    "start_time": "2023-03-21T15:55:04.738Z"
   },
   {
    "duration": 322,
    "start_time": "2023-03-21T15:55:04.752Z"
   },
   {
    "duration": 219,
    "start_time": "2023-03-21T15:55:05.077Z"
   },
   {
    "duration": 4,
    "start_time": "2023-03-21T15:55:21.547Z"
   },
   {
    "duration": 77,
    "start_time": "2023-03-21T15:55:21.553Z"
   },
   {
    "duration": 9,
    "start_time": "2023-03-21T15:55:21.632Z"
   },
   {
    "duration": 4,
    "start_time": "2023-03-21T15:55:21.643Z"
   },
   {
    "duration": 8,
    "start_time": "2023-03-21T15:55:21.649Z"
   },
   {
    "duration": 21,
    "start_time": "2023-03-21T15:55:21.659Z"
   },
   {
    "duration": 14,
    "start_time": "2023-03-21T15:55:21.682Z"
   },
   {
    "duration": 25,
    "start_time": "2023-03-21T15:55:21.724Z"
   },
   {
    "duration": 16,
    "start_time": "2023-03-21T15:55:21.751Z"
   },
   {
    "duration": 16,
    "start_time": "2023-03-21T15:55:21.769Z"
   },
   {
    "duration": 7,
    "start_time": "2023-03-21T15:55:21.787Z"
   },
   {
    "duration": 39,
    "start_time": "2023-03-21T15:55:21.796Z"
   },
   {
    "duration": 287,
    "start_time": "2023-03-21T15:55:21.837Z"
   },
   {
    "duration": 209,
    "start_time": "2023-03-21T15:55:22.126Z"
   },
   {
    "duration": 4,
    "start_time": "2023-03-21T15:56:19.538Z"
   },
   {
    "duration": 79,
    "start_time": "2023-03-21T15:56:19.544Z"
   },
   {
    "duration": 10,
    "start_time": "2023-03-21T15:56:19.625Z"
   },
   {
    "duration": 6,
    "start_time": "2023-03-21T15:56:19.637Z"
   },
   {
    "duration": 7,
    "start_time": "2023-03-21T15:56:19.645Z"
   },
   {
    "duration": 20,
    "start_time": "2023-03-21T15:56:19.653Z"
   },
   {
    "duration": 12,
    "start_time": "2023-03-21T15:56:19.675Z"
   },
   {
    "duration": 51,
    "start_time": "2023-03-21T15:56:19.689Z"
   },
   {
    "duration": 13,
    "start_time": "2023-03-21T15:56:19.741Z"
   },
   {
    "duration": 7,
    "start_time": "2023-03-21T15:56:19.756Z"
   },
   {
    "duration": 7,
    "start_time": "2023-03-21T15:56:19.764Z"
   },
   {
    "duration": 10,
    "start_time": "2023-03-21T15:56:19.773Z"
   },
   {
    "duration": 320,
    "start_time": "2023-03-21T15:56:19.784Z"
   },
   {
    "duration": 251,
    "start_time": "2023-03-21T15:56:20.106Z"
   },
   {
    "duration": 3,
    "start_time": "2023-03-21T15:56:31.459Z"
   },
   {
    "duration": 109,
    "start_time": "2023-03-21T15:56:31.464Z"
   },
   {
    "duration": 8,
    "start_time": "2023-03-21T15:56:31.575Z"
   },
   {
    "duration": 17,
    "start_time": "2023-03-21T15:56:31.584Z"
   },
   {
    "duration": 12,
    "start_time": "2023-03-21T15:56:31.603Z"
   },
   {
    "duration": 42,
    "start_time": "2023-03-21T15:56:31.617Z"
   },
   {
    "duration": 16,
    "start_time": "2023-03-21T15:56:31.660Z"
   },
   {
    "duration": 25,
    "start_time": "2023-03-21T15:56:31.677Z"
   },
   {
    "duration": 22,
    "start_time": "2023-03-21T15:56:31.704Z"
   },
   {
    "duration": 11,
    "start_time": "2023-03-21T15:56:31.727Z"
   },
   {
    "duration": 7,
    "start_time": "2023-03-21T15:56:31.740Z"
   },
   {
    "duration": 18,
    "start_time": "2023-03-21T15:56:31.749Z"
   },
   {
    "duration": 281,
    "start_time": "2023-03-21T15:56:31.768Z"
   },
   {
    "duration": 219,
    "start_time": "2023-03-21T15:56:32.052Z"
   },
   {
    "duration": 3,
    "start_time": "2023-03-21T15:56:56.879Z"
   },
   {
    "duration": 83,
    "start_time": "2023-03-21T15:56:56.884Z"
   },
   {
    "duration": 8,
    "start_time": "2023-03-21T15:56:56.969Z"
   },
   {
    "duration": 4,
    "start_time": "2023-03-21T15:56:56.979Z"
   },
   {
    "duration": 7,
    "start_time": "2023-03-21T15:56:56.986Z"
   },
   {
    "duration": 23,
    "start_time": "2023-03-21T15:56:56.994Z"
   },
   {
    "duration": 15,
    "start_time": "2023-03-21T15:56:57.019Z"
   },
   {
    "duration": 28,
    "start_time": "2023-03-21T15:56:57.036Z"
   },
   {
    "duration": 21,
    "start_time": "2023-03-21T15:56:57.065Z"
   },
   {
    "duration": 9,
    "start_time": "2023-03-21T15:56:57.089Z"
   },
   {
    "duration": 77,
    "start_time": "2023-03-21T15:56:57.124Z"
   },
   {
    "duration": 26,
    "start_time": "2023-03-21T15:56:57.203Z"
   },
   {
    "duration": 293,
    "start_time": "2023-03-21T15:56:57.231Z"
   },
   {
    "duration": 219,
    "start_time": "2023-03-21T15:56:57.527Z"
   },
   {
    "duration": 4,
    "start_time": "2023-03-21T15:57:32.103Z"
   },
   {
    "duration": 88,
    "start_time": "2023-03-21T15:57:32.109Z"
   },
   {
    "duration": 11,
    "start_time": "2023-03-21T15:57:32.199Z"
   },
   {
    "duration": 25,
    "start_time": "2023-03-21T15:57:32.212Z"
   },
   {
    "duration": 25,
    "start_time": "2023-03-21T15:57:32.241Z"
   },
   {
    "duration": 52,
    "start_time": "2023-03-21T15:57:32.268Z"
   },
   {
    "duration": 19,
    "start_time": "2023-03-21T15:57:32.322Z"
   },
   {
    "duration": 32,
    "start_time": "2023-03-21T15:57:32.343Z"
   },
   {
    "duration": 49,
    "start_time": "2023-03-21T15:57:32.378Z"
   },
   {
    "duration": 28,
    "start_time": "2023-03-21T15:57:32.430Z"
   },
   {
    "duration": 34,
    "start_time": "2023-03-21T15:57:32.461Z"
   },
   {
    "duration": 22,
    "start_time": "2023-03-21T15:57:32.497Z"
   },
   {
    "duration": 430,
    "start_time": "2023-03-21T15:57:32.522Z"
   },
   {
    "duration": 330,
    "start_time": "2023-03-21T15:57:32.955Z"
   },
   {
    "duration": 286,
    "start_time": "2023-03-21T15:57:33.287Z"
   },
   {
    "duration": 4,
    "start_time": "2023-03-21T15:58:56.607Z"
   },
   {
    "duration": 72,
    "start_time": "2023-03-21T15:58:56.613Z"
   },
   {
    "duration": 9,
    "start_time": "2023-03-21T15:58:56.686Z"
   },
   {
    "duration": 3,
    "start_time": "2023-03-21T15:58:56.696Z"
   },
   {
    "duration": 8,
    "start_time": "2023-03-21T15:58:56.701Z"
   },
   {
    "duration": 34,
    "start_time": "2023-03-21T15:58:56.711Z"
   },
   {
    "duration": 16,
    "start_time": "2023-03-21T15:58:56.746Z"
   },
   {
    "duration": 25,
    "start_time": "2023-03-21T15:58:56.764Z"
   },
   {
    "duration": 41,
    "start_time": "2023-03-21T15:58:56.791Z"
   },
   {
    "duration": 8,
    "start_time": "2023-03-21T15:58:56.835Z"
   },
   {
    "duration": 9,
    "start_time": "2023-03-21T15:58:56.846Z"
   },
   {
    "duration": 11,
    "start_time": "2023-03-21T15:58:56.857Z"
   },
   {
    "duration": 312,
    "start_time": "2023-03-21T15:58:56.870Z"
   },
   {
    "duration": 311,
    "start_time": "2023-03-21T15:58:57.186Z"
   },
   {
    "duration": 316,
    "start_time": "2023-03-21T15:58:57.499Z"
   },
   {
    "duration": 4,
    "start_time": "2023-03-21T15:59:13.898Z"
   },
   {
    "duration": 75,
    "start_time": "2023-03-21T15:59:13.904Z"
   },
   {
    "duration": 10,
    "start_time": "2023-03-21T15:59:13.980Z"
   },
   {
    "duration": 4,
    "start_time": "2023-03-21T15:59:13.992Z"
   },
   {
    "duration": 8,
    "start_time": "2023-03-21T15:59:13.998Z"
   },
   {
    "duration": 19,
    "start_time": "2023-03-21T15:59:14.008Z"
   },
   {
    "duration": 12,
    "start_time": "2023-03-21T15:59:14.029Z"
   },
   {
    "duration": 24,
    "start_time": "2023-03-21T15:59:14.043Z"
   },
   {
    "duration": 14,
    "start_time": "2023-03-21T15:59:14.069Z"
   },
   {
    "duration": 7,
    "start_time": "2023-03-21T15:59:14.086Z"
   },
   {
    "duration": 8,
    "start_time": "2023-03-21T15:59:14.123Z"
   },
   {
    "duration": 11,
    "start_time": "2023-03-21T15:59:14.133Z"
   },
   {
    "duration": 305,
    "start_time": "2023-03-21T15:59:14.146Z"
   },
   {
    "duration": 226,
    "start_time": "2023-03-21T15:59:14.453Z"
   },
   {
    "duration": 330,
    "start_time": "2023-03-21T15:59:14.682Z"
   },
   {
    "duration": 5,
    "start_time": "2023-03-21T15:59:30.457Z"
   },
   {
    "duration": 160,
    "start_time": "2023-03-21T15:59:30.465Z"
   },
   {
    "duration": 8,
    "start_time": "2023-03-21T15:59:30.628Z"
   },
   {
    "duration": 26,
    "start_time": "2023-03-21T15:59:30.638Z"
   },
   {
    "duration": 43,
    "start_time": "2023-03-21T15:59:30.667Z"
   },
   {
    "duration": 41,
    "start_time": "2023-03-21T15:59:30.712Z"
   },
   {
    "duration": 51,
    "start_time": "2023-03-21T15:59:30.754Z"
   },
   {
    "duration": 62,
    "start_time": "2023-03-21T15:59:30.807Z"
   },
   {
    "duration": 40,
    "start_time": "2023-03-21T15:59:30.870Z"
   },
   {
    "duration": 48,
    "start_time": "2023-03-21T15:59:30.912Z"
   },
   {
    "duration": 30,
    "start_time": "2023-03-21T15:59:30.962Z"
   },
   {
    "duration": 57,
    "start_time": "2023-03-21T15:59:30.995Z"
   },
   {
    "duration": 323,
    "start_time": "2023-03-21T15:59:31.054Z"
   },
   {
    "duration": 217,
    "start_time": "2023-03-21T15:59:31.379Z"
   },
   {
    "duration": 227,
    "start_time": "2023-03-21T15:59:31.597Z"
   },
   {
    "duration": 9,
    "start_time": "2023-03-21T16:01:41.155Z"
   },
   {
    "duration": 73,
    "start_time": "2023-03-21T16:01:41.167Z"
   },
   {
    "duration": 10,
    "start_time": "2023-03-21T16:01:41.242Z"
   },
   {
    "duration": 4,
    "start_time": "2023-03-21T16:01:41.254Z"
   },
   {
    "duration": 6,
    "start_time": "2023-03-21T16:01:41.261Z"
   },
   {
    "duration": 21,
    "start_time": "2023-03-21T16:01:41.269Z"
   },
   {
    "duration": 33,
    "start_time": "2023-03-21T16:01:41.291Z"
   },
   {
    "duration": 21,
    "start_time": "2023-03-21T16:01:41.326Z"
   },
   {
    "duration": 13,
    "start_time": "2023-03-21T16:01:41.348Z"
   },
   {
    "duration": 10,
    "start_time": "2023-03-21T16:01:41.363Z"
   },
   {
    "duration": 7,
    "start_time": "2023-03-21T16:01:41.375Z"
   },
   {
    "duration": 14,
    "start_time": "2023-03-21T16:01:41.423Z"
   },
   {
    "duration": 306,
    "start_time": "2023-03-21T16:01:41.440Z"
   },
   {
    "duration": 282,
    "start_time": "2023-03-21T16:01:41.749Z"
   },
   {
    "duration": 271,
    "start_time": "2023-03-21T16:01:42.033Z"
   },
   {
    "duration": 3,
    "start_time": "2023-03-21T16:02:26.065Z"
   },
   {
    "duration": 86,
    "start_time": "2023-03-21T16:02:26.070Z"
   },
   {
    "duration": 8,
    "start_time": "2023-03-21T16:02:26.158Z"
   },
   {
    "duration": 6,
    "start_time": "2023-03-21T16:02:26.167Z"
   },
   {
    "duration": 6,
    "start_time": "2023-03-21T16:02:26.175Z"
   },
   {
    "duration": 22,
    "start_time": "2023-03-21T16:02:26.182Z"
   },
   {
    "duration": 11,
    "start_time": "2023-03-21T16:02:26.205Z"
   },
   {
    "duration": 29,
    "start_time": "2023-03-21T16:02:26.217Z"
   },
   {
    "duration": 13,
    "start_time": "2023-03-21T16:02:26.247Z"
   },
   {
    "duration": 8,
    "start_time": "2023-03-21T16:02:26.262Z"
   },
   {
    "duration": 115,
    "start_time": "2023-03-21T16:02:26.271Z"
   },
   {
    "duration": 17,
    "start_time": "2023-03-21T16:02:26.387Z"
   },
   {
    "duration": 292,
    "start_time": "2023-03-21T16:02:26.405Z"
   },
   {
    "duration": 250,
    "start_time": "2023-03-21T16:02:26.700Z"
   },
   {
    "duration": 236,
    "start_time": "2023-03-21T16:02:26.951Z"
   },
   {
    "duration": 336,
    "start_time": "2023-03-21T16:02:27.189Z"
   },
   {
    "duration": 4,
    "start_time": "2023-03-21T16:02:41.665Z"
   },
   {
    "duration": 76,
    "start_time": "2023-03-21T16:02:41.671Z"
   },
   {
    "duration": 11,
    "start_time": "2023-03-21T16:02:41.749Z"
   },
   {
    "duration": 4,
    "start_time": "2023-03-21T16:02:41.762Z"
   },
   {
    "duration": 7,
    "start_time": "2023-03-21T16:02:41.769Z"
   },
   {
    "duration": 21,
    "start_time": "2023-03-21T16:02:41.777Z"
   },
   {
    "duration": 27,
    "start_time": "2023-03-21T16:02:41.800Z"
   },
   {
    "duration": 30,
    "start_time": "2023-03-21T16:02:41.829Z"
   },
   {
    "duration": 20,
    "start_time": "2023-03-21T16:02:41.861Z"
   },
   {
    "duration": 43,
    "start_time": "2023-03-21T16:02:41.883Z"
   },
   {
    "duration": 9,
    "start_time": "2023-03-21T16:02:41.927Z"
   },
   {
    "duration": 13,
    "start_time": "2023-03-21T16:02:41.938Z"
   },
   {
    "duration": 295,
    "start_time": "2023-03-21T16:02:41.953Z"
   },
   {
    "duration": 245,
    "start_time": "2023-03-21T16:02:42.251Z"
   },
   {
    "duration": 225,
    "start_time": "2023-03-21T16:02:42.498Z"
   },
   {
    "duration": 294,
    "start_time": "2023-03-21T16:02:42.725Z"
   },
   {
    "duration": 4,
    "start_time": "2023-03-21T16:05:44.392Z"
   },
   {
    "duration": 80,
    "start_time": "2023-03-21T16:05:44.397Z"
   },
   {
    "duration": 9,
    "start_time": "2023-03-21T16:05:44.479Z"
   },
   {
    "duration": 5,
    "start_time": "2023-03-21T16:05:44.490Z"
   },
   {
    "duration": 7,
    "start_time": "2023-03-21T16:05:44.498Z"
   },
   {
    "duration": 19,
    "start_time": "2023-03-21T16:05:44.506Z"
   },
   {
    "duration": 16,
    "start_time": "2023-03-21T16:05:44.527Z"
   },
   {
    "duration": 19,
    "start_time": "2023-03-21T16:05:44.545Z"
   },
   {
    "duration": 13,
    "start_time": "2023-03-21T16:05:44.565Z"
   },
   {
    "duration": 10,
    "start_time": "2023-03-21T16:05:44.580Z"
   },
   {
    "duration": 37,
    "start_time": "2023-03-21T16:05:44.591Z"
   },
   {
    "duration": 13,
    "start_time": "2023-03-21T16:05:44.629Z"
   },
   {
    "duration": 315,
    "start_time": "2023-03-21T16:05:44.644Z"
   },
   {
    "duration": 232,
    "start_time": "2023-03-21T16:05:44.961Z"
   },
   {
    "duration": 239,
    "start_time": "2023-03-21T16:05:45.195Z"
   },
   {
    "duration": 290,
    "start_time": "2023-03-21T16:05:45.436Z"
   },
   {
    "duration": 3,
    "start_time": "2023-03-21T16:05:54.426Z"
   },
   {
    "duration": 91,
    "start_time": "2023-03-21T16:05:54.432Z"
   },
   {
    "duration": 9,
    "start_time": "2023-03-21T16:05:54.525Z"
   },
   {
    "duration": 23,
    "start_time": "2023-03-21T16:05:54.536Z"
   },
   {
    "duration": 17,
    "start_time": "2023-03-21T16:05:54.561Z"
   },
   {
    "duration": 30,
    "start_time": "2023-03-21T16:05:54.579Z"
   },
   {
    "duration": 14,
    "start_time": "2023-03-21T16:05:54.611Z"
   },
   {
    "duration": 21,
    "start_time": "2023-03-21T16:05:54.627Z"
   },
   {
    "duration": 12,
    "start_time": "2023-03-21T16:05:54.650Z"
   },
   {
    "duration": 9,
    "start_time": "2023-03-21T16:05:54.664Z"
   },
   {
    "duration": 8,
    "start_time": "2023-03-21T16:05:54.675Z"
   },
   {
    "duration": 40,
    "start_time": "2023-03-21T16:05:54.685Z"
   },
   {
    "duration": 303,
    "start_time": "2023-03-21T16:05:54.728Z"
   },
   {
    "duration": 229,
    "start_time": "2023-03-21T16:05:55.035Z"
   },
   {
    "duration": 216,
    "start_time": "2023-03-21T16:05:55.266Z"
   },
   {
    "duration": 358,
    "start_time": "2023-03-21T16:05:55.484Z"
   },
   {
    "duration": 3,
    "start_time": "2023-03-21T16:07:48.298Z"
   },
   {
    "duration": 73,
    "start_time": "2023-03-21T16:07:48.303Z"
   },
   {
    "duration": 8,
    "start_time": "2023-03-21T16:07:48.378Z"
   },
   {
    "duration": 3,
    "start_time": "2023-03-21T16:07:48.388Z"
   },
   {
    "duration": 5,
    "start_time": "2023-03-21T16:07:48.394Z"
   },
   {
    "duration": 16,
    "start_time": "2023-03-21T16:07:48.401Z"
   },
   {
    "duration": 14,
    "start_time": "2023-03-21T16:07:48.419Z"
   },
   {
    "duration": 20,
    "start_time": "2023-03-21T16:07:48.435Z"
   },
   {
    "duration": 12,
    "start_time": "2023-03-21T16:07:48.457Z"
   },
   {
    "duration": 8,
    "start_time": "2023-03-21T16:07:48.471Z"
   },
   {
    "duration": 14,
    "start_time": "2023-03-21T16:07:48.481Z"
   },
   {
    "duration": 11,
    "start_time": "2023-03-21T16:07:48.524Z"
   },
   {
    "duration": 305,
    "start_time": "2023-03-21T16:07:48.537Z"
   },
   {
    "duration": 222,
    "start_time": "2023-03-21T16:07:48.845Z"
   },
   {
    "duration": 219,
    "start_time": "2023-03-21T16:07:49.069Z"
   },
   {
    "duration": 444,
    "start_time": "2023-03-21T16:07:49.290Z"
   },
   {
    "duration": 11,
    "start_time": "2023-03-21T16:07:49.736Z"
   },
   {
    "duration": 4,
    "start_time": "2023-03-21T16:08:19.188Z"
   },
   {
    "duration": 73,
    "start_time": "2023-03-21T16:08:19.194Z"
   },
   {
    "duration": 9,
    "start_time": "2023-03-21T16:08:19.268Z"
   },
   {
    "duration": 3,
    "start_time": "2023-03-21T16:08:19.279Z"
   },
   {
    "duration": 7,
    "start_time": "2023-03-21T16:08:19.285Z"
   },
   {
    "duration": 16,
    "start_time": "2023-03-21T16:08:19.293Z"
   },
   {
    "duration": 16,
    "start_time": "2023-03-21T16:08:19.311Z"
   },
   {
    "duration": 19,
    "start_time": "2023-03-21T16:08:19.328Z"
   },
   {
    "duration": 12,
    "start_time": "2023-03-21T16:08:19.348Z"
   },
   {
    "duration": 11,
    "start_time": "2023-03-21T16:08:19.362Z"
   },
   {
    "duration": 7,
    "start_time": "2023-03-21T16:08:19.374Z"
   },
   {
    "duration": 45,
    "start_time": "2023-03-21T16:08:19.384Z"
   },
   {
    "duration": 282,
    "start_time": "2023-03-21T16:08:19.431Z"
   },
   {
    "duration": 218,
    "start_time": "2023-03-21T16:08:19.715Z"
   },
   {
    "duration": 221,
    "start_time": "2023-03-21T16:08:19.934Z"
   },
   {
    "duration": 321,
    "start_time": "2023-03-21T16:08:20.157Z"
   },
   {
    "duration": 207,
    "start_time": "2023-03-21T16:08:20.482Z"
   },
   {
    "duration": 4,
    "start_time": "2023-03-21T16:09:32.727Z"
   },
   {
    "duration": 84,
    "start_time": "2023-03-21T16:09:32.733Z"
   },
   {
    "duration": 9,
    "start_time": "2023-03-21T16:09:32.818Z"
   },
   {
    "duration": 5,
    "start_time": "2023-03-21T16:09:32.828Z"
   },
   {
    "duration": 15,
    "start_time": "2023-03-21T16:09:32.835Z"
   },
   {
    "duration": 24,
    "start_time": "2023-03-21T16:09:32.852Z"
   },
   {
    "duration": 12,
    "start_time": "2023-03-21T16:09:32.878Z"
   },
   {
    "duration": 36,
    "start_time": "2023-03-21T16:09:32.891Z"
   },
   {
    "duration": 12,
    "start_time": "2023-03-21T16:09:32.929Z"
   },
   {
    "duration": 12,
    "start_time": "2023-03-21T16:09:32.943Z"
   },
   {
    "duration": 25,
    "start_time": "2023-03-21T16:09:32.956Z"
   },
   {
    "duration": 11,
    "start_time": "2023-03-21T16:09:32.983Z"
   },
   {
    "duration": 289,
    "start_time": "2023-03-21T16:09:32.995Z"
   },
   {
    "duration": 214,
    "start_time": "2023-03-21T16:09:33.287Z"
   },
   {
    "duration": 216,
    "start_time": "2023-03-21T16:09:33.503Z"
   },
   {
    "duration": 312,
    "start_time": "2023-03-21T16:09:33.723Z"
   },
   {
    "duration": 231,
    "start_time": "2023-03-21T16:09:34.037Z"
   },
   {
    "duration": 4,
    "start_time": "2023-03-21T16:12:00.126Z"
   },
   {
    "duration": 293,
    "start_time": "2023-03-21T16:12:00.132Z"
   },
   {
    "duration": 12,
    "start_time": "2023-03-21T16:12:00.428Z"
   },
   {
    "duration": 22,
    "start_time": "2023-03-21T16:12:00.443Z"
   },
   {
    "duration": 38,
    "start_time": "2023-03-21T16:12:00.467Z"
   },
   {
    "duration": 99,
    "start_time": "2023-03-21T16:12:00.508Z"
   },
   {
    "duration": 26,
    "start_time": "2023-03-21T16:12:00.608Z"
   },
   {
    "duration": 45,
    "start_time": "2023-03-21T16:12:00.637Z"
   },
   {
    "duration": 31,
    "start_time": "2023-03-21T16:12:00.684Z"
   },
   {
    "duration": 62,
    "start_time": "2023-03-21T16:12:00.717Z"
   },
   {
    "duration": 63,
    "start_time": "2023-03-21T16:12:00.781Z"
   },
   {
    "duration": 46,
    "start_time": "2023-03-21T16:12:00.846Z"
   },
   {
    "duration": 306,
    "start_time": "2023-03-21T16:12:00.896Z"
   },
   {
    "duration": 229,
    "start_time": "2023-03-21T16:12:01.205Z"
   },
   {
    "duration": 223,
    "start_time": "2023-03-21T16:12:01.435Z"
   },
   {
    "duration": 291,
    "start_time": "2023-03-21T16:12:01.660Z"
   },
   {
    "duration": 239,
    "start_time": "2023-03-21T16:12:01.952Z"
   },
   {
    "duration": 4,
    "start_time": "2023-03-21T16:16:22.398Z"
   },
   {
    "duration": 74,
    "start_time": "2023-03-21T16:16:22.404Z"
   },
   {
    "duration": 8,
    "start_time": "2023-03-21T16:16:22.480Z"
   },
   {
    "duration": 6,
    "start_time": "2023-03-21T16:16:22.489Z"
   },
   {
    "duration": 10,
    "start_time": "2023-03-21T16:16:22.497Z"
   },
   {
    "duration": 16,
    "start_time": "2023-03-21T16:16:22.509Z"
   },
   {
    "duration": 15,
    "start_time": "2023-03-21T16:16:22.527Z"
   },
   {
    "duration": 21,
    "start_time": "2023-03-21T16:16:22.543Z"
   },
   {
    "duration": 19,
    "start_time": "2023-03-21T16:16:22.566Z"
   },
   {
    "duration": 37,
    "start_time": "2023-03-21T16:16:22.587Z"
   },
   {
    "duration": 8,
    "start_time": "2023-03-21T16:16:22.626Z"
   },
   {
    "duration": 12,
    "start_time": "2023-03-21T16:16:22.635Z"
   },
   {
    "duration": 301,
    "start_time": "2023-03-21T16:16:22.649Z"
   },
   {
    "duration": 226,
    "start_time": "2023-03-21T16:16:22.953Z"
   },
   {
    "duration": 215,
    "start_time": "2023-03-21T16:16:23.181Z"
   },
   {
    "duration": 319,
    "start_time": "2023-03-21T16:16:23.398Z"
   },
   {
    "duration": 234,
    "start_time": "2023-03-21T16:16:23.724Z"
   },
   {
    "duration": 192,
    "start_time": "2023-03-21T16:16:23.960Z"
   },
   {
    "duration": 4,
    "start_time": "2023-03-21T16:16:35.505Z"
   },
   {
    "duration": 77,
    "start_time": "2023-03-21T16:16:35.511Z"
   },
   {
    "duration": 9,
    "start_time": "2023-03-21T16:16:35.590Z"
   },
   {
    "duration": 4,
    "start_time": "2023-03-21T16:16:35.600Z"
   },
   {
    "duration": 7,
    "start_time": "2023-03-21T16:16:35.606Z"
   },
   {
    "duration": 23,
    "start_time": "2023-03-21T16:16:35.615Z"
   },
   {
    "duration": 15,
    "start_time": "2023-03-21T16:16:35.640Z"
   },
   {
    "duration": 23,
    "start_time": "2023-03-21T16:16:35.656Z"
   },
   {
    "duration": 12,
    "start_time": "2023-03-21T16:16:35.681Z"
   },
   {
    "duration": 8,
    "start_time": "2023-03-21T16:16:35.724Z"
   },
   {
    "duration": 149,
    "start_time": "2023-03-21T16:16:35.734Z"
   },
   {
    "duration": 15,
    "start_time": "2023-03-21T16:16:35.885Z"
   },
   {
    "duration": 314,
    "start_time": "2023-03-21T16:16:35.902Z"
   },
   {
    "duration": 262,
    "start_time": "2023-03-21T16:16:36.222Z"
   },
   {
    "duration": 228,
    "start_time": "2023-03-21T16:16:36.486Z"
   },
   {
    "duration": 325,
    "start_time": "2023-03-21T16:16:36.715Z"
   },
   {
    "duration": 241,
    "start_time": "2023-03-21T16:16:37.042Z"
   },
   {
    "duration": 212,
    "start_time": "2023-03-21T16:16:37.285Z"
   },
   {
    "duration": 5,
    "start_time": "2023-03-21T16:17:40.005Z"
   },
   {
    "duration": 98,
    "start_time": "2023-03-21T16:17:40.013Z"
   },
   {
    "duration": 8,
    "start_time": "2023-03-21T16:17:40.113Z"
   },
   {
    "duration": 15,
    "start_time": "2023-03-21T16:17:40.123Z"
   },
   {
    "duration": 8,
    "start_time": "2023-03-21T16:17:40.141Z"
   },
   {
    "duration": 18,
    "start_time": "2023-03-21T16:17:40.151Z"
   },
   {
    "duration": 16,
    "start_time": "2023-03-21T16:17:40.171Z"
   },
   {
    "duration": 43,
    "start_time": "2023-03-21T16:17:40.189Z"
   },
   {
    "duration": 21,
    "start_time": "2023-03-21T16:17:40.235Z"
   },
   {
    "duration": 13,
    "start_time": "2023-03-21T16:17:40.258Z"
   },
   {
    "duration": 12,
    "start_time": "2023-03-21T16:17:40.273Z"
   },
   {
    "duration": 42,
    "start_time": "2023-03-21T16:17:40.288Z"
   },
   {
    "duration": 344,
    "start_time": "2023-03-21T16:17:40.332Z"
   },
   {
    "duration": 246,
    "start_time": "2023-03-21T16:17:40.678Z"
   },
   {
    "duration": 231,
    "start_time": "2023-03-21T16:17:40.926Z"
   },
   {
    "duration": 271,
    "start_time": "2023-03-21T16:17:41.159Z"
   },
   {
    "duration": 237,
    "start_time": "2023-03-21T16:17:41.432Z"
   },
   {
    "duration": 227,
    "start_time": "2023-03-21T16:17:41.671Z"
   },
   {
    "duration": 5,
    "start_time": "2023-03-21T16:18:05.868Z"
   },
   {
    "duration": 75,
    "start_time": "2023-03-21T16:18:05.875Z"
   },
   {
    "duration": 9,
    "start_time": "2023-03-21T16:18:05.951Z"
   },
   {
    "duration": 9,
    "start_time": "2023-03-21T16:18:05.961Z"
   },
   {
    "duration": 29,
    "start_time": "2023-03-21T16:18:05.973Z"
   },
   {
    "duration": 26,
    "start_time": "2023-03-21T16:18:06.004Z"
   },
   {
    "duration": 13,
    "start_time": "2023-03-21T16:18:06.031Z"
   },
   {
    "duration": 22,
    "start_time": "2023-03-21T16:18:06.046Z"
   },
   {
    "duration": 31,
    "start_time": "2023-03-21T16:18:06.069Z"
   },
   {
    "duration": 25,
    "start_time": "2023-03-21T16:18:06.102Z"
   },
   {
    "duration": 8,
    "start_time": "2023-03-21T16:18:06.129Z"
   },
   {
    "duration": 12,
    "start_time": "2023-03-21T16:18:06.139Z"
   },
   {
    "duration": 291,
    "start_time": "2023-03-21T16:18:06.152Z"
   },
   {
    "duration": 216,
    "start_time": "2023-03-21T16:18:06.445Z"
   },
   {
    "duration": 223,
    "start_time": "2023-03-21T16:18:06.663Z"
   },
   {
    "duration": 329,
    "start_time": "2023-03-21T16:18:06.888Z"
   },
   {
    "duration": 238,
    "start_time": "2023-03-21T16:18:07.218Z"
   },
   {
    "duration": 318,
    "start_time": "2023-03-21T16:18:07.458Z"
   },
   {
    "duration": 4,
    "start_time": "2023-03-21T16:24:27.395Z"
   },
   {
    "duration": 103,
    "start_time": "2023-03-21T16:24:27.402Z"
   },
   {
    "duration": 8,
    "start_time": "2023-03-21T16:24:27.507Z"
   },
   {
    "duration": 3,
    "start_time": "2023-03-21T16:24:27.517Z"
   },
   {
    "duration": 8,
    "start_time": "2023-03-21T16:24:27.522Z"
   },
   {
    "duration": 17,
    "start_time": "2023-03-21T16:24:27.532Z"
   },
   {
    "duration": 12,
    "start_time": "2023-03-21T16:24:27.550Z"
   },
   {
    "duration": 20,
    "start_time": "2023-03-21T16:24:27.564Z"
   },
   {
    "duration": 42,
    "start_time": "2023-03-21T16:24:27.586Z"
   },
   {
    "duration": 7,
    "start_time": "2023-03-21T16:24:27.630Z"
   },
   {
    "duration": 12,
    "start_time": "2023-03-21T16:24:27.639Z"
   },
   {
    "duration": 10,
    "start_time": "2023-03-21T16:24:27.653Z"
   },
   {
    "duration": 303,
    "start_time": "2023-03-21T16:24:27.664Z"
   },
   {
    "duration": 216,
    "start_time": "2023-03-21T16:24:27.969Z"
   },
   {
    "duration": 216,
    "start_time": "2023-03-21T16:24:28.186Z"
   },
   {
    "duration": 330,
    "start_time": "2023-03-21T16:24:28.404Z"
   },
   {
    "duration": 229,
    "start_time": "2023-03-21T16:24:28.737Z"
   },
   {
    "duration": 313,
    "start_time": "2023-03-21T16:24:28.968Z"
   },
   {
    "duration": 9,
    "start_time": "2023-03-21T16:24:29.283Z"
   },
   {
    "duration": 3,
    "start_time": "2023-03-21T16:24:49.730Z"
   },
   {
    "duration": 77,
    "start_time": "2023-03-21T16:24:49.735Z"
   },
   {
    "duration": 8,
    "start_time": "2023-03-21T16:24:49.813Z"
   },
   {
    "duration": 5,
    "start_time": "2023-03-21T16:24:49.823Z"
   },
   {
    "duration": 9,
    "start_time": "2023-03-21T16:24:49.829Z"
   },
   {
    "duration": 17,
    "start_time": "2023-03-21T16:24:49.839Z"
   },
   {
    "duration": 12,
    "start_time": "2023-03-21T16:24:49.858Z"
   },
   {
    "duration": 51,
    "start_time": "2023-03-21T16:24:49.872Z"
   },
   {
    "duration": 13,
    "start_time": "2023-03-21T16:24:49.925Z"
   },
   {
    "duration": 7,
    "start_time": "2023-03-21T16:24:49.940Z"
   },
   {
    "duration": 8,
    "start_time": "2023-03-21T16:24:49.948Z"
   },
   {
    "duration": 14,
    "start_time": "2023-03-21T16:24:49.957Z"
   },
   {
    "duration": 315,
    "start_time": "2023-03-21T16:24:49.973Z"
   },
   {
    "duration": 284,
    "start_time": "2023-03-21T16:24:50.290Z"
   },
   {
    "duration": 385,
    "start_time": "2023-03-21T16:24:50.576Z"
   },
   {
    "duration": 281,
    "start_time": "2023-03-21T16:24:50.963Z"
   },
   {
    "duration": 223,
    "start_time": "2023-03-21T16:24:51.246Z"
   },
   {
    "duration": 317,
    "start_time": "2023-03-21T16:24:51.470Z"
   },
   {
    "duration": 13,
    "start_time": "2023-03-21T16:24:51.789Z"
   },
   {
    "duration": 3,
    "start_time": "2023-03-21T16:25:11.914Z"
   },
   {
    "duration": 75,
    "start_time": "2023-03-21T16:25:11.919Z"
   },
   {
    "duration": 7,
    "start_time": "2023-03-21T16:25:11.996Z"
   },
   {
    "duration": 3,
    "start_time": "2023-03-21T16:25:12.005Z"
   },
   {
    "duration": 5,
    "start_time": "2023-03-21T16:25:12.011Z"
   },
   {
    "duration": 17,
    "start_time": "2023-03-21T16:25:12.017Z"
   },
   {
    "duration": 12,
    "start_time": "2023-03-21T16:25:12.036Z"
   },
   {
    "duration": 19,
    "start_time": "2023-03-21T16:25:12.049Z"
   },
   {
    "duration": 14,
    "start_time": "2023-03-21T16:25:12.070Z"
   },
   {
    "duration": 37,
    "start_time": "2023-03-21T16:25:12.086Z"
   },
   {
    "duration": 7,
    "start_time": "2023-03-21T16:25:12.125Z"
   },
   {
    "duration": 10,
    "start_time": "2023-03-21T16:25:12.133Z"
   },
   {
    "duration": 291,
    "start_time": "2023-03-21T16:25:12.145Z"
   },
   {
    "duration": 220,
    "start_time": "2023-03-21T16:25:12.439Z"
   },
   {
    "duration": 225,
    "start_time": "2023-03-21T16:25:12.661Z"
   },
   {
    "duration": 323,
    "start_time": "2023-03-21T16:25:12.888Z"
   },
   {
    "duration": 216,
    "start_time": "2023-03-21T16:25:13.213Z"
   },
   {
    "duration": 332,
    "start_time": "2023-03-21T16:25:13.431Z"
   },
   {
    "duration": 15,
    "start_time": "2023-03-21T16:25:13.764Z"
   },
   {
    "duration": 4,
    "start_time": "2023-03-21T16:25:36.290Z"
   },
   {
    "duration": 73,
    "start_time": "2023-03-21T16:25:36.296Z"
   },
   {
    "duration": 10,
    "start_time": "2023-03-21T16:25:36.371Z"
   },
   {
    "duration": 3,
    "start_time": "2023-03-21T16:25:36.383Z"
   },
   {
    "duration": 8,
    "start_time": "2023-03-21T16:25:36.389Z"
   },
   {
    "duration": 17,
    "start_time": "2023-03-21T16:25:36.399Z"
   },
   {
    "duration": 13,
    "start_time": "2023-03-21T16:25:36.419Z"
   },
   {
    "duration": 22,
    "start_time": "2023-03-21T16:25:36.434Z"
   },
   {
    "duration": 13,
    "start_time": "2023-03-21T16:25:36.458Z"
   },
   {
    "duration": 7,
    "start_time": "2023-03-21T16:25:36.473Z"
   },
   {
    "duration": 8,
    "start_time": "2023-03-21T16:25:36.482Z"
   },
   {
    "duration": 10,
    "start_time": "2023-03-21T16:25:36.523Z"
   },
   {
    "duration": 294,
    "start_time": "2023-03-21T16:25:36.535Z"
   },
   {
    "duration": 231,
    "start_time": "2023-03-21T16:25:36.833Z"
   },
   {
    "duration": 275,
    "start_time": "2023-03-21T16:25:37.066Z"
   },
   {
    "duration": 299,
    "start_time": "2023-03-21T16:25:37.342Z"
   },
   {
    "duration": 226,
    "start_time": "2023-03-21T16:25:37.643Z"
   },
   {
    "duration": 320,
    "start_time": "2023-03-21T16:25:37.871Z"
   },
   {
    "duration": 140,
    "start_time": "2023-03-21T16:25:38.193Z"
   },
   {
    "duration": 4,
    "start_time": "2023-03-21T16:26:18.422Z"
   },
   {
    "duration": 82,
    "start_time": "2023-03-21T16:26:18.428Z"
   },
   {
    "duration": 8,
    "start_time": "2023-03-21T16:26:18.514Z"
   },
   {
    "duration": 3,
    "start_time": "2023-03-21T16:26:18.524Z"
   },
   {
    "duration": 6,
    "start_time": "2023-03-21T16:26:18.529Z"
   },
   {
    "duration": 16,
    "start_time": "2023-03-21T16:26:18.536Z"
   },
   {
    "duration": 11,
    "start_time": "2023-03-21T16:26:18.554Z"
   },
   {
    "duration": 20,
    "start_time": "2023-03-21T16:26:18.566Z"
   },
   {
    "duration": 18,
    "start_time": "2023-03-21T16:26:18.624Z"
   },
   {
    "duration": 8,
    "start_time": "2023-03-21T16:26:18.644Z"
   },
   {
    "duration": 8,
    "start_time": "2023-03-21T16:26:18.654Z"
   },
   {
    "duration": 12,
    "start_time": "2023-03-21T16:26:18.664Z"
   },
   {
    "duration": 305,
    "start_time": "2023-03-21T16:26:18.678Z"
   },
   {
    "duration": 220,
    "start_time": "2023-03-21T16:26:18.986Z"
   },
   {
    "duration": 217,
    "start_time": "2023-03-21T16:26:19.208Z"
   },
   {
    "duration": 307,
    "start_time": "2023-03-21T16:26:19.427Z"
   },
   {
    "duration": 225,
    "start_time": "2023-03-21T16:26:19.736Z"
   },
   {
    "duration": 311,
    "start_time": "2023-03-21T16:26:19.963Z"
   },
   {
    "duration": 182,
    "start_time": "2023-03-21T16:26:20.276Z"
   },
   {
    "duration": 4,
    "start_time": "2023-03-21T16:26:53.688Z"
   },
   {
    "duration": 76,
    "start_time": "2023-03-21T16:26:53.694Z"
   },
   {
    "duration": 10,
    "start_time": "2023-03-21T16:26:53.772Z"
   },
   {
    "duration": 4,
    "start_time": "2023-03-21T16:26:53.784Z"
   },
   {
    "duration": 6,
    "start_time": "2023-03-21T16:26:53.791Z"
   },
   {
    "duration": 19,
    "start_time": "2023-03-21T16:26:53.799Z"
   },
   {
    "duration": 28,
    "start_time": "2023-03-21T16:26:53.820Z"
   },
   {
    "duration": 26,
    "start_time": "2023-03-21T16:26:53.851Z"
   },
   {
    "duration": 14,
    "start_time": "2023-03-21T16:26:53.879Z"
   },
   {
    "duration": 13,
    "start_time": "2023-03-21T16:26:53.895Z"
   },
   {
    "duration": 14,
    "start_time": "2023-03-21T16:26:53.910Z"
   },
   {
    "duration": 14,
    "start_time": "2023-03-21T16:26:53.925Z"
   },
   {
    "duration": 284,
    "start_time": "2023-03-21T16:26:53.940Z"
   },
   {
    "duration": 218,
    "start_time": "2023-03-21T16:26:54.226Z"
   },
   {
    "duration": 220,
    "start_time": "2023-03-21T16:26:54.446Z"
   },
   {
    "duration": 281,
    "start_time": "2023-03-21T16:26:54.668Z"
   },
   {
    "duration": 227,
    "start_time": "2023-03-21T16:26:54.951Z"
   },
   {
    "duration": 370,
    "start_time": "2023-03-21T16:26:55.180Z"
   },
   {
    "duration": 338,
    "start_time": "2023-03-21T16:26:55.552Z"
   },
   {
    "duration": 3,
    "start_time": "2023-03-21T16:27:51.998Z"
   },
   {
    "duration": 88,
    "start_time": "2023-03-21T16:27:52.003Z"
   },
   {
    "duration": 11,
    "start_time": "2023-03-21T16:27:52.093Z"
   },
   {
    "duration": 11,
    "start_time": "2023-03-21T16:27:52.106Z"
   },
   {
    "duration": 14,
    "start_time": "2023-03-21T16:27:52.119Z"
   },
   {
    "duration": 29,
    "start_time": "2023-03-21T16:27:52.135Z"
   },
   {
    "duration": 12,
    "start_time": "2023-03-21T16:27:52.166Z"
   },
   {
    "duration": 20,
    "start_time": "2023-03-21T16:27:52.179Z"
   },
   {
    "duration": 31,
    "start_time": "2023-03-21T16:27:52.201Z"
   },
   {
    "duration": 12,
    "start_time": "2023-03-21T16:27:52.234Z"
   },
   {
    "duration": 8,
    "start_time": "2023-03-21T16:27:52.248Z"
   },
   {
    "duration": 20,
    "start_time": "2023-03-21T16:27:52.258Z"
   },
   {
    "duration": 292,
    "start_time": "2023-03-21T16:27:52.280Z"
   },
   {
    "duration": 243,
    "start_time": "2023-03-21T16:27:52.575Z"
   },
   {
    "duration": 215,
    "start_time": "2023-03-21T16:27:52.823Z"
   },
   {
    "duration": 297,
    "start_time": "2023-03-21T16:27:53.040Z"
   },
   {
    "duration": 224,
    "start_time": "2023-03-21T16:27:53.339Z"
   },
   {
    "duration": 302,
    "start_time": "2023-03-21T16:27:53.565Z"
   },
   {
    "duration": 148,
    "start_time": "2023-03-21T16:27:53.868Z"
   },
   {
    "duration": 3,
    "start_time": "2023-03-21T16:28:56.322Z"
   },
   {
    "duration": 73,
    "start_time": "2023-03-21T16:28:56.327Z"
   },
   {
    "duration": 8,
    "start_time": "2023-03-21T16:28:56.402Z"
   },
   {
    "duration": 3,
    "start_time": "2023-03-21T16:28:56.411Z"
   },
   {
    "duration": 6,
    "start_time": "2023-03-21T16:28:56.416Z"
   },
   {
    "duration": 18,
    "start_time": "2023-03-21T16:28:56.423Z"
   },
   {
    "duration": 14,
    "start_time": "2023-03-21T16:28:56.442Z"
   },
   {
    "duration": 20,
    "start_time": "2023-03-21T16:28:56.457Z"
   },
   {
    "duration": 12,
    "start_time": "2023-03-21T16:28:56.479Z"
   },
   {
    "duration": 6,
    "start_time": "2023-03-21T16:28:56.493Z"
   },
   {
    "duration": 7,
    "start_time": "2023-03-21T16:28:56.501Z"
   },
   {
    "duration": 19,
    "start_time": "2023-03-21T16:28:56.510Z"
   },
   {
    "duration": 393,
    "start_time": "2023-03-21T16:28:56.531Z"
   },
   {
    "duration": 239,
    "start_time": "2023-03-21T16:28:56.928Z"
   },
   {
    "duration": 255,
    "start_time": "2023-03-21T16:28:57.169Z"
   },
   {
    "duration": 341,
    "start_time": "2023-03-21T16:28:57.426Z"
   },
   {
    "duration": 229,
    "start_time": "2023-03-21T16:28:57.769Z"
   },
   {
    "duration": 352,
    "start_time": "2023-03-21T16:28:57.999Z"
   },
   {
    "duration": 168,
    "start_time": "2023-03-21T16:28:58.352Z"
   },
   {
    "duration": 4,
    "start_time": "2023-03-21T16:29:05.800Z"
   },
   {
    "duration": 73,
    "start_time": "2023-03-21T16:29:05.806Z"
   },
   {
    "duration": 8,
    "start_time": "2023-03-21T16:29:05.881Z"
   },
   {
    "duration": 4,
    "start_time": "2023-03-21T16:29:05.891Z"
   },
   {
    "duration": 8,
    "start_time": "2023-03-21T16:29:05.897Z"
   },
   {
    "duration": 17,
    "start_time": "2023-03-21T16:29:05.907Z"
   },
   {
    "duration": 12,
    "start_time": "2023-03-21T16:29:05.925Z"
   },
   {
    "duration": 21,
    "start_time": "2023-03-21T16:29:05.938Z"
   },
   {
    "duration": 14,
    "start_time": "2023-03-21T16:29:05.961Z"
   },
   {
    "duration": 8,
    "start_time": "2023-03-21T16:29:05.977Z"
   },
   {
    "duration": 43,
    "start_time": "2023-03-21T16:29:05.986Z"
   },
   {
    "duration": 12,
    "start_time": "2023-03-21T16:29:06.031Z"
   },
   {
    "duration": 291,
    "start_time": "2023-03-21T16:29:06.045Z"
   },
   {
    "duration": 212,
    "start_time": "2023-03-21T16:29:06.338Z"
   },
   {
    "duration": 218,
    "start_time": "2023-03-21T16:29:06.552Z"
   },
   {
    "duration": 285,
    "start_time": "2023-03-21T16:29:06.772Z"
   },
   {
    "duration": 231,
    "start_time": "2023-03-21T16:29:07.059Z"
   },
   {
    "duration": 347,
    "start_time": "2023-03-21T16:29:07.292Z"
   },
   {
    "duration": 182,
    "start_time": "2023-03-21T16:29:07.641Z"
   },
   {
    "duration": 3,
    "start_time": "2023-03-21T16:30:38.985Z"
   },
   {
    "duration": 73,
    "start_time": "2023-03-21T16:30:38.991Z"
   },
   {
    "duration": 8,
    "start_time": "2023-03-21T16:30:39.066Z"
   },
   {
    "duration": 4,
    "start_time": "2023-03-21T16:30:39.076Z"
   },
   {
    "duration": 7,
    "start_time": "2023-03-21T16:30:39.082Z"
   },
   {
    "duration": 16,
    "start_time": "2023-03-21T16:30:39.090Z"
   },
   {
    "duration": 11,
    "start_time": "2023-03-21T16:30:39.108Z"
   },
   {
    "duration": 20,
    "start_time": "2023-03-21T16:30:39.120Z"
   },
   {
    "duration": 13,
    "start_time": "2023-03-21T16:30:39.142Z"
   },
   {
    "duration": 8,
    "start_time": "2023-03-21T16:30:39.156Z"
   },
   {
    "duration": 10,
    "start_time": "2023-03-21T16:30:39.169Z"
   },
   {
    "duration": 11,
    "start_time": "2023-03-21T16:30:39.180Z"
   },
   {
    "duration": 304,
    "start_time": "2023-03-21T16:30:39.193Z"
   },
   {
    "duration": 221,
    "start_time": "2023-03-21T16:30:39.499Z"
   },
   {
    "duration": 210,
    "start_time": "2023-03-21T16:30:39.723Z"
   },
   {
    "duration": 301,
    "start_time": "2023-03-21T16:30:39.935Z"
   },
   {
    "duration": 290,
    "start_time": "2023-03-21T16:30:40.238Z"
   },
   {
    "duration": 381,
    "start_time": "2023-03-21T16:30:40.530Z"
   },
   {
    "duration": 159,
    "start_time": "2023-03-21T16:30:40.913Z"
   },
   {
    "duration": 3,
    "start_time": "2023-03-21T16:30:55.299Z"
   },
   {
    "duration": 72,
    "start_time": "2023-03-21T16:30:55.304Z"
   },
   {
    "duration": 9,
    "start_time": "2023-03-21T16:30:55.377Z"
   },
   {
    "duration": 10,
    "start_time": "2023-03-21T16:30:55.388Z"
   },
   {
    "duration": 22,
    "start_time": "2023-03-21T16:30:55.400Z"
   },
   {
    "duration": 33,
    "start_time": "2023-03-21T16:30:55.423Z"
   },
   {
    "duration": 10,
    "start_time": "2023-03-21T16:30:55.458Z"
   },
   {
    "duration": 18,
    "start_time": "2023-03-21T16:30:55.470Z"
   },
   {
    "duration": 12,
    "start_time": "2023-03-21T16:30:55.490Z"
   },
   {
    "duration": 23,
    "start_time": "2023-03-21T16:30:55.503Z"
   },
   {
    "duration": 10,
    "start_time": "2023-03-21T16:30:55.527Z"
   },
   {
    "duration": 10,
    "start_time": "2023-03-21T16:30:55.538Z"
   },
   {
    "duration": 286,
    "start_time": "2023-03-21T16:30:55.550Z"
   },
   {
    "duration": 207,
    "start_time": "2023-03-21T16:30:55.839Z"
   },
   {
    "duration": 210,
    "start_time": "2023-03-21T16:30:56.048Z"
   },
   {
    "duration": 297,
    "start_time": "2023-03-21T16:30:56.259Z"
   },
   {
    "duration": 267,
    "start_time": "2023-03-21T16:30:56.558Z"
   },
   {
    "duration": 338,
    "start_time": "2023-03-21T16:30:56.827Z"
   },
   {
    "duration": 170,
    "start_time": "2023-03-21T16:30:57.166Z"
   },
   {
    "duration": 4,
    "start_time": "2023-03-21T16:32:19.021Z"
   },
   {
    "duration": 79,
    "start_time": "2023-03-21T16:32:19.027Z"
   },
   {
    "duration": 9,
    "start_time": "2023-03-21T16:32:19.108Z"
   },
   {
    "duration": 3,
    "start_time": "2023-03-21T16:32:19.118Z"
   },
   {
    "duration": 6,
    "start_time": "2023-03-21T16:32:19.123Z"
   },
   {
    "duration": 17,
    "start_time": "2023-03-21T16:32:19.130Z"
   },
   {
    "duration": 12,
    "start_time": "2023-03-21T16:32:19.148Z"
   },
   {
    "duration": 23,
    "start_time": "2023-03-21T16:32:19.161Z"
   },
   {
    "duration": 37,
    "start_time": "2023-03-21T16:32:19.186Z"
   },
   {
    "duration": 8,
    "start_time": "2023-03-21T16:32:19.225Z"
   },
   {
    "duration": 9,
    "start_time": "2023-03-21T16:32:19.235Z"
   },
   {
    "duration": 14,
    "start_time": "2023-03-21T16:32:19.245Z"
   },
   {
    "duration": 305,
    "start_time": "2023-03-21T16:32:19.260Z"
   },
   {
    "duration": 222,
    "start_time": "2023-03-21T16:32:19.568Z"
   },
   {
    "duration": 456,
    "start_time": "2023-03-21T16:32:19.792Z"
   },
   {
    "duration": 331,
    "start_time": "2023-03-21T16:32:20.249Z"
   },
   {
    "duration": 239,
    "start_time": "2023-03-21T16:32:20.582Z"
   },
   {
    "duration": 332,
    "start_time": "2023-03-21T16:32:20.822Z"
   },
   {
    "duration": 171,
    "start_time": "2023-03-21T16:32:21.155Z"
   },
   {
    "duration": 3,
    "start_time": "2023-03-21T16:33:58.911Z"
   },
   {
    "duration": 72,
    "start_time": "2023-03-21T16:33:58.916Z"
   },
   {
    "duration": 8,
    "start_time": "2023-03-21T16:33:58.990Z"
   },
   {
    "duration": 10,
    "start_time": "2023-03-21T16:33:59.000Z"
   },
   {
    "duration": 7,
    "start_time": "2023-03-21T16:33:59.012Z"
   },
   {
    "duration": 17,
    "start_time": "2023-03-21T16:33:59.020Z"
   },
   {
    "duration": 11,
    "start_time": "2023-03-21T16:33:59.039Z"
   },
   {
    "duration": 19,
    "start_time": "2023-03-21T16:33:59.051Z"
   },
   {
    "duration": 12,
    "start_time": "2023-03-21T16:33:59.072Z"
   },
   {
    "duration": 38,
    "start_time": "2023-03-21T16:33:59.085Z"
   },
   {
    "duration": 8,
    "start_time": "2023-03-21T16:33:59.125Z"
   },
   {
    "duration": 57,
    "start_time": "2023-03-21T16:33:59.135Z"
   },
   {
    "duration": 4,
    "start_time": "2023-03-21T16:34:19.759Z"
   },
   {
    "duration": 72,
    "start_time": "2023-03-21T16:34:19.765Z"
   },
   {
    "duration": 8,
    "start_time": "2023-03-21T16:34:19.838Z"
   },
   {
    "duration": 7,
    "start_time": "2023-03-21T16:34:19.848Z"
   },
   {
    "duration": 8,
    "start_time": "2023-03-21T16:34:19.856Z"
   },
   {
    "duration": 21,
    "start_time": "2023-03-21T16:34:19.865Z"
   },
   {
    "duration": 12,
    "start_time": "2023-03-21T16:34:19.888Z"
   },
   {
    "duration": 31,
    "start_time": "2023-03-21T16:34:19.901Z"
   },
   {
    "duration": 12,
    "start_time": "2023-03-21T16:34:19.934Z"
   },
   {
    "duration": 6,
    "start_time": "2023-03-21T16:34:19.949Z"
   },
   {
    "duration": 7,
    "start_time": "2023-03-21T16:34:19.957Z"
   },
   {
    "duration": 3,
    "start_time": "2023-03-21T16:34:22.993Z"
   },
   {
    "duration": 74,
    "start_time": "2023-03-21T16:34:22.998Z"
   },
   {
    "duration": 8,
    "start_time": "2023-03-21T16:34:23.073Z"
   },
   {
    "duration": 4,
    "start_time": "2023-03-21T16:34:23.082Z"
   },
   {
    "duration": 6,
    "start_time": "2023-03-21T16:34:23.088Z"
   },
   {
    "duration": 17,
    "start_time": "2023-03-21T16:34:23.095Z"
   },
   {
    "duration": 11,
    "start_time": "2023-03-21T16:34:23.113Z"
   },
   {
    "duration": 18,
    "start_time": "2023-03-21T16:34:23.125Z"
   },
   {
    "duration": 12,
    "start_time": "2023-03-21T16:34:23.145Z"
   },
   {
    "duration": 10,
    "start_time": "2023-03-21T16:34:23.159Z"
   },
   {
    "duration": 6,
    "start_time": "2023-03-21T16:34:23.171Z"
   },
   {
    "duration": 50,
    "start_time": "2023-03-21T16:34:23.179Z"
   },
   {
    "duration": 4,
    "start_time": "2023-03-21T16:34:47.360Z"
   },
   {
    "duration": 82,
    "start_time": "2023-03-21T16:34:47.366Z"
   },
   {
    "duration": 9,
    "start_time": "2023-03-21T16:34:47.449Z"
   },
   {
    "duration": 8,
    "start_time": "2023-03-21T16:34:47.459Z"
   },
   {
    "duration": 7,
    "start_time": "2023-03-21T16:34:47.469Z"
   },
   {
    "duration": 22,
    "start_time": "2023-03-21T16:34:47.477Z"
   },
   {
    "duration": 12,
    "start_time": "2023-03-21T16:34:47.500Z"
   },
   {
    "duration": 24,
    "start_time": "2023-03-21T16:34:47.513Z"
   },
   {
    "duration": 13,
    "start_time": "2023-03-21T16:34:47.539Z"
   },
   {
    "duration": 14,
    "start_time": "2023-03-21T16:34:47.554Z"
   },
   {
    "duration": 8,
    "start_time": "2023-03-21T16:34:47.570Z"
   },
   {
    "duration": 61,
    "start_time": "2023-03-21T16:34:47.579Z"
   },
   {
    "duration": 4,
    "start_time": "2023-03-21T16:34:55.449Z"
   },
   {
    "duration": 87,
    "start_time": "2023-03-21T16:34:55.455Z"
   },
   {
    "duration": 8,
    "start_time": "2023-03-21T16:34:55.544Z"
   },
   {
    "duration": 5,
    "start_time": "2023-03-21T16:34:55.553Z"
   },
   {
    "duration": 7,
    "start_time": "2023-03-21T16:34:55.560Z"
   },
   {
    "duration": 26,
    "start_time": "2023-03-21T16:34:55.568Z"
   },
   {
    "duration": 14,
    "start_time": "2023-03-21T16:34:55.595Z"
   },
   {
    "duration": 19,
    "start_time": "2023-03-21T16:34:55.611Z"
   },
   {
    "duration": 11,
    "start_time": "2023-03-21T16:34:55.632Z"
   },
   {
    "duration": 16,
    "start_time": "2023-03-21T16:34:55.644Z"
   },
   {
    "duration": 6,
    "start_time": "2023-03-21T16:34:55.662Z"
   },
   {
    "duration": 17,
    "start_time": "2023-03-21T16:34:55.670Z"
   },
   {
    "duration": 10,
    "start_time": "2023-03-21T16:34:55.688Z"
   },
   {
    "duration": 297,
    "start_time": "2023-03-21T16:34:55.700Z"
   },
   {
    "duration": 211,
    "start_time": "2023-03-21T16:34:55.999Z"
   },
   {
    "duration": 225,
    "start_time": "2023-03-21T16:34:56.211Z"
   },
   {
    "duration": 350,
    "start_time": "2023-03-21T16:34:56.438Z"
   },
   {
    "duration": 239,
    "start_time": "2023-03-21T16:34:56.790Z"
   },
   {
    "duration": 329,
    "start_time": "2023-03-21T16:34:57.031Z"
   },
   {
    "duration": 180,
    "start_time": "2023-03-21T16:34:57.362Z"
   },
   {
    "duration": 4,
    "start_time": "2023-03-21T16:35:58.912Z"
   },
   {
    "duration": 73,
    "start_time": "2023-03-21T16:35:58.918Z"
   },
   {
    "duration": 9,
    "start_time": "2023-03-21T16:35:58.993Z"
   },
   {
    "duration": 4,
    "start_time": "2023-03-21T16:35:59.003Z"
   },
   {
    "duration": 6,
    "start_time": "2023-03-21T16:35:59.009Z"
   },
   {
    "duration": 19,
    "start_time": "2023-03-21T16:35:59.017Z"
   },
   {
    "duration": 14,
    "start_time": "2023-03-21T16:35:59.038Z"
   },
   {
    "duration": 22,
    "start_time": "2023-03-21T16:35:59.053Z"
   },
   {
    "duration": 14,
    "start_time": "2023-03-21T16:35:59.076Z"
   },
   {
    "duration": 32,
    "start_time": "2023-03-21T16:35:59.092Z"
   },
   {
    "duration": 8,
    "start_time": "2023-03-21T16:35:59.125Z"
   },
   {
    "duration": 44,
    "start_time": "2023-03-21T16:35:59.134Z"
   },
   {
    "duration": 3,
    "start_time": "2023-03-21T16:36:08.904Z"
   },
   {
    "duration": 73,
    "start_time": "2023-03-21T16:36:08.909Z"
   },
   {
    "duration": 8,
    "start_time": "2023-03-21T16:36:08.983Z"
   },
   {
    "duration": 3,
    "start_time": "2023-03-21T16:36:08.993Z"
   },
   {
    "duration": 9,
    "start_time": "2023-03-21T16:36:08.998Z"
   },
   {
    "duration": 18,
    "start_time": "2023-03-21T16:36:09.008Z"
   },
   {
    "duration": 11,
    "start_time": "2023-03-21T16:36:09.027Z"
   },
   {
    "duration": 19,
    "start_time": "2023-03-21T16:36:09.040Z"
   },
   {
    "duration": 13,
    "start_time": "2023-03-21T16:36:09.060Z"
   },
   {
    "duration": 8,
    "start_time": "2023-03-21T16:36:09.075Z"
   },
   {
    "duration": 7,
    "start_time": "2023-03-21T16:36:09.085Z"
   },
   {
    "duration": 15,
    "start_time": "2023-03-21T16:36:09.123Z"
   },
   {
    "duration": 3,
    "start_time": "2023-03-21T16:36:23.400Z"
   },
   {
    "duration": 74,
    "start_time": "2023-03-21T16:36:23.405Z"
   },
   {
    "duration": 8,
    "start_time": "2023-03-21T16:36:23.480Z"
   },
   {
    "duration": 5,
    "start_time": "2023-03-21T16:36:23.490Z"
   },
   {
    "duration": 6,
    "start_time": "2023-03-21T16:36:23.498Z"
   },
   {
    "duration": 18,
    "start_time": "2023-03-21T16:36:23.506Z"
   },
   {
    "duration": 13,
    "start_time": "2023-03-21T16:36:23.526Z"
   },
   {
    "duration": 20,
    "start_time": "2023-03-21T16:36:23.541Z"
   },
   {
    "duration": 13,
    "start_time": "2023-03-21T16:36:23.563Z"
   },
   {
    "duration": 8,
    "start_time": "2023-03-21T16:36:23.578Z"
   },
   {
    "duration": 8,
    "start_time": "2023-03-21T16:36:23.624Z"
   },
   {
    "duration": 12,
    "start_time": "2023-03-21T16:36:23.634Z"
   },
   {
    "duration": 4,
    "start_time": "2023-03-21T16:37:23.401Z"
   },
   {
    "duration": 80,
    "start_time": "2023-03-21T16:37:23.407Z"
   },
   {
    "duration": 9,
    "start_time": "2023-03-21T16:37:23.489Z"
   },
   {
    "duration": 5,
    "start_time": "2023-03-21T16:37:23.500Z"
   },
   {
    "duration": 6,
    "start_time": "2023-03-21T16:37:23.507Z"
   },
   {
    "duration": 17,
    "start_time": "2023-03-21T16:37:23.514Z"
   },
   {
    "duration": 13,
    "start_time": "2023-03-21T16:37:23.532Z"
   },
   {
    "duration": 24,
    "start_time": "2023-03-21T16:37:23.546Z"
   },
   {
    "duration": 12,
    "start_time": "2023-03-21T16:37:23.571Z"
   },
   {
    "duration": 14,
    "start_time": "2023-03-21T16:37:23.584Z"
   },
   {
    "duration": 26,
    "start_time": "2023-03-21T16:37:23.599Z"
   },
   {
    "duration": 15,
    "start_time": "2023-03-21T16:37:23.627Z"
   },
   {
    "duration": 10,
    "start_time": "2023-03-21T16:37:23.643Z"
   },
   {
    "duration": 282,
    "start_time": "2023-03-21T16:37:23.655Z"
   },
   {
    "duration": 225,
    "start_time": "2023-03-21T16:37:23.938Z"
   },
   {
    "duration": 216,
    "start_time": "2023-03-21T16:37:24.164Z"
   },
   {
    "duration": 289,
    "start_time": "2023-03-21T16:37:24.381Z"
   },
   {
    "duration": 227,
    "start_time": "2023-03-21T16:37:24.672Z"
   },
   {
    "duration": 358,
    "start_time": "2023-03-21T16:37:24.901Z"
   },
   {
    "duration": 172,
    "start_time": "2023-03-21T16:37:25.261Z"
   },
   {
    "duration": 3,
    "start_time": "2023-03-21T16:38:04.800Z"
   },
   {
    "duration": 72,
    "start_time": "2023-03-21T16:38:04.805Z"
   },
   {
    "duration": 8,
    "start_time": "2023-03-21T16:38:04.879Z"
   },
   {
    "duration": 4,
    "start_time": "2023-03-21T16:38:04.888Z"
   },
   {
    "duration": 5,
    "start_time": "2023-03-21T16:38:04.894Z"
   },
   {
    "duration": 18,
    "start_time": "2023-03-21T16:38:04.901Z"
   },
   {
    "duration": 11,
    "start_time": "2023-03-21T16:38:04.920Z"
   },
   {
    "duration": 20,
    "start_time": "2023-03-21T16:38:04.933Z"
   },
   {
    "duration": 13,
    "start_time": "2023-03-21T16:38:04.955Z"
   },
   {
    "duration": 31,
    "start_time": "2023-03-21T16:38:04.970Z"
   },
   {
    "duration": 10,
    "start_time": "2023-03-21T16:38:05.003Z"
   },
   {
    "duration": 21,
    "start_time": "2023-03-21T16:38:05.015Z"
   },
   {
    "duration": 18,
    "start_time": "2023-03-21T16:38:05.038Z"
   },
   {
    "duration": 305,
    "start_time": "2023-03-21T16:38:05.059Z"
   },
   {
    "duration": 216,
    "start_time": "2023-03-21T16:38:05.366Z"
   },
   {
    "duration": 212,
    "start_time": "2023-03-21T16:38:05.583Z"
   },
   {
    "duration": 329,
    "start_time": "2023-03-21T16:38:05.797Z"
   },
   {
    "duration": 216,
    "start_time": "2023-03-21T16:38:06.128Z"
   },
   {
    "duration": 328,
    "start_time": "2023-03-21T16:38:06.346Z"
   },
   {
    "duration": 199,
    "start_time": "2023-03-21T16:38:06.676Z"
   },
   {
    "duration": 4,
    "start_time": "2023-03-21T16:38:35.187Z"
   },
   {
    "duration": 73,
    "start_time": "2023-03-21T16:38:35.192Z"
   },
   {
    "duration": 9,
    "start_time": "2023-03-21T16:38:35.267Z"
   },
   {
    "duration": 4,
    "start_time": "2023-03-21T16:38:35.278Z"
   },
   {
    "duration": 6,
    "start_time": "2023-03-21T16:38:35.284Z"
   },
   {
    "duration": 31,
    "start_time": "2023-03-21T16:38:35.292Z"
   },
   {
    "duration": 11,
    "start_time": "2023-03-21T16:38:35.325Z"
   },
   {
    "duration": 19,
    "start_time": "2023-03-21T16:38:35.338Z"
   },
   {
    "duration": 12,
    "start_time": "2023-03-21T16:38:35.359Z"
   },
   {
    "duration": 10,
    "start_time": "2023-03-21T16:38:35.373Z"
   },
   {
    "duration": 40,
    "start_time": "2023-03-21T16:38:35.384Z"
   },
   {
    "duration": 11,
    "start_time": "2023-03-21T16:38:35.426Z"
   },
   {
    "duration": 292,
    "start_time": "2023-03-21T16:38:35.438Z"
   },
   {
    "duration": 265,
    "start_time": "2023-03-21T16:38:35.733Z"
   },
   {
    "duration": 231,
    "start_time": "2023-03-21T16:38:35.999Z"
   },
   {
    "duration": 308,
    "start_time": "2023-03-21T16:38:36.231Z"
   },
   {
    "duration": 232,
    "start_time": "2023-03-21T16:38:36.541Z"
   },
   {
    "duration": 333,
    "start_time": "2023-03-21T16:38:36.775Z"
   },
   {
    "duration": 168,
    "start_time": "2023-03-21T16:38:37.110Z"
   },
   {
    "duration": 5,
    "start_time": "2023-03-21T16:38:37.279Z"
   },
   {
    "duration": 3,
    "start_time": "2023-03-21T16:44:39.104Z"
   },
   {
    "duration": 79,
    "start_time": "2023-03-21T16:44:39.110Z"
   },
   {
    "duration": 8,
    "start_time": "2023-03-21T16:44:39.191Z"
   },
   {
    "duration": 4,
    "start_time": "2023-03-21T16:44:39.200Z"
   },
   {
    "duration": 5,
    "start_time": "2023-03-21T16:44:39.206Z"
   },
   {
    "duration": 16,
    "start_time": "2023-03-21T16:44:39.213Z"
   },
   {
    "duration": 14,
    "start_time": "2023-03-21T16:44:39.231Z"
   },
   {
    "duration": 19,
    "start_time": "2023-03-21T16:44:39.247Z"
   },
   {
    "duration": 13,
    "start_time": "2023-03-21T16:44:39.268Z"
   },
   {
    "duration": 9,
    "start_time": "2023-03-21T16:44:39.283Z"
   },
   {
    "duration": 11,
    "start_time": "2023-03-21T16:44:39.324Z"
   },
   {
    "duration": 12,
    "start_time": "2023-03-21T16:44:39.337Z"
   },
   {
    "duration": 301,
    "start_time": "2023-03-21T16:44:39.351Z"
   },
   {
    "duration": 229,
    "start_time": "2023-03-21T16:44:39.655Z"
   },
   {
    "duration": 235,
    "start_time": "2023-03-21T16:44:39.886Z"
   },
   {
    "duration": 347,
    "start_time": "2023-03-21T16:44:40.123Z"
   },
   {
    "duration": 229,
    "start_time": "2023-03-21T16:44:40.472Z"
   },
   {
    "duration": 353,
    "start_time": "2023-03-21T16:44:40.703Z"
   },
   {
    "duration": 159,
    "start_time": "2023-03-21T16:44:41.058Z"
   },
   {
    "duration": 5,
    "start_time": "2023-03-21T16:44:41.223Z"
   },
   {
    "duration": 8,
    "start_time": "2023-03-21T16:44:41.230Z"
   },
   {
    "duration": 4,
    "start_time": "2023-03-21T16:44:55.715Z"
   },
   {
    "duration": 73,
    "start_time": "2023-03-21T16:44:55.721Z"
   },
   {
    "duration": 8,
    "start_time": "2023-03-21T16:44:55.796Z"
   },
   {
    "duration": 15,
    "start_time": "2023-03-21T16:44:55.805Z"
   },
   {
    "duration": 19,
    "start_time": "2023-03-21T16:44:55.824Z"
   },
   {
    "duration": 37,
    "start_time": "2023-03-21T16:44:55.845Z"
   },
   {
    "duration": 20,
    "start_time": "2023-03-21T16:44:55.884Z"
   },
   {
    "duration": 27,
    "start_time": "2023-03-21T16:44:55.906Z"
   },
   {
    "duration": 13,
    "start_time": "2023-03-21T16:44:55.935Z"
   },
   {
    "duration": 8,
    "start_time": "2023-03-21T16:44:55.949Z"
   },
   {
    "duration": 7,
    "start_time": "2023-03-21T16:44:55.959Z"
   },
   {
    "duration": 11,
    "start_time": "2023-03-21T16:44:55.967Z"
   },
   {
    "duration": 323,
    "start_time": "2023-03-21T16:44:55.979Z"
   },
   {
    "duration": 248,
    "start_time": "2023-03-21T16:44:56.304Z"
   },
   {
    "duration": 236,
    "start_time": "2023-03-21T16:44:56.553Z"
   },
   {
    "duration": 357,
    "start_time": "2023-03-21T16:44:56.791Z"
   },
   {
    "duration": 230,
    "start_time": "2023-03-21T16:44:57.150Z"
   },
   {
    "duration": 602,
    "start_time": "2023-03-21T16:44:57.381Z"
   },
   {
    "duration": 161,
    "start_time": "2023-03-21T16:44:57.984Z"
   },
   {
    "duration": 5,
    "start_time": "2023-03-21T16:44:58.146Z"
   },
   {
    "duration": 10,
    "start_time": "2023-03-21T16:44:58.153Z"
   },
   {
    "duration": 4,
    "start_time": "2023-03-21T16:45:04.860Z"
   },
   {
    "duration": 74,
    "start_time": "2023-03-21T16:45:04.867Z"
   },
   {
    "duration": 9,
    "start_time": "2023-03-21T16:45:04.943Z"
   },
   {
    "duration": 5,
    "start_time": "2023-03-21T16:45:04.954Z"
   },
   {
    "duration": 6,
    "start_time": "2023-03-21T16:45:04.962Z"
   },
   {
    "duration": 22,
    "start_time": "2023-03-21T16:45:04.971Z"
   },
   {
    "duration": 28,
    "start_time": "2023-03-21T16:45:04.995Z"
   },
   {
    "duration": 27,
    "start_time": "2023-03-21T16:45:05.025Z"
   },
   {
    "duration": 16,
    "start_time": "2023-03-21T16:45:05.054Z"
   },
   {
    "duration": 18,
    "start_time": "2023-03-21T16:45:05.072Z"
   },
   {
    "duration": 37,
    "start_time": "2023-03-21T16:45:05.092Z"
   },
   {
    "duration": 12,
    "start_time": "2023-03-21T16:45:05.131Z"
   },
   {
    "duration": 296,
    "start_time": "2023-03-21T16:45:05.145Z"
   },
   {
    "duration": 224,
    "start_time": "2023-03-21T16:45:05.444Z"
   },
   {
    "duration": 247,
    "start_time": "2023-03-21T16:45:05.669Z"
   },
   {
    "duration": 320,
    "start_time": "2023-03-21T16:45:05.922Z"
   },
   {
    "duration": 253,
    "start_time": "2023-03-21T16:45:06.244Z"
   },
   {
    "duration": 366,
    "start_time": "2023-03-21T16:45:06.499Z"
   },
   {
    "duration": 169,
    "start_time": "2023-03-21T16:45:06.866Z"
   },
   {
    "duration": 6,
    "start_time": "2023-03-21T16:45:07.037Z"
   },
   {
    "duration": 149,
    "start_time": "2023-03-21T16:45:07.045Z"
   },
   {
    "duration": 3,
    "start_time": "2023-03-21T16:45:26.697Z"
   },
   {
    "duration": 83,
    "start_time": "2023-03-21T16:45:26.702Z"
   },
   {
    "duration": 8,
    "start_time": "2023-03-21T16:45:26.787Z"
   },
   {
    "duration": 16,
    "start_time": "2023-03-21T16:45:26.796Z"
   },
   {
    "duration": 14,
    "start_time": "2023-03-21T16:45:26.815Z"
   },
   {
    "duration": 41,
    "start_time": "2023-03-21T16:45:26.831Z"
   },
   {
    "duration": 25,
    "start_time": "2023-03-21T16:45:26.874Z"
   },
   {
    "duration": 25,
    "start_time": "2023-03-21T16:45:26.901Z"
   },
   {
    "duration": 21,
    "start_time": "2023-03-21T16:45:26.928Z"
   },
   {
    "duration": 24,
    "start_time": "2023-03-21T16:45:26.951Z"
   },
   {
    "duration": 9,
    "start_time": "2023-03-21T16:45:26.977Z"
   },
   {
    "duration": 13,
    "start_time": "2023-03-21T16:45:26.988Z"
   },
   {
    "duration": 301,
    "start_time": "2023-03-21T16:45:27.003Z"
   },
   {
    "duration": 218,
    "start_time": "2023-03-21T16:45:27.307Z"
   },
   {
    "duration": 217,
    "start_time": "2023-03-21T16:45:27.528Z"
   },
   {
    "duration": 284,
    "start_time": "2023-03-21T16:45:27.747Z"
   },
   {
    "duration": 222,
    "start_time": "2023-03-21T16:45:28.032Z"
   },
   {
    "duration": 312,
    "start_time": "2023-03-21T16:45:28.256Z"
   },
   {
    "duration": 169,
    "start_time": "2023-03-21T16:45:28.570Z"
   },
   {
    "duration": 5,
    "start_time": "2023-03-21T16:45:28.741Z"
   },
   {
    "duration": 169,
    "start_time": "2023-03-21T16:45:28.748Z"
   },
   {
    "duration": 3,
    "start_time": "2023-03-21T16:46:29.001Z"
   },
   {
    "duration": 72,
    "start_time": "2023-03-21T16:46:29.006Z"
   },
   {
    "duration": 8,
    "start_time": "2023-03-21T16:46:29.080Z"
   },
   {
    "duration": 3,
    "start_time": "2023-03-21T16:46:29.090Z"
   },
   {
    "duration": 7,
    "start_time": "2023-03-21T16:46:29.095Z"
   },
   {
    "duration": 20,
    "start_time": "2023-03-21T16:46:29.103Z"
   },
   {
    "duration": 11,
    "start_time": "2023-03-21T16:46:29.125Z"
   },
   {
    "duration": 20,
    "start_time": "2023-03-21T16:46:29.138Z"
   },
   {
    "duration": 18,
    "start_time": "2023-03-21T16:46:29.159Z"
   },
   {
    "duration": 8,
    "start_time": "2023-03-21T16:46:29.179Z"
   },
   {
    "duration": 8,
    "start_time": "2023-03-21T16:46:29.223Z"
   },
   {
    "duration": 12,
    "start_time": "2023-03-21T16:46:29.233Z"
   },
   {
    "duration": 300,
    "start_time": "2023-03-21T16:46:29.246Z"
   },
   {
    "duration": 216,
    "start_time": "2023-03-21T16:46:29.550Z"
   },
   {
    "duration": 221,
    "start_time": "2023-03-21T16:46:29.767Z"
   },
   {
    "duration": 346,
    "start_time": "2023-03-21T16:46:29.989Z"
   },
   {
    "duration": 275,
    "start_time": "2023-03-21T16:46:30.337Z"
   },
   {
    "duration": 344,
    "start_time": "2023-03-21T16:46:30.623Z"
   },
   {
    "duration": 158,
    "start_time": "2023-03-21T16:46:30.969Z"
   },
   {
    "duration": 6,
    "start_time": "2023-03-21T16:46:31.128Z"
   },
   {
    "duration": 151,
    "start_time": "2023-03-21T16:46:31.135Z"
   },
   {
    "duration": 5,
    "start_time": "2023-03-21T16:46:31.288Z"
   },
   {
    "duration": 4,
    "start_time": "2023-03-21T16:48:44.131Z"
   },
   {
    "duration": 78,
    "start_time": "2023-03-21T16:48:44.136Z"
   },
   {
    "duration": 8,
    "start_time": "2023-03-21T16:48:44.216Z"
   },
   {
    "duration": 3,
    "start_time": "2023-03-21T16:48:44.226Z"
   },
   {
    "duration": 7,
    "start_time": "2023-03-21T16:48:44.231Z"
   },
   {
    "duration": 27,
    "start_time": "2023-03-21T16:48:44.239Z"
   },
   {
    "duration": 15,
    "start_time": "2023-03-21T16:48:44.268Z"
   },
   {
    "duration": 39,
    "start_time": "2023-03-21T16:48:44.285Z"
   },
   {
    "duration": 12,
    "start_time": "2023-03-21T16:48:44.326Z"
   },
   {
    "duration": 8,
    "start_time": "2023-03-21T16:48:44.340Z"
   },
   {
    "duration": 7,
    "start_time": "2023-03-21T16:48:44.350Z"
   },
   {
    "duration": 10,
    "start_time": "2023-03-21T16:48:44.359Z"
   },
   {
    "duration": 295,
    "start_time": "2023-03-21T16:48:44.371Z"
   },
   {
    "duration": 216,
    "start_time": "2023-03-21T16:48:44.668Z"
   },
   {
    "duration": 226,
    "start_time": "2023-03-21T16:48:44.886Z"
   },
   {
    "duration": 323,
    "start_time": "2023-03-21T16:48:45.114Z"
   },
   {
    "duration": 225,
    "start_time": "2023-03-21T16:48:45.439Z"
   },
   {
    "duration": 303,
    "start_time": "2023-03-21T16:48:45.666Z"
   },
   {
    "duration": 165,
    "start_time": "2023-03-21T16:48:45.971Z"
   },
   {
    "duration": 6,
    "start_time": "2023-03-21T16:48:46.137Z"
   },
   {
    "duration": 160,
    "start_time": "2023-03-21T16:48:46.145Z"
   },
   {
    "duration": 3,
    "start_time": "2023-03-21T16:49:23.627Z"
   },
   {
    "duration": 73,
    "start_time": "2023-03-21T16:49:23.632Z"
   },
   {
    "duration": 8,
    "start_time": "2023-03-21T16:49:23.707Z"
   },
   {
    "duration": 6,
    "start_time": "2023-03-21T16:49:23.716Z"
   },
   {
    "duration": 8,
    "start_time": "2023-03-21T16:49:23.724Z"
   },
   {
    "duration": 18,
    "start_time": "2023-03-21T16:49:23.734Z"
   },
   {
    "duration": 12,
    "start_time": "2023-03-21T16:49:23.753Z"
   },
   {
    "duration": 19,
    "start_time": "2023-03-21T16:49:23.766Z"
   },
   {
    "duration": 43,
    "start_time": "2023-03-21T16:49:23.786Z"
   },
   {
    "duration": 8,
    "start_time": "2023-03-21T16:49:23.831Z"
   },
   {
    "duration": 8,
    "start_time": "2023-03-21T16:49:23.841Z"
   },
   {
    "duration": 11,
    "start_time": "2023-03-21T16:49:23.851Z"
   },
   {
    "duration": 305,
    "start_time": "2023-03-21T16:49:23.863Z"
   },
   {
    "duration": 230,
    "start_time": "2023-03-21T16:49:24.170Z"
   },
   {
    "duration": 215,
    "start_time": "2023-03-21T16:49:24.402Z"
   },
   {
    "duration": 310,
    "start_time": "2023-03-21T16:49:24.618Z"
   },
   {
    "duration": 224,
    "start_time": "2023-03-21T16:49:24.930Z"
   },
   {
    "duration": 323,
    "start_time": "2023-03-21T16:49:25.156Z"
   },
   {
    "duration": 150,
    "start_time": "2023-03-21T16:49:25.481Z"
   },
   {
    "duration": 5,
    "start_time": "2023-03-21T16:49:25.632Z"
   },
   {
    "duration": 139,
    "start_time": "2023-03-21T16:49:25.638Z"
   },
   {
    "duration": 4,
    "start_time": "2023-03-21T16:50:22.523Z"
   },
   {
    "duration": 75,
    "start_time": "2023-03-21T16:50:22.530Z"
   },
   {
    "duration": 9,
    "start_time": "2023-03-21T16:50:22.606Z"
   },
   {
    "duration": 4,
    "start_time": "2023-03-21T16:50:22.617Z"
   },
   {
    "duration": 14,
    "start_time": "2023-03-21T16:50:22.624Z"
   },
   {
    "duration": 28,
    "start_time": "2023-03-21T16:50:22.641Z"
   },
   {
    "duration": 13,
    "start_time": "2023-03-21T16:50:22.671Z"
   },
   {
    "duration": 21,
    "start_time": "2023-03-21T16:50:22.685Z"
   },
   {
    "duration": 31,
    "start_time": "2023-03-21T16:50:22.707Z"
   },
   {
    "duration": 10,
    "start_time": "2023-03-21T16:50:22.741Z"
   },
   {
    "duration": 10,
    "start_time": "2023-03-21T16:50:22.753Z"
   },
   {
    "duration": 12,
    "start_time": "2023-03-21T16:50:22.765Z"
   },
   {
    "duration": 338,
    "start_time": "2023-03-21T16:50:22.779Z"
   },
   {
    "duration": 227,
    "start_time": "2023-03-21T16:50:23.124Z"
   },
   {
    "duration": 217,
    "start_time": "2023-03-21T16:50:23.353Z"
   },
   {
    "duration": 285,
    "start_time": "2023-03-21T16:50:23.572Z"
   },
   {
    "duration": 231,
    "start_time": "2023-03-21T16:50:23.859Z"
   },
   {
    "duration": 359,
    "start_time": "2023-03-21T16:50:24.092Z"
   },
   {
    "duration": 159,
    "start_time": "2023-03-21T16:50:24.453Z"
   },
   {
    "duration": 12,
    "start_time": "2023-03-21T16:50:24.614Z"
   },
   {
    "duration": 173,
    "start_time": "2023-03-21T16:50:24.628Z"
   },
   {
    "duration": 5,
    "start_time": "2023-03-21T16:55:09.320Z"
   },
   {
    "duration": 73,
    "start_time": "2023-03-21T16:55:09.327Z"
   },
   {
    "duration": 9,
    "start_time": "2023-03-21T16:55:09.401Z"
   },
   {
    "duration": 4,
    "start_time": "2023-03-21T16:55:09.411Z"
   },
   {
    "duration": 7,
    "start_time": "2023-03-21T16:55:09.416Z"
   },
   {
    "duration": 16,
    "start_time": "2023-03-21T16:55:09.425Z"
   },
   {
    "duration": 11,
    "start_time": "2023-03-21T16:55:09.443Z"
   },
   {
    "duration": 20,
    "start_time": "2023-03-21T16:55:09.456Z"
   },
   {
    "duration": 14,
    "start_time": "2023-03-21T16:55:09.477Z"
   },
   {
    "duration": 8,
    "start_time": "2023-03-21T16:55:09.524Z"
   },
   {
    "duration": 8,
    "start_time": "2023-03-21T16:55:09.534Z"
   },
   {
    "duration": 13,
    "start_time": "2023-03-21T16:55:09.543Z"
   },
   {
    "duration": 307,
    "start_time": "2023-03-21T16:55:09.557Z"
   },
   {
    "duration": 225,
    "start_time": "2023-03-21T16:55:09.866Z"
   },
   {
    "duration": 283,
    "start_time": "2023-03-21T16:55:10.093Z"
   },
   {
    "duration": 350,
    "start_time": "2023-03-21T16:55:10.378Z"
   },
   {
    "duration": 244,
    "start_time": "2023-03-21T16:55:10.729Z"
   },
   {
    "duration": 691,
    "start_time": "2023-03-21T16:55:10.975Z"
   },
   {
    "duration": 166,
    "start_time": "2023-03-21T16:55:11.668Z"
   },
   {
    "duration": 153,
    "start_time": "2023-03-21T16:55:11.836Z"
   },
   {
    "duration": 3,
    "start_time": "2023-03-21T16:55:38.753Z"
   },
   {
    "duration": 72,
    "start_time": "2023-03-21T16:55:38.758Z"
   },
   {
    "duration": 8,
    "start_time": "2023-03-21T16:55:38.832Z"
   },
   {
    "duration": 4,
    "start_time": "2023-03-21T16:55:38.841Z"
   },
   {
    "duration": 7,
    "start_time": "2023-03-21T16:55:38.847Z"
   },
   {
    "duration": 18,
    "start_time": "2023-03-21T16:55:38.855Z"
   },
   {
    "duration": 10,
    "start_time": "2023-03-21T16:55:38.875Z"
   },
   {
    "duration": 47,
    "start_time": "2023-03-21T16:55:38.887Z"
   },
   {
    "duration": 12,
    "start_time": "2023-03-21T16:55:38.936Z"
   },
   {
    "duration": 10,
    "start_time": "2023-03-21T16:55:38.950Z"
   },
   {
    "duration": 7,
    "start_time": "2023-03-21T16:55:38.961Z"
   },
   {
    "duration": 12,
    "start_time": "2023-03-21T16:55:38.970Z"
   },
   {
    "duration": 312,
    "start_time": "2023-03-21T16:55:38.984Z"
   },
   {
    "duration": 224,
    "start_time": "2023-03-21T16:55:39.299Z"
   },
   {
    "duration": 215,
    "start_time": "2023-03-21T16:55:39.525Z"
   },
   {
    "duration": 300,
    "start_time": "2023-03-21T16:55:39.742Z"
   },
   {
    "duration": 253,
    "start_time": "2023-03-21T16:55:40.044Z"
   },
   {
    "duration": 366,
    "start_time": "2023-03-21T16:55:40.299Z"
   },
   {
    "duration": 174,
    "start_time": "2023-03-21T16:55:40.667Z"
   },
   {
    "duration": 178,
    "start_time": "2023-03-21T16:55:40.842Z"
   },
   {
    "duration": 4,
    "start_time": "2023-03-21T17:06:59.949Z"
   },
   {
    "duration": 76,
    "start_time": "2023-03-21T17:06:59.955Z"
   },
   {
    "duration": 8,
    "start_time": "2023-03-21T17:07:00.033Z"
   },
   {
    "duration": 34,
    "start_time": "2023-03-21T17:07:00.043Z"
   },
   {
    "duration": 29,
    "start_time": "2023-03-21T17:07:00.080Z"
   },
   {
    "duration": 21,
    "start_time": "2023-03-21T17:07:00.111Z"
   },
   {
    "duration": 14,
    "start_time": "2023-03-21T17:07:00.135Z"
   },
   {
    "duration": 19,
    "start_time": "2023-03-21T17:07:00.150Z"
   },
   {
    "duration": 25,
    "start_time": "2023-03-21T17:07:00.171Z"
   },
   {
    "duration": 25,
    "start_time": "2023-03-21T17:07:00.198Z"
   },
   {
    "duration": 9,
    "start_time": "2023-03-21T17:07:00.226Z"
   },
   {
    "duration": 24,
    "start_time": "2023-03-21T17:07:00.238Z"
   },
   {
    "duration": 427,
    "start_time": "2023-03-21T17:07:00.264Z"
   },
   {
    "duration": 230,
    "start_time": "2023-03-21T17:07:00.693Z"
   },
   {
    "duration": 234,
    "start_time": "2023-03-21T17:07:00.925Z"
   },
   {
    "duration": 289,
    "start_time": "2023-03-21T17:07:01.160Z"
   },
   {
    "duration": 219,
    "start_time": "2023-03-21T17:07:01.450Z"
   },
   {
    "duration": 323,
    "start_time": "2023-03-21T17:07:01.671Z"
   },
   {
    "duration": 181,
    "start_time": "2023-03-21T17:07:01.995Z"
   },
   {
    "duration": 160,
    "start_time": "2023-03-21T17:07:02.177Z"
   },
   {
    "duration": 207,
    "start_time": "2023-03-21T17:07:02.340Z"
   },
   {
    "duration": 23,
    "start_time": "2023-03-21T17:07:02.549Z"
   },
   {
    "duration": 4,
    "start_time": "2023-03-21T17:07:24.051Z"
   },
   {
    "duration": 74,
    "start_time": "2023-03-21T17:07:24.056Z"
   },
   {
    "duration": 8,
    "start_time": "2023-03-21T17:07:24.132Z"
   },
   {
    "duration": 4,
    "start_time": "2023-03-21T17:07:24.142Z"
   },
   {
    "duration": 10,
    "start_time": "2023-03-21T17:07:24.148Z"
   },
   {
    "duration": 18,
    "start_time": "2023-03-21T17:07:24.159Z"
   },
   {
    "duration": 14,
    "start_time": "2023-03-21T17:07:24.178Z"
   },
   {
    "duration": 42,
    "start_time": "2023-03-21T17:07:24.193Z"
   },
   {
    "duration": 13,
    "start_time": "2023-03-21T17:07:24.237Z"
   },
   {
    "duration": 13,
    "start_time": "2023-03-21T17:07:24.252Z"
   },
   {
    "duration": 9,
    "start_time": "2023-03-21T17:07:24.267Z"
   },
   {
    "duration": 28,
    "start_time": "2023-03-21T17:07:24.277Z"
   },
   {
    "duration": 280,
    "start_time": "2023-03-21T17:07:24.323Z"
   },
   {
    "duration": 237,
    "start_time": "2023-03-21T17:07:24.605Z"
   },
   {
    "duration": 218,
    "start_time": "2023-03-21T17:07:24.843Z"
   },
   {
    "duration": 279,
    "start_time": "2023-03-21T17:07:25.063Z"
   },
   {
    "duration": 230,
    "start_time": "2023-03-21T17:07:25.344Z"
   },
   {
    "duration": 322,
    "start_time": "2023-03-21T17:07:25.575Z"
   },
   {
    "duration": 158,
    "start_time": "2023-03-21T17:07:25.898Z"
   },
   {
    "duration": 154,
    "start_time": "2023-03-21T17:07:26.058Z"
   },
   {
    "duration": 200,
    "start_time": "2023-03-21T17:07:26.223Z"
   },
   {
    "duration": 23,
    "start_time": "2023-03-21T17:07:26.425Z"
   },
   {
    "duration": 15,
    "start_time": "2023-03-21T17:07:26.449Z"
   },
   {
    "duration": 3,
    "start_time": "2023-03-21T17:07:58.637Z"
   },
   {
    "duration": 72,
    "start_time": "2023-03-21T17:07:58.642Z"
   },
   {
    "duration": 9,
    "start_time": "2023-03-21T17:07:58.715Z"
   },
   {
    "duration": 7,
    "start_time": "2023-03-21T17:07:58.725Z"
   },
   {
    "duration": 11,
    "start_time": "2023-03-21T17:07:58.734Z"
   },
   {
    "duration": 28,
    "start_time": "2023-03-21T17:07:58.747Z"
   },
   {
    "duration": 15,
    "start_time": "2023-03-21T17:07:58.777Z"
   },
   {
    "duration": 37,
    "start_time": "2023-03-21T17:07:58.794Z"
   },
   {
    "duration": 13,
    "start_time": "2023-03-21T17:07:58.832Z"
   },
   {
    "duration": 7,
    "start_time": "2023-03-21T17:07:58.847Z"
   },
   {
    "duration": 6,
    "start_time": "2023-03-21T17:07:58.856Z"
   },
   {
    "duration": 10,
    "start_time": "2023-03-21T17:07:58.864Z"
   },
   {
    "duration": 302,
    "start_time": "2023-03-21T17:07:58.876Z"
   },
   {
    "duration": 230,
    "start_time": "2023-03-21T17:07:59.180Z"
   },
   {
    "duration": 215,
    "start_time": "2023-03-21T17:07:59.412Z"
   },
   {
    "duration": 315,
    "start_time": "2023-03-21T17:07:59.629Z"
   },
   {
    "duration": 227,
    "start_time": "2023-03-21T17:07:59.945Z"
   },
   {
    "duration": 372,
    "start_time": "2023-03-21T17:08:00.174Z"
   },
   {
    "duration": 212,
    "start_time": "2023-03-21T17:08:00.548Z"
   },
   {
    "duration": 163,
    "start_time": "2023-03-21T17:08:00.762Z"
   },
   {
    "duration": 218,
    "start_time": "2023-03-21T17:08:00.928Z"
   },
   {
    "duration": 26,
    "start_time": "2023-03-21T17:08:01.148Z"
   },
   {
    "duration": 201,
    "start_time": "2023-03-21T17:08:01.176Z"
   },
   {
    "duration": 3,
    "start_time": "2023-03-21T17:12:16.590Z"
   },
   {
    "duration": 83,
    "start_time": "2023-03-21T17:12:16.595Z"
   },
   {
    "duration": 8,
    "start_time": "2023-03-21T17:12:16.680Z"
   },
   {
    "duration": 5,
    "start_time": "2023-03-21T17:12:16.690Z"
   },
   {
    "duration": 10,
    "start_time": "2023-03-21T17:12:16.697Z"
   },
   {
    "duration": 42,
    "start_time": "2023-03-21T17:12:16.709Z"
   },
   {
    "duration": 15,
    "start_time": "2023-03-21T17:12:16.753Z"
   },
   {
    "duration": 21,
    "start_time": "2023-03-21T17:12:16.770Z"
   },
   {
    "duration": 33,
    "start_time": "2023-03-21T17:12:16.793Z"
   },
   {
    "duration": 7,
    "start_time": "2023-03-21T17:12:16.828Z"
   },
   {
    "duration": 9,
    "start_time": "2023-03-21T17:12:16.837Z"
   },
   {
    "duration": 13,
    "start_time": "2023-03-21T17:12:16.848Z"
   },
   {
    "duration": 342,
    "start_time": "2023-03-21T17:12:16.863Z"
   },
   {
    "duration": 235,
    "start_time": "2023-03-21T17:12:17.207Z"
   },
   {
    "duration": 222,
    "start_time": "2023-03-21T17:12:17.444Z"
   },
   {
    "duration": 295,
    "start_time": "2023-03-21T17:12:17.668Z"
   },
   {
    "duration": 241,
    "start_time": "2023-03-21T17:12:17.965Z"
   },
   {
    "duration": 354,
    "start_time": "2023-03-21T17:12:18.208Z"
   },
   {
    "duration": 160,
    "start_time": "2023-03-21T17:12:18.564Z"
   },
   {
    "duration": 163,
    "start_time": "2023-03-21T17:12:18.725Z"
   },
   {
    "duration": 215,
    "start_time": "2023-03-21T17:12:18.890Z"
   },
   {
    "duration": 29,
    "start_time": "2023-03-21T17:12:19.107Z"
   },
   {
    "duration": 164,
    "start_time": "2023-03-21T17:12:19.137Z"
   },
   {
    "duration": 4,
    "start_time": "2023-03-21T17:12:28.735Z"
   },
   {
    "duration": 80,
    "start_time": "2023-03-21T17:12:28.741Z"
   },
   {
    "duration": 8,
    "start_time": "2023-03-21T17:12:28.823Z"
   },
   {
    "duration": 6,
    "start_time": "2023-03-21T17:12:28.832Z"
   },
   {
    "duration": 6,
    "start_time": "2023-03-21T17:12:28.841Z"
   },
   {
    "duration": 16,
    "start_time": "2023-03-21T17:12:28.849Z"
   },
   {
    "duration": 12,
    "start_time": "2023-03-21T17:12:28.866Z"
   },
   {
    "duration": 61,
    "start_time": "2023-03-21T17:12:28.880Z"
   },
   {
    "duration": 14,
    "start_time": "2023-03-21T17:12:28.944Z"
   },
   {
    "duration": 8,
    "start_time": "2023-03-21T17:12:28.960Z"
   },
   {
    "duration": 16,
    "start_time": "2023-03-21T17:12:28.969Z"
   },
   {
    "duration": 36,
    "start_time": "2023-03-21T17:12:28.987Z"
   },
   {
    "duration": 282,
    "start_time": "2023-03-21T17:12:29.025Z"
   },
   {
    "duration": 231,
    "start_time": "2023-03-21T17:12:29.310Z"
   },
   {
    "duration": 230,
    "start_time": "2023-03-21T17:12:29.544Z"
   },
   {
    "duration": 298,
    "start_time": "2023-03-21T17:12:29.777Z"
   },
   {
    "duration": 239,
    "start_time": "2023-03-21T17:12:30.076Z"
   },
   {
    "duration": 400,
    "start_time": "2023-03-21T17:12:30.316Z"
   },
   {
    "duration": 171,
    "start_time": "2023-03-21T17:12:30.726Z"
   },
   {
    "duration": 168,
    "start_time": "2023-03-21T17:12:30.899Z"
   },
   {
    "duration": 240,
    "start_time": "2023-03-21T17:12:31.070Z"
   },
   {
    "duration": 36,
    "start_time": "2023-03-21T17:12:31.312Z"
   },
   {
    "duration": 189,
    "start_time": "2023-03-21T17:12:31.350Z"
   },
   {
    "duration": 3,
    "start_time": "2023-03-21T17:15:43.683Z"
   },
   {
    "duration": 71,
    "start_time": "2023-03-21T17:15:43.692Z"
   },
   {
    "duration": 8,
    "start_time": "2023-03-21T17:15:43.765Z"
   },
   {
    "duration": 5,
    "start_time": "2023-03-21T17:15:43.774Z"
   },
   {
    "duration": 6,
    "start_time": "2023-03-21T17:15:43.781Z"
   },
   {
    "duration": 18,
    "start_time": "2023-03-21T17:15:43.789Z"
   },
   {
    "duration": 11,
    "start_time": "2023-03-21T17:15:43.808Z"
   },
   {
    "duration": 22,
    "start_time": "2023-03-21T17:15:43.821Z"
   },
   {
    "duration": 12,
    "start_time": "2023-03-21T17:15:43.845Z"
   },
   {
    "duration": 12,
    "start_time": "2023-03-21T17:15:43.859Z"
   },
   {
    "duration": 7,
    "start_time": "2023-03-21T17:15:43.873Z"
   },
   {
    "duration": 11,
    "start_time": "2023-03-21T17:15:43.882Z"
   },
   {
    "duration": 305,
    "start_time": "2023-03-21T17:15:43.894Z"
   },
   {
    "duration": 219,
    "start_time": "2023-03-21T17:15:44.200Z"
   },
   {
    "duration": 221,
    "start_time": "2023-03-21T17:15:44.422Z"
   },
   {
    "duration": 298,
    "start_time": "2023-03-21T17:15:44.645Z"
   },
   {
    "duration": 251,
    "start_time": "2023-03-21T17:15:44.945Z"
   },
   {
    "duration": 355,
    "start_time": "2023-03-21T17:15:45.197Z"
   },
   {
    "duration": 170,
    "start_time": "2023-03-21T17:15:45.554Z"
   },
   {
    "duration": 156,
    "start_time": "2023-03-21T17:15:45.726Z"
   },
   {
    "duration": 203,
    "start_time": "2023-03-21T17:15:45.884Z"
   },
   {
    "duration": 33,
    "start_time": "2023-03-21T17:15:46.090Z"
   },
   {
    "duration": 160,
    "start_time": "2023-03-21T17:15:46.125Z"
   },
   {
    "duration": 11,
    "start_time": "2023-03-21T17:15:46.286Z"
   },
   {
    "duration": 3,
    "start_time": "2023-03-21T17:16:16.714Z"
   },
   {
    "duration": 75,
    "start_time": "2023-03-21T17:16:16.720Z"
   },
   {
    "duration": 8,
    "start_time": "2023-03-21T17:16:16.797Z"
   },
   {
    "duration": 9,
    "start_time": "2023-03-21T17:16:16.806Z"
   },
   {
    "duration": 8,
    "start_time": "2023-03-21T17:16:16.817Z"
   },
   {
    "duration": 16,
    "start_time": "2023-03-21T17:16:16.827Z"
   },
   {
    "duration": 14,
    "start_time": "2023-03-21T17:16:16.844Z"
   },
   {
    "duration": 22,
    "start_time": "2023-03-21T17:16:16.860Z"
   },
   {
    "duration": 14,
    "start_time": "2023-03-21T17:16:16.884Z"
   },
   {
    "duration": 8,
    "start_time": "2023-03-21T17:16:16.924Z"
   },
   {
    "duration": 17,
    "start_time": "2023-03-21T17:16:16.934Z"
   },
   {
    "duration": 15,
    "start_time": "2023-03-21T17:16:16.952Z"
   },
   {
    "duration": 296,
    "start_time": "2023-03-21T17:16:16.969Z"
   },
   {
    "duration": 231,
    "start_time": "2023-03-21T17:16:17.267Z"
   },
   {
    "duration": 236,
    "start_time": "2023-03-21T17:16:17.501Z"
   },
   {
    "duration": 300,
    "start_time": "2023-03-21T17:16:17.739Z"
   },
   {
    "duration": 248,
    "start_time": "2023-03-21T17:16:18.041Z"
   },
   {
    "duration": 371,
    "start_time": "2023-03-21T17:16:18.291Z"
   },
   {
    "duration": 586,
    "start_time": "2023-03-21T17:16:18.664Z"
   },
   {
    "duration": 154,
    "start_time": "2023-03-21T17:16:19.251Z"
   },
   {
    "duration": 202,
    "start_time": "2023-03-21T17:16:19.407Z"
   },
   {
    "duration": 32,
    "start_time": "2023-03-21T17:16:19.611Z"
   },
   {
    "duration": 165,
    "start_time": "2023-03-21T17:16:19.645Z"
   },
   {
    "duration": 18,
    "start_time": "2023-03-21T17:16:19.812Z"
   },
   {
    "duration": 1337,
    "start_time": "2023-03-22T07:52:53.431Z"
   },
   {
    "duration": 244,
    "start_time": "2023-03-22T07:52:54.771Z"
   },
   {
    "duration": 16,
    "start_time": "2023-03-22T07:52:55.018Z"
   },
   {
    "duration": 4,
    "start_time": "2023-03-22T07:52:55.036Z"
   },
   {
    "duration": 17,
    "start_time": "2023-03-22T07:52:55.042Z"
   },
   {
    "duration": 23,
    "start_time": "2023-03-22T07:52:55.061Z"
   },
   {
    "duration": 16,
    "start_time": "2023-03-22T07:52:55.085Z"
   },
   {
    "duration": 28,
    "start_time": "2023-03-22T07:52:55.103Z"
   },
   {
    "duration": 15,
    "start_time": "2023-03-22T07:52:55.132Z"
   },
   {
    "duration": 14,
    "start_time": "2023-03-22T07:52:55.148Z"
   },
   {
    "duration": 44,
    "start_time": "2023-03-22T07:52:55.164Z"
   },
   {
    "duration": 11,
    "start_time": "2023-03-22T07:52:55.213Z"
   },
   {
    "duration": 325,
    "start_time": "2023-03-22T07:52:55.226Z"
   },
   {
    "duration": 332,
    "start_time": "2023-03-22T07:52:55.553Z"
   },
   {
    "duration": 247,
    "start_time": "2023-03-22T07:52:55.887Z"
   },
   {
    "duration": 388,
    "start_time": "2023-03-22T07:52:56.136Z"
   },
   {
    "duration": 242,
    "start_time": "2023-03-22T07:52:56.526Z"
   },
   {
    "duration": 375,
    "start_time": "2023-03-22T07:52:56.770Z"
   },
   {
    "duration": 176,
    "start_time": "2023-03-22T07:52:57.147Z"
   },
   {
    "duration": 208,
    "start_time": "2023-03-22T07:52:57.325Z"
   },
   {
    "duration": 276,
    "start_time": "2023-03-22T07:52:57.535Z"
   },
   {
    "duration": 25,
    "start_time": "2023-03-22T07:52:57.813Z"
   },
   {
    "duration": 182,
    "start_time": "2023-03-22T07:52:57.839Z"
   },
   {
    "duration": 10,
    "start_time": "2023-03-22T07:52:58.023Z"
   },
   {
    "duration": 926,
    "start_time": "2023-03-22T07:52:58.036Z"
   },
   {
    "duration": 3,
    "start_time": "2023-03-22T07:53:28.435Z"
   },
   {
    "duration": 84,
    "start_time": "2023-03-22T07:53:28.440Z"
   },
   {
    "duration": 9,
    "start_time": "2023-03-22T07:53:28.526Z"
   },
   {
    "duration": 9,
    "start_time": "2023-03-22T07:53:28.537Z"
   },
   {
    "duration": 26,
    "start_time": "2023-03-22T07:53:28.549Z"
   },
   {
    "duration": 28,
    "start_time": "2023-03-22T07:53:28.577Z"
   },
   {
    "duration": 18,
    "start_time": "2023-03-22T07:53:28.607Z"
   },
   {
    "duration": 27,
    "start_time": "2023-03-22T07:53:28.627Z"
   },
   {
    "duration": 21,
    "start_time": "2023-03-22T07:53:28.691Z"
   },
   {
    "duration": 8,
    "start_time": "2023-03-22T07:53:28.713Z"
   },
   {
    "duration": 12,
    "start_time": "2023-03-22T07:53:28.723Z"
   },
   {
    "duration": 15,
    "start_time": "2023-03-22T07:53:28.737Z"
   },
   {
    "duration": 371,
    "start_time": "2023-03-22T07:53:28.754Z"
   },
   {
    "duration": 265,
    "start_time": "2023-03-22T07:53:29.128Z"
   },
   {
    "duration": 335,
    "start_time": "2023-03-22T07:53:29.395Z"
   },
   {
    "duration": 317,
    "start_time": "2023-03-22T07:53:29.731Z"
   },
   {
    "duration": 257,
    "start_time": "2023-03-22T07:53:30.049Z"
   },
   {
    "duration": 376,
    "start_time": "2023-03-22T07:53:30.307Z"
   },
   {
    "duration": 187,
    "start_time": "2023-03-22T07:53:30.688Z"
   },
   {
    "duration": 194,
    "start_time": "2023-03-22T07:53:30.876Z"
   },
   {
    "duration": 225,
    "start_time": "2023-03-22T07:53:31.072Z"
   },
   {
    "duration": 26,
    "start_time": "2023-03-22T07:53:31.300Z"
   },
   {
    "duration": 196,
    "start_time": "2023-03-22T07:53:31.327Z"
   },
   {
    "duration": 11,
    "start_time": "2023-03-22T07:53:31.526Z"
   },
   {
    "duration": 820,
    "start_time": "2023-03-22T07:53:31.539Z"
   },
   {
    "duration": 4,
    "start_time": "2023-03-22T07:54:12.850Z"
   },
   {
    "duration": 107,
    "start_time": "2023-03-22T07:54:12.856Z"
   },
   {
    "duration": 10,
    "start_time": "2023-03-22T07:54:12.966Z"
   },
   {
    "duration": 5,
    "start_time": "2023-03-22T07:54:12.978Z"
   },
   {
    "duration": 9,
    "start_time": "2023-03-22T07:54:12.985Z"
   },
   {
    "duration": 33,
    "start_time": "2023-03-22T07:54:12.996Z"
   },
   {
    "duration": 14,
    "start_time": "2023-03-22T07:54:13.031Z"
   },
   {
    "duration": 47,
    "start_time": "2023-03-22T07:54:13.047Z"
   },
   {
    "duration": 21,
    "start_time": "2023-03-22T07:54:13.097Z"
   },
   {
    "duration": 8,
    "start_time": "2023-03-22T07:54:13.120Z"
   },
   {
    "duration": 22,
    "start_time": "2023-03-22T07:54:13.130Z"
   },
   {
    "duration": 26,
    "start_time": "2023-03-22T07:54:13.154Z"
   },
   {
    "duration": 349,
    "start_time": "2023-03-22T07:54:13.181Z"
   },
   {
    "duration": 273,
    "start_time": "2023-03-22T07:54:13.533Z"
   },
   {
    "duration": 250,
    "start_time": "2023-03-22T07:54:13.811Z"
   },
   {
    "duration": 341,
    "start_time": "2023-03-22T07:54:14.063Z"
   },
   {
    "duration": 272,
    "start_time": "2023-03-22T07:54:14.407Z"
   },
   {
    "duration": 373,
    "start_time": "2023-03-22T07:54:14.697Z"
   },
   {
    "duration": 197,
    "start_time": "2023-03-22T07:54:15.073Z"
   },
   {
    "duration": 278,
    "start_time": "2023-03-22T07:54:15.272Z"
   },
   {
    "duration": 237,
    "start_time": "2023-03-22T07:54:15.552Z"
   },
   {
    "duration": 30,
    "start_time": "2023-03-22T07:54:15.791Z"
   },
   {
    "duration": 195,
    "start_time": "2023-03-22T07:54:15.823Z"
   },
   {
    "duration": 13,
    "start_time": "2023-03-22T07:54:16.021Z"
   },
   {
    "duration": 11,
    "start_time": "2023-03-22T07:54:16.037Z"
   },
   {
    "duration": 3,
    "start_time": "2023-03-22T07:55:35.263Z"
   },
   {
    "duration": 97,
    "start_time": "2023-03-22T07:55:35.268Z"
   },
   {
    "duration": 8,
    "start_time": "2023-03-22T07:55:35.367Z"
   },
   {
    "duration": 11,
    "start_time": "2023-03-22T07:55:35.377Z"
   },
   {
    "duration": 9,
    "start_time": "2023-03-22T07:55:35.390Z"
   },
   {
    "duration": 31,
    "start_time": "2023-03-22T07:55:35.401Z"
   },
   {
    "duration": 13,
    "start_time": "2023-03-22T07:55:35.433Z"
   },
   {
    "duration": 21,
    "start_time": "2023-03-22T07:55:35.447Z"
   },
   {
    "duration": 21,
    "start_time": "2023-03-22T07:55:35.490Z"
   },
   {
    "duration": 19,
    "start_time": "2023-03-22T07:55:35.514Z"
   },
   {
    "duration": 9,
    "start_time": "2023-03-22T07:55:35.535Z"
   },
   {
    "duration": 14,
    "start_time": "2023-03-22T07:55:35.546Z"
   },
   {
    "duration": 345,
    "start_time": "2023-03-22T07:55:35.562Z"
   },
   {
    "duration": 262,
    "start_time": "2023-03-22T07:55:35.909Z"
   },
   {
    "duration": 256,
    "start_time": "2023-03-22T07:55:36.172Z"
   },
   {
    "duration": 349,
    "start_time": "2023-03-22T07:55:36.429Z"
   },
   {
    "duration": 271,
    "start_time": "2023-03-22T07:55:36.779Z"
   },
   {
    "duration": 447,
    "start_time": "2023-03-22T07:55:37.052Z"
   },
   {
    "duration": 230,
    "start_time": "2023-03-22T07:55:37.501Z"
   },
   {
    "duration": 180,
    "start_time": "2023-03-22T07:55:37.733Z"
   },
   {
    "duration": 221,
    "start_time": "2023-03-22T07:55:37.915Z"
   },
   {
    "duration": 27,
    "start_time": "2023-03-22T07:55:38.138Z"
   },
   {
    "duration": 212,
    "start_time": "2023-03-22T07:55:38.167Z"
   },
   {
    "duration": 17,
    "start_time": "2023-03-22T07:55:38.388Z"
   },
   {
    "duration": 11,
    "start_time": "2023-03-22T07:55:38.409Z"
   },
   {
    "duration": 71,
    "start_time": "2023-03-22T07:55:38.422Z"
   },
   {
    "duration": 4,
    "start_time": "2023-03-22T07:57:14.744Z"
   },
   {
    "duration": 81,
    "start_time": "2023-03-22T07:57:14.749Z"
   },
   {
    "duration": 8,
    "start_time": "2023-03-22T07:57:14.832Z"
   },
   {
    "duration": 10,
    "start_time": "2023-03-22T07:57:14.842Z"
   },
   {
    "duration": 8,
    "start_time": "2023-03-22T07:57:14.855Z"
   },
   {
    "duration": 19,
    "start_time": "2023-03-22T07:57:14.865Z"
   },
   {
    "duration": 14,
    "start_time": "2023-03-22T07:57:14.886Z"
   },
   {
    "duration": 23,
    "start_time": "2023-03-22T07:57:14.904Z"
   },
   {
    "duration": 19,
    "start_time": "2023-03-22T07:57:14.930Z"
   },
   {
    "duration": 39,
    "start_time": "2023-03-22T07:57:14.951Z"
   },
   {
    "duration": 13,
    "start_time": "2023-03-22T07:57:14.992Z"
   },
   {
    "duration": 12,
    "start_time": "2023-03-22T07:57:15.008Z"
   },
   {
    "duration": 339,
    "start_time": "2023-03-22T07:57:15.022Z"
   },
   {
    "duration": 261,
    "start_time": "2023-03-22T07:57:15.364Z"
   },
   {
    "duration": 255,
    "start_time": "2023-03-22T07:57:15.627Z"
   },
   {
    "duration": 348,
    "start_time": "2023-03-22T07:57:15.884Z"
   },
   {
    "duration": 239,
    "start_time": "2023-03-22T07:57:16.234Z"
   },
   {
    "duration": 390,
    "start_time": "2023-03-22T07:57:16.475Z"
   },
   {
    "duration": 183,
    "start_time": "2023-03-22T07:57:16.866Z"
   },
   {
    "duration": 287,
    "start_time": "2023-03-22T07:57:17.050Z"
   },
   {
    "duration": 263,
    "start_time": "2023-03-22T07:57:17.339Z"
   },
   {
    "duration": 41,
    "start_time": "2023-03-22T07:57:17.610Z"
   },
   {
    "duration": 211,
    "start_time": "2023-03-22T07:57:17.653Z"
   },
   {
    "duration": 12,
    "start_time": "2023-03-22T07:57:17.865Z"
   },
   {
    "duration": 16,
    "start_time": "2023-03-22T07:57:17.890Z"
   },
   {
    "duration": 31,
    "start_time": "2023-03-22T07:57:17.908Z"
   },
   {
    "duration": 829,
    "start_time": "2023-03-22T07:57:17.941Z"
   },
   {
    "duration": 4,
    "start_time": "2023-03-22T07:57:41.528Z"
   },
   {
    "duration": 195,
    "start_time": "2023-03-22T07:57:41.534Z"
   },
   {
    "duration": 11,
    "start_time": "2023-03-22T07:57:41.731Z"
   },
   {
    "duration": 12,
    "start_time": "2023-03-22T07:57:41.744Z"
   },
   {
    "duration": 32,
    "start_time": "2023-03-22T07:57:41.759Z"
   },
   {
    "duration": 76,
    "start_time": "2023-03-22T07:57:41.793Z"
   },
   {
    "duration": 39,
    "start_time": "2023-03-22T07:57:41.872Z"
   },
   {
    "duration": 74,
    "start_time": "2023-03-22T07:57:41.913Z"
   },
   {
    "duration": 46,
    "start_time": "2023-03-22T07:57:41.990Z"
   },
   {
    "duration": 47,
    "start_time": "2023-03-22T07:57:42.038Z"
   },
   {
    "duration": 24,
    "start_time": "2023-03-22T07:57:42.087Z"
   },
   {
    "duration": 44,
    "start_time": "2023-03-22T07:57:42.113Z"
   },
   {
    "duration": 311,
    "start_time": "2023-03-22T07:57:42.159Z"
   },
   {
    "duration": 251,
    "start_time": "2023-03-22T07:57:42.473Z"
   },
   {
    "duration": 261,
    "start_time": "2023-03-22T07:57:42.725Z"
   },
   {
    "duration": 343,
    "start_time": "2023-03-22T07:57:42.988Z"
   },
   {
    "duration": 252,
    "start_time": "2023-03-22T07:57:43.333Z"
   },
   {
    "duration": 374,
    "start_time": "2023-03-22T07:57:43.589Z"
   },
   {
    "duration": 178,
    "start_time": "2023-03-22T07:57:43.965Z"
   },
   {
    "duration": 173,
    "start_time": "2023-03-22T07:57:44.144Z"
   },
   {
    "duration": 224,
    "start_time": "2023-03-22T07:57:44.319Z"
   },
   {
    "duration": 30,
    "start_time": "2023-03-22T07:57:44.545Z"
   },
   {
    "duration": 224,
    "start_time": "2023-03-22T07:57:44.577Z"
   },
   {
    "duration": 14,
    "start_time": "2023-03-22T07:57:44.803Z"
   },
   {
    "duration": 47,
    "start_time": "2023-03-22T07:57:44.819Z"
   },
   {
    "duration": 69,
    "start_time": "2023-03-22T07:57:44.868Z"
   },
   {
    "duration": 880,
    "start_time": "2023-03-22T07:57:44.940Z"
   },
   {
    "duration": 3,
    "start_time": "2023-03-22T07:57:55.624Z"
   },
   {
    "duration": 94,
    "start_time": "2023-03-22T07:57:55.630Z"
   },
   {
    "duration": 11,
    "start_time": "2023-03-22T07:57:55.726Z"
   },
   {
    "duration": 7,
    "start_time": "2023-03-22T07:57:55.739Z"
   },
   {
    "duration": 8,
    "start_time": "2023-03-22T07:57:55.749Z"
   },
   {
    "duration": 23,
    "start_time": "2023-03-22T07:57:55.759Z"
   },
   {
    "duration": 19,
    "start_time": "2023-03-22T07:57:55.784Z"
   },
   {
    "duration": 26,
    "start_time": "2023-03-22T07:57:55.804Z"
   },
   {
    "duration": 13,
    "start_time": "2023-03-22T07:57:55.832Z"
   },
   {
    "duration": 17,
    "start_time": "2023-03-22T07:57:55.847Z"
   },
   {
    "duration": 31,
    "start_time": "2023-03-22T07:57:55.866Z"
   },
   {
    "duration": 18,
    "start_time": "2023-03-22T07:57:55.900Z"
   },
   {
    "duration": 344,
    "start_time": "2023-03-22T07:57:55.920Z"
   },
   {
    "duration": 268,
    "start_time": "2023-03-22T07:57:56.267Z"
   },
   {
    "duration": 288,
    "start_time": "2023-03-22T07:57:56.537Z"
   },
   {
    "duration": 308,
    "start_time": "2023-03-22T07:57:56.827Z"
   },
   {
    "duration": 287,
    "start_time": "2023-03-22T07:57:57.137Z"
   },
   {
    "duration": 413,
    "start_time": "2023-03-22T07:57:57.427Z"
   },
   {
    "duration": 195,
    "start_time": "2023-03-22T07:57:57.842Z"
   },
   {
    "duration": 191,
    "start_time": "2023-03-22T07:57:58.039Z"
   },
   {
    "duration": 237,
    "start_time": "2023-03-22T07:57:58.231Z"
   },
   {
    "duration": 36,
    "start_time": "2023-03-22T07:57:58.469Z"
   },
   {
    "duration": 240,
    "start_time": "2023-03-22T07:57:58.507Z"
   },
   {
    "duration": 11,
    "start_time": "2023-03-22T07:57:58.749Z"
   },
   {
    "duration": 16,
    "start_time": "2023-03-22T07:57:58.762Z"
   },
   {
    "duration": 52,
    "start_time": "2023-03-22T07:57:58.779Z"
   },
   {
    "duration": 17,
    "start_time": "2023-03-22T07:57:58.833Z"
   },
   {
    "duration": 1259,
    "start_time": "2023-03-23T16:38:37.294Z"
   },
   {
    "duration": 226,
    "start_time": "2023-03-23T16:38:38.555Z"
   },
   {
    "duration": 12,
    "start_time": "2023-03-23T16:38:38.784Z"
   },
   {
    "duration": 3,
    "start_time": "2023-03-23T16:38:38.798Z"
   },
   {
    "duration": 7,
    "start_time": "2023-03-23T16:38:38.804Z"
   },
   {
    "duration": 15,
    "start_time": "2023-03-23T16:38:38.813Z"
   },
   {
    "duration": 18,
    "start_time": "2023-03-23T16:38:38.830Z"
   },
   {
    "duration": 28,
    "start_time": "2023-03-23T16:38:38.849Z"
   },
   {
    "duration": 13,
    "start_time": "2023-03-23T16:38:38.879Z"
   },
   {
    "duration": 30,
    "start_time": "2023-03-23T16:38:38.893Z"
   },
   {
    "duration": 12,
    "start_time": "2023-03-23T16:38:38.925Z"
   },
   {
    "duration": 16,
    "start_time": "2023-03-23T16:38:38.938Z"
   },
   {
    "duration": 296,
    "start_time": "2023-03-23T16:38:38.956Z"
   },
   {
    "duration": 295,
    "start_time": "2023-03-23T16:38:39.254Z"
   },
   {
    "duration": 253,
    "start_time": "2023-03-23T16:38:39.551Z"
   },
   {
    "duration": 355,
    "start_time": "2023-03-23T16:38:39.805Z"
   },
   {
    "duration": 278,
    "start_time": "2023-03-23T16:38:40.162Z"
   },
   {
    "duration": 335,
    "start_time": "2023-03-23T16:38:40.442Z"
   },
   {
    "duration": 159,
    "start_time": "2023-03-23T16:38:40.779Z"
   },
   {
    "duration": 149,
    "start_time": "2023-03-23T16:38:40.940Z"
   },
   {
    "duration": 214,
    "start_time": "2023-03-23T16:38:41.091Z"
   },
   {
    "duration": 29,
    "start_time": "2023-03-23T16:38:41.306Z"
   },
   {
    "duration": 171,
    "start_time": "2023-03-23T16:38:41.337Z"
   },
   {
    "duration": 19,
    "start_time": "2023-03-23T16:38:41.510Z"
   },
   {
    "duration": 44,
    "start_time": "2023-03-23T16:38:41.531Z"
   },
   {
    "duration": 0,
    "start_time": "2023-03-23T16:38:41.576Z"
   },
   {
    "duration": 0,
    "start_time": "2023-03-23T16:38:41.578Z"
   },
   {
    "duration": 4,
    "start_time": "2023-03-23T16:38:49.192Z"
   },
   {
    "duration": 82,
    "start_time": "2023-03-23T16:38:49.198Z"
   },
   {
    "duration": 9,
    "start_time": "2023-03-23T16:38:49.281Z"
   },
   {
    "duration": 3,
    "start_time": "2023-03-23T16:38:49.292Z"
   },
   {
    "duration": 6,
    "start_time": "2023-03-23T16:38:49.297Z"
   },
   {
    "duration": 16,
    "start_time": "2023-03-23T16:38:49.304Z"
   },
   {
    "duration": 11,
    "start_time": "2023-03-23T16:38:49.321Z"
   },
   {
    "duration": 17,
    "start_time": "2023-03-23T16:38:49.334Z"
   },
   {
    "duration": 12,
    "start_time": "2023-03-23T16:38:49.352Z"
   },
   {
    "duration": 9,
    "start_time": "2023-03-23T16:38:49.367Z"
   },
   {
    "duration": 7,
    "start_time": "2023-03-23T16:38:49.377Z"
   },
   {
    "duration": 11,
    "start_time": "2023-03-23T16:38:49.386Z"
   },
   {
    "duration": 274,
    "start_time": "2023-03-23T16:38:49.424Z"
   },
   {
    "duration": 219,
    "start_time": "2023-03-23T16:38:49.699Z"
   },
   {
    "duration": 298,
    "start_time": "2023-03-23T16:38:49.920Z"
   },
   {
    "duration": 352,
    "start_time": "2023-03-23T16:38:50.222Z"
   },
   {
    "duration": 251,
    "start_time": "2023-03-23T16:38:50.575Z"
   },
   {
    "duration": 353,
    "start_time": "2023-03-23T16:38:50.827Z"
   },
   {
    "duration": 172,
    "start_time": "2023-03-23T16:38:51.182Z"
   },
   {
    "duration": 160,
    "start_time": "2023-03-23T16:38:51.356Z"
   },
   {
    "duration": 212,
    "start_time": "2023-03-23T16:38:51.523Z"
   },
   {
    "duration": 26,
    "start_time": "2023-03-23T16:38:51.737Z"
   },
   {
    "duration": 150,
    "start_time": "2023-03-23T16:38:51.765Z"
   },
   {
    "duration": 13,
    "start_time": "2023-03-23T16:38:51.917Z"
   },
   {
    "duration": 21,
    "start_time": "2023-03-23T16:38:51.932Z"
   },
   {
    "duration": 35,
    "start_time": "2023-03-23T16:38:51.955Z"
   },
   {
    "duration": 13,
    "start_time": "2023-03-23T16:38:51.992Z"
   },
   {
    "duration": 3,
    "start_time": "2023-03-23T16:41:00.632Z"
   },
   {
    "duration": 112,
    "start_time": "2023-03-23T16:41:00.637Z"
   },
   {
    "duration": 9,
    "start_time": "2023-03-23T16:41:00.751Z"
   },
   {
    "duration": 26,
    "start_time": "2023-03-23T16:41:00.761Z"
   },
   {
    "duration": 24,
    "start_time": "2023-03-23T16:41:00.789Z"
   },
   {
    "duration": 38,
    "start_time": "2023-03-23T16:41:00.815Z"
   },
   {
    "duration": 19,
    "start_time": "2023-03-23T16:41:00.855Z"
   },
   {
    "duration": 43,
    "start_time": "2023-03-23T16:41:00.876Z"
   },
   {
    "duration": 25,
    "start_time": "2023-03-23T16:41:00.920Z"
   },
   {
    "duration": 21,
    "start_time": "2023-03-23T16:41:00.947Z"
   },
   {
    "duration": 8,
    "start_time": "2023-03-23T16:41:00.971Z"
   },
   {
    "duration": 41,
    "start_time": "2023-03-23T16:41:00.980Z"
   },
   {
    "duration": 293,
    "start_time": "2023-03-23T16:41:01.023Z"
   },
   {
    "duration": 225,
    "start_time": "2023-03-23T16:41:01.319Z"
   },
   {
    "duration": 220,
    "start_time": "2023-03-23T16:41:01.546Z"
   },
   {
    "duration": 282,
    "start_time": "2023-03-23T16:41:01.768Z"
   },
   {
    "duration": 228,
    "start_time": "2023-03-23T16:41:02.052Z"
   },
   {
    "duration": 365,
    "start_time": "2023-03-23T16:41:02.281Z"
   },
   {
    "duration": 172,
    "start_time": "2023-03-23T16:41:02.648Z"
   },
   {
    "duration": 229,
    "start_time": "2023-03-23T16:41:02.821Z"
   },
   {
    "duration": 204,
    "start_time": "2023-03-23T16:41:03.052Z"
   },
   {
    "duration": 24,
    "start_time": "2023-03-23T16:41:03.258Z"
   },
   {
    "duration": 148,
    "start_time": "2023-03-23T16:41:03.284Z"
   },
   {
    "duration": 9,
    "start_time": "2023-03-23T16:41:03.434Z"
   },
   {
    "duration": 9,
    "start_time": "2023-03-23T16:41:03.445Z"
   },
   {
    "duration": 4,
    "start_time": "2023-03-23T16:41:03.456Z"
   },
   {
    "duration": 30,
    "start_time": "2023-03-23T16:41:03.462Z"
   },
   {
    "duration": 37,
    "start_time": "2023-03-23T16:41:03.494Z"
   },
   {
    "duration": 3,
    "start_time": "2023-03-23T16:41:28.263Z"
   },
   {
    "duration": 79,
    "start_time": "2023-03-23T16:41:28.267Z"
   },
   {
    "duration": 8,
    "start_time": "2023-03-23T16:41:28.347Z"
   },
   {
    "duration": 4,
    "start_time": "2023-03-23T16:41:28.356Z"
   },
   {
    "duration": 6,
    "start_time": "2023-03-23T16:41:28.362Z"
   },
   {
    "duration": 16,
    "start_time": "2023-03-23T16:41:28.369Z"
   },
   {
    "duration": 11,
    "start_time": "2023-03-23T16:41:28.386Z"
   },
   {
    "duration": 33,
    "start_time": "2023-03-23T16:41:28.398Z"
   },
   {
    "duration": 12,
    "start_time": "2023-03-23T16:41:28.432Z"
   },
   {
    "duration": 8,
    "start_time": "2023-03-23T16:41:28.446Z"
   },
   {
    "duration": 8,
    "start_time": "2023-03-23T16:41:28.455Z"
   },
   {
    "duration": 9,
    "start_time": "2023-03-23T16:41:28.465Z"
   },
   {
    "duration": 303,
    "start_time": "2023-03-23T16:41:28.475Z"
   },
   {
    "duration": 227,
    "start_time": "2023-03-23T16:41:28.781Z"
   },
   {
    "duration": 213,
    "start_time": "2023-03-23T16:41:29.010Z"
   },
   {
    "duration": 303,
    "start_time": "2023-03-23T16:41:29.224Z"
   },
   {
    "duration": 223,
    "start_time": "2023-03-23T16:41:29.529Z"
   },
   {
    "duration": 317,
    "start_time": "2023-03-23T16:41:29.754Z"
   },
   {
    "duration": 161,
    "start_time": "2023-03-23T16:41:30.073Z"
   },
   {
    "duration": 156,
    "start_time": "2023-03-23T16:41:30.236Z"
   },
   {
    "duration": 245,
    "start_time": "2023-03-23T16:41:30.395Z"
   },
   {
    "duration": 32,
    "start_time": "2023-03-23T16:41:30.642Z"
   },
   {
    "duration": 206,
    "start_time": "2023-03-23T16:41:30.676Z"
   },
   {
    "duration": 11,
    "start_time": "2023-03-23T16:41:30.884Z"
   },
   {
    "duration": 32,
    "start_time": "2023-03-23T16:41:30.897Z"
   },
   {
    "duration": 24,
    "start_time": "2023-03-23T16:41:30.930Z"
   },
   {
    "duration": 38,
    "start_time": "2023-03-23T16:41:30.956Z"
   },
   {
    "duration": 22,
    "start_time": "2023-03-23T16:41:30.995Z"
   },
   {
    "duration": 4,
    "start_time": "2023-03-23T16:41:54.990Z"
   },
   {
    "duration": 80,
    "start_time": "2023-03-23T16:41:54.997Z"
   },
   {
    "duration": 8,
    "start_time": "2023-03-23T16:41:55.079Z"
   },
   {
    "duration": 11,
    "start_time": "2023-03-23T16:41:55.088Z"
   },
   {
    "duration": 16,
    "start_time": "2023-03-23T16:41:55.101Z"
   },
   {
    "duration": 17,
    "start_time": "2023-03-23T16:41:55.119Z"
   },
   {
    "duration": 13,
    "start_time": "2023-03-23T16:41:55.137Z"
   },
   {
    "duration": 30,
    "start_time": "2023-03-23T16:41:55.151Z"
   },
   {
    "duration": 15,
    "start_time": "2023-03-23T16:41:55.182Z"
   },
   {
    "duration": 28,
    "start_time": "2023-03-23T16:41:55.198Z"
   },
   {
    "duration": 9,
    "start_time": "2023-03-23T16:41:55.227Z"
   },
   {
    "duration": 10,
    "start_time": "2023-03-23T16:41:55.238Z"
   },
   {
    "duration": 292,
    "start_time": "2023-03-23T16:41:55.250Z"
   },
   {
    "duration": 226,
    "start_time": "2023-03-23T16:41:55.545Z"
   },
   {
    "duration": 226,
    "start_time": "2023-03-23T16:41:55.773Z"
   },
   {
    "duration": 327,
    "start_time": "2023-03-23T16:41:56.001Z"
   },
   {
    "duration": 237,
    "start_time": "2023-03-23T16:41:56.331Z"
   },
   {
    "duration": 331,
    "start_time": "2023-03-23T16:41:56.570Z"
   },
   {
    "duration": 167,
    "start_time": "2023-03-23T16:41:56.903Z"
   },
   {
    "duration": 278,
    "start_time": "2023-03-23T16:41:57.072Z"
   },
   {
    "duration": 216,
    "start_time": "2023-03-23T16:41:57.352Z"
   },
   {
    "duration": 27,
    "start_time": "2023-03-23T16:41:57.570Z"
   },
   {
    "duration": 157,
    "start_time": "2023-03-23T16:41:57.599Z"
   },
   {
    "duration": 11,
    "start_time": "2023-03-23T16:41:57.758Z"
   },
   {
    "duration": 10,
    "start_time": "2023-03-23T16:41:57.771Z"
   },
   {
    "duration": 47,
    "start_time": "2023-03-23T16:41:57.783Z"
   },
   {
    "duration": 0,
    "start_time": "2023-03-23T16:41:57.832Z"
   },
   {
    "duration": 0,
    "start_time": "2023-03-23T16:41:57.833Z"
   },
   {
    "duration": 0,
    "start_time": "2023-03-23T16:41:57.835Z"
   },
   {
    "duration": 4,
    "start_time": "2023-03-23T16:42:04.678Z"
   },
   {
    "duration": 85,
    "start_time": "2023-03-23T16:42:04.684Z"
   },
   {
    "duration": 8,
    "start_time": "2023-03-23T16:42:04.771Z"
   },
   {
    "duration": 9,
    "start_time": "2023-03-23T16:42:04.781Z"
   },
   {
    "duration": 7,
    "start_time": "2023-03-23T16:42:04.791Z"
   },
   {
    "duration": 16,
    "start_time": "2023-03-23T16:42:04.800Z"
   },
   {
    "duration": 12,
    "start_time": "2023-03-23T16:42:04.818Z"
   },
   {
    "duration": 17,
    "start_time": "2023-03-23T16:42:04.832Z"
   },
   {
    "duration": 12,
    "start_time": "2023-03-23T16:42:04.851Z"
   },
   {
    "duration": 18,
    "start_time": "2023-03-23T16:42:04.866Z"
   },
   {
    "duration": 7,
    "start_time": "2023-03-23T16:42:04.885Z"
   },
   {
    "duration": 20,
    "start_time": "2023-03-23T16:42:04.893Z"
   },
   {
    "duration": 282,
    "start_time": "2023-03-23T16:42:04.923Z"
   },
   {
    "duration": 221,
    "start_time": "2023-03-23T16:42:05.206Z"
   },
   {
    "duration": 222,
    "start_time": "2023-03-23T16:42:05.429Z"
   },
   {
    "duration": 280,
    "start_time": "2023-03-23T16:42:05.653Z"
   },
   {
    "duration": 233,
    "start_time": "2023-03-23T16:42:05.935Z"
   },
   {
    "duration": 299,
    "start_time": "2023-03-23T16:42:06.169Z"
   },
   {
    "duration": 159,
    "start_time": "2023-03-23T16:42:06.470Z"
   },
   {
    "duration": 161,
    "start_time": "2023-03-23T16:42:06.631Z"
   },
   {
    "duration": 199,
    "start_time": "2023-03-23T16:42:06.794Z"
   },
   {
    "duration": 30,
    "start_time": "2023-03-23T16:42:06.995Z"
   },
   {
    "duration": 167,
    "start_time": "2023-03-23T16:42:07.028Z"
   },
   {
    "duration": 26,
    "start_time": "2023-03-23T16:42:07.197Z"
   },
   {
    "duration": 10,
    "start_time": "2023-03-23T16:42:07.225Z"
   },
   {
    "duration": 8,
    "start_time": "2023-03-23T16:42:07.237Z"
   },
   {
    "duration": 4,
    "start_time": "2023-03-23T16:42:07.247Z"
   },
   {
    "duration": 31,
    "start_time": "2023-03-23T16:42:07.254Z"
   },
   {
    "duration": 36,
    "start_time": "2023-03-23T16:42:07.287Z"
   },
   {
    "duration": 3,
    "start_time": "2023-03-23T16:43:27.943Z"
   },
   {
    "duration": 77,
    "start_time": "2023-03-23T16:43:27.949Z"
   },
   {
    "duration": 8,
    "start_time": "2023-03-23T16:43:28.027Z"
   },
   {
    "duration": 4,
    "start_time": "2023-03-23T16:43:28.037Z"
   },
   {
    "duration": 6,
    "start_time": "2023-03-23T16:43:28.043Z"
   },
   {
    "duration": 18,
    "start_time": "2023-03-23T16:43:28.051Z"
   },
   {
    "duration": 12,
    "start_time": "2023-03-23T16:43:28.070Z"
   },
   {
    "duration": 51,
    "start_time": "2023-03-23T16:43:28.083Z"
   },
   {
    "duration": 12,
    "start_time": "2023-03-23T16:43:28.135Z"
   },
   {
    "duration": 31,
    "start_time": "2023-03-23T16:43:28.149Z"
   },
   {
    "duration": 10,
    "start_time": "2023-03-23T16:43:28.182Z"
   },
   {
    "duration": 10,
    "start_time": "2023-03-23T16:43:28.193Z"
   },
   {
    "duration": 279,
    "start_time": "2023-03-23T16:43:28.205Z"
   },
   {
    "duration": 219,
    "start_time": "2023-03-23T16:43:28.486Z"
   },
   {
    "duration": 219,
    "start_time": "2023-03-23T16:43:28.707Z"
   },
   {
    "duration": 314,
    "start_time": "2023-03-23T16:43:28.927Z"
   },
   {
    "duration": 229,
    "start_time": "2023-03-23T16:43:29.242Z"
   },
   {
    "duration": 323,
    "start_time": "2023-03-23T16:43:29.473Z"
   },
   {
    "duration": 154,
    "start_time": "2023-03-23T16:43:29.798Z"
   },
   {
    "duration": 148,
    "start_time": "2023-03-23T16:43:29.954Z"
   },
   {
    "duration": 203,
    "start_time": "2023-03-23T16:43:30.103Z"
   },
   {
    "duration": 31,
    "start_time": "2023-03-23T16:43:30.308Z"
   },
   {
    "duration": 234,
    "start_time": "2023-03-23T16:43:30.341Z"
   },
   {
    "duration": 17,
    "start_time": "2023-03-23T16:43:30.578Z"
   },
   {
    "duration": 43,
    "start_time": "2023-03-23T16:43:30.597Z"
   },
   {
    "duration": 57,
    "start_time": "2023-03-23T16:43:30.642Z"
   },
   {
    "duration": 26,
    "start_time": "2023-03-23T16:43:30.701Z"
   },
   {
    "duration": 46,
    "start_time": "2023-03-23T16:43:30.731Z"
   },
   {
    "duration": 33,
    "start_time": "2023-03-23T16:43:30.778Z"
   },
   {
    "duration": 4,
    "start_time": "2023-03-23T16:43:42.965Z"
   },
   {
    "duration": 78,
    "start_time": "2023-03-23T16:43:42.971Z"
   },
   {
    "duration": 8,
    "start_time": "2023-03-23T16:43:43.050Z"
   },
   {
    "duration": 7,
    "start_time": "2023-03-23T16:43:43.060Z"
   },
   {
    "duration": 8,
    "start_time": "2023-03-23T16:43:43.069Z"
   },
   {
    "duration": 23,
    "start_time": "2023-03-23T16:43:43.079Z"
   },
   {
    "duration": 15,
    "start_time": "2023-03-23T16:43:43.103Z"
   },
   {
    "duration": 25,
    "start_time": "2023-03-23T16:43:43.119Z"
   },
   {
    "duration": 13,
    "start_time": "2023-03-23T16:43:43.145Z"
   },
   {
    "duration": 24,
    "start_time": "2023-03-23T16:43:43.159Z"
   },
   {
    "duration": 27,
    "start_time": "2023-03-23T16:43:43.184Z"
   },
   {
    "duration": 16,
    "start_time": "2023-03-23T16:43:43.212Z"
   },
   {
    "duration": 273,
    "start_time": "2023-03-23T16:43:43.230Z"
   },
   {
    "duration": 322,
    "start_time": "2023-03-23T16:43:43.505Z"
   },
   {
    "duration": 225,
    "start_time": "2023-03-23T16:43:43.828Z"
   },
   {
    "duration": 288,
    "start_time": "2023-03-23T16:43:44.055Z"
   },
   {
    "duration": 231,
    "start_time": "2023-03-23T16:43:44.345Z"
   },
   {
    "duration": 332,
    "start_time": "2023-03-23T16:43:44.578Z"
   },
   {
    "duration": 159,
    "start_time": "2023-03-23T16:43:44.911Z"
   },
   {
    "duration": 155,
    "start_time": "2023-03-23T16:43:45.072Z"
   },
   {
    "duration": 200,
    "start_time": "2023-03-23T16:43:45.229Z"
   },
   {
    "duration": 22,
    "start_time": "2023-03-23T16:43:45.431Z"
   },
   {
    "duration": 168,
    "start_time": "2023-03-23T16:43:45.455Z"
   },
   {
    "duration": 10,
    "start_time": "2023-03-23T16:43:45.625Z"
   },
   {
    "duration": 29,
    "start_time": "2023-03-23T16:43:45.637Z"
   },
   {
    "duration": 4,
    "start_time": "2023-03-23T16:43:45.667Z"
   },
   {
    "duration": 7,
    "start_time": "2023-03-23T16:43:45.672Z"
   },
   {
    "duration": 26,
    "start_time": "2023-03-23T16:43:45.680Z"
   },
   {
    "duration": 25,
    "start_time": "2023-03-23T16:43:45.707Z"
   },
   {
    "duration": 5,
    "start_time": "2023-03-23T16:44:03.222Z"
   },
   {
    "duration": 90,
    "start_time": "2023-03-23T16:44:03.231Z"
   },
   {
    "duration": 8,
    "start_time": "2023-03-23T16:44:03.323Z"
   },
   {
    "duration": 7,
    "start_time": "2023-03-23T16:44:03.333Z"
   },
   {
    "duration": 5,
    "start_time": "2023-03-23T16:44:03.342Z"
   },
   {
    "duration": 16,
    "start_time": "2023-03-23T16:44:03.348Z"
   },
   {
    "duration": 14,
    "start_time": "2023-03-23T16:44:03.365Z"
   },
   {
    "duration": 52,
    "start_time": "2023-03-23T16:44:03.381Z"
   },
   {
    "duration": 12,
    "start_time": "2023-03-23T16:44:03.435Z"
   },
   {
    "duration": 8,
    "start_time": "2023-03-23T16:44:03.449Z"
   },
   {
    "duration": 6,
    "start_time": "2023-03-23T16:44:03.460Z"
   },
   {
    "duration": 9,
    "start_time": "2023-03-23T16:44:03.468Z"
   },
   {
    "duration": 344,
    "start_time": "2023-03-23T16:44:03.478Z"
   },
   {
    "duration": 230,
    "start_time": "2023-03-23T16:44:03.825Z"
   },
   {
    "duration": 245,
    "start_time": "2023-03-23T16:44:04.056Z"
   },
   {
    "duration": 320,
    "start_time": "2023-03-23T16:44:04.304Z"
   },
   {
    "duration": 244,
    "start_time": "2023-03-23T16:44:04.625Z"
   },
   {
    "duration": 385,
    "start_time": "2023-03-23T16:44:04.871Z"
   },
   {
    "duration": 187,
    "start_time": "2023-03-23T16:44:05.259Z"
   },
   {
    "duration": 157,
    "start_time": "2023-03-23T16:44:05.448Z"
   },
   {
    "duration": 205,
    "start_time": "2023-03-23T16:44:05.608Z"
   },
   {
    "duration": 29,
    "start_time": "2023-03-23T16:44:05.815Z"
   },
   {
    "duration": 155,
    "start_time": "2023-03-23T16:44:05.846Z"
   },
   {
    "duration": 11,
    "start_time": "2023-03-23T16:44:06.002Z"
   },
   {
    "duration": 10,
    "start_time": "2023-03-23T16:44:06.023Z"
   },
   {
    "duration": 12,
    "start_time": "2023-03-23T16:44:06.035Z"
   },
   {
    "duration": 4,
    "start_time": "2023-03-23T16:44:06.049Z"
   },
   {
    "duration": 26,
    "start_time": "2023-03-23T16:44:06.055Z"
   },
   {
    "duration": 13,
    "start_time": "2023-03-23T16:44:06.084Z"
   },
   {
    "duration": 3,
    "start_time": "2023-03-23T16:45:50.847Z"
   },
   {
    "duration": 90,
    "start_time": "2023-03-23T16:45:50.852Z"
   },
   {
    "duration": 8,
    "start_time": "2023-03-23T16:45:50.944Z"
   },
   {
    "duration": 6,
    "start_time": "2023-03-23T16:45:50.953Z"
   },
   {
    "duration": 7,
    "start_time": "2023-03-23T16:45:50.961Z"
   },
   {
    "duration": 16,
    "start_time": "2023-03-23T16:45:50.969Z"
   },
   {
    "duration": 11,
    "start_time": "2023-03-23T16:45:50.987Z"
   },
   {
    "duration": 37,
    "start_time": "2023-03-23T16:45:51.000Z"
   },
   {
    "duration": 14,
    "start_time": "2023-03-23T16:45:51.039Z"
   },
   {
    "duration": 8,
    "start_time": "2023-03-23T16:45:51.055Z"
   },
   {
    "duration": 20,
    "start_time": "2023-03-23T16:45:51.065Z"
   },
   {
    "duration": 15,
    "start_time": "2023-03-23T16:45:51.087Z"
   },
   {
    "duration": 23,
    "start_time": "2023-03-23T16:45:51.103Z"
   },
   {
    "duration": 287,
    "start_time": "2023-03-23T16:45:51.129Z"
   },
   {
    "duration": 218,
    "start_time": "2023-03-23T16:45:51.418Z"
   },
   {
    "duration": 217,
    "start_time": "2023-03-23T16:45:51.637Z"
   },
   {
    "duration": 298,
    "start_time": "2023-03-23T16:45:51.855Z"
   },
   {
    "duration": 238,
    "start_time": "2023-03-23T16:45:52.155Z"
   },
   {
    "duration": 369,
    "start_time": "2023-03-23T16:45:52.395Z"
   },
   {
    "duration": 286,
    "start_time": "2023-03-23T16:45:52.766Z"
   },
   {
    "duration": 152,
    "start_time": "2023-03-23T16:45:53.054Z"
   },
   {
    "duration": 215,
    "start_time": "2023-03-23T16:45:53.208Z"
   },
   {
    "duration": 25,
    "start_time": "2023-03-23T16:45:53.424Z"
   },
   {
    "duration": 152,
    "start_time": "2023-03-23T16:45:53.450Z"
   },
   {
    "duration": 19,
    "start_time": "2023-03-23T16:45:53.604Z"
   },
   {
    "duration": 9,
    "start_time": "2023-03-23T16:45:53.625Z"
   },
   {
    "duration": 6,
    "start_time": "2023-03-23T16:45:53.635Z"
   },
   {
    "duration": 27,
    "start_time": "2023-03-23T16:45:53.642Z"
   },
   {
    "duration": 14,
    "start_time": "2023-03-23T16:45:53.671Z"
   },
   {
    "duration": 4,
    "start_time": "2023-03-23T17:26:36.769Z"
   },
   {
    "duration": 83,
    "start_time": "2023-03-23T17:26:36.775Z"
   },
   {
    "duration": 8,
    "start_time": "2023-03-23T17:26:36.860Z"
   },
   {
    "duration": 6,
    "start_time": "2023-03-23T17:26:36.869Z"
   },
   {
    "duration": 6,
    "start_time": "2023-03-23T17:26:36.877Z"
   },
   {
    "duration": 16,
    "start_time": "2023-03-23T17:26:36.884Z"
   },
   {
    "duration": 13,
    "start_time": "2023-03-23T17:26:36.902Z"
   },
   {
    "duration": 20,
    "start_time": "2023-03-23T17:26:36.917Z"
   },
   {
    "duration": 13,
    "start_time": "2023-03-23T17:26:36.939Z"
   },
   {
    "duration": 7,
    "start_time": "2023-03-23T17:26:36.954Z"
   },
   {
    "duration": 8,
    "start_time": "2023-03-23T17:26:36.963Z"
   },
   {
    "duration": 10,
    "start_time": "2023-03-23T17:26:36.972Z"
   },
   {
    "duration": 303,
    "start_time": "2023-03-23T17:26:36.983Z"
   },
   {
    "duration": 219,
    "start_time": "2023-03-23T17:26:37.289Z"
   },
   {
    "duration": 212,
    "start_time": "2023-03-23T17:26:37.510Z"
   },
   {
    "duration": 314,
    "start_time": "2023-03-23T17:26:37.724Z"
   },
   {
    "duration": 231,
    "start_time": "2023-03-23T17:26:38.040Z"
   },
   {
    "duration": 313,
    "start_time": "2023-03-23T17:26:38.273Z"
   },
   {
    "duration": 153,
    "start_time": "2023-03-23T17:26:38.588Z"
   },
   {
    "duration": 155,
    "start_time": "2023-03-23T17:26:38.743Z"
   },
   {
    "duration": 102,
    "start_time": "2023-03-23T17:26:38.900Z"
   },
   {
    "duration": 0,
    "start_time": "2023-03-23T17:26:39.004Z"
   },
   {
    "duration": 0,
    "start_time": "2023-03-23T17:26:39.005Z"
   },
   {
    "duration": 0,
    "start_time": "2023-03-23T17:26:39.006Z"
   },
   {
    "duration": 0,
    "start_time": "2023-03-23T17:26:39.007Z"
   },
   {
    "duration": 0,
    "start_time": "2023-03-23T17:26:39.009Z"
   },
   {
    "duration": 0,
    "start_time": "2023-03-23T17:26:39.025Z"
   },
   {
    "duration": 0,
    "start_time": "2023-03-23T17:26:39.027Z"
   },
   {
    "duration": 0,
    "start_time": "2023-03-23T17:26:39.028Z"
   },
   {
    "duration": 3,
    "start_time": "2023-03-23T17:27:16.362Z"
   },
   {
    "duration": 110,
    "start_time": "2023-03-23T17:27:16.367Z"
   },
   {
    "duration": 8,
    "start_time": "2023-03-23T17:27:16.479Z"
   },
   {
    "duration": 26,
    "start_time": "2023-03-23T17:27:16.488Z"
   },
   {
    "duration": 21,
    "start_time": "2023-03-23T17:27:16.516Z"
   },
   {
    "duration": 33,
    "start_time": "2023-03-23T17:27:16.539Z"
   },
   {
    "duration": 44,
    "start_time": "2023-03-23T17:27:16.574Z"
   },
   {
    "duration": 35,
    "start_time": "2023-03-23T17:27:16.619Z"
   },
   {
    "duration": 28,
    "start_time": "2023-03-23T17:27:16.655Z"
   },
   {
    "duration": 29,
    "start_time": "2023-03-23T17:27:16.685Z"
   },
   {
    "duration": 16,
    "start_time": "2023-03-23T17:27:16.715Z"
   },
   {
    "duration": 9,
    "start_time": "2023-03-23T17:27:16.733Z"
   },
   {
    "duration": 292,
    "start_time": "2023-03-23T17:27:16.744Z"
   },
   {
    "duration": 227,
    "start_time": "2023-03-23T17:27:17.039Z"
   },
   {
    "duration": 221,
    "start_time": "2023-03-23T17:27:17.267Z"
   },
   {
    "duration": 317,
    "start_time": "2023-03-23T17:27:17.490Z"
   },
   {
    "duration": 220,
    "start_time": "2023-03-23T17:27:17.809Z"
   },
   {
    "duration": 337,
    "start_time": "2023-03-23T17:27:18.030Z"
   },
   {
    "duration": 155,
    "start_time": "2023-03-23T17:27:18.369Z"
   },
   {
    "duration": 152,
    "start_time": "2023-03-23T17:27:18.525Z"
   },
   {
    "duration": 171,
    "start_time": "2023-03-23T17:27:18.679Z"
   },
   {
    "duration": 194,
    "start_time": "2023-03-23T17:27:18.851Z"
   },
   {
    "duration": 26,
    "start_time": "2023-03-23T17:27:19.047Z"
   },
   {
    "duration": 165,
    "start_time": "2023-03-23T17:27:19.075Z"
   },
   {
    "duration": 10,
    "start_time": "2023-03-23T17:27:19.242Z"
   },
   {
    "duration": 9,
    "start_time": "2023-03-23T17:27:19.253Z"
   },
   {
    "duration": 5,
    "start_time": "2023-03-23T17:27:19.264Z"
   },
   {
    "duration": 56,
    "start_time": "2023-03-23T17:27:19.271Z"
   },
   {
    "duration": 15,
    "start_time": "2023-03-23T17:27:19.329Z"
   },
   {
    "duration": 4,
    "start_time": "2023-03-23T17:28:31.945Z"
   },
   {
    "duration": 81,
    "start_time": "2023-03-23T17:28:31.951Z"
   },
   {
    "duration": 9,
    "start_time": "2023-03-23T17:28:32.033Z"
   },
   {
    "duration": 11,
    "start_time": "2023-03-23T17:28:32.044Z"
   },
   {
    "duration": 6,
    "start_time": "2023-03-23T17:28:32.057Z"
   },
   {
    "duration": 18,
    "start_time": "2023-03-23T17:28:32.064Z"
   },
   {
    "duration": 15,
    "start_time": "2023-03-23T17:28:32.083Z"
   },
   {
    "duration": 41,
    "start_time": "2023-03-23T17:28:32.100Z"
   },
   {
    "duration": 13,
    "start_time": "2023-03-23T17:28:32.142Z"
   },
   {
    "duration": 11,
    "start_time": "2023-03-23T17:28:32.157Z"
   },
   {
    "duration": 8,
    "start_time": "2023-03-23T17:28:32.169Z"
   },
   {
    "duration": 10,
    "start_time": "2023-03-23T17:28:32.178Z"
   },
   {
    "duration": 291,
    "start_time": "2023-03-23T17:28:32.223Z"
   },
   {
    "duration": 238,
    "start_time": "2023-03-23T17:28:32.522Z"
   },
   {
    "duration": 220,
    "start_time": "2023-03-23T17:28:32.762Z"
   },
   {
    "duration": 332,
    "start_time": "2023-03-23T17:28:32.984Z"
   },
   {
    "duration": 229,
    "start_time": "2023-03-23T17:28:33.317Z"
   },
   {
    "duration": 334,
    "start_time": "2023-03-23T17:28:33.548Z"
   },
   {
    "duration": 325,
    "start_time": "2023-03-23T17:28:33.884Z"
   },
   {
    "duration": 159,
    "start_time": "2023-03-23T17:28:34.210Z"
   },
   {
    "duration": 147,
    "start_time": "2023-03-23T17:28:34.370Z"
   },
   {
    "duration": 188,
    "start_time": "2023-03-23T17:28:34.524Z"
   },
   {
    "duration": 34,
    "start_time": "2023-03-23T17:28:34.714Z"
   },
   {
    "duration": 161,
    "start_time": "2023-03-23T17:28:34.750Z"
   },
   {
    "duration": 19,
    "start_time": "2023-03-23T17:28:34.912Z"
   },
   {
    "duration": 10,
    "start_time": "2023-03-23T17:28:34.933Z"
   },
   {
    "duration": 4,
    "start_time": "2023-03-23T17:28:34.945Z"
   },
   {
    "duration": 37,
    "start_time": "2023-03-23T17:28:34.952Z"
   },
   {
    "duration": 45,
    "start_time": "2023-03-23T17:28:34.991Z"
   },
   {
    "duration": 1185,
    "start_time": "2023-03-24T07:45:42.404Z"
   },
   {
    "duration": 78,
    "start_time": "2023-03-24T07:45:43.592Z"
   },
   {
    "duration": 12,
    "start_time": "2023-03-24T07:45:43.672Z"
   },
   {
    "duration": 4,
    "start_time": "2023-03-24T07:45:43.686Z"
   },
   {
    "duration": 9,
    "start_time": "2023-03-24T07:45:43.692Z"
   },
   {
    "duration": 16,
    "start_time": "2023-03-24T07:45:43.702Z"
   },
   {
    "duration": 18,
    "start_time": "2023-03-24T07:45:43.719Z"
   },
   {
    "duration": 21,
    "start_time": "2023-03-24T07:45:43.741Z"
   },
   {
    "duration": 15,
    "start_time": "2023-03-24T07:45:43.763Z"
   },
   {
    "duration": 14,
    "start_time": "2023-03-24T07:45:43.781Z"
   },
   {
    "duration": 6,
    "start_time": "2023-03-24T07:45:43.797Z"
   },
   {
    "duration": 46,
    "start_time": "2023-03-24T07:45:43.805Z"
   },
   {
    "duration": 315,
    "start_time": "2023-03-24T07:45:43.852Z"
   },
   {
    "duration": 339,
    "start_time": "2023-03-24T07:45:44.168Z"
   },
   {
    "duration": 287,
    "start_time": "2023-03-24T07:45:44.508Z"
   },
   {
    "duration": 324,
    "start_time": "2023-03-24T07:45:44.797Z"
   },
   {
    "duration": 237,
    "start_time": "2023-03-24T07:45:45.123Z"
   },
   {
    "duration": 332,
    "start_time": "2023-03-24T07:45:45.362Z"
   },
   {
    "duration": 164,
    "start_time": "2023-03-24T07:45:45.696Z"
   },
   {
    "duration": 173,
    "start_time": "2023-03-24T07:45:45.861Z"
   },
   {
    "duration": 160,
    "start_time": "2023-03-24T07:45:46.041Z"
   },
   {
    "duration": 212,
    "start_time": "2023-03-24T07:45:46.203Z"
   },
   {
    "duration": 34,
    "start_time": "2023-03-24T07:45:46.417Z"
   },
   {
    "duration": 161,
    "start_time": "2023-03-24T07:45:46.453Z"
   },
   {
    "duration": 11,
    "start_time": "2023-03-24T07:45:46.616Z"
   },
   {
    "duration": 19,
    "start_time": "2023-03-24T07:45:46.628Z"
   },
   {
    "duration": 5,
    "start_time": "2023-03-24T07:45:46.649Z"
   },
   {
    "duration": 30,
    "start_time": "2023-03-24T07:45:46.658Z"
   },
   {
    "duration": 15,
    "start_time": "2023-03-24T07:45:46.690Z"
   },
   {
    "duration": 1209,
    "start_time": "2023-03-24T08:32:22.658Z"
   },
   {
    "duration": 226,
    "start_time": "2023-03-24T08:32:23.869Z"
   },
   {
    "duration": 10,
    "start_time": "2023-03-24T08:32:24.097Z"
   },
   {
    "duration": 4,
    "start_time": "2023-03-24T08:32:24.108Z"
   },
   {
    "duration": 16,
    "start_time": "2023-03-24T08:32:24.113Z"
   },
   {
    "duration": 20,
    "start_time": "2023-03-24T08:32:24.130Z"
   },
   {
    "duration": 10,
    "start_time": "2023-03-24T08:32:24.151Z"
   },
   {
    "duration": 32,
    "start_time": "2023-03-24T08:32:24.163Z"
   },
   {
    "duration": 15,
    "start_time": "2023-03-24T08:32:24.197Z"
   },
   {
    "duration": 9,
    "start_time": "2023-03-24T08:32:24.213Z"
   },
   {
    "duration": 11,
    "start_time": "2023-03-24T08:32:24.223Z"
   },
   {
    "duration": 24,
    "start_time": "2023-03-24T08:32:24.236Z"
   },
   {
    "duration": 270,
    "start_time": "2023-03-24T08:32:24.262Z"
   },
   {
    "duration": 3,
    "start_time": "2023-03-24T08:32:35.433Z"
   },
   {
    "duration": 91,
    "start_time": "2023-03-24T08:32:35.438Z"
   },
   {
    "duration": 8,
    "start_time": "2023-03-24T08:32:35.531Z"
   },
   {
    "duration": 7,
    "start_time": "2023-03-24T08:32:35.542Z"
   },
   {
    "duration": 15,
    "start_time": "2023-03-24T08:32:35.551Z"
   },
   {
    "duration": 23,
    "start_time": "2023-03-24T08:32:35.567Z"
   },
   {
    "duration": 20,
    "start_time": "2023-03-24T08:32:35.591Z"
   },
   {
    "duration": 32,
    "start_time": "2023-03-24T08:32:35.612Z"
   },
   {
    "duration": 12,
    "start_time": "2023-03-24T08:32:35.645Z"
   },
   {
    "duration": 10,
    "start_time": "2023-03-24T08:32:35.667Z"
   },
   {
    "duration": 10,
    "start_time": "2023-03-24T08:32:35.679Z"
   },
   {
    "duration": 10,
    "start_time": "2023-03-24T08:32:35.691Z"
   },
   {
    "duration": 290,
    "start_time": "2023-03-24T08:32:35.703Z"
   },
   {
    "duration": 47,
    "start_time": "2023-03-24T08:32:35.994Z"
   },
   {
    "duration": 3,
    "start_time": "2023-03-24T08:32:51.420Z"
   },
   {
    "duration": 76,
    "start_time": "2023-03-24T08:32:51.425Z"
   },
   {
    "duration": 8,
    "start_time": "2023-03-24T08:32:51.503Z"
   },
   {
    "duration": 5,
    "start_time": "2023-03-24T08:32:51.514Z"
   },
   {
    "duration": 8,
    "start_time": "2023-03-24T08:32:51.521Z"
   },
   {
    "duration": 17,
    "start_time": "2023-03-24T08:32:51.531Z"
   },
   {
    "duration": 11,
    "start_time": "2023-03-24T08:32:51.550Z"
   },
   {
    "duration": 34,
    "start_time": "2023-03-24T08:32:51.562Z"
   },
   {
    "duration": 40,
    "start_time": "2023-03-24T08:32:51.597Z"
   },
   {
    "duration": 11,
    "start_time": "2023-03-24T08:32:51.639Z"
   },
   {
    "duration": 7,
    "start_time": "2023-03-24T08:32:51.652Z"
   },
   {
    "duration": 29,
    "start_time": "2023-03-24T08:32:51.660Z"
   },
   {
    "duration": 280,
    "start_time": "2023-03-24T08:32:51.690Z"
   },
   {
    "duration": 343,
    "start_time": "2023-03-24T08:32:51.972Z"
   },
   {
    "duration": 3,
    "start_time": "2023-03-24T08:33:08.686Z"
   },
   {
    "duration": 73,
    "start_time": "2023-03-24T08:33:08.691Z"
   },
   {
    "duration": 8,
    "start_time": "2023-03-24T08:33:08.765Z"
   },
   {
    "duration": 9,
    "start_time": "2023-03-24T08:33:08.774Z"
   },
   {
    "duration": 7,
    "start_time": "2023-03-24T08:33:08.785Z"
   },
   {
    "duration": 15,
    "start_time": "2023-03-24T08:33:08.793Z"
   },
   {
    "duration": 10,
    "start_time": "2023-03-24T08:33:08.810Z"
   },
   {
    "duration": 17,
    "start_time": "2023-03-24T08:33:08.821Z"
   },
   {
    "duration": 14,
    "start_time": "2023-03-24T08:33:08.868Z"
   },
   {
    "duration": 7,
    "start_time": "2023-03-24T08:33:08.884Z"
   },
   {
    "duration": 6,
    "start_time": "2023-03-24T08:33:08.893Z"
   },
   {
    "duration": 9,
    "start_time": "2023-03-24T08:33:08.900Z"
   },
   {
    "duration": 291,
    "start_time": "2023-03-24T08:33:08.910Z"
   },
   {
    "duration": 59,
    "start_time": "2023-03-24T08:33:09.203Z"
   },
   {
    "duration": 3,
    "start_time": "2023-03-24T08:33:46.149Z"
   },
   {
    "duration": 80,
    "start_time": "2023-03-24T08:33:46.155Z"
   },
   {
    "duration": 6,
    "start_time": "2023-03-24T08:33:46.237Z"
   },
   {
    "duration": 12,
    "start_time": "2023-03-24T08:33:46.244Z"
   },
   {
    "duration": 8,
    "start_time": "2023-03-24T08:33:46.257Z"
   },
   {
    "duration": 21,
    "start_time": "2023-03-24T08:33:46.267Z"
   },
   {
    "duration": 10,
    "start_time": "2023-03-24T08:33:46.290Z"
   },
   {
    "duration": 19,
    "start_time": "2023-03-24T08:33:46.302Z"
   },
   {
    "duration": 11,
    "start_time": "2023-03-24T08:33:46.322Z"
   },
   {
    "duration": 10,
    "start_time": "2023-03-24T08:33:46.334Z"
   },
   {
    "duration": 28,
    "start_time": "2023-03-24T08:33:46.345Z"
   },
   {
    "duration": 13,
    "start_time": "2023-03-24T08:33:46.376Z"
   },
   {
    "duration": 288,
    "start_time": "2023-03-24T08:33:46.391Z"
   },
   {
    "duration": 181,
    "start_time": "2023-03-24T08:33:46.681Z"
   },
   {
    "duration": 3,
    "start_time": "2023-03-24T08:34:06.948Z"
   },
   {
    "duration": 83,
    "start_time": "2023-03-24T08:34:06.953Z"
   },
   {
    "duration": 7,
    "start_time": "2023-03-24T08:34:07.037Z"
   },
   {
    "duration": 7,
    "start_time": "2023-03-24T08:34:07.045Z"
   },
   {
    "duration": 8,
    "start_time": "2023-03-24T08:34:07.053Z"
   },
   {
    "duration": 23,
    "start_time": "2023-03-24T08:34:07.062Z"
   },
   {
    "duration": 18,
    "start_time": "2023-03-24T08:34:07.087Z"
   },
   {
    "duration": 24,
    "start_time": "2023-03-24T08:34:07.106Z"
   },
   {
    "duration": 10,
    "start_time": "2023-03-24T08:34:07.132Z"
   },
   {
    "duration": 7,
    "start_time": "2023-03-24T08:34:07.144Z"
   },
   {
    "duration": 16,
    "start_time": "2023-03-24T08:34:07.152Z"
   },
   {
    "duration": 14,
    "start_time": "2023-03-24T08:34:07.171Z"
   },
   {
    "duration": 266,
    "start_time": "2023-03-24T08:34:07.187Z"
   },
   {
    "duration": 184,
    "start_time": "2023-03-24T08:34:07.455Z"
   },
   {
    "duration": 3,
    "start_time": "2023-03-24T08:34:43.512Z"
   },
   {
    "duration": 78,
    "start_time": "2023-03-24T08:34:43.517Z"
   },
   {
    "duration": 7,
    "start_time": "2023-03-24T08:34:43.596Z"
   },
   {
    "duration": 5,
    "start_time": "2023-03-24T08:34:43.604Z"
   },
   {
    "duration": 7,
    "start_time": "2023-03-24T08:34:43.611Z"
   },
   {
    "duration": 20,
    "start_time": "2023-03-24T08:34:43.619Z"
   },
   {
    "duration": 10,
    "start_time": "2023-03-24T08:34:43.640Z"
   },
   {
    "duration": 16,
    "start_time": "2023-03-24T08:34:43.651Z"
   },
   {
    "duration": 12,
    "start_time": "2023-03-24T08:34:43.668Z"
   },
   {
    "duration": 7,
    "start_time": "2023-03-24T08:34:43.683Z"
   },
   {
    "duration": 7,
    "start_time": "2023-03-24T08:34:43.691Z"
   },
   {
    "duration": 16,
    "start_time": "2023-03-24T08:34:43.699Z"
   },
   {
    "duration": 292,
    "start_time": "2023-03-24T08:34:43.716Z"
   },
   {
    "duration": 200,
    "start_time": "2023-03-24T08:34:44.010Z"
   },
   {
    "duration": 197,
    "start_time": "2023-03-24T08:34:44.211Z"
   },
   {
    "duration": 315,
    "start_time": "2023-03-24T08:34:44.410Z"
   },
   {
    "duration": 199,
    "start_time": "2023-03-24T08:34:44.727Z"
   },
   {
    "duration": 365,
    "start_time": "2023-03-24T08:34:44.928Z"
   },
   {
    "duration": 145,
    "start_time": "2023-03-24T08:34:45.295Z"
   },
   {
    "duration": 144,
    "start_time": "2023-03-24T08:34:45.442Z"
   },
   {
    "duration": 129,
    "start_time": "2023-03-24T08:34:45.588Z"
   },
   {
    "duration": 190,
    "start_time": "2023-03-24T08:34:45.719Z"
   },
   {
    "duration": 21,
    "start_time": "2023-03-24T08:34:45.910Z"
   },
   {
    "duration": 146,
    "start_time": "2023-03-24T08:34:45.933Z"
   },
   {
    "duration": 10,
    "start_time": "2023-03-24T08:34:46.081Z"
   },
   {
    "duration": 9,
    "start_time": "2023-03-24T08:34:46.092Z"
   },
   {
    "duration": 4,
    "start_time": "2023-03-24T08:34:46.102Z"
   },
   {
    "duration": 30,
    "start_time": "2023-03-24T08:34:46.109Z"
   },
   {
    "duration": 11,
    "start_time": "2023-03-24T08:34:46.141Z"
   },
   {
    "duration": 1018,
    "start_time": "2023-03-24T08:45:23.172Z"
   },
   {
    "duration": 73,
    "start_time": "2023-03-24T08:45:24.192Z"
   },
   {
    "duration": 10,
    "start_time": "2023-03-24T08:45:24.266Z"
   },
   {
    "duration": 3,
    "start_time": "2023-03-24T08:45:24.277Z"
   },
   {
    "duration": 6,
    "start_time": "2023-03-24T08:45:24.282Z"
   },
   {
    "duration": 14,
    "start_time": "2023-03-24T08:45:24.289Z"
   },
   {
    "duration": 13,
    "start_time": "2023-03-24T08:45:24.304Z"
   },
   {
    "duration": 20,
    "start_time": "2023-03-24T08:45:24.318Z"
   },
   {
    "duration": 39,
    "start_time": "2023-03-24T08:45:24.339Z"
   },
   {
    "duration": 9,
    "start_time": "2023-03-24T08:45:24.379Z"
   },
   {
    "duration": 11,
    "start_time": "2023-03-24T08:45:24.389Z"
   },
   {
    "duration": 10,
    "start_time": "2023-03-24T08:45:24.402Z"
   },
   {
    "duration": 268,
    "start_time": "2023-03-24T08:45:24.414Z"
   },
   {
    "duration": 248,
    "start_time": "2023-03-24T08:45:24.686Z"
   },
   {
    "duration": 186,
    "start_time": "2023-03-24T08:45:24.935Z"
   },
   {
    "duration": 247,
    "start_time": "2023-03-24T08:45:25.123Z"
   },
   {
    "duration": 188,
    "start_time": "2023-03-24T08:45:25.372Z"
   },
   {
    "duration": 317,
    "start_time": "2023-03-24T08:45:25.561Z"
   },
   {
    "duration": 153,
    "start_time": "2023-03-24T08:45:25.880Z"
   },
   {
    "duration": 141,
    "start_time": "2023-03-24T08:45:26.035Z"
   },
   {
    "duration": 120,
    "start_time": "2023-03-24T08:45:26.178Z"
   },
   {
    "duration": 175,
    "start_time": "2023-03-24T08:45:26.299Z"
   },
   {
    "duration": 22,
    "start_time": "2023-03-24T08:45:26.476Z"
   },
   {
    "duration": 146,
    "start_time": "2023-03-24T08:45:26.499Z"
   },
   {
    "duration": 24,
    "start_time": "2023-03-24T08:45:26.646Z"
   },
   {
    "duration": 8,
    "start_time": "2023-03-24T08:45:26.671Z"
   },
   {
    "duration": 9,
    "start_time": "2023-03-24T08:45:26.680Z"
   },
   {
    "duration": 22,
    "start_time": "2023-03-24T08:45:26.690Z"
   },
   {
    "duration": 12,
    "start_time": "2023-03-24T08:45:26.713Z"
   },
   {
    "duration": 3,
    "start_time": "2023-03-24T08:55:23.861Z"
   },
   {
    "duration": 78,
    "start_time": "2023-03-24T08:55:23.866Z"
   },
   {
    "duration": 8,
    "start_time": "2023-03-24T08:55:23.946Z"
   },
   {
    "duration": 3,
    "start_time": "2023-03-24T08:55:23.956Z"
   },
   {
    "duration": 5,
    "start_time": "2023-03-24T08:55:23.961Z"
   },
   {
    "duration": 15,
    "start_time": "2023-03-24T08:55:23.968Z"
   },
   {
    "duration": 11,
    "start_time": "2023-03-24T08:55:23.984Z"
   },
   {
    "duration": 20,
    "start_time": "2023-03-24T08:55:23.997Z"
   },
   {
    "duration": 11,
    "start_time": "2023-03-24T08:55:24.019Z"
   },
   {
    "duration": 40,
    "start_time": "2023-03-24T08:55:24.032Z"
   },
   {
    "duration": 6,
    "start_time": "2023-03-24T08:55:24.073Z"
   },
   {
    "duration": 14,
    "start_time": "2023-03-24T08:55:24.080Z"
   },
   {
    "duration": 287,
    "start_time": "2023-03-24T08:55:24.096Z"
   },
   {
    "duration": 252,
    "start_time": "2023-03-24T08:55:24.386Z"
   },
   {
    "duration": 218,
    "start_time": "2023-03-24T08:55:24.639Z"
   },
   {
    "duration": 334,
    "start_time": "2023-03-24T08:55:24.859Z"
   },
   {
    "duration": 206,
    "start_time": "2023-03-24T08:55:25.194Z"
   },
   {
    "duration": 294,
    "start_time": "2023-03-24T08:55:25.402Z"
   },
   {
    "duration": 188,
    "start_time": "2023-03-24T08:55:25.698Z"
   },
   {
    "duration": 176,
    "start_time": "2023-03-24T08:55:25.887Z"
   },
   {
    "duration": 221,
    "start_time": "2023-03-24T08:55:26.064Z"
   },
   {
    "duration": 201,
    "start_time": "2023-03-24T08:55:26.286Z"
   },
   {
    "duration": 29,
    "start_time": "2023-03-24T08:55:26.489Z"
   },
   {
    "duration": 180,
    "start_time": "2023-03-24T08:55:26.520Z"
   },
   {
    "duration": 10,
    "start_time": "2023-03-24T08:55:26.702Z"
   },
   {
    "duration": 790,
    "start_time": "2023-03-24T08:55:26.713Z"
   },
   {
    "duration": 0,
    "start_time": "2023-03-24T08:55:27.505Z"
   },
   {
    "duration": 0,
    "start_time": "2023-03-24T08:55:27.506Z"
   },
   {
    "duration": 0,
    "start_time": "2023-03-24T08:55:27.507Z"
   },
   {
    "duration": 4,
    "start_time": "2023-03-24T08:56:36.156Z"
   },
   {
    "duration": 87,
    "start_time": "2023-03-24T08:56:36.161Z"
   },
   {
    "duration": 7,
    "start_time": "2023-03-24T08:56:36.250Z"
   },
   {
    "duration": 10,
    "start_time": "2023-03-24T08:56:36.258Z"
   },
   {
    "duration": 13,
    "start_time": "2023-03-24T08:56:36.270Z"
   },
   {
    "duration": 15,
    "start_time": "2023-03-24T08:56:36.285Z"
   },
   {
    "duration": 10,
    "start_time": "2023-03-24T08:56:36.301Z"
   },
   {
    "duration": 16,
    "start_time": "2023-03-24T08:56:36.313Z"
   },
   {
    "duration": 11,
    "start_time": "2023-03-24T08:56:36.330Z"
   },
   {
    "duration": 29,
    "start_time": "2023-03-24T08:56:36.343Z"
   },
   {
    "duration": 5,
    "start_time": "2023-03-24T08:56:36.374Z"
   },
   {
    "duration": 15,
    "start_time": "2023-03-24T08:56:36.380Z"
   },
   {
    "duration": 268,
    "start_time": "2023-03-24T08:56:36.396Z"
   },
   {
    "duration": 192,
    "start_time": "2023-03-24T08:56:36.665Z"
   },
   {
    "duration": 188,
    "start_time": "2023-03-24T08:56:36.868Z"
   },
   {
    "duration": 301,
    "start_time": "2023-03-24T08:56:37.058Z"
   },
   {
    "duration": 266,
    "start_time": "2023-03-24T08:56:37.361Z"
   },
   {
    "duration": 296,
    "start_time": "2023-03-24T08:56:37.628Z"
   },
   {
    "duration": 150,
    "start_time": "2023-03-24T08:56:37.925Z"
   },
   {
    "duration": 143,
    "start_time": "2023-03-24T08:56:38.077Z"
   },
   {
    "duration": 222,
    "start_time": "2023-03-24T08:56:38.222Z"
   },
   {
    "duration": 195,
    "start_time": "2023-03-24T08:56:38.447Z"
   },
   {
    "duration": 33,
    "start_time": "2023-03-24T08:56:38.644Z"
   },
   {
    "duration": 152,
    "start_time": "2023-03-24T08:56:38.679Z"
   },
   {
    "duration": 10,
    "start_time": "2023-03-24T08:56:38.833Z"
   },
   {
    "duration": 28,
    "start_time": "2023-03-24T08:56:38.845Z"
   },
   {
    "duration": 3,
    "start_time": "2023-03-24T08:56:38.875Z"
   },
   {
    "duration": 23,
    "start_time": "2023-03-24T08:56:38.882Z"
   },
   {
    "duration": 13,
    "start_time": "2023-03-24T08:56:38.906Z"
   },
   {
    "duration": 1335,
    "start_time": "2023-03-26T10:16:17.788Z"
   },
   {
    "duration": 221,
    "start_time": "2023-03-26T10:16:19.126Z"
   },
   {
    "duration": 12,
    "start_time": "2023-03-26T10:16:19.349Z"
   },
   {
    "duration": 3,
    "start_time": "2023-03-26T10:16:19.363Z"
   },
   {
    "duration": 8,
    "start_time": "2023-03-26T10:16:19.369Z"
   },
   {
    "duration": 19,
    "start_time": "2023-03-26T10:16:19.379Z"
   },
   {
    "duration": 12,
    "start_time": "2023-03-26T10:16:19.400Z"
   },
   {
    "duration": 122,
    "start_time": "2023-03-26T10:16:19.414Z"
   },
   {
    "duration": 0,
    "start_time": "2023-03-26T10:16:19.538Z"
   },
   {
    "duration": 0,
    "start_time": "2023-03-26T10:16:19.540Z"
   },
   {
    "duration": 0,
    "start_time": "2023-03-26T10:16:19.541Z"
   },
   {
    "duration": 0,
    "start_time": "2023-03-26T10:16:19.542Z"
   },
   {
    "duration": 0,
    "start_time": "2023-03-26T10:16:19.544Z"
   },
   {
    "duration": 0,
    "start_time": "2023-03-26T10:16:19.545Z"
   },
   {
    "duration": 0,
    "start_time": "2023-03-26T10:16:19.547Z"
   },
   {
    "duration": 0,
    "start_time": "2023-03-26T10:16:19.548Z"
   },
   {
    "duration": 0,
    "start_time": "2023-03-26T10:16:19.549Z"
   },
   {
    "duration": 0,
    "start_time": "2023-03-26T10:16:19.550Z"
   },
   {
    "duration": 0,
    "start_time": "2023-03-26T10:16:19.551Z"
   },
   {
    "duration": 0,
    "start_time": "2023-03-26T10:16:19.575Z"
   },
   {
    "duration": 0,
    "start_time": "2023-03-26T10:16:19.577Z"
   },
   {
    "duration": 0,
    "start_time": "2023-03-26T10:16:19.579Z"
   },
   {
    "duration": 0,
    "start_time": "2023-03-26T10:16:19.580Z"
   },
   {
    "duration": 0,
    "start_time": "2023-03-26T10:16:19.583Z"
   },
   {
    "duration": 0,
    "start_time": "2023-03-26T10:16:19.584Z"
   },
   {
    "duration": 0,
    "start_time": "2023-03-26T10:16:19.586Z"
   },
   {
    "duration": 0,
    "start_time": "2023-03-26T10:16:19.588Z"
   },
   {
    "duration": 0,
    "start_time": "2023-03-26T10:16:19.589Z"
   },
   {
    "duration": 0,
    "start_time": "2023-03-26T10:16:19.591Z"
   },
   {
    "duration": 0,
    "start_time": "2023-03-26T10:16:19.593Z"
   },
   {
    "duration": 0,
    "start_time": "2023-03-26T10:16:19.594Z"
   },
   {
    "duration": 3,
    "start_time": "2023-03-26T10:16:53.974Z"
   },
   {
    "duration": 76,
    "start_time": "2023-03-26T10:16:53.980Z"
   },
   {
    "duration": 11,
    "start_time": "2023-03-26T10:16:54.058Z"
   },
   {
    "duration": 4,
    "start_time": "2023-03-26T10:16:54.071Z"
   },
   {
    "duration": 7,
    "start_time": "2023-03-26T10:16:54.078Z"
   },
   {
    "duration": 25,
    "start_time": "2023-03-26T10:16:54.087Z"
   },
   {
    "duration": 16,
    "start_time": "2023-03-26T10:16:54.114Z"
   },
   {
    "duration": 61,
    "start_time": "2023-03-26T10:16:54.133Z"
   },
   {
    "duration": 17,
    "start_time": "2023-03-26T10:16:54.198Z"
   },
   {
    "duration": 18,
    "start_time": "2023-03-26T10:16:54.216Z"
   },
   {
    "duration": 10,
    "start_time": "2023-03-26T10:16:54.236Z"
   },
   {
    "duration": 42,
    "start_time": "2023-03-26T10:16:54.248Z"
   },
   {
    "duration": 330,
    "start_time": "2023-03-26T10:16:54.293Z"
   },
   {
    "duration": 307,
    "start_time": "2023-03-26T10:16:54.624Z"
   },
   {
    "duration": 228,
    "start_time": "2023-03-26T10:16:54.933Z"
   },
   {
    "duration": 369,
    "start_time": "2023-03-26T10:16:55.163Z"
   },
   {
    "duration": 230,
    "start_time": "2023-03-26T10:16:55.533Z"
   },
   {
    "duration": 354,
    "start_time": "2023-03-26T10:16:55.765Z"
   },
   {
    "duration": 192,
    "start_time": "2023-03-26T10:16:56.121Z"
   },
   {
    "duration": 179,
    "start_time": "2023-03-26T10:16:56.315Z"
   },
   {
    "duration": 169,
    "start_time": "2023-03-26T10:16:56.496Z"
   },
   {
    "duration": 10,
    "start_time": "2023-03-26T10:16:56.667Z"
   },
   {
    "duration": 226,
    "start_time": "2023-03-26T10:16:56.679Z"
   },
   {
    "duration": 28,
    "start_time": "2023-03-26T10:16:56.908Z"
   },
   {
    "duration": 180,
    "start_time": "2023-03-26T10:16:56.938Z"
   },
   {
    "duration": 12,
    "start_time": "2023-03-26T10:16:57.120Z"
   },
   {
    "duration": 13,
    "start_time": "2023-03-26T10:16:57.134Z"
   },
   {
    "duration": 4,
    "start_time": "2023-03-26T10:16:57.149Z"
   },
   {
    "duration": 28,
    "start_time": "2023-03-26T10:16:57.176Z"
   },
   {
    "duration": 14,
    "start_time": "2023-03-26T10:16:57.205Z"
   },
   {
    "duration": 4,
    "start_time": "2023-03-26T10:17:49.902Z"
   },
   {
    "duration": 78,
    "start_time": "2023-03-26T10:17:49.908Z"
   },
   {
    "duration": 9,
    "start_time": "2023-03-26T10:17:49.988Z"
   },
   {
    "duration": 13,
    "start_time": "2023-03-26T10:17:49.998Z"
   },
   {
    "duration": 12,
    "start_time": "2023-03-26T10:17:50.013Z"
   },
   {
    "duration": 19,
    "start_time": "2023-03-26T10:17:50.027Z"
   },
   {
    "duration": 13,
    "start_time": "2023-03-26T10:17:50.048Z"
   },
   {
    "duration": 36,
    "start_time": "2023-03-26T10:17:50.062Z"
   },
   {
    "duration": 14,
    "start_time": "2023-03-26T10:17:50.100Z"
   },
   {
    "duration": 12,
    "start_time": "2023-03-26T10:17:50.116Z"
   },
   {
    "duration": 8,
    "start_time": "2023-03-26T10:17:50.132Z"
   },
   {
    "duration": 46,
    "start_time": "2023-03-26T10:17:50.142Z"
   },
   {
    "duration": 340,
    "start_time": "2023-03-26T10:17:50.190Z"
   },
   {
    "duration": 315,
    "start_time": "2023-03-26T10:17:50.532Z"
   },
   {
    "duration": 242,
    "start_time": "2023-03-26T10:17:50.849Z"
   },
   {
    "duration": 308,
    "start_time": "2023-03-26T10:17:51.093Z"
   },
   {
    "duration": 244,
    "start_time": "2023-03-26T10:17:51.402Z"
   },
   {
    "duration": 354,
    "start_time": "2023-03-26T10:17:51.648Z"
   },
   {
    "duration": 181,
    "start_time": "2023-03-26T10:17:52.004Z"
   },
   {
    "duration": 175,
    "start_time": "2023-03-26T10:17:52.187Z"
   },
   {
    "duration": 172,
    "start_time": "2023-03-26T10:17:52.363Z"
   },
   {
    "duration": 5,
    "start_time": "2023-03-26T10:17:52.537Z"
   },
   {
    "duration": 8,
    "start_time": "2023-03-26T10:17:52.544Z"
   },
   {
    "duration": 243,
    "start_time": "2023-03-26T10:17:52.554Z"
   },
   {
    "duration": 29,
    "start_time": "2023-03-26T10:17:52.799Z"
   },
   {
    "duration": 160,
    "start_time": "2023-03-26T10:17:52.830Z"
   },
   {
    "duration": 12,
    "start_time": "2023-03-26T10:17:52.992Z"
   },
   {
    "duration": 16,
    "start_time": "2023-03-26T10:17:53.006Z"
   },
   {
    "duration": 9,
    "start_time": "2023-03-26T10:17:53.025Z"
   },
   {
    "duration": 47,
    "start_time": "2023-03-26T10:17:53.036Z"
   },
   {
    "duration": 15,
    "start_time": "2023-03-26T10:17:53.085Z"
   },
   {
    "duration": 5,
    "start_time": "2023-03-26T10:18:56.413Z"
   },
   {
    "duration": 75,
    "start_time": "2023-03-26T10:18:56.421Z"
   },
   {
    "duration": 9,
    "start_time": "2023-03-26T10:18:56.497Z"
   },
   {
    "duration": 4,
    "start_time": "2023-03-26T10:18:56.508Z"
   },
   {
    "duration": 7,
    "start_time": "2023-03-26T10:18:56.514Z"
   },
   {
    "duration": 18,
    "start_time": "2023-03-26T10:18:56.523Z"
   },
   {
    "duration": 13,
    "start_time": "2023-03-26T10:18:56.543Z"
   },
   {
    "duration": 39,
    "start_time": "2023-03-26T10:18:56.558Z"
   },
   {
    "duration": 14,
    "start_time": "2023-03-26T10:18:56.598Z"
   },
   {
    "duration": 8,
    "start_time": "2023-03-26T10:18:56.615Z"
   },
   {
    "duration": 12,
    "start_time": "2023-03-26T10:18:56.625Z"
   },
   {
    "duration": 14,
    "start_time": "2023-03-26T10:18:56.674Z"
   },
   {
    "duration": 304,
    "start_time": "2023-03-26T10:18:56.689Z"
   },
   {
    "duration": 235,
    "start_time": "2023-03-26T10:18:56.995Z"
   },
   {
    "duration": 250,
    "start_time": "2023-03-26T10:18:57.232Z"
   },
   {
    "duration": 319,
    "start_time": "2023-03-26T10:18:57.483Z"
   },
   {
    "duration": 338,
    "start_time": "2023-03-26T10:18:57.804Z"
   },
   {
    "duration": 372,
    "start_time": "2023-03-26T10:18:58.144Z"
   },
   {
    "duration": 184,
    "start_time": "2023-03-26T10:18:58.518Z"
   },
   {
    "duration": 196,
    "start_time": "2023-03-26T10:18:58.704Z"
   },
   {
    "duration": 166,
    "start_time": "2023-03-26T10:18:58.902Z"
   },
   {
    "duration": 11,
    "start_time": "2023-03-26T10:18:59.070Z"
   },
   {
    "duration": 10,
    "start_time": "2023-03-26T10:18:59.083Z"
   },
   {
    "duration": 250,
    "start_time": "2023-03-26T10:18:59.094Z"
   },
   {
    "duration": 41,
    "start_time": "2023-03-26T10:18:59.346Z"
   },
   {
    "duration": 165,
    "start_time": "2023-03-26T10:18:59.389Z"
   },
   {
    "duration": 23,
    "start_time": "2023-03-26T10:18:59.555Z"
   },
   {
    "duration": 12,
    "start_time": "2023-03-26T10:18:59.581Z"
   },
   {
    "duration": 4,
    "start_time": "2023-03-26T10:18:59.595Z"
   },
   {
    "duration": 29,
    "start_time": "2023-03-26T10:18:59.601Z"
   },
   {
    "duration": 48,
    "start_time": "2023-03-26T10:18:59.632Z"
   },
   {
    "duration": 4,
    "start_time": "2023-03-26T10:19:58.108Z"
   },
   {
    "duration": 81,
    "start_time": "2023-03-26T10:19:58.114Z"
   },
   {
    "duration": 8,
    "start_time": "2023-03-26T10:19:58.197Z"
   },
   {
    "duration": 4,
    "start_time": "2023-03-26T10:19:58.208Z"
   },
   {
    "duration": 9,
    "start_time": "2023-03-26T10:19:58.214Z"
   },
   {
    "duration": 23,
    "start_time": "2023-03-26T10:19:58.225Z"
   },
   {
    "duration": 29,
    "start_time": "2023-03-26T10:19:58.252Z"
   },
   {
    "duration": 21,
    "start_time": "2023-03-26T10:19:58.283Z"
   },
   {
    "duration": 15,
    "start_time": "2023-03-26T10:19:58.306Z"
   },
   {
    "duration": 8,
    "start_time": "2023-03-26T10:19:58.324Z"
   },
   {
    "duration": 44,
    "start_time": "2023-03-26T10:19:58.334Z"
   },
   {
    "duration": 15,
    "start_time": "2023-03-26T10:19:58.381Z"
   },
   {
    "duration": 334,
    "start_time": "2023-03-26T10:19:58.398Z"
   },
   {
    "duration": 235,
    "start_time": "2023-03-26T10:19:58.733Z"
   },
   {
    "duration": 238,
    "start_time": "2023-03-26T10:19:58.970Z"
   },
   {
    "duration": 292,
    "start_time": "2023-03-26T10:19:59.209Z"
   },
   {
    "duration": 247,
    "start_time": "2023-03-26T10:19:59.503Z"
   },
   {
    "duration": 370,
    "start_time": "2023-03-26T10:19:59.753Z"
   },
   {
    "duration": 264,
    "start_time": "2023-03-26T10:20:00.124Z"
   },
   {
    "duration": 203,
    "start_time": "2023-03-26T10:20:00.391Z"
   },
   {
    "duration": 169,
    "start_time": "2023-03-26T10:20:00.596Z"
   },
   {
    "duration": 11,
    "start_time": "2023-03-26T10:20:00.767Z"
   },
   {
    "duration": 22,
    "start_time": "2023-03-26T10:20:00.779Z"
   },
   {
    "duration": 248,
    "start_time": "2023-03-26T10:20:00.802Z"
   },
   {
    "duration": 40,
    "start_time": "2023-03-26T10:20:01.052Z"
   },
   {
    "duration": 182,
    "start_time": "2023-03-26T10:20:01.094Z"
   },
   {
    "duration": 11,
    "start_time": "2023-03-26T10:20:01.278Z"
   },
   {
    "duration": 49,
    "start_time": "2023-03-26T10:20:01.292Z"
   },
   {
    "duration": 17,
    "start_time": "2023-03-26T10:20:01.343Z"
   },
   {
    "duration": 45,
    "start_time": "2023-03-26T10:20:01.362Z"
   },
   {
    "duration": 15,
    "start_time": "2023-03-26T10:20:01.408Z"
   },
   {
    "duration": 1195,
    "start_time": "2023-03-26T10:22:06.551Z"
   },
   {
    "duration": 75,
    "start_time": "2023-03-26T10:22:07.749Z"
   },
   {
    "duration": 13,
    "start_time": "2023-03-26T10:22:07.825Z"
   },
   {
    "duration": 3,
    "start_time": "2023-03-26T10:22:07.840Z"
   },
   {
    "duration": 7,
    "start_time": "2023-03-26T10:22:07.845Z"
   },
   {
    "duration": 18,
    "start_time": "2023-03-26T10:22:07.854Z"
   },
   {
    "duration": 13,
    "start_time": "2023-03-26T10:22:07.873Z"
   },
   {
    "duration": 30,
    "start_time": "2023-03-26T10:22:07.888Z"
   },
   {
    "duration": 15,
    "start_time": "2023-03-26T10:22:07.920Z"
   },
   {
    "duration": 39,
    "start_time": "2023-03-26T10:22:07.937Z"
   },
   {
    "duration": 8,
    "start_time": "2023-03-26T10:22:07.978Z"
   },
   {
    "duration": 15,
    "start_time": "2023-03-26T10:22:07.987Z"
   },
   {
    "duration": 337,
    "start_time": "2023-03-26T10:22:08.003Z"
   },
   {
    "duration": 318,
    "start_time": "2023-03-26T10:22:08.343Z"
   },
   {
    "duration": 233,
    "start_time": "2023-03-26T10:22:08.664Z"
   },
   {
    "duration": 310,
    "start_time": "2023-03-26T10:22:08.900Z"
   },
   {
    "duration": 262,
    "start_time": "2023-03-26T10:22:09.213Z"
   },
   {
    "duration": 361,
    "start_time": "2023-03-26T10:22:09.476Z"
   },
   {
    "duration": 194,
    "start_time": "2023-03-26T10:22:09.838Z"
   },
   {
    "duration": 197,
    "start_time": "2023-03-26T10:22:10.033Z"
   },
   {
    "duration": 176,
    "start_time": "2023-03-26T10:22:10.232Z"
   },
   {
    "duration": 186,
    "start_time": "2023-03-26T10:22:10.411Z"
   },
   {
    "duration": 12,
    "start_time": "2023-03-26T10:22:10.598Z"
   },
   {
    "duration": 12,
    "start_time": "2023-03-26T10:22:10.612Z"
   },
   {
    "duration": 15,
    "start_time": "2023-03-26T10:22:10.626Z"
   },
   {
    "duration": 54,
    "start_time": "2023-03-26T10:22:10.643Z"
   },
   {
    "duration": 14,
    "start_time": "2023-03-26T10:22:10.700Z"
   },
   {
    "duration": 4,
    "start_time": "2023-03-26T10:24:24.566Z"
   },
   {
    "duration": 74,
    "start_time": "2023-03-26T10:24:24.573Z"
   },
   {
    "duration": 9,
    "start_time": "2023-03-26T10:24:24.648Z"
   },
   {
    "duration": 5,
    "start_time": "2023-03-26T10:24:24.659Z"
   },
   {
    "duration": 6,
    "start_time": "2023-03-26T10:24:24.666Z"
   },
   {
    "duration": 18,
    "start_time": "2023-03-26T10:24:24.673Z"
   },
   {
    "duration": 14,
    "start_time": "2023-03-26T10:24:24.693Z"
   },
   {
    "duration": 22,
    "start_time": "2023-03-26T10:24:24.708Z"
   },
   {
    "duration": 45,
    "start_time": "2023-03-26T10:24:24.731Z"
   },
   {
    "duration": 9,
    "start_time": "2023-03-26T10:24:24.779Z"
   },
   {
    "duration": 9,
    "start_time": "2023-03-26T10:24:24.790Z"
   },
   {
    "duration": 12,
    "start_time": "2023-03-26T10:24:24.801Z"
   },
   {
    "duration": 3,
    "start_time": "2023-03-26T10:24:24.815Z"
   },
   {
    "duration": 358,
    "start_time": "2023-03-26T10:24:24.822Z"
   },
   {
    "duration": 307,
    "start_time": "2023-03-26T10:24:25.182Z"
   },
   {
    "duration": 224,
    "start_time": "2023-03-26T10:24:25.490Z"
   },
   {
    "duration": 290,
    "start_time": "2023-03-26T10:24:25.716Z"
   },
   {
    "duration": 252,
    "start_time": "2023-03-26T10:24:26.007Z"
   },
   {
    "duration": 360,
    "start_time": "2023-03-26T10:24:26.261Z"
   },
   {
    "duration": 175,
    "start_time": "2023-03-26T10:24:26.623Z"
   },
   {
    "duration": 184,
    "start_time": "2023-03-26T10:24:26.800Z"
   },
   {
    "duration": 164,
    "start_time": "2023-03-26T10:24:26.986Z"
   },
   {
    "duration": 168,
    "start_time": "2023-03-26T10:24:27.152Z"
   },
   {
    "duration": 12,
    "start_time": "2023-03-26T10:24:27.322Z"
   },
   {
    "duration": 12,
    "start_time": "2023-03-26T10:24:27.335Z"
   },
   {
    "duration": 28,
    "start_time": "2023-03-26T10:24:27.349Z"
   },
   {
    "duration": 28,
    "start_time": "2023-03-26T10:24:27.379Z"
   },
   {
    "duration": 14,
    "start_time": "2023-03-26T10:24:27.409Z"
   },
   {
    "duration": 4,
    "start_time": "2023-03-26T10:24:55.848Z"
   },
   {
    "duration": 74,
    "start_time": "2023-03-26T10:24:55.855Z"
   },
   {
    "duration": 9,
    "start_time": "2023-03-26T10:24:55.931Z"
   },
   {
    "duration": 4,
    "start_time": "2023-03-26T10:24:55.943Z"
   },
   {
    "duration": 8,
    "start_time": "2023-03-26T10:24:55.949Z"
   },
   {
    "duration": 22,
    "start_time": "2023-03-26T10:24:55.959Z"
   },
   {
    "duration": 16,
    "start_time": "2023-03-26T10:24:55.983Z"
   },
   {
    "duration": 26,
    "start_time": "2023-03-26T10:24:56.001Z"
   },
   {
    "duration": 13,
    "start_time": "2023-03-26T10:24:56.029Z"
   },
   {
    "duration": 8,
    "start_time": "2023-03-26T10:24:56.076Z"
   },
   {
    "duration": 8,
    "start_time": "2023-03-26T10:24:56.086Z"
   },
   {
    "duration": 14,
    "start_time": "2023-03-26T10:24:56.095Z"
   },
   {
    "duration": 3,
    "start_time": "2023-03-26T10:24:59.931Z"
   },
   {
    "duration": 80,
    "start_time": "2023-03-26T10:24:59.937Z"
   },
   {
    "duration": 9,
    "start_time": "2023-03-26T10:25:00.019Z"
   },
   {
    "duration": 31,
    "start_time": "2023-03-26T10:25:00.030Z"
   },
   {
    "duration": 30,
    "start_time": "2023-03-26T10:25:00.062Z"
   },
   {
    "duration": 37,
    "start_time": "2023-03-26T10:25:00.094Z"
   },
   {
    "duration": 38,
    "start_time": "2023-03-26T10:25:00.132Z"
   },
   {
    "duration": 60,
    "start_time": "2023-03-26T10:25:00.172Z"
   },
   {
    "duration": 32,
    "start_time": "2023-03-26T10:25:00.234Z"
   },
   {
    "duration": 51,
    "start_time": "2023-03-26T10:25:00.268Z"
   },
   {
    "duration": 26,
    "start_time": "2023-03-26T10:25:00.321Z"
   },
   {
    "duration": 55,
    "start_time": "2023-03-26T10:25:00.349Z"
   },
   {
    "duration": 15,
    "start_time": "2023-03-26T10:25:00.406Z"
   },
   {
    "duration": 5,
    "start_time": "2023-03-26T10:26:17.874Z"
   },
   {
    "duration": 81,
    "start_time": "2023-03-26T10:26:17.881Z"
   },
   {
    "duration": 8,
    "start_time": "2023-03-26T10:26:17.964Z"
   },
   {
    "duration": 4,
    "start_time": "2023-03-26T10:26:17.974Z"
   },
   {
    "duration": 7,
    "start_time": "2023-03-26T10:26:17.980Z"
   },
   {
    "duration": 20,
    "start_time": "2023-03-26T10:26:17.988Z"
   },
   {
    "duration": 13,
    "start_time": "2023-03-26T10:26:18.009Z"
   },
   {
    "duration": 60,
    "start_time": "2023-03-26T10:26:18.024Z"
   },
   {
    "duration": 19,
    "start_time": "2023-03-26T10:26:18.088Z"
   },
   {
    "duration": 11,
    "start_time": "2023-03-26T10:26:18.109Z"
   },
   {
    "duration": 10,
    "start_time": "2023-03-26T10:26:18.123Z"
   },
   {
    "duration": 46,
    "start_time": "2023-03-26T10:26:18.135Z"
   },
   {
    "duration": 829,
    "start_time": "2023-03-26T10:26:18.183Z"
   },
   {
    "duration": 4,
    "start_time": "2023-03-26T10:26:36.505Z"
   },
   {
    "duration": 76,
    "start_time": "2023-03-26T10:26:36.511Z"
   },
   {
    "duration": 10,
    "start_time": "2023-03-26T10:26:36.589Z"
   },
   {
    "duration": 4,
    "start_time": "2023-03-26T10:26:36.600Z"
   },
   {
    "duration": 8,
    "start_time": "2023-03-26T10:26:36.606Z"
   },
   {
    "duration": 20,
    "start_time": "2023-03-26T10:26:36.615Z"
   },
   {
    "duration": 12,
    "start_time": "2023-03-26T10:26:36.637Z"
   },
   {
    "duration": 41,
    "start_time": "2023-03-26T10:26:36.651Z"
   },
   {
    "duration": 13,
    "start_time": "2023-03-26T10:26:36.694Z"
   },
   {
    "duration": 11,
    "start_time": "2023-03-26T10:26:36.708Z"
   },
   {
    "duration": 7,
    "start_time": "2023-03-26T10:26:36.721Z"
   },
   {
    "duration": 51,
    "start_time": "2023-03-26T10:26:36.730Z"
   },
   {
    "duration": 4,
    "start_time": "2023-03-26T10:26:36.783Z"
   },
   {
    "duration": 4,
    "start_time": "2023-03-26T10:27:42.972Z"
   },
   {
    "duration": 77,
    "start_time": "2023-03-26T10:27:42.979Z"
   },
   {
    "duration": 10,
    "start_time": "2023-03-26T10:27:43.058Z"
   },
   {
    "duration": 4,
    "start_time": "2023-03-26T10:27:43.070Z"
   },
   {
    "duration": 18,
    "start_time": "2023-03-26T10:27:43.077Z"
   },
   {
    "duration": 30,
    "start_time": "2023-03-26T10:27:43.097Z"
   },
   {
    "duration": 15,
    "start_time": "2023-03-26T10:27:43.130Z"
   },
   {
    "duration": 36,
    "start_time": "2023-03-26T10:27:43.147Z"
   },
   {
    "duration": 15,
    "start_time": "2023-03-26T10:27:43.185Z"
   },
   {
    "duration": 9,
    "start_time": "2023-03-26T10:27:43.202Z"
   },
   {
    "duration": 8,
    "start_time": "2023-03-26T10:27:43.213Z"
   },
   {
    "duration": 13,
    "start_time": "2023-03-26T10:27:43.223Z"
   },
   {
    "duration": 38,
    "start_time": "2023-03-26T10:27:43.237Z"
   },
   {
    "duration": 3,
    "start_time": "2023-03-26T10:28:07.820Z"
   },
   {
    "duration": 75,
    "start_time": "2023-03-26T10:28:07.825Z"
   },
   {
    "duration": 9,
    "start_time": "2023-03-26T10:28:07.902Z"
   },
   {
    "duration": 4,
    "start_time": "2023-03-26T10:28:07.913Z"
   },
   {
    "duration": 7,
    "start_time": "2023-03-26T10:28:07.919Z"
   },
   {
    "duration": 21,
    "start_time": "2023-03-26T10:28:07.927Z"
   },
   {
    "duration": 14,
    "start_time": "2023-03-26T10:28:07.950Z"
   },
   {
    "duration": 30,
    "start_time": "2023-03-26T10:28:07.976Z"
   },
   {
    "duration": 17,
    "start_time": "2023-03-26T10:28:08.010Z"
   },
   {
    "duration": 11,
    "start_time": "2023-03-26T10:28:08.029Z"
   },
   {
    "duration": 37,
    "start_time": "2023-03-26T10:28:08.041Z"
   },
   {
    "duration": 15,
    "start_time": "2023-03-26T10:28:08.080Z"
   },
   {
    "duration": 7,
    "start_time": "2023-03-26T10:28:08.097Z"
   },
   {
    "duration": 4,
    "start_time": "2023-03-26T10:28:38.913Z"
   },
   {
    "duration": 76,
    "start_time": "2023-03-26T10:28:38.919Z"
   },
   {
    "duration": 9,
    "start_time": "2023-03-26T10:28:38.996Z"
   },
   {
    "duration": 5,
    "start_time": "2023-03-26T10:28:39.007Z"
   },
   {
    "duration": 12,
    "start_time": "2023-03-26T10:28:39.013Z"
   },
   {
    "duration": 32,
    "start_time": "2023-03-26T10:28:39.028Z"
   },
   {
    "duration": 18,
    "start_time": "2023-03-26T10:28:39.062Z"
   },
   {
    "duration": 46,
    "start_time": "2023-03-26T10:28:39.082Z"
   },
   {
    "duration": 22,
    "start_time": "2023-03-26T10:28:39.130Z"
   },
   {
    "duration": 25,
    "start_time": "2023-03-26T10:28:39.155Z"
   },
   {
    "duration": 8,
    "start_time": "2023-03-26T10:28:39.182Z"
   },
   {
    "duration": 13,
    "start_time": "2023-03-26T10:28:39.192Z"
   },
   {
    "duration": 7,
    "start_time": "2023-03-26T10:28:39.207Z"
   },
   {
    "duration": 4,
    "start_time": "2023-03-26T10:30:05.169Z"
   },
   {
    "duration": 75,
    "start_time": "2023-03-26T10:30:05.175Z"
   },
   {
    "duration": 8,
    "start_time": "2023-03-26T10:30:05.252Z"
   },
   {
    "duration": 7,
    "start_time": "2023-03-26T10:30:05.263Z"
   },
   {
    "duration": 8,
    "start_time": "2023-03-26T10:30:05.271Z"
   },
   {
    "duration": 24,
    "start_time": "2023-03-26T10:30:05.281Z"
   },
   {
    "duration": 14,
    "start_time": "2023-03-26T10:30:05.307Z"
   },
   {
    "duration": 57,
    "start_time": "2023-03-26T10:30:05.322Z"
   },
   {
    "duration": 13,
    "start_time": "2023-03-26T10:30:05.381Z"
   },
   {
    "duration": 10,
    "start_time": "2023-03-26T10:30:05.396Z"
   },
   {
    "duration": 8,
    "start_time": "2023-03-26T10:30:05.408Z"
   },
   {
    "duration": 18,
    "start_time": "2023-03-26T10:30:05.418Z"
   },
   {
    "duration": 4,
    "start_time": "2023-03-26T10:30:05.438Z"
   },
   {
    "duration": 4,
    "start_time": "2023-03-26T10:30:11.096Z"
   },
   {
    "duration": 74,
    "start_time": "2023-03-26T10:30:11.102Z"
   },
   {
    "duration": 8,
    "start_time": "2023-03-26T10:30:11.178Z"
   },
   {
    "duration": 4,
    "start_time": "2023-03-26T10:30:11.188Z"
   },
   {
    "duration": 11,
    "start_time": "2023-03-26T10:30:11.193Z"
   },
   {
    "duration": 24,
    "start_time": "2023-03-26T10:30:11.205Z"
   },
   {
    "duration": 45,
    "start_time": "2023-03-26T10:30:11.231Z"
   },
   {
    "duration": 27,
    "start_time": "2023-03-26T10:30:11.278Z"
   },
   {
    "duration": 18,
    "start_time": "2023-03-26T10:30:11.307Z"
   },
   {
    "duration": 9,
    "start_time": "2023-03-26T10:30:11.328Z"
   },
   {
    "duration": 39,
    "start_time": "2023-03-26T10:30:11.339Z"
   },
   {
    "duration": 14,
    "start_time": "2023-03-26T10:30:11.380Z"
   },
   {
    "duration": 7,
    "start_time": "2023-03-26T10:30:11.396Z"
   },
   {
    "duration": 4,
    "start_time": "2023-03-26T10:31:06.984Z"
   },
   {
    "duration": 82,
    "start_time": "2023-03-26T10:31:06.990Z"
   },
   {
    "duration": 8,
    "start_time": "2023-03-26T10:31:07.074Z"
   },
   {
    "duration": 6,
    "start_time": "2023-03-26T10:31:07.085Z"
   },
   {
    "duration": 7,
    "start_time": "2023-03-26T10:31:07.093Z"
   },
   {
    "duration": 18,
    "start_time": "2023-03-26T10:31:07.102Z"
   },
   {
    "duration": 12,
    "start_time": "2023-03-26T10:31:07.123Z"
   },
   {
    "duration": 57,
    "start_time": "2023-03-26T10:31:07.137Z"
   },
   {
    "duration": 13,
    "start_time": "2023-03-26T10:31:07.195Z"
   },
   {
    "duration": 11,
    "start_time": "2023-03-26T10:31:07.210Z"
   },
   {
    "duration": 7,
    "start_time": "2023-03-26T10:31:07.223Z"
   },
   {
    "duration": 48,
    "start_time": "2023-03-26T10:31:07.232Z"
   },
   {
    "duration": 41,
    "start_time": "2023-03-26T10:31:07.282Z"
   },
   {
    "duration": 4,
    "start_time": "2023-03-26T10:31:13.274Z"
   },
   {
    "duration": 74,
    "start_time": "2023-03-26T10:31:13.281Z"
   },
   {
    "duration": 8,
    "start_time": "2023-03-26T10:31:13.357Z"
   },
   {
    "duration": 3,
    "start_time": "2023-03-26T10:31:13.367Z"
   },
   {
    "duration": 6,
    "start_time": "2023-03-26T10:31:13.372Z"
   },
   {
    "duration": 17,
    "start_time": "2023-03-26T10:31:13.380Z"
   },
   {
    "duration": 15,
    "start_time": "2023-03-26T10:31:13.399Z"
   },
   {
    "duration": 25,
    "start_time": "2023-03-26T10:31:13.416Z"
   },
   {
    "duration": 46,
    "start_time": "2023-03-26T10:31:13.443Z"
   },
   {
    "duration": 8,
    "start_time": "2023-03-26T10:31:13.491Z"
   },
   {
    "duration": 10,
    "start_time": "2023-03-26T10:31:13.501Z"
   },
   {
    "duration": 12,
    "start_time": "2023-03-26T10:31:13.512Z"
   },
   {
    "duration": 753,
    "start_time": "2023-03-26T10:31:13.525Z"
   },
   {
    "duration": 4,
    "start_time": "2023-03-26T10:31:22.640Z"
   },
   {
    "duration": 75,
    "start_time": "2023-03-26T10:31:22.646Z"
   },
   {
    "duration": 8,
    "start_time": "2023-03-26T10:31:22.723Z"
   },
   {
    "duration": 4,
    "start_time": "2023-03-26T10:31:22.733Z"
   },
   {
    "duration": 11,
    "start_time": "2023-03-26T10:31:22.738Z"
   },
   {
    "duration": 17,
    "start_time": "2023-03-26T10:31:22.750Z"
   },
   {
    "duration": 12,
    "start_time": "2023-03-26T10:31:22.769Z"
   },
   {
    "duration": 21,
    "start_time": "2023-03-26T10:31:22.782Z"
   },
   {
    "duration": 13,
    "start_time": "2023-03-26T10:31:22.804Z"
   },
   {
    "duration": 8,
    "start_time": "2023-03-26T10:31:22.819Z"
   },
   {
    "duration": 7,
    "start_time": "2023-03-26T10:31:22.829Z"
   },
   {
    "duration": 43,
    "start_time": "2023-03-26T10:31:22.838Z"
   },
   {
    "duration": 695,
    "start_time": "2023-03-26T10:31:22.883Z"
   },
   {
    "duration": 4,
    "start_time": "2023-03-26T10:31:57.235Z"
   },
   {
    "duration": 79,
    "start_time": "2023-03-26T10:31:57.241Z"
   },
   {
    "duration": 10,
    "start_time": "2023-03-26T10:31:57.322Z"
   },
   {
    "duration": 8,
    "start_time": "2023-03-26T10:31:57.334Z"
   },
   {
    "duration": 11,
    "start_time": "2023-03-26T10:31:57.344Z"
   },
   {
    "duration": 56,
    "start_time": "2023-03-26T10:31:57.357Z"
   },
   {
    "duration": 14,
    "start_time": "2023-03-26T10:31:57.415Z"
   },
   {
    "duration": 23,
    "start_time": "2023-03-26T10:31:57.431Z"
   },
   {
    "duration": 29,
    "start_time": "2023-03-26T10:31:57.455Z"
   },
   {
    "duration": 12,
    "start_time": "2023-03-26T10:31:57.486Z"
   },
   {
    "duration": 11,
    "start_time": "2023-03-26T10:31:57.500Z"
   },
   {
    "duration": 13,
    "start_time": "2023-03-26T10:31:57.513Z"
   },
   {
    "duration": 8,
    "start_time": "2023-03-26T10:31:57.528Z"
   },
   {
    "duration": 5,
    "start_time": "2023-03-26T10:32:08.578Z"
   },
   {
    "duration": 74,
    "start_time": "2023-03-26T10:32:08.586Z"
   },
   {
    "duration": 9,
    "start_time": "2023-03-26T10:32:08.662Z"
   },
   {
    "duration": 5,
    "start_time": "2023-03-26T10:32:08.673Z"
   },
   {
    "duration": 9,
    "start_time": "2023-03-26T10:32:08.681Z"
   },
   {
    "duration": 25,
    "start_time": "2023-03-26T10:32:08.692Z"
   },
   {
    "duration": 19,
    "start_time": "2023-03-26T10:32:08.719Z"
   },
   {
    "duration": 62,
    "start_time": "2023-03-26T10:32:08.741Z"
   },
   {
    "duration": 18,
    "start_time": "2023-03-26T10:32:08.805Z"
   },
   {
    "duration": 8,
    "start_time": "2023-03-26T10:32:08.826Z"
   },
   {
    "duration": 8,
    "start_time": "2023-03-26T10:32:08.837Z"
   },
   {
    "duration": 43,
    "start_time": "2023-03-26T10:32:08.846Z"
   },
   {
    "duration": 12,
    "start_time": "2023-03-26T10:32:08.891Z"
   },
   {
    "duration": 4,
    "start_time": "2023-03-26T10:32:58.590Z"
   },
   {
    "duration": 104,
    "start_time": "2023-03-26T10:32:58.596Z"
   },
   {
    "duration": 9,
    "start_time": "2023-03-26T10:32:58.701Z"
   },
   {
    "duration": 8,
    "start_time": "2023-03-26T10:32:58.711Z"
   },
   {
    "duration": 6,
    "start_time": "2023-03-26T10:32:58.721Z"
   },
   {
    "duration": 17,
    "start_time": "2023-03-26T10:32:58.729Z"
   },
   {
    "duration": 13,
    "start_time": "2023-03-26T10:32:58.748Z"
   },
   {
    "duration": 27,
    "start_time": "2023-03-26T10:32:58.762Z"
   },
   {
    "duration": 14,
    "start_time": "2023-03-26T10:32:58.791Z"
   },
   {
    "duration": 7,
    "start_time": "2023-03-26T10:32:58.807Z"
   },
   {
    "duration": 7,
    "start_time": "2023-03-26T10:32:58.816Z"
   },
   {
    "duration": 11,
    "start_time": "2023-03-26T10:32:58.825Z"
   },
   {
    "duration": 13,
    "start_time": "2023-03-26T10:32:58.874Z"
   },
   {
    "duration": 4,
    "start_time": "2023-03-26T10:33:20.585Z"
   },
   {
    "duration": 80,
    "start_time": "2023-03-26T10:33:20.591Z"
   },
   {
    "duration": 8,
    "start_time": "2023-03-26T10:33:20.673Z"
   },
   {
    "duration": 4,
    "start_time": "2023-03-26T10:33:20.683Z"
   },
   {
    "duration": 9,
    "start_time": "2023-03-26T10:33:20.689Z"
   },
   {
    "duration": 26,
    "start_time": "2023-03-26T10:33:20.701Z"
   },
   {
    "duration": 52,
    "start_time": "2023-03-26T10:33:20.729Z"
   },
   {
    "duration": 30,
    "start_time": "2023-03-26T10:33:20.783Z"
   },
   {
    "duration": 18,
    "start_time": "2023-03-26T10:33:20.815Z"
   },
   {
    "duration": 10,
    "start_time": "2023-03-26T10:33:20.835Z"
   },
   {
    "duration": 10,
    "start_time": "2023-03-26T10:33:20.874Z"
   },
   {
    "duration": 16,
    "start_time": "2023-03-26T10:33:20.886Z"
   },
   {
    "duration": 10,
    "start_time": "2023-03-26T10:33:20.904Z"
   },
   {
    "duration": 3,
    "start_time": "2023-03-26T10:33:30.889Z"
   },
   {
    "duration": 116,
    "start_time": "2023-03-26T10:33:30.895Z"
   },
   {
    "duration": 9,
    "start_time": "2023-03-26T10:33:31.013Z"
   },
   {
    "duration": 27,
    "start_time": "2023-03-26T10:33:31.023Z"
   },
   {
    "duration": 32,
    "start_time": "2023-03-26T10:33:31.053Z"
   },
   {
    "duration": 47,
    "start_time": "2023-03-26T10:33:31.087Z"
   },
   {
    "duration": 33,
    "start_time": "2023-03-26T10:33:31.136Z"
   },
   {
    "duration": 66,
    "start_time": "2023-03-26T10:33:31.170Z"
   },
   {
    "duration": 38,
    "start_time": "2023-03-26T10:33:31.238Z"
   },
   {
    "duration": 50,
    "start_time": "2023-03-26T10:33:31.278Z"
   },
   {
    "duration": 23,
    "start_time": "2023-03-26T10:33:31.329Z"
   },
   {
    "duration": 38,
    "start_time": "2023-03-26T10:33:31.353Z"
   },
   {
    "duration": 22,
    "start_time": "2023-03-26T10:33:31.393Z"
   },
   {
    "duration": 5,
    "start_time": "2023-03-26T10:34:00.015Z"
   },
   {
    "duration": 80,
    "start_time": "2023-03-26T10:34:00.032Z"
   },
   {
    "duration": 11,
    "start_time": "2023-03-26T10:34:00.115Z"
   },
   {
    "duration": 7,
    "start_time": "2023-03-26T10:34:00.129Z"
   },
   {
    "duration": 36,
    "start_time": "2023-03-26T10:34:00.138Z"
   },
   {
    "duration": 37,
    "start_time": "2023-03-26T10:34:00.177Z"
   },
   {
    "duration": 24,
    "start_time": "2023-03-26T10:34:00.216Z"
   },
   {
    "duration": 39,
    "start_time": "2023-03-26T10:34:00.242Z"
   },
   {
    "duration": 19,
    "start_time": "2023-03-26T10:34:00.283Z"
   },
   {
    "duration": 24,
    "start_time": "2023-03-26T10:34:00.304Z"
   },
   {
    "duration": 25,
    "start_time": "2023-03-26T10:34:00.330Z"
   },
   {
    "duration": 43,
    "start_time": "2023-03-26T10:34:00.358Z"
   },
   {
    "duration": 26,
    "start_time": "2023-03-26T10:34:00.403Z"
   },
   {
    "duration": 4,
    "start_time": "2023-03-26T10:34:17.531Z"
   },
   {
    "duration": 73,
    "start_time": "2023-03-26T10:34:17.537Z"
   },
   {
    "duration": 9,
    "start_time": "2023-03-26T10:34:17.612Z"
   },
   {
    "duration": 4,
    "start_time": "2023-03-26T10:34:17.623Z"
   },
   {
    "duration": 6,
    "start_time": "2023-03-26T10:34:17.629Z"
   },
   {
    "duration": 17,
    "start_time": "2023-03-26T10:34:17.637Z"
   },
   {
    "duration": 13,
    "start_time": "2023-03-26T10:34:17.656Z"
   },
   {
    "duration": 24,
    "start_time": "2023-03-26T10:34:17.670Z"
   },
   {
    "duration": 13,
    "start_time": "2023-03-26T10:34:17.696Z"
   },
   {
    "duration": 7,
    "start_time": "2023-03-26T10:34:17.710Z"
   },
   {
    "duration": 8,
    "start_time": "2023-03-26T10:34:17.719Z"
   },
   {
    "duration": 51,
    "start_time": "2023-03-26T10:34:17.729Z"
   },
   {
    "duration": 11,
    "start_time": "2023-03-26T10:34:17.782Z"
   },
   {
    "duration": 3,
    "start_time": "2023-03-26T10:35:00.702Z"
   },
   {
    "duration": 90,
    "start_time": "2023-03-26T10:35:00.708Z"
   },
   {
    "duration": 10,
    "start_time": "2023-03-26T10:35:00.799Z"
   },
   {
    "duration": 26,
    "start_time": "2023-03-26T10:35:00.811Z"
   },
   {
    "duration": 32,
    "start_time": "2023-03-26T10:35:00.839Z"
   },
   {
    "duration": 41,
    "start_time": "2023-03-26T10:35:00.872Z"
   },
   {
    "duration": 32,
    "start_time": "2023-03-26T10:35:00.914Z"
   },
   {
    "duration": 82,
    "start_time": "2023-03-26T10:35:00.947Z"
   },
   {
    "duration": 50,
    "start_time": "2023-03-26T10:35:01.032Z"
   },
   {
    "duration": 36,
    "start_time": "2023-03-26T10:35:01.084Z"
   },
   {
    "duration": 49,
    "start_time": "2023-03-26T10:35:01.122Z"
   },
   {
    "duration": 42,
    "start_time": "2023-03-26T10:35:01.173Z"
   },
   {
    "duration": 86,
    "start_time": "2023-03-26T10:35:01.216Z"
   },
   {
    "duration": 4,
    "start_time": "2023-03-26T10:35:28.495Z"
   },
   {
    "duration": 75,
    "start_time": "2023-03-26T10:35:28.501Z"
   },
   {
    "duration": 9,
    "start_time": "2023-03-26T10:35:28.578Z"
   },
   {
    "duration": 4,
    "start_time": "2023-03-26T10:35:28.590Z"
   },
   {
    "duration": 7,
    "start_time": "2023-03-26T10:35:28.596Z"
   },
   {
    "duration": 22,
    "start_time": "2023-03-26T10:35:28.605Z"
   },
   {
    "duration": 49,
    "start_time": "2023-03-26T10:35:28.629Z"
   },
   {
    "duration": 24,
    "start_time": "2023-03-26T10:35:28.681Z"
   },
   {
    "duration": 19,
    "start_time": "2023-03-26T10:35:28.707Z"
   },
   {
    "duration": 9,
    "start_time": "2023-03-26T10:35:28.729Z"
   },
   {
    "duration": 11,
    "start_time": "2023-03-26T10:35:28.775Z"
   },
   {
    "duration": 14,
    "start_time": "2023-03-26T10:35:28.788Z"
   },
   {
    "duration": 12,
    "start_time": "2023-03-26T10:35:28.804Z"
   },
   {
    "duration": 1079,
    "start_time": "2023-03-26T10:40:19.233Z"
   },
   {
    "duration": 75,
    "start_time": "2023-03-26T10:40:20.314Z"
   },
   {
    "duration": 16,
    "start_time": "2023-03-26T10:40:20.392Z"
   },
   {
    "duration": 4,
    "start_time": "2023-03-26T10:40:20.410Z"
   },
   {
    "duration": 11,
    "start_time": "2023-03-26T10:40:20.417Z"
   },
   {
    "duration": 25,
    "start_time": "2023-03-26T10:40:20.430Z"
   },
   {
    "duration": 14,
    "start_time": "2023-03-26T10:40:20.475Z"
   },
   {
    "duration": 22,
    "start_time": "2023-03-26T10:40:20.491Z"
   },
   {
    "duration": 14,
    "start_time": "2023-03-26T10:40:20.515Z"
   },
   {
    "duration": 10,
    "start_time": "2023-03-26T10:40:20.530Z"
   },
   {
    "duration": 40,
    "start_time": "2023-03-26T10:40:20.541Z"
   },
   {
    "duration": 33,
    "start_time": "2023-03-26T10:40:20.583Z"
   },
   {
    "duration": 11,
    "start_time": "2023-03-26T10:40:20.618Z"
   },
   {
    "duration": 315,
    "start_time": "2023-03-26T10:40:20.632Z"
   },
   {
    "duration": 316,
    "start_time": "2023-03-26T10:40:20.949Z"
   },
   {
    "duration": 236,
    "start_time": "2023-03-26T10:40:21.267Z"
   },
   {
    "duration": 293,
    "start_time": "2023-03-26T10:40:21.504Z"
   },
   {
    "duration": 238,
    "start_time": "2023-03-26T10:40:21.799Z"
   },
   {
    "duration": 390,
    "start_time": "2023-03-26T10:40:22.039Z"
   },
   {
    "duration": 185,
    "start_time": "2023-03-26T10:40:22.431Z"
   },
   {
    "duration": 178,
    "start_time": "2023-03-26T10:40:22.618Z"
   },
   {
    "duration": 173,
    "start_time": "2023-03-26T10:40:22.798Z"
   },
   {
    "duration": 170,
    "start_time": "2023-03-26T10:40:22.973Z"
   },
   {
    "duration": 10,
    "start_time": "2023-03-26T10:40:23.145Z"
   },
   {
    "duration": 26,
    "start_time": "2023-03-26T10:40:23.157Z"
   },
   {
    "duration": 5,
    "start_time": "2023-03-26T10:40:23.184Z"
   },
   {
    "duration": 29,
    "start_time": "2023-03-26T10:40:23.191Z"
   },
   {
    "duration": 14,
    "start_time": "2023-03-26T10:40:23.221Z"
   },
   {
    "duration": 1267,
    "start_time": "2023-03-27T10:42:47.564Z"
   },
   {
    "duration": 85,
    "start_time": "2023-03-27T10:42:48.833Z"
   },
   {
    "duration": 14,
    "start_time": "2023-03-27T10:42:48.919Z"
   },
   {
    "duration": 14,
    "start_time": "2023-03-27T10:42:48.936Z"
   },
   {
    "duration": 12,
    "start_time": "2023-03-27T10:42:48.952Z"
   },
   {
    "duration": 32,
    "start_time": "2023-03-27T10:42:48.966Z"
   },
   {
    "duration": 15,
    "start_time": "2023-03-27T10:42:49.000Z"
   },
   {
    "duration": 22,
    "start_time": "2023-03-27T10:42:49.018Z"
   },
   {
    "duration": 41,
    "start_time": "2023-03-27T10:42:49.042Z"
   },
   {
    "duration": 14,
    "start_time": "2023-03-27T10:42:49.089Z"
   },
   {
    "duration": 9,
    "start_time": "2023-03-27T10:42:49.104Z"
   },
   {
    "duration": 13,
    "start_time": "2023-03-27T10:42:49.115Z"
   },
   {
    "duration": 11,
    "start_time": "2023-03-27T10:42:49.129Z"
   },
   {
    "duration": 367,
    "start_time": "2023-03-27T10:42:49.141Z"
   },
   {
    "duration": 346,
    "start_time": "2023-03-27T10:42:49.511Z"
   },
   {
    "duration": 268,
    "start_time": "2023-03-27T10:42:49.859Z"
   },
   {
    "duration": 403,
    "start_time": "2023-03-27T10:42:50.129Z"
   },
   {
    "duration": 298,
    "start_time": "2023-03-27T10:42:50.534Z"
   },
   {
    "duration": 425,
    "start_time": "2023-03-27T10:42:50.834Z"
   },
   {
    "duration": 197,
    "start_time": "2023-03-27T10:42:51.262Z"
   },
   {
    "duration": 190,
    "start_time": "2023-03-27T10:42:51.460Z"
   },
   {
    "duration": 195,
    "start_time": "2023-03-27T10:42:51.651Z"
   },
   {
    "duration": 179,
    "start_time": "2023-03-27T10:42:51.848Z"
   },
   {
    "duration": 12,
    "start_time": "2023-03-27T10:42:52.029Z"
   },
   {
    "duration": 12,
    "start_time": "2023-03-27T10:42:52.043Z"
   },
   {
    "duration": 11,
    "start_time": "2023-03-27T10:42:52.075Z"
   },
   {
    "duration": 41,
    "start_time": "2023-03-27T10:42:52.094Z"
   },
   {
    "duration": 15,
    "start_time": "2023-03-27T10:42:52.139Z"
   },
   {
    "duration": 378,
    "start_time": "2023-03-27T10:43:10.821Z"
   },
   {
    "duration": 452,
    "start_time": "2023-03-27T10:43:16.698Z"
   },
   {
    "duration": 403,
    "start_time": "2023-03-27T10:43:24.644Z"
   },
   {
    "duration": 1204,
    "start_time": "2023-03-27T10:43:30.399Z"
   },
   {
    "duration": 88,
    "start_time": "2023-03-27T10:43:31.605Z"
   },
   {
    "duration": 17,
    "start_time": "2023-03-27T10:43:31.695Z"
   },
   {
    "duration": 19,
    "start_time": "2023-03-27T10:43:31.715Z"
   },
   {
    "duration": 16,
    "start_time": "2023-03-27T10:43:31.736Z"
   },
   {
    "duration": 33,
    "start_time": "2023-03-27T10:43:31.754Z"
   },
   {
    "duration": 19,
    "start_time": "2023-03-27T10:43:31.788Z"
   },
   {
    "duration": 45,
    "start_time": "2023-03-27T10:43:31.809Z"
   },
   {
    "duration": 31,
    "start_time": "2023-03-27T10:43:31.855Z"
   },
   {
    "duration": 32,
    "start_time": "2023-03-27T10:43:31.890Z"
   },
   {
    "duration": 36,
    "start_time": "2023-03-27T10:43:31.924Z"
   },
   {
    "duration": 38,
    "start_time": "2023-03-27T10:43:31.962Z"
   },
   {
    "duration": 28,
    "start_time": "2023-03-27T10:43:32.003Z"
   },
   {
    "duration": 353,
    "start_time": "2023-03-27T10:43:32.034Z"
   },
   {
    "duration": 377,
    "start_time": "2023-03-27T10:43:32.393Z"
   },
   {
    "duration": 263,
    "start_time": "2023-03-27T10:43:32.775Z"
   },
   {
    "duration": 372,
    "start_time": "2023-03-27T10:43:33.040Z"
   },
   {
    "duration": 277,
    "start_time": "2023-03-27T10:43:33.413Z"
   },
   {
    "duration": 407,
    "start_time": "2023-03-27T10:43:33.691Z"
   },
   {
    "duration": 231,
    "start_time": "2023-03-27T10:43:34.102Z"
   },
   {
    "duration": 251,
    "start_time": "2023-03-27T10:43:34.335Z"
   },
   {
    "duration": 185,
    "start_time": "2023-03-27T10:43:34.588Z"
   },
   {
    "duration": 176,
    "start_time": "2023-03-27T10:43:34.776Z"
   },
   {
    "duration": 23,
    "start_time": "2023-03-27T10:43:34.953Z"
   },
   {
    "duration": 22,
    "start_time": "2023-03-27T10:43:34.980Z"
   },
   {
    "duration": 4,
    "start_time": "2023-03-27T10:43:35.004Z"
   },
   {
    "duration": 49,
    "start_time": "2023-03-27T10:43:35.010Z"
   },
   {
    "duration": 17,
    "start_time": "2023-03-27T10:43:35.076Z"
   },
   {
    "duration": 1303,
    "start_time": "2023-03-27T10:50:44.787Z"
   },
   {
    "duration": 262,
    "start_time": "2023-03-27T10:50:46.092Z"
   },
   {
    "duration": 14,
    "start_time": "2023-03-27T10:50:46.357Z"
   },
   {
    "duration": 5,
    "start_time": "2023-03-27T10:50:46.373Z"
   },
   {
    "duration": 15,
    "start_time": "2023-03-27T10:50:46.381Z"
   },
   {
    "duration": 21,
    "start_time": "2023-03-27T10:50:46.398Z"
   },
   {
    "duration": 16,
    "start_time": "2023-03-27T10:50:46.421Z"
   },
   {
    "duration": 24,
    "start_time": "2023-03-27T10:50:46.438Z"
   },
   {
    "duration": 50,
    "start_time": "2023-03-27T10:50:46.464Z"
   },
   {
    "duration": 18,
    "start_time": "2023-03-27T10:50:46.516Z"
   },
   {
    "duration": 13,
    "start_time": "2023-03-27T10:50:46.537Z"
   },
   {
    "duration": 17,
    "start_time": "2023-03-27T10:50:46.552Z"
   },
   {
    "duration": 56,
    "start_time": "2023-03-27T10:50:46.571Z"
   },
   {
    "duration": 5,
    "start_time": "2023-03-27T10:50:54.868Z"
   },
   {
    "duration": 85,
    "start_time": "2023-03-27T10:50:54.875Z"
   },
   {
    "duration": 11,
    "start_time": "2023-03-27T10:50:54.963Z"
   },
   {
    "duration": 16,
    "start_time": "2023-03-27T10:50:54.977Z"
   },
   {
    "duration": 15,
    "start_time": "2023-03-27T10:50:54.995Z"
   },
   {
    "duration": 26,
    "start_time": "2023-03-27T10:50:55.013Z"
   },
   {
    "duration": 17,
    "start_time": "2023-03-27T10:50:55.041Z"
   },
   {
    "duration": 44,
    "start_time": "2023-03-27T10:50:55.060Z"
   },
   {
    "duration": 19,
    "start_time": "2023-03-27T10:50:55.106Z"
   },
   {
    "duration": 18,
    "start_time": "2023-03-27T10:50:55.127Z"
   },
   {
    "duration": 12,
    "start_time": "2023-03-27T10:50:55.147Z"
   },
   {
    "duration": 28,
    "start_time": "2023-03-27T10:50:55.161Z"
   },
   {
    "duration": 13,
    "start_time": "2023-03-27T10:50:55.203Z"
   },
   {
    "duration": 4,
    "start_time": "2023-03-27T10:54:40.572Z"
   },
   {
    "duration": 80,
    "start_time": "2023-03-27T10:54:40.578Z"
   },
   {
    "duration": 7,
    "start_time": "2023-03-27T10:54:40.660Z"
   },
   {
    "duration": 4,
    "start_time": "2023-03-27T10:54:40.669Z"
   },
   {
    "duration": 13,
    "start_time": "2023-03-27T10:54:40.675Z"
   },
   {
    "duration": 19,
    "start_time": "2023-03-27T10:54:40.689Z"
   },
   {
    "duration": 19,
    "start_time": "2023-03-27T10:54:40.709Z"
   },
   {
    "duration": 21,
    "start_time": "2023-03-27T10:54:40.730Z"
   },
   {
    "duration": 13,
    "start_time": "2023-03-27T10:54:40.753Z"
   },
   {
    "duration": 8,
    "start_time": "2023-03-27T10:54:40.768Z"
   },
   {
    "duration": 28,
    "start_time": "2023-03-27T10:54:40.777Z"
   },
   {
    "duration": 12,
    "start_time": "2023-03-27T10:54:40.807Z"
   },
   {
    "duration": 10,
    "start_time": "2023-03-27T10:54:40.821Z"
   },
   {
    "duration": 1102,
    "start_time": "2023-03-27T10:54:50.334Z"
   },
   {
    "duration": 82,
    "start_time": "2023-03-27T10:54:51.439Z"
   },
   {
    "duration": 15,
    "start_time": "2023-03-27T10:54:51.524Z"
   },
   {
    "duration": 12,
    "start_time": "2023-03-27T10:54:51.542Z"
   },
   {
    "duration": 14,
    "start_time": "2023-03-27T10:54:51.556Z"
   },
   {
    "duration": 20,
    "start_time": "2023-03-27T10:54:51.572Z"
   },
   {
    "duration": 36,
    "start_time": "2023-03-27T10:54:51.594Z"
   },
   {
    "duration": 38,
    "start_time": "2023-03-27T10:54:51.632Z"
   },
   {
    "duration": 33,
    "start_time": "2023-03-27T10:54:51.673Z"
   },
   {
    "duration": 17,
    "start_time": "2023-03-27T10:54:51.709Z"
   },
   {
    "duration": 10,
    "start_time": "2023-03-27T10:54:51.729Z"
   },
   {
    "duration": 27,
    "start_time": "2023-03-27T10:54:51.741Z"
   },
   {
    "duration": 13,
    "start_time": "2023-03-27T10:54:51.770Z"
   },
   {
    "duration": 428,
    "start_time": "2023-03-27T10:54:51.785Z"
   },
   {
    "duration": 351,
    "start_time": "2023-03-27T10:54:52.216Z"
   },
   {
    "duration": 253,
    "start_time": "2023-03-27T10:54:52.569Z"
   },
   {
    "duration": 345,
    "start_time": "2023-03-27T10:54:52.824Z"
   },
   {
    "duration": 271,
    "start_time": "2023-03-27T10:54:53.171Z"
   },
   {
    "duration": 366,
    "start_time": "2023-03-27T10:54:53.444Z"
   },
   {
    "duration": 208,
    "start_time": "2023-03-27T10:54:53.812Z"
   },
   {
    "duration": 191,
    "start_time": "2023-03-27T10:54:54.022Z"
   },
   {
    "duration": 167,
    "start_time": "2023-03-27T10:54:54.215Z"
   },
   {
    "duration": 176,
    "start_time": "2023-03-27T10:54:54.384Z"
   },
   {
    "duration": 12,
    "start_time": "2023-03-27T10:54:54.562Z"
   },
   {
    "duration": 32,
    "start_time": "2023-03-27T10:54:54.576Z"
   },
   {
    "duration": 26,
    "start_time": "2023-03-27T10:54:54.610Z"
   },
   {
    "duration": 34,
    "start_time": "2023-03-27T10:54:54.637Z"
   },
   {
    "duration": 15,
    "start_time": "2023-03-27T10:54:54.674Z"
   }
  ],
  "kernelspec": {
   "display_name": "Python 3 (ipykernel)",
   "language": "python",
   "name": "python3"
  },
  "language_info": {
   "codemirror_mode": {
    "name": "ipython",
    "version": 3
   },
   "file_extension": ".py",
   "mimetype": "text/x-python",
   "name": "python",
   "nbconvert_exporter": "python",
   "pygments_lexer": "ipython3",
   "version": "3.9.13"
  },
  "toc": {
   "base_numbering": 1,
   "nav_menu": {},
   "number_sections": true,
   "sideBar": true,
   "skip_h1_title": true,
   "title_cell": "Table of Contents",
   "title_sidebar": "Contents",
   "toc_cell": false,
   "toc_position": {},
   "toc_section_display": true,
   "toc_window_display": true
  }
 },
 "nbformat": 4,
 "nbformat_minor": 2
}
