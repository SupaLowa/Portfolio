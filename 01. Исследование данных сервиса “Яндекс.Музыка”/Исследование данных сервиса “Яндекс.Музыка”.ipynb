{
 "cells": [
  {
   "cell_type": "markdown",
   "metadata": {
    "deletable": false,
    "editable": false,
    "id": "E0vqbgi9ay0H"
   },
   "source": [
    "# Яндекс Музыка"
   ]
  },
  {
   "cell_type": "markdown",
   "metadata": {
    "deletable": false,
    "editable": false,
    "id": "VUC88oWjTJw2"
   },
   "source": [
    "Сравнение Москвы и Петербурга окружено мифами. Например:\n",
    " * Москва — мегаполис, подчинённый жёсткому ритму рабочей недели;\n",
    " * Петербург — культурная столица, со своими вкусами.\n",
    "\n",
    "На данных Яндекс Музыки вы сравните поведение пользователей двух столиц.\n",
    "\n",
    "**Цель исследования** — проверьте три гипотезы:\n",
    "1. Активность пользователей зависит от дня недели. Причём в Москве и Петербурге это проявляется по-разному.\n",
    "2. В понедельник утром в Москве преобладают одни жанры, а в Петербурге — другие. Так же и вечером пятницы преобладают разные жанры — в зависимости от города. \n",
    "3. Москва и Петербург предпочитают разные жанры музыки. В Москве чаще слушают поп-музыку, в Петербурге — русский рэп.\n",
    "\n",
    "**Ход исследования**\n",
    "\n",
    "Данные о поведении пользователей вы получите из файла `yandex_music_project.csv`. О качестве данных ничего не известно. Поэтому перед проверкой гипотез понадобится обзор данных. \n",
    "\n",
    "Вы проверите данные на ошибки и оцените их влияние на исследование. Затем, на этапе предобработки вы поищете возможность исправить самые критичные ошибки данных.\n",
    " \n",
    "Таким образом, исследование пройдёт в три этапа:\n",
    " 1. Обзор данных.\n",
    " 2. Предобработка данных.\n",
    " 3. Проверка гипотез.\n",
    "\n"
   ]
  },
  {
   "cell_type": "markdown",
   "metadata": {
    "deletable": false,
    "editable": false,
    "id": "Ml1hmfXC_Zcs"
   },
   "source": [
    "## Обзор данных\n",
    "\n",
    "Составьте первое представление о данных Яндекс Музыки.\n",
    "\n",
    "\n"
   ]
  },
  {
   "cell_type": "markdown",
   "metadata": {
    "deletable": false,
    "editable": false,
    "id": "57eAOGIz_Zcs",
    "tags": [
     "start_task"
    ]
   },
   "source": [
    "**Задание 1**\n",
    "\n",
    "Основной инструмент аналитика — `pandas`. Импортируйте эту библиотеку."
   ]
  },
  {
   "cell_type": "code",
   "execution_count": 1,
   "metadata": {
    "deletable": false,
    "id": "AXN7PHPN_Zcs"
   },
   "outputs": [],
   "source": [
    "# импорт библиотеки pandas\n",
    "import pandas as pd"
   ]
  },
  {
   "cell_type": "markdown",
   "metadata": {
    "deletable": false,
    "editable": false,
    "id": "SG23P8tt_Zcs",
    "tags": [
     "start_task"
    ]
   },
   "source": [
    "**Задание 2**\n",
    "\n",
    "Прочитайте файл `yandex_music_project.csv` из папки `/datasets` и сохраните его в переменной `df`:"
   ]
  },
  {
   "cell_type": "code",
   "execution_count": 2,
   "metadata": {
    "deletable": false,
    "id": "fFVu7vqh_Zct"
   },
   "outputs": [],
   "source": [
    "# чтение файла с данными и сохранение в df\n",
    "df = pd.read_csv('/datasets/yandex_music_project.csv')"
   ]
  },
  {
   "cell_type": "markdown",
   "metadata": {
    "deletable": false,
    "editable": false,
    "id": "rDoOMd3uTqnZ",
    "tags": [
     "start_task"
    ]
   },
   "source": [
    "**Задание 3**\n",
    "\n",
    "\n",
    "Выведите на экран первые десять строк таблицы:"
   ]
  },
  {
   "cell_type": "code",
   "execution_count": 3,
   "metadata": {
    "deletable": false,
    "id": "oWTVX3gW_Zct"
   },
   "outputs": [
    {
     "data": {
      "text/html": [
       "<div>\n",
       "<style scoped>\n",
       "    .dataframe tbody tr th:only-of-type {\n",
       "        vertical-align: middle;\n",
       "    }\n",
       "\n",
       "    .dataframe tbody tr th {\n",
       "        vertical-align: top;\n",
       "    }\n",
       "\n",
       "    .dataframe thead th {\n",
       "        text-align: right;\n",
       "    }\n",
       "</style>\n",
       "<table border=\"1\" class=\"dataframe\">\n",
       "  <thead>\n",
       "    <tr style=\"text-align: right;\">\n",
       "      <th></th>\n",
       "      <th>userID</th>\n",
       "      <th>Track</th>\n",
       "      <th>artist</th>\n",
       "      <th>genre</th>\n",
       "      <th>City</th>\n",
       "      <th>time</th>\n",
       "      <th>Day</th>\n",
       "    </tr>\n",
       "  </thead>\n",
       "  <tbody>\n",
       "    <tr>\n",
       "      <th>0</th>\n",
       "      <td>FFB692EC</td>\n",
       "      <td>Kamigata To Boots</td>\n",
       "      <td>The Mass Missile</td>\n",
       "      <td>rock</td>\n",
       "      <td>Saint-Petersburg</td>\n",
       "      <td>20:28:33</td>\n",
       "      <td>Wednesday</td>\n",
       "    </tr>\n",
       "    <tr>\n",
       "      <th>1</th>\n",
       "      <td>55204538</td>\n",
       "      <td>Delayed Because of Accident</td>\n",
       "      <td>Andreas Rönnberg</td>\n",
       "      <td>rock</td>\n",
       "      <td>Moscow</td>\n",
       "      <td>14:07:09</td>\n",
       "      <td>Friday</td>\n",
       "    </tr>\n",
       "    <tr>\n",
       "      <th>2</th>\n",
       "      <td>20EC38</td>\n",
       "      <td>Funiculì funiculà</td>\n",
       "      <td>Mario Lanza</td>\n",
       "      <td>pop</td>\n",
       "      <td>Saint-Petersburg</td>\n",
       "      <td>20:58:07</td>\n",
       "      <td>Wednesday</td>\n",
       "    </tr>\n",
       "    <tr>\n",
       "      <th>3</th>\n",
       "      <td>A3DD03C9</td>\n",
       "      <td>Dragons in the Sunset</td>\n",
       "      <td>Fire + Ice</td>\n",
       "      <td>folk</td>\n",
       "      <td>Saint-Petersburg</td>\n",
       "      <td>08:37:09</td>\n",
       "      <td>Monday</td>\n",
       "    </tr>\n",
       "    <tr>\n",
       "      <th>4</th>\n",
       "      <td>E2DC1FAE</td>\n",
       "      <td>Soul People</td>\n",
       "      <td>Space Echo</td>\n",
       "      <td>dance</td>\n",
       "      <td>Moscow</td>\n",
       "      <td>08:34:34</td>\n",
       "      <td>Monday</td>\n",
       "    </tr>\n",
       "    <tr>\n",
       "      <th>5</th>\n",
       "      <td>842029A1</td>\n",
       "      <td>Преданная</td>\n",
       "      <td>IMPERVTOR</td>\n",
       "      <td>rusrap</td>\n",
       "      <td>Saint-Petersburg</td>\n",
       "      <td>13:09:41</td>\n",
       "      <td>Friday</td>\n",
       "    </tr>\n",
       "    <tr>\n",
       "      <th>6</th>\n",
       "      <td>4CB90AA5</td>\n",
       "      <td>True</td>\n",
       "      <td>Roman Messer</td>\n",
       "      <td>dance</td>\n",
       "      <td>Moscow</td>\n",
       "      <td>13:00:07</td>\n",
       "      <td>Wednesday</td>\n",
       "    </tr>\n",
       "    <tr>\n",
       "      <th>7</th>\n",
       "      <td>F03E1C1F</td>\n",
       "      <td>Feeling This Way</td>\n",
       "      <td>Polina Griffith</td>\n",
       "      <td>dance</td>\n",
       "      <td>Moscow</td>\n",
       "      <td>20:47:49</td>\n",
       "      <td>Wednesday</td>\n",
       "    </tr>\n",
       "    <tr>\n",
       "      <th>8</th>\n",
       "      <td>8FA1D3BE</td>\n",
       "      <td>И вновь продолжается бой</td>\n",
       "      <td>NaN</td>\n",
       "      <td>ruspop</td>\n",
       "      <td>Moscow</td>\n",
       "      <td>09:17:40</td>\n",
       "      <td>Friday</td>\n",
       "    </tr>\n",
       "    <tr>\n",
       "      <th>9</th>\n",
       "      <td>E772D5C0</td>\n",
       "      <td>Pessimist</td>\n",
       "      <td>NaN</td>\n",
       "      <td>dance</td>\n",
       "      <td>Saint-Petersburg</td>\n",
       "      <td>21:20:49</td>\n",
       "      <td>Wednesday</td>\n",
       "    </tr>\n",
       "  </tbody>\n",
       "</table>\n",
       "</div>"
      ],
      "text/plain": [
       "     userID                        Track            artist   genre  \\\n",
       "0  FFB692EC            Kamigata To Boots  The Mass Missile    rock   \n",
       "1  55204538  Delayed Because of Accident  Andreas Rönnberg    rock   \n",
       "2    20EC38            Funiculì funiculà       Mario Lanza     pop   \n",
       "3  A3DD03C9        Dragons in the Sunset        Fire + Ice    folk   \n",
       "4  E2DC1FAE                  Soul People        Space Echo   dance   \n",
       "5  842029A1                    Преданная         IMPERVTOR  rusrap   \n",
       "6  4CB90AA5                         True      Roman Messer   dance   \n",
       "7  F03E1C1F             Feeling This Way   Polina Griffith   dance   \n",
       "8  8FA1D3BE     И вновь продолжается бой               NaN  ruspop   \n",
       "9  E772D5C0                    Pessimist               NaN   dance   \n",
       "\n",
       "             City        time        Day  \n",
       "0  Saint-Petersburg  20:28:33  Wednesday  \n",
       "1            Moscow  14:07:09     Friday  \n",
       "2  Saint-Petersburg  20:58:07  Wednesday  \n",
       "3  Saint-Petersburg  08:37:09     Monday  \n",
       "4            Moscow  08:34:34     Monday  \n",
       "5  Saint-Petersburg  13:09:41     Friday  \n",
       "6            Moscow  13:00:07  Wednesday  \n",
       "7            Moscow  20:47:49  Wednesday  \n",
       "8            Moscow  09:17:40     Friday  \n",
       "9  Saint-Petersburg  21:20:49  Wednesday  "
      ]
     },
     "execution_count": 3,
     "metadata": {},
     "output_type": "execute_result"
    }
   ],
   "source": [
    "# получение первых 10 строк таблицы df\n",
    "df.head(10)"
   ]
  },
  {
   "cell_type": "markdown",
   "metadata": {
    "deletable": false,
    "editable": false,
    "id": "EO73Kwic_Zct",
    "tags": [
     "start_task"
    ]
   },
   "source": [
    "**Задание 4**\n",
    "\n",
    "\n",
    "Одной командой получить общую информацию о таблице c помощью метода `info()`:"
   ]
  },
  {
   "cell_type": "code",
   "execution_count": 4,
   "metadata": {
    "deletable": false,
    "id": "DSf2kIb-_Zct"
   },
   "outputs": [
    {
     "name": "stdout",
     "output_type": "stream",
     "text": [
      "<class 'pandas.core.frame.DataFrame'>\n",
      "RangeIndex: 65079 entries, 0 to 65078\n",
      "Data columns (total 7 columns):\n",
      " #   Column    Non-Null Count  Dtype \n",
      "---  ------    --------------  ----- \n",
      " 0     userID  65079 non-null  object\n",
      " 1   Track     63848 non-null  object\n",
      " 2   artist    57876 non-null  object\n",
      " 3   genre     63881 non-null  object\n",
      " 4     City    65079 non-null  object\n",
      " 5   time      65079 non-null  object\n",
      " 6   Day       65079 non-null  object\n",
      "dtypes: object(7)\n",
      "memory usage: 3.5+ MB\n"
     ]
    }
   ],
   "source": [
    "# получение общей информации о данных в таблице df\n",
    "df.info()"
   ]
  },
  {
   "cell_type": "markdown",
   "metadata": {
    "deletable": false,
    "editable": false,
    "id": "TaQ2Iwbr_Zct"
   },
   "source": [
    "Итак, в таблице семь столбцов. Тип данных во всех столбцах — `object`.\n",
    "\n",
    "Согласно документации к данным:\n",
    "* `userID` — идентификатор пользователя;\n",
    "* `Track` — название трека;  \n",
    "* `artist` — имя исполнителя;\n",
    "* `genre` — название жанра;\n",
    "* `City` — город пользователя;\n",
    "* `time` — время начала прослушивания;\n",
    "* `Day` — день недели.\n",
    "\n",
    "Количество значений в столбцах различается. Значит, в данных есть пропущенные значения."
   ]
  },
  {
   "cell_type": "markdown",
   "metadata": {
    "deletable": false,
    "editable": false,
    "id": "rAfziTBDmf2h",
    "tags": [
     "start_task"
    ]
   },
   "source": [
    "**Задание 5**\n",
    "\n",
    "**Вопрос со свободной формой ответа**\n",
    "\n",
    "В названиях колонок видны нарушения стиля:\n",
    "* Строчные буквы сочетаются с прописными.\n",
    "* Встречаются пробелы.\n",
    "\n",
    "Какое третье нарушение?"
   ]
  },
  {
   "cell_type": "code",
   "execution_count": 5,
   "metadata": {
    "id": "jD8EXEIvmf2h"
   },
   "outputs": [],
   "source": [
    "#нет змеиного регистра"
   ]
  },
  {
   "cell_type": "markdown",
   "metadata": {
    "deletable": false,
    "editable": false,
    "id": "MCB6-dXG_Zct"
   },
   "source": [
    "**Выводы**\n",
    "\n",
    "В каждой строке таблицы — данные о прослушанном треке. Часть колонок описывает саму композицию: название, исполнителя и жанр. Остальные данные рассказывают о пользователе: из какого он города, когда он слушал музыку. \n",
    "\n",
    "Предварительно можно утверждать, что данных достаточно для проверки гипотез. Но встречаются пропуски в данных, а в названиях колонок — расхождения с хорошим стилем.\n",
    "\n",
    "Чтобы двигаться дальше, нужно устранить проблемы в данных."
   ]
  },
  {
   "cell_type": "markdown",
   "metadata": {
    "deletable": false,
    "editable": false,
    "id": "SjYF6Ub9_Zct"
   },
   "source": [
    "## Предобработка данных\n",
    "Исправьте стиль в заголовках столбцов, исключите пропуски. Затем проверьте данные на дубликаты."
   ]
  },
  {
   "cell_type": "markdown",
   "metadata": {
    "deletable": false,
    "editable": false,
    "id": "dIaKXr29_Zct",
    "tags": [
     "start_task"
    ]
   },
   "source": [
    "### Стиль заголовков\n",
    "\n",
    "**Задание 6**\n",
    "\n",
    "Выведите на экран названия столбцов:"
   ]
  },
  {
   "cell_type": "code",
   "execution_count": 6,
   "metadata": {
    "deletable": false,
    "id": "oKOTdF_Q_Zct"
   },
   "outputs": [
    {
     "data": {
      "text/plain": [
       "Index(['  userID', 'Track', 'artist', 'genre', '  City  ', 'time', 'Day'], dtype='object')"
      ]
     },
     "execution_count": 6,
     "metadata": {},
     "output_type": "execute_result"
    }
   ],
   "source": [
    "# перечень названий столбцов таблицы df\n",
    "df.columns"
   ]
  },
  {
   "cell_type": "markdown",
   "metadata": {
    "deletable": false,
    "editable": false,
    "id": "zj5534cv_Zct",
    "tags": [
     "start_task"
    ]
   },
   "source": [
    "**Задание 7**\n",
    "\n",
    "\n",
    "Приведите названия в соответствие с хорошим стилем:\n",
    "* несколько слов в названии запишите в «змеином_регистре»,\n",
    "* все символы сделайте строчными,\n",
    "* устраните пробелы.\n",
    "\n",
    "Для этого переименуйте колонки так:\n",
    "* `'  userID'` → `'user_id'`;\n",
    "* `'Track'` → `'track'`;\n",
    "* `'  City  '` → `'city'`;\n",
    "* `'Day'` → `'day'`."
   ]
  },
  {
   "cell_type": "code",
   "execution_count": 7,
   "metadata": {
    "deletable": false,
    "id": "ISlFqs5y_Zct"
   },
   "outputs": [],
   "source": [
    "# переименование столбцов\n",
    "df = df.rename(columns = {'  userID': 'user_id','Track': 'track','  City  ' : 'city', 'Day' : 'day'}) "
   ]
  },
  {
   "cell_type": "markdown",
   "metadata": {
    "deletable": false,
    "editable": false,
    "id": "1dqbh00J_Zct",
    "tags": [
     "start_task"
    ]
   },
   "source": [
    "**Задание 8**\n",
    "\n",
    "\n",
    "Проверьте результат. Для этого ещё раз выведите на экран названия столбцов:"
   ]
  },
  {
   "cell_type": "code",
   "execution_count": 8,
   "metadata": {
    "deletable": false,
    "id": "d4NOAmTW_Zct"
   },
   "outputs": [
    {
     "data": {
      "text/plain": [
       "Index(['user_id', 'track', 'artist', 'genre', 'city', 'time', 'day'], dtype='object')"
      ]
     },
     "execution_count": 8,
     "metadata": {},
     "output_type": "execute_result"
    }
   ],
   "source": [
    "# проверка результатов - перечень названий столбцов\n",
    "df.columns"
   ]
  },
  {
   "cell_type": "markdown",
   "metadata": {
    "deletable": false,
    "editable": false,
    "id": "5ISfbcfY_Zct",
    "tags": [
     "start_task"
    ]
   },
   "source": [
    "### Пропуски значений\n",
    "\n",
    "**Задание 9**\n",
    "\n",
    "Сначала посчитайте, сколько в таблице пропущенных значений. Для этого достаточно двух методов `pandas`:"
   ]
  },
  {
   "cell_type": "code",
   "execution_count": 9,
   "metadata": {
    "deletable": false,
    "id": "RskX29qr_Zct"
   },
   "outputs": [
    {
     "data": {
      "text/plain": [
       "user_id       0\n",
       "track      1231\n",
       "artist     7203\n",
       "genre      1198\n",
       "city          0\n",
       "time          0\n",
       "day           0\n",
       "dtype: int64"
      ]
     },
     "execution_count": 9,
     "metadata": {},
     "output_type": "execute_result"
    }
   ],
   "source": [
    "# подсчёт пропусков\n",
    "df.isna().sum()"
   ]
  },
  {
   "cell_type": "markdown",
   "metadata": {
    "deletable": false,
    "editable": false,
    "id": "qubhgnlO_Zct"
   },
   "source": [
    "Не все пропущенные значения влияют на исследование. Так в `track` и `artist` пропуски не важны для вашей работы. Достаточно заменить их явными обозначениями.\n",
    "\n",
    "Но пропуски в `genre` могут помешать сравнению музыкальных вкусов в Москве и Санкт-Петербурге. На практике было бы правильно установить причину пропусков и восстановить данные. Такой возможности нет в учебном проекте. Придётся:\n",
    "* заполнить и эти пропуски явными обозначениями;\n",
    "* оценить, насколько они повредят расчётам. "
   ]
  },
  {
   "cell_type": "markdown",
   "metadata": {
    "deletable": false,
    "editable": false,
    "id": "fSv2laPA_Zct",
    "tags": [
     "start_task"
    ]
   },
   "source": [
    "**Задание 10**\n",
    "\n",
    "Замените пропущенные значения в столбцах `track`, `artist` и `genre` на строку `'unknown'`. Для этого создайте список `columns_to_replace`, переберите его элементы циклом `for` и для каждого столбца выполните замену пропущенных значений:"
   ]
  },
  {
   "cell_type": "code",
   "execution_count": 10,
   "metadata": {
    "deletable": false,
    "id": "KplB5qWs_Zct"
   },
   "outputs": [],
   "source": [
    "# перебор названий столбцов в цикле и замена пропущенных значений на 'unknown'\n",
    "columns_to_replace = ['track','artist','genre']\n",
    "for emptiness in columns_to_replace:\n",
    "    df[emptiness] = df[emptiness].fillna('unknown') "
   ]
  },
  {
   "cell_type": "markdown",
   "metadata": {
    "deletable": false,
    "editable": false,
    "id": "Ilsm-MZo_Zct",
    "tags": [
     "start_task"
    ]
   },
   "source": [
    "**Задание 11**\n",
    "\n",
    "Убедитесь, что в таблице не осталось пропусков. Для этого ещё раз посчитайте пропущенные значения."
   ]
  },
  {
   "cell_type": "code",
   "execution_count": 11,
   "metadata": {
    "deletable": false,
    "id": "Tq4nYRX4_Zct"
   },
   "outputs": [
    {
     "data": {
      "text/plain": [
       "user_id    0\n",
       "track      0\n",
       "artist     0\n",
       "genre      0\n",
       "city       0\n",
       "time       0\n",
       "day        0\n",
       "dtype: int64"
      ]
     },
     "execution_count": 11,
     "metadata": {},
     "output_type": "execute_result"
    }
   ],
   "source": [
    "# подсчёт пропусков\n",
    "df.isna().sum()"
   ]
  },
  {
   "cell_type": "markdown",
   "metadata": {
    "deletable": false,
    "editable": false,
    "id": "BWKRtBJ3_Zct",
    "tags": [
     "start_task"
    ]
   },
   "source": [
    "### Дубликаты\n",
    "\n",
    "**Задание 12**\n",
    "\n",
    "Посчитайте явные дубликаты в таблице одной командой:"
   ]
  },
  {
   "cell_type": "code",
   "execution_count": 12,
   "metadata": {
    "deletable": false,
    "id": "36eES_S0_Zct"
   },
   "outputs": [
    {
     "data": {
      "text/plain": [
       "3826"
      ]
     },
     "execution_count": 12,
     "metadata": {},
     "output_type": "execute_result"
    }
   ],
   "source": [
    "# подсчёт явных дубликатов\n",
    "df.duplicated().sum()"
   ]
  },
  {
   "cell_type": "markdown",
   "metadata": {
    "deletable": false,
    "editable": false,
    "id": "Ot25h6XR_Zct",
    "tags": [
     "start_task"
    ]
   },
   "source": [
    "**Задание 13**\n",
    "\n",
    "Вызовите специальный метод `pandas`, чтобы удалить явные дубликаты:"
   ]
  },
  {
   "cell_type": "code",
   "execution_count": 13,
   "metadata": {
    "deletable": false,
    "id": "exFHq6tt_Zct"
   },
   "outputs": [],
   "source": [
    "# удаление явных дубликатов\n",
    "df = df.drop_duplicates()"
   ]
  },
  {
   "cell_type": "markdown",
   "metadata": {
    "deletable": false,
    "editable": false,
    "id": "Im2YwBEG_Zct",
    "tags": [
     "start_task"
    ]
   },
   "source": [
    "**Задание 14**\n",
    "\n",
    "Ещё раз посчитайте явные дубликаты в таблице — убедитесь, что полностью от них избавились:"
   ]
  },
  {
   "cell_type": "code",
   "execution_count": 14,
   "metadata": {
    "deletable": false,
    "id": "-8PuNWQ0_Zct"
   },
   "outputs": [
    {
     "data": {
      "text/plain": [
       "0"
      ]
     },
     "execution_count": 14,
     "metadata": {},
     "output_type": "execute_result"
    }
   ],
   "source": [
    "# проверка на отсутствие дубликатов\n",
    "df.duplicated().sum() "
   ]
  },
  {
   "cell_type": "markdown",
   "metadata": {
    "deletable": false,
    "editable": false,
    "id": "QlFBsxAr_Zct"
   },
   "source": [
    "Теперь избавьтесь от неявных дубликатов в колонке `genre`. Например, название одного и того же жанра может быть записано немного по-разному. Такие ошибки тоже повлияют на результат исследования."
   ]
  },
  {
   "cell_type": "markdown",
   "metadata": {
    "deletable": false,
    "editable": false,
    "id": "eSjWwsOh_Zct",
    "tags": [
     "start_task"
    ]
   },
   "source": [
    "**Задание 15**\n",
    "\n",
    "Выведите на экран список уникальных названий жанров, отсортированный в алфавитном порядке. Для этого:\n",
    "1. извлеките нужный столбец датафрейма; \n",
    "2. примените к нему метод сортировки;\n",
    "3. для отсортированного столбца вызовите метод, который вернёт уникальные значения из столбца."
   ]
  },
  {
   "cell_type": "code",
   "execution_count": 15,
   "metadata": {
    "deletable": false,
    "id": "JIUcqzZN_Zct"
   },
   "outputs": [
    {
     "data": {
      "text/plain": [
       "array(['acid', 'acoustic', 'action', 'adult', 'africa', 'afrikaans',\n",
       "       'alternative', 'alternativepunk', 'ambient', 'americana',\n",
       "       'animated', 'anime', 'arabesk', 'arabic', 'arena',\n",
       "       'argentinetango', 'art', 'audiobook', 'author', 'avantgarde',\n",
       "       'axé', 'baile', 'balkan', 'beats', 'bigroom', 'black', 'bluegrass',\n",
       "       'blues', 'bollywood', 'bossa', 'brazilian', 'breakbeat', 'breaks',\n",
       "       'broadway', 'cantautori', 'cantopop', 'canzone', 'caribbean',\n",
       "       'caucasian', 'celtic', 'chamber', 'chanson', 'children', 'chill',\n",
       "       'chinese', 'choral', 'christian', 'christmas', 'classical',\n",
       "       'classicmetal', 'club', 'colombian', 'comedy', 'conjazz',\n",
       "       'contemporary', 'country', 'cuban', 'dance', 'dancehall',\n",
       "       'dancepop', 'dark', 'death', 'deep', 'deutschrock', 'deutschspr',\n",
       "       'dirty', 'disco', 'dnb', 'documentary', 'downbeat', 'downtempo',\n",
       "       'drum', 'dub', 'dubstep', 'eastern', 'easy', 'electronic',\n",
       "       'electropop', 'emo', 'entehno', 'epicmetal', 'estrada', 'ethnic',\n",
       "       'eurofolk', 'european', 'experimental', 'extrememetal', 'fado',\n",
       "       'fairytail', 'film', 'fitness', 'flamenco', 'folk', 'folklore',\n",
       "       'folkmetal', 'folkrock', 'folktronica', 'forró', 'frankreich',\n",
       "       'französisch', 'french', 'funk', 'future', 'gangsta', 'garage',\n",
       "       'german', 'ghazal', 'gitarre', 'glitch', 'gospel', 'gothic',\n",
       "       'grime', 'grunge', 'gypsy', 'handsup', \"hard'n'heavy\", 'hardcore',\n",
       "       'hardstyle', 'hardtechno', 'hip', 'hip-hop', 'hiphop',\n",
       "       'historisch', 'holiday', 'hop', 'horror', 'house', 'hymn', 'idm',\n",
       "       'independent', 'indian', 'indie', 'indipop', 'industrial',\n",
       "       'inspirational', 'instrumental', 'international', 'irish', 'jam',\n",
       "       'japanese', 'jazz', 'jewish', 'jpop', 'jungle', 'k-pop',\n",
       "       'karadeniz', 'karaoke', 'kayokyoku', 'korean', 'laiko', 'latin',\n",
       "       'latino', 'leftfield', 'local', 'lounge', 'loungeelectronic',\n",
       "       'lovers', 'malaysian', 'mandopop', 'marschmusik', 'meditative',\n",
       "       'mediterranean', 'melodic', 'metal', 'metalcore', 'mexican',\n",
       "       'middle', 'minimal', 'miscellaneous', 'modern', 'mood', 'mpb',\n",
       "       'muslim', 'native', 'neoklassik', 'neue', 'new', 'newage',\n",
       "       'newwave', 'nu', 'nujazz', 'numetal', 'oceania', 'old', 'opera',\n",
       "       'orchestral', 'other', 'piano', 'podcasts', 'pop', 'popdance',\n",
       "       'popelectronic', 'popeurodance', 'poprussian', 'post',\n",
       "       'posthardcore', 'postrock', 'power', 'progmetal', 'progressive',\n",
       "       'psychedelic', 'punjabi', 'punk', 'quebecois', 'ragga', 'ram',\n",
       "       'rancheras', 'rap', 'rave', 'reggae', 'reggaeton', 'regional',\n",
       "       'relax', 'religious', 'retro', 'rhythm', 'rnb', 'rnr', 'rock',\n",
       "       'rockabilly', 'rockalternative', 'rockindie', 'rockother',\n",
       "       'romance', 'roots', 'ruspop', 'rusrap', 'rusrock', 'russian',\n",
       "       'salsa', 'samba', 'scenic', 'schlager', 'self', 'sertanejo',\n",
       "       'shanson', 'shoegazing', 'showtunes', 'singer', 'ska', 'skarock',\n",
       "       'slow', 'smooth', 'soft', 'soul', 'soulful', 'sound', 'soundtrack',\n",
       "       'southern', 'specialty', 'speech', 'spiritual', 'sport',\n",
       "       'stonerrock', 'surf', 'swing', 'synthpop', 'synthrock',\n",
       "       'sängerportrait', 'tango', 'tanzorchester', 'taraftar', 'tatar',\n",
       "       'tech', 'techno', 'teen', 'thrash', 'top', 'traditional',\n",
       "       'tradjazz', 'trance', 'tribal', 'trip', 'triphop', 'tropical',\n",
       "       'türk', 'türkçe', 'ukrrock', 'unknown', 'urban', 'uzbek',\n",
       "       'variété', 'vi', 'videogame', 'vocal', 'western', 'world',\n",
       "       'worldbeat', 'ïîï', 'электроника'], dtype=object)"
      ]
     },
     "execution_count": 15,
     "metadata": {},
     "output_type": "execute_result"
    }
   ],
   "source": [
    "# Просмотр уникальных названий жанров\n",
    "df = df.sort_values(by = 'genre', ascending = True)\n",
    "df['genre'].unique()\n",
    "\n"
   ]
  },
  {
   "cell_type": "markdown",
   "metadata": {
    "deletable": false,
    "editable": false,
    "id": "qej-Qmuo_Zct",
    "tags": [
     "start_task"
    ]
   },
   "source": [
    "**Задание 16**\n",
    "\n",
    "Просмотрите список и найдите неявные дубликаты названия `hiphop`. Это могут быть названия с ошибками или альтернативные названия того же жанра.\n",
    "\n",
    "Вы увидите следующие неявные дубликаты:\n",
    "* *hip*,\n",
    "* *hop*,\n",
    "* *hip-hop*.\n",
    "\n",
    "Чтобы очистить от них таблицу используйте метод `replace()` с двумя аргументами: списком строк-дубликатов (включащий *hip*, *hop* и *hip-hop*) и строкой с правильным значением. Вам нужно исправить колонку `genre` в таблице `df`: заменить каждое значение из списка дубликатов на верное. Вместо `hip`, `hop` и `hip-hop` в таблице должно быть значение `hiphop`:"
   ]
  },
  {
   "cell_type": "code",
   "execution_count": 16,
   "metadata": {
    "deletable": false,
    "id": "ErNDkmns_Zct"
   },
   "outputs": [],
   "source": [
    "# Устранение неявных дубликатов\n",
    "duplicates = ['hip', 'hop', 'hip-hop']\n",
    "df['genre'] = df['genre'].replace(duplicates, 'hiphop')"
   ]
  },
  {
   "cell_type": "markdown",
   "metadata": {
    "deletable": false,
    "editable": false,
    "id": "zQKF16_RG15m",
    "tags": [
     "start_task"
    ]
   },
   "source": [
    "**Задание 17**\n",
    "\n",
    "Проверьте, что заменили неправильные названия:\n",
    "\n",
    "*   hip,\n",
    "*   hop,\n",
    "*   hip-hop.\n",
    "\n",
    "Выведите отсортированный список уникальных значений столбца `genre`:"
   ]
  },
  {
   "cell_type": "code",
   "execution_count": 17,
   "metadata": {
    "deletable": false,
    "id": "wvixALnFG15m"
   },
   "outputs": [
    {
     "data": {
      "text/plain": [
       "array(['acid', 'acoustic', 'action', 'adult', 'africa', 'afrikaans',\n",
       "       'alternative', 'alternativepunk', 'ambient', 'americana',\n",
       "       'animated', 'anime', 'arabesk', 'arabic', 'arena',\n",
       "       'argentinetango', 'art', 'audiobook', 'author', 'avantgarde',\n",
       "       'axé', 'baile', 'balkan', 'beats', 'bigroom', 'black', 'bluegrass',\n",
       "       'blues', 'bollywood', 'bossa', 'brazilian', 'breakbeat', 'breaks',\n",
       "       'broadway', 'cantautori', 'cantopop', 'canzone', 'caribbean',\n",
       "       'caucasian', 'celtic', 'chamber', 'chanson', 'children', 'chill',\n",
       "       'chinese', 'choral', 'christian', 'christmas', 'classical',\n",
       "       'classicmetal', 'club', 'colombian', 'comedy', 'conjazz',\n",
       "       'contemporary', 'country', 'cuban', 'dance', 'dancehall',\n",
       "       'dancepop', 'dark', 'death', 'deep', 'deutschrock', 'deutschspr',\n",
       "       'dirty', 'disco', 'dnb', 'documentary', 'downbeat', 'downtempo',\n",
       "       'drum', 'dub', 'dubstep', 'eastern', 'easy', 'electronic',\n",
       "       'electropop', 'emo', 'entehno', 'epicmetal', 'estrada', 'ethnic',\n",
       "       'eurofolk', 'european', 'experimental', 'extrememetal', 'fado',\n",
       "       'fairytail', 'film', 'fitness', 'flamenco', 'folk', 'folklore',\n",
       "       'folkmetal', 'folkrock', 'folktronica', 'forró', 'frankreich',\n",
       "       'französisch', 'french', 'funk', 'future', 'gangsta', 'garage',\n",
       "       'german', 'ghazal', 'gitarre', 'glitch', 'gospel', 'gothic',\n",
       "       'grime', 'grunge', 'gypsy', 'handsup', \"hard'n'heavy\", 'hardcore',\n",
       "       'hardstyle', 'hardtechno', 'hiphop', 'historisch', 'holiday',\n",
       "       'horror', 'house', 'hymn', 'idm', 'independent', 'indian', 'indie',\n",
       "       'indipop', 'industrial', 'inspirational', 'instrumental',\n",
       "       'international', 'irish', 'jam', 'japanese', 'jazz', 'jewish',\n",
       "       'jpop', 'jungle', 'k-pop', 'karadeniz', 'karaoke', 'kayokyoku',\n",
       "       'korean', 'laiko', 'latin', 'latino', 'leftfield', 'local',\n",
       "       'lounge', 'loungeelectronic', 'lovers', 'malaysian', 'mandopop',\n",
       "       'marschmusik', 'meditative', 'mediterranean', 'melodic', 'metal',\n",
       "       'metalcore', 'mexican', 'middle', 'minimal', 'miscellaneous',\n",
       "       'modern', 'mood', 'mpb', 'muslim', 'native', 'neoklassik', 'neue',\n",
       "       'new', 'newage', 'newwave', 'nu', 'nujazz', 'numetal', 'oceania',\n",
       "       'old', 'opera', 'orchestral', 'other', 'piano', 'podcasts', 'pop',\n",
       "       'popdance', 'popelectronic', 'popeurodance', 'poprussian', 'post',\n",
       "       'posthardcore', 'postrock', 'power', 'progmetal', 'progressive',\n",
       "       'psychedelic', 'punjabi', 'punk', 'quebecois', 'ragga', 'ram',\n",
       "       'rancheras', 'rap', 'rave', 'reggae', 'reggaeton', 'regional',\n",
       "       'relax', 'religious', 'retro', 'rhythm', 'rnb', 'rnr', 'rock',\n",
       "       'rockabilly', 'rockalternative', 'rockindie', 'rockother',\n",
       "       'romance', 'roots', 'ruspop', 'rusrap', 'rusrock', 'russian',\n",
       "       'salsa', 'samba', 'scenic', 'schlager', 'self', 'sertanejo',\n",
       "       'shanson', 'shoegazing', 'showtunes', 'singer', 'ska', 'skarock',\n",
       "       'slow', 'smooth', 'soft', 'soul', 'soulful', 'sound', 'soundtrack',\n",
       "       'southern', 'specialty', 'speech', 'spiritual', 'sport',\n",
       "       'stonerrock', 'surf', 'swing', 'synthpop', 'synthrock',\n",
       "       'sängerportrait', 'tango', 'tanzorchester', 'taraftar', 'tatar',\n",
       "       'tech', 'techno', 'teen', 'thrash', 'top', 'traditional',\n",
       "       'tradjazz', 'trance', 'tribal', 'trip', 'triphop', 'tropical',\n",
       "       'türk', 'türkçe', 'ukrrock', 'unknown', 'urban', 'uzbek',\n",
       "       'variété', 'vi', 'videogame', 'vocal', 'western', 'world',\n",
       "       'worldbeat', 'ïîï', 'электроника'], dtype=object)"
      ]
     },
     "execution_count": 17,
     "metadata": {},
     "output_type": "execute_result"
    }
   ],
   "source": [
    "# Проверка на неявные дубликаты\n",
    "df = df.sort_values(by = 'genre', ascending = True)\n",
    "df['genre'].unique()"
   ]
  },
  {
   "cell_type": "markdown",
   "metadata": {
    "deletable": false,
    "editable": false,
    "id": "jz6a9-7HQUDd"
   },
   "source": [
    "**Выводы**\n",
    "\n",
    "Предобработка обнаружила три проблемы в данных:\n",
    "\n",
    "- нарушения в стиле заголовков,\n",
    "- пропущенные значения,\n",
    "- дубликаты — явные и неявные.\n",
    "\n",
    "Вы исправили заголовки, чтобы упростить работу с таблицей. Без дубликатов исследование станет более точным.\n",
    "\n",
    "Пропущенные значения вы заменили на `'unknown'`. Ещё предстоит увидеть, не повредят ли исследованию пропуски в колонке `genre`.\n",
    "\n",
    "Теперь можно перейти к проверке гипотез. "
   ]
  },
  {
   "cell_type": "markdown",
   "metadata": {
    "deletable": false,
    "editable": false,
    "id": "WttZHXH0SqKk"
   },
   "source": [
    "## Проверка гипотез"
   ]
  },
  {
   "cell_type": "markdown",
   "metadata": {
    "deletable": false,
    "editable": false,
    "id": "Im936VVi_Zcu"
   },
   "source": [
    "### Сравнение поведения пользователей двух столиц"
   ]
  },
  {
   "cell_type": "markdown",
   "metadata": {
    "deletable": false,
    "editable": false,
    "id": "nwt_MuaL_Zcu"
   },
   "source": [
    "Первая гипотеза утверждает, что пользователи по-разному слушают музыку в Москве и Санкт-Петербурге. Проверьте это предположение по данным о трёх днях недели — понедельнике, среде и пятнице. Для этого:\n",
    "\n",
    "* Разделите пользователей Москвы и Санкт-Петербурга.\n",
    "* Сравните, сколько треков послушала каждая группа пользователей в понедельник, среду и пятницу.\n"
   ]
  },
  {
   "cell_type": "markdown",
   "metadata": {
    "deletable": false,
    "editable": false,
    "id": "8Dw_YMmT_Zcu",
    "tags": [
     "start_task"
    ]
   },
   "source": [
    "**Задание 18**\n",
    "\n",
    "Для тренировки сначала выполните каждый из расчётов по отдельности. \n",
    "\n",
    "Оцените активность пользователей в каждом городе. Сгруппируйте данные по городу и посчитайте прослушивания в каждой группе.\n",
    "\n"
   ]
  },
  {
   "cell_type": "code",
   "execution_count": 18,
   "metadata": {
    "deletable": false,
    "id": "0_Qs96oh_Zcu"
   },
   "outputs": [
    {
     "data": {
      "text/plain": [
       "city\n",
       "Moscow              42741\n",
       "Saint-Petersburg    18512\n",
       "Name: time, dtype: int64"
      ]
     },
     "execution_count": 18,
     "metadata": {},
     "output_type": "execute_result"
    }
   ],
   "source": [
    "# Подсчёт прослушиваний в каждом городе\n",
    "df.groupby('city')['time'].count()"
   ]
  },
  {
   "cell_type": "markdown",
   "metadata": {
    "deletable": false,
    "editable": false,
    "id": "dzli3w8o_Zcu",
    "tags": [
     "start_task"
    ]
   },
   "source": [
    "В Москве прослушиваний больше, чем в Петербурге. Из этого не следует, что московские пользователи чаще слушают музыку. Просто самих пользователей в Москве больше.\n",
    "\n",
    "**Задание 19**\n",
    "\n",
    "Теперь сгруппируйте данные по дню недели и посчитайте прослушивания в понедельник, среду и пятницу. Учтите, что в данных есть информация о прослушиваниях только за эти дни.\n"
   ]
  },
  {
   "cell_type": "code",
   "execution_count": 19,
   "metadata": {
    "deletable": false,
    "id": "uZMKjiJz_Zcu"
   },
   "outputs": [
    {
     "data": {
      "text/plain": [
       "day\n",
       "Friday       21840\n",
       "Monday       21354\n",
       "Wednesday    18059\n",
       "Name: day, dtype: int64"
      ]
     },
     "execution_count": 19,
     "metadata": {},
     "output_type": "execute_result"
    }
   ],
   "source": [
    "# Подсчёт прослушиваний в каждый из трёх дней\n",
    "df.groupby('day')['day'].count()\n"
   ]
  },
  {
   "cell_type": "markdown",
   "metadata": {
    "deletable": false,
    "editable": false,
    "id": "cC2tNrlL_Zcu"
   },
   "source": [
    "В среднем пользователи из двух городов менее активны по средам. Но картина может измениться, если рассмотреть каждый город в отдельности."
   ]
  },
  {
   "cell_type": "markdown",
   "metadata": {
    "deletable": false,
    "editable": false,
    "id": "POzs8bGa_Zcu",
    "tags": [
     "start_task"
    ]
   },
   "source": [
    "**Задание 20**\n",
    "\n",
    "\n",
    "Вы видели, как работает группировка по городу и по дням недели. Теперь напишите функцию, которая объединит два эти расчёта.\n",
    "\n",
    "Создайте функцию `number_tracks()`, которая посчитает прослушивания для заданного дня и города. Ей понадобятся два параметра:\n",
    "* день недели,\n",
    "* название города.\n",
    "\n",
    "В функции сохраните в переменную строки исходной таблицы, у которых значение:\n",
    "  * в колонке `day` равно параметру `day`,\n",
    "  * в колонке `city` равно параметру `city`.\n",
    "\n",
    "Для этого примените последовательную фильтрацию с логической индексацией (или сложные логические выражения в одну строку, если вы уже знакомы с ними).\n",
    "\n",
    "Затем посчитайте значения в столбце `user_id` получившейся таблицы. Результат сохраните в новую переменную. Верните эту переменную из функции."
   ]
  },
  {
   "cell_type": "code",
   "execution_count": 20,
   "metadata": {
    "deletable": false,
    "id": "Nz3GdQB1_Zcu"
   },
   "outputs": [],
   "source": [
    "\n",
    "# Объявляется функция с двумя параметрами: day, city.\n",
    "# В переменной track_list сохраняются те строки таблицы df, для которых \n",
    "# значение в столбце 'day' равно параметру day и одновременно значение\n",
    "# в столбце 'city' равно параметру city (используйте последовательную фильтрацию\n",
    "# с помощью логической индексации или сложные логические выражения в одну строку, если вы уже знакомы с ними).\n",
    "# В переменной track_list_count сохраняется число значений столбца 'user_id',\n",
    "# рассчитанное методом count() для таблицы track_list.\n",
    "# Функция возвращает число - значение track_list_count.\n",
    "\n",
    "# Функция для подсчёта прослушиваний для конкретного города и дня.\n",
    "# С помощью последовательной фильтрации с логической индексацией она \n",
    "# сначала получит из исходной таблицы строки с нужным днём,\n",
    "# затем из результата отфильтрует строки с нужным городом,\n",
    "# методом count() посчитает количество значений в колонке user_id. \n",
    "# Это количество функция вернёт в качестве результата\n",
    "\n",
    "def number_tracks(day,city):\n",
    "    track_list = df[df['day']== day]\n",
    "    track_list = track_list[track_list[\"city\"]==city]    \n",
    "    track_list_count = track_list['user_id'].count()\n",
    "    return track_list_count   "
   ]
  },
  {
   "cell_type": "markdown",
   "metadata": {
    "deletable": false,
    "editable": false,
    "id": "ytf7xFrFJQ2r",
    "tags": [
     "start_task"
    ]
   },
   "source": [
    "**Задание 21**\n",
    "\n",
    "Вызовите `number_tracks()` шесть раз, меняя значение параметров — так, чтобы получить данные для каждого города в каждый из трёх дней."
   ]
  },
  {
   "cell_type": "code",
   "execution_count": 21,
   "metadata": {
    "deletable": false,
    "id": "rJcRATNQ_Zcu"
   },
   "outputs": [
    {
     "data": {
      "text/plain": [
       "15740"
      ]
     },
     "execution_count": 21,
     "metadata": {},
     "output_type": "execute_result"
    }
   ],
   "source": [
    "# количество прослушиваний в Москве по понедельникам\n",
    "number_tracks('Monday', 'Moscow')"
   ]
  },
  {
   "cell_type": "code",
   "execution_count": 22,
   "metadata": {
    "deletable": false,
    "id": "hq_ncZ5T_Zcu"
   },
   "outputs": [
    {
     "data": {
      "text/plain": [
       "5614"
      ]
     },
     "execution_count": 22,
     "metadata": {},
     "output_type": "execute_result"
    }
   ],
   "source": [
    "# количество прослушиваний в Санкт-Петербурге по понедельникам\n",
    "number_tracks('Monday', 'Saint-Petersburg')"
   ]
  },
  {
   "cell_type": "code",
   "execution_count": 23,
   "metadata": {
    "deletable": false,
    "id": "_NTy2VPU_Zcu"
   },
   "outputs": [
    {
     "data": {
      "text/plain": [
       "11056"
      ]
     },
     "execution_count": 23,
     "metadata": {},
     "output_type": "execute_result"
    }
   ],
   "source": [
    "# количество прослушиваний в Москве по средам\n",
    "number_tracks('Wednesday', 'Moscow')"
   ]
  },
  {
   "cell_type": "code",
   "execution_count": 24,
   "metadata": {
    "deletable": false,
    "id": "j2y3TAwo_Zcu"
   },
   "outputs": [
    {
     "data": {
      "text/plain": [
       "7003"
      ]
     },
     "execution_count": 24,
     "metadata": {},
     "output_type": "execute_result"
    }
   ],
   "source": [
    "# количество прослушиваний в Санкт-Петербурге по средам\n",
    "number_tracks('Wednesday', 'Saint-Petersburg')"
   ]
  },
  {
   "cell_type": "code",
   "execution_count": 25,
   "metadata": {
    "deletable": false,
    "id": "vYDw5u_K_Zcu"
   },
   "outputs": [
    {
     "data": {
      "text/plain": [
       "15945"
      ]
     },
     "execution_count": 25,
     "metadata": {},
     "output_type": "execute_result"
    }
   ],
   "source": [
    "# количество прослушиваний в Москве по пятницам\n",
    "number_tracks('Friday', 'Moscow')"
   ]
  },
  {
   "cell_type": "code",
   "execution_count": 26,
   "metadata": {
    "deletable": false,
    "id": "8_yzFtW3_Zcu"
   },
   "outputs": [
    {
     "data": {
      "text/plain": [
       "5895"
      ]
     },
     "execution_count": 26,
     "metadata": {},
     "output_type": "execute_result"
    }
   ],
   "source": [
    "# количество прослушиваний в Санкт-Петербурге по пятницам\n",
    "number_tracks('Friday', 'Saint-Petersburg')"
   ]
  },
  {
   "cell_type": "markdown",
   "metadata": {
    "deletable": false,
    "editable": false,
    "id": "7QXffbO-_Zcu",
    "tags": [
     "start_task"
    ]
   },
   "source": [
    "**Задание 22**\n",
    "\n",
    "Создайте c помощью конструктора `pd.DataFrame` таблицу, где\n",
    "* названия колонок — `['city', 'monday', 'wednesday', 'friday']`;\n",
    "* данные — результаты, которые вы получили с помощью `number_tracks`."
   ]
  },
  {
   "cell_type": "code",
   "execution_count": 27,
   "metadata": {
    "deletable": false,
    "id": "APAcLpOr_Zcu"
   },
   "outputs": [
    {
     "data": {
      "text/html": [
       "<div>\n",
       "<style scoped>\n",
       "    .dataframe tbody tr th:only-of-type {\n",
       "        vertical-align: middle;\n",
       "    }\n",
       "\n",
       "    .dataframe tbody tr th {\n",
       "        vertical-align: top;\n",
       "    }\n",
       "\n",
       "    .dataframe thead th {\n",
       "        text-align: right;\n",
       "    }\n",
       "</style>\n",
       "<table border=\"1\" class=\"dataframe\">\n",
       "  <thead>\n",
       "    <tr style=\"text-align: right;\">\n",
       "      <th></th>\n",
       "      <th>city</th>\n",
       "      <th>monday</th>\n",
       "      <th>wednesday</th>\n",
       "      <th>friday</th>\n",
       "    </tr>\n",
       "  </thead>\n",
       "  <tbody>\n",
       "    <tr>\n",
       "      <th>0</th>\n",
       "      <td>Moscow</td>\n",
       "      <td>15740</td>\n",
       "      <td>11056</td>\n",
       "      <td>15945</td>\n",
       "    </tr>\n",
       "    <tr>\n",
       "      <th>1</th>\n",
       "      <td>Saint-Petersburg</td>\n",
       "      <td>5614</td>\n",
       "      <td>7003</td>\n",
       "      <td>5895</td>\n",
       "    </tr>\n",
       "  </tbody>\n",
       "</table>\n",
       "</div>"
      ],
      "text/plain": [
       "               city  monday  wednesday  friday\n",
       "0            Moscow   15740      11056   15945\n",
       "1  Saint-Petersburg    5614       7003    5895"
      ]
     },
     "execution_count": 27,
     "metadata": {},
     "output_type": "execute_result"
    }
   ],
   "source": [
    "# Таблица с результатами\n",
    "variables = ['city', 'monday', 'wednesday', 'friday'] \n",
    "meaning = [ ['Moscow', 15740 , 11056, 15945 ],\n",
    "           ['Saint-Petersburg',5614, 7003 , 5895 ]\n",
    "          ]\n",
    "info = pd.DataFrame(data = meaning, columns = variables)\n",
    "info"
   ]
  },
  {
   "cell_type": "markdown",
   "metadata": {
    "deletable": false,
    "editable": false,
    "id": "-EgPIHYu_Zcu"
   },
   "source": [
    "**Выводы**\n",
    "\n",
    "Данные показывают разницу поведения пользователей:\n",
    "\n",
    "- В Москве пик прослушиваний приходится на понедельник и пятницу, а в среду заметен спад.\n",
    "- В Петербурге, наоборот, больше слушают музыку по средам. Активность в понедельник и пятницу здесь почти в равной мере уступает среде.\n",
    "\n",
    "Значит, данные говорят в пользу первой гипотезы."
   ]
  },
  {
   "cell_type": "markdown",
   "metadata": {
    "deletable": false,
    "editable": false,
    "id": "atZAxtq4_Zcu"
   },
   "source": [
    "### Музыка в начале и в конце недели"
   ]
  },
  {
   "cell_type": "markdown",
   "metadata": {
    "deletable": false,
    "editable": false,
    "id": "eXrQqXFH_Zcu"
   },
   "source": [
    "Согласно второй гипотезе, утром в понедельник в Москве преобладают одни жанры, а в Петербурге — другие. Так же и вечером пятницы преобладают разные жанры — в зависимости от города."
   ]
  },
  {
   "cell_type": "markdown",
   "metadata": {
    "deletable": false,
    "editable": false,
    "id": "S8UcW6Hw_Zcu",
    "tags": [
     "start_task"
    ]
   },
   "source": [
    "**Задание 23**\n",
    "\n",
    "Сохраните таблицы с данными в две переменные:\n",
    "* по Москве — в `moscow_general`;\n",
    "* по Санкт-Петербургу — в `spb_general`."
   ]
  },
  {
   "cell_type": "code",
   "execution_count": 28,
   "metadata": {
    "deletable": false,
    "id": "qeaFfM_P_Zcu"
   },
   "outputs": [],
   "source": [
    "# получение таблицы moscow_general из тех строк таблицы df, \n",
    "# для которых значение в столбце 'city' равно 'Moscow'\n",
    "moscow_general = df[df['city'] == 'Moscow']"
   ]
  },
  {
   "cell_type": "code",
   "execution_count": 29,
   "metadata": {
    "deletable": false,
    "id": "ORaVRKto_Zcu"
   },
   "outputs": [],
   "source": [
    "# получение таблицы spb_general из тех строк таблицы df,\n",
    "# для которых значение в столбце 'city' равно 'Saint-Petersburg'\n",
    "spb_general = df[df['city'] == 'Saint-Petersburg']"
   ]
  },
  {
   "cell_type": "markdown",
   "metadata": {
    "deletable": false,
    "editable": false,
    "id": "MEJV-CX2_Zcu",
    "tags": [
     "start_task"
    ]
   },
   "source": [
    "**Задание 24**\n",
    "\n",
    "Создайте функцию `genre_weekday()` с четырьмя параметрами:\n",
    "* таблица (датафрейм) с данными,\n",
    "* день недели,\n",
    "* начальная временная метка в формате 'hh:mm', \n",
    "* последняя временная метка в формате 'hh:mm'.\n",
    "\n",
    "Функция должна вернуть информацию о топ-10 жанров тех треков, которые прослушивали в указанный день, в промежутке между двумя отметками времени."
   ]
  },
  {
   "cell_type": "code",
   "execution_count": 30,
   "metadata": {
    "deletable": false,
    "id": "laJT9BYl_Zcu"
   },
   "outputs": [],
   "source": [
    " # Объявление функции genre_weekday() с параметрами table, day, time1, time2,\n",
    "# которая возвращает информацию о самых популярных жанрах в указанный день в\n",
    "# заданное время:\n",
    "# 1) в переменную genre_df сохраняются те строки переданного датафрейма table, для\n",
    "#    которых одновременно:\n",
    "#    - значение в столбце day равно значению аргумента day\n",
    "#    - значение в столбце time больше значения аргумента time1\n",
    "#    - значение в столбце time меньше значения аргумента time2\n",
    "#    Используйте последовательную фильтрацию с помощью логической индексации.\n",
    "# 2) сгруппировать датафрейм genre_df по столбцу genre, взять один из его\n",
    "#    столбцов и посчитать методом count() количество записей для каждого из\n",
    "#    присутствующих жанров, получившийся Series записать в переменную\n",
    "#    genre_df_count\n",
    "# 3) отсортировать genre_df_count по убыванию встречаемости и сохранить\n",
    "#    в переменную genre_df_sorted\n",
    "# 4) вернуть Series из 10 первых значений genre_df_sorted, это будут топ-10\n",
    "#    популярных жанров (в указанный день, в заданное время)\n",
    "\n",
    "def genre_weekday(df, day, time1, time2):\n",
    "    # последовательная фильтрация\n",
    "    # оставляем в genre_df только те строки df, у которых день равен day\n",
    "    genre_df = df[df['day']==day]# ваш код здесь\n",
    "    # оставляем в genre_df только те строки genre_df, у которых время меньше time2\n",
    "    genre_df = genre_df[genre_df['time'] > time1]# ваш код здесь\n",
    "    # оставляем в genre_df только те строки genre_df, у которых время больше time1\n",
    "    genre_df = genre_df[genre_df['time'] < time2]# ваш код здесь\n",
    "    # сгруппируем отфильтрованный датафрейм по столбцу с названиями жанров, возьмём столбец genre и посчитаем кол-во строк для каждого жанра методом count()\n",
    "    genre_df_grouped = genre_df.groupby('genre')['genre'].count()# ваш код здесь\n",
    "    # отсортируем результат по убыванию (чтобы в начале Series оказались самые популярные жанры)\n",
    "    genre_df_sorted = genre_df_grouped.sort_values(ascending = False)# ваш код здесь\n",
    "    # вернём Series с 10 самыми популярными жанрами в указанный отрезок времени заданного дня\n",
    "    return genre_df_sorted[:10]"
   ]
  },
  {
   "cell_type": "markdown",
   "metadata": {
    "deletable": false,
    "editable": false,
    "id": "la2s2_PF_Zcu",
    "tags": [
     "start_task"
    ]
   },
   "source": [
    "**Задание 25**\n",
    "\n",
    "\n",
    "Cравните результаты функции `genre_weekday()` для Москвы и Санкт-Петербурга в понедельник утром (с 7:00 до 11:00) и в пятницу вечером (с 17:00 до 23:00):"
   ]
  },
  {
   "cell_type": "code",
   "execution_count": 31,
   "metadata": {
    "deletable": false,
    "id": "yz7itPUQ_Zcu"
   },
   "outputs": [
    {
     "data": {
      "text/plain": [
       "genre\n",
       "pop            781\n",
       "dance          549\n",
       "electronic     480\n",
       "rock           474\n",
       "hiphop         286\n",
       "ruspop         186\n",
       "world          181\n",
       "rusrap         175\n",
       "alternative    164\n",
       "unknown        161\n",
       "Name: genre, dtype: int64"
      ]
     },
     "execution_count": 31,
     "metadata": {},
     "output_type": "execute_result"
    }
   ],
   "source": [
    "# вызов функции для утра понедельника в Москве (вместо df — таблица moscow_general)\n",
    "# объекты, хранящие время, являются строками и сравниваются как строки\n",
    "# пример вызова: genre_weekday(moscow_general, 'Monday', '07:00', '11:00')\n",
    "genre_weekday(moscow_general, 'Monday', '07:00', '11:00')"
   ]
  },
  {
   "cell_type": "code",
   "execution_count": 32,
   "metadata": {
    "deletable": false,
    "id": "kwUcHPdy_Zcu"
   },
   "outputs": [
    {
     "data": {
      "text/plain": [
       "genre\n",
       "pop            218\n",
       "dance          182\n",
       "rock           162\n",
       "electronic     147\n",
       "hiphop          80\n",
       "ruspop          64\n",
       "alternative     58\n",
       "rusrap          55\n",
       "jazz            44\n",
       "classical       40\n",
       "Name: genre, dtype: int64"
      ]
     },
     "execution_count": 32,
     "metadata": {},
     "output_type": "execute_result"
    }
   ],
   "source": [
    "# вызов функции для утра понедельника в Петербурге (вместо df — таблица spb_general)\n",
    "genre_weekday(spb_general, 'Monday', '07:00', '11:00')"
   ]
  },
  {
   "cell_type": "code",
   "execution_count": 33,
   "metadata": {
    "deletable": false,
    "id": "EzXVRE1o_Zcu"
   },
   "outputs": [
    {
     "data": {
      "text/plain": [
       "genre\n",
       "pop            713\n",
       "rock           517\n",
       "dance          495\n",
       "electronic     482\n",
       "hiphop         273\n",
       "world          208\n",
       "ruspop         170\n",
       "alternative    163\n",
       "classical      163\n",
       "rusrap         142\n",
       "Name: genre, dtype: int64"
      ]
     },
     "execution_count": 33,
     "metadata": {},
     "output_type": "execute_result"
    }
   ],
   "source": [
    "# вызов функции для вечера пятницы в Москве\n",
    "genre_weekday(moscow_general, 'Friday', '17:00', '23:00')"
   ]
  },
  {
   "cell_type": "code",
   "execution_count": 34,
   "metadata": {
    "deletable": false,
    "id": "JZaEKu5v_Zcu"
   },
   "outputs": [
    {
     "data": {
      "text/plain": [
       "genre\n",
       "pop            256\n",
       "electronic     216\n",
       "rock           216\n",
       "dance          210\n",
       "hiphop          97\n",
       "alternative     63\n",
       "jazz            61\n",
       "classical       60\n",
       "rusrap          59\n",
       "world           54\n",
       "Name: genre, dtype: int64"
      ]
     },
     "execution_count": 34,
     "metadata": {},
     "output_type": "execute_result"
    }
   ],
   "source": [
    "# вызов функции для вечера пятницы в Петербурге\n",
    "genre_weekday(spb_general, 'Friday', '17:00', '23:00')"
   ]
  },
  {
   "cell_type": "markdown",
   "metadata": {
    "deletable": false,
    "editable": false,
    "id": "wrCe4MNX_Zcu"
   },
   "source": [
    "**Выводы**\n",
    "\n",
    "Если сравнить топ-10 жанров в понедельник утром, можно сделать такие выводы:\n",
    "\n",
    "1. В Москве и Петербурге слушают похожую музыку. Единственное отличие — в московский рейтинг вошёл жанр “world”, а в петербургский — джаз и классика.\n",
    "\n",
    "2. В Москве пропущенных значений оказалось так много, что значение `'unknown'` заняло десятое место среди самых популярных жанров. Значит, пропущенные значения занимают существенную долю в данных и угрожают достоверности исследования.\n",
    "\n",
    "Вечер пятницы не меняет эту картину. Некоторые жанры поднимаются немного выше, другие спускаются, но в целом топ-10 остаётся тем же самым.\n",
    "\n",
    "Таким образом, вторая гипотеза подтвердилась лишь частично:\n",
    "* Пользователи слушают похожую музыку в начале недели и в конце.\n",
    "* Разница между Москвой и Петербургом не слишком выражена. В Москве чаще слушают русскую популярную музыку, в Петербурге — джаз.\n",
    "\n",
    "Однако пропуски в данных ставят под сомнение этот результат. В Москве их так много, что рейтинг топ-10 мог бы выглядеть иначе, если бы не утерянные  данные о жанрах."
   ]
  },
  {
   "cell_type": "markdown",
   "metadata": {
    "deletable": false,
    "editable": false,
    "id": "JolODAqr_Zcu"
   },
   "source": [
    "### Жанровые предпочтения в Москве и Петербурге\n",
    "\n",
    "Гипотеза: Петербург — столица рэпа, музыку этого жанра там слушают чаще, чем в Москве.  А Москва — город контрастов, в котором, тем не менее, преобладает поп-музыка."
   ]
  },
  {
   "cell_type": "markdown",
   "metadata": {
    "deletable": false,
    "editable": false,
    "id": "DlegSvaT_Zcu",
    "tags": [
     "start_task"
    ]
   },
   "source": [
    "**Задание 26**\n",
    "\n",
    "Сгруппируйте таблицу `moscow_general` по жанру и посчитайте прослушивания треков каждого жанра методом `count()`. Затем отсортируйте результат в порядке убывания и сохраните его в таблице `moscow_genres`."
   ]
  },
  {
   "cell_type": "code",
   "execution_count": 35,
   "metadata": {
    "deletable": false,
    "id": "r19lIPke_Zcu"
   },
   "outputs": [],
   "source": [
    "# одной строкой: группировка таблицы moscow_general по столбцу 'genre', \n",
    "# подсчёт числа значений 'genre' в этой группировке методом count(), \n",
    "# сортировка получившегося Series в порядке убывания и сохранение в moscow_genres\n",
    "moscow_general_groupby = moscow_general.groupby('genre')['genre'].count()\n",
    "moscow_genres = moscow_general_groupby.sort_values(ascending = False)"
   ]
  },
  {
   "cell_type": "markdown",
   "metadata": {
    "deletable": false,
    "editable": false,
    "id": "6kMuomxTiIr8",
    "tags": [
     "start_task"
    ]
   },
   "source": [
    "**Задание 27**\n",
    "\n",
    "Выведите на экран первые десять строк `moscow_genres`:"
   ]
  },
  {
   "cell_type": "code",
   "execution_count": 36,
   "metadata": {
    "deletable": false,
    "id": "WhCSooF8_Zcv"
   },
   "outputs": [
    {
     "data": {
      "text/plain": [
       "genre\n",
       "pop            5892\n",
       "dance          4435\n",
       "rock           3965\n",
       "electronic     3786\n",
       "hiphop         2096\n",
       "classical      1616\n",
       "world          1432\n",
       "alternative    1379\n",
       "ruspop         1372\n",
       "rusrap         1161\n",
       "Name: genre, dtype: int64"
      ]
     },
     "execution_count": 36,
     "metadata": {},
     "output_type": "execute_result"
    }
   ],
   "source": [
    "# просмотр первых 10 строк moscow_genres\n",
    "moscow_genres.head(10)"
   ]
  },
  {
   "cell_type": "markdown",
   "metadata": {
    "deletable": false,
    "editable": false,
    "id": "cnPG2vnN_Zcv",
    "tags": [
     "start_task"
    ]
   },
   "source": [
    "**Задание 28**\n",
    "\n",
    "\n",
    "Теперь повторите то же и для Петербурга.\n",
    "\n",
    "Сгруппируйте таблицу `spb_general` по жанру. Посчитайте прослушивания треков каждого жанра. Результат отсортируйте в порядке убывания и сохраните в таблице `spb_genres`:\n"
   ]
  },
  {
   "cell_type": "code",
   "execution_count": 37,
   "metadata": {
    "deletable": false,
    "id": "gluLIpE7_Zcv"
   },
   "outputs": [],
   "source": [
    "# одной строкой: группировка таблицы spb_general по столбцу 'genre', \n",
    "# подсчёт числа значений 'genre' в этой группировке методом count(), \n",
    "# сортировка получившегося Series в порядке убывания и сохранение в spb_genres\n",
    "spb_general_groupby = spb_general.groupby('genre')['genre'].count()\n",
    "spb_genres = spb_general_groupby.sort_values(ascending = False)"
   ]
  },
  {
   "cell_type": "markdown",
   "metadata": {
    "deletable": false,
    "editable": false,
    "id": "5Doha_ODgyQ8",
    "tags": [
     "start_task"
    ]
   },
   "source": [
    "**Задание 29**\n",
    "\n",
    "Выведите на экран первые десять строк `spb_genres`:"
   ]
  },
  {
   "cell_type": "code",
   "execution_count": 38,
   "metadata": {
    "deletable": false,
    "id": "uaGJHjVU_Zcv"
   },
   "outputs": [
    {
     "data": {
      "text/plain": [
       "genre\n",
       "pop            2431\n",
       "dance          1932\n",
       "rock           1879\n",
       "electronic     1736\n",
       "hiphop          960\n",
       "alternative     649\n",
       "classical       646\n",
       "rusrap          564\n",
       "ruspop          538\n",
       "world           515\n",
       "Name: genre, dtype: int64"
      ]
     },
     "execution_count": 38,
     "metadata": {},
     "output_type": "execute_result"
    }
   ],
   "source": [
    "# просмотр первых 10 строк spb_genres\n",
    "spb_genres.head(10)"
   ]
  },
  {
   "cell_type": "markdown",
   "metadata": {
    "deletable": false,
    "editable": false,
    "id": "RY51YJYu_Zcv"
   },
   "source": [
    "**Выводы**"
   ]
  },
  {
   "cell_type": "markdown",
   "metadata": {
    "deletable": false,
    "editable": false,
    "id": "nVhnJEm__Zcv"
   },
   "source": [
    "Гипотеза частично подтвердилась:\n",
    "* Поп-музыка — самый популярный жанр в Москве, как и предполагала гипотеза. Более того, в топ-10 жанров встречается близкий жанр — русская популярная музыка.\n",
    "* Вопреки ожиданиям, рэп одинаково популярен в Москве и Петербурге. \n"
   ]
  },
  {
   "cell_type": "markdown",
   "metadata": {
    "deletable": false,
    "editable": false,
    "id": "ykKQ0N65_Zcv"
   },
   "source": [
    "## Итоги исследования"
   ]
  },
  {
   "cell_type": "markdown",
   "metadata": {
    "deletable": false,
    "editable": false,
    "id": "tjUwbHb3_Zcv"
   },
   "source": [
    "Вы проверили три гипотезы и установили:\n",
    "\n",
    "1. День недели по-разному влияет на активность пользователей в Москве и Петербурге. \n",
    "\n",
    "Первая гипотеза полностью подтвердилась.\n",
    "\n",
    "2. Музыкальные предпочтения не сильно меняются в течение недели — будь то Москва или Петербург. Небольшие различия заметны в начале недели, по понедельникам:\n",
    "* в Москве слушают музыку жанра “world”,\n",
    "* в Петербурге — джаз и классику.\n",
    "\n",
    "Таким образом, вторая гипотеза подтвердилась лишь отчасти. Этот результат мог оказаться иным, если бы не пропуски в данных.\n",
    "\n",
    "3. Во вкусах пользователей Москвы и Петербурга больше общего чем различий. Вопреки ожиданиям, предпочтения жанров в Петербурге напоминают московские.\n",
    "\n",
    "Третья гипотеза не подтвердилась. Если различия в предпочтениях и существуют, на основной массе пользователей они незаметны.\n",
    "\n",
    "**На практике исследования содержат проверки статистических гипотез.**\n",
    "Из данных одного сервиса не всегда можно сделать вывод о всех жителях города.\n",
    "Проверки статистических гипотез покажут, насколько они достоверны, исходя из имеющихся данных. \n",
    "С методами проверок гипотез вы ещё познакомитесь в следующих темах."
   ]
  }
 ],
 "metadata": {
  "ExecuteTimeLog": [
   {
    "duration": 416,
    "start_time": "2022-11-20T09:12:05.668Z"
   },
   {
    "duration": 77,
    "start_time": "2022-11-20T09:15:13.661Z"
   },
   {
    "duration": 7,
    "start_time": "2022-11-20T09:15:57.710Z"
   },
   {
    "duration": 7,
    "start_time": "2022-11-20T09:16:42.613Z"
   },
   {
    "duration": 10,
    "start_time": "2022-11-20T09:16:44.879Z"
   },
   {
    "duration": 9,
    "start_time": "2022-11-20T09:25:19.809Z"
   },
   {
    "duration": 3,
    "start_time": "2022-11-20T09:25:36.582Z"
   },
   {
    "duration": 278,
    "start_time": "2022-11-20T09:25:36.587Z"
   },
   {
    "duration": 20,
    "start_time": "2022-11-20T09:25:36.866Z"
   },
   {
    "duration": 32,
    "start_time": "2022-11-20T09:25:36.888Z"
   },
   {
    "duration": 4,
    "start_time": "2022-11-20T09:25:36.922Z"
   },
   {
    "duration": 7,
    "start_time": "2022-11-20T09:25:36.928Z"
   },
   {
    "duration": 31,
    "start_time": "2022-11-20T09:25:36.937Z"
   },
   {
    "duration": 15,
    "start_time": "2022-11-20T09:25:36.973Z"
   },
   {
    "duration": 29,
    "start_time": "2022-11-20T09:25:36.990Z"
   },
   {
    "duration": 8,
    "start_time": "2022-11-20T09:25:37.022Z"
   },
   {
    "duration": 6,
    "start_time": "2022-11-20T09:25:37.032Z"
   },
   {
    "duration": 46,
    "start_time": "2022-11-20T09:25:37.039Z"
   },
   {
    "duration": 13,
    "start_time": "2022-11-20T09:25:37.087Z"
   },
   {
    "duration": 3,
    "start_time": "2022-11-20T09:25:37.106Z"
   },
   {
    "duration": 7,
    "start_time": "2022-11-20T09:25:37.111Z"
   },
   {
    "duration": 8,
    "start_time": "2022-11-20T09:25:37.120Z"
   },
   {
    "duration": 5,
    "start_time": "2022-11-20T09:25:37.130Z"
   },
   {
    "duration": 7,
    "start_time": "2022-11-20T09:25:37.137Z"
   },
   {
    "duration": 6,
    "start_time": "2022-11-20T09:25:37.146Z"
   },
   {
    "duration": 14,
    "start_time": "2022-11-20T09:25:37.153Z"
   },
   {
    "duration": 11,
    "start_time": "2022-11-20T09:25:37.173Z"
   },
   {
    "duration": 5,
    "start_time": "2022-11-20T09:25:37.186Z"
   },
   {
    "duration": 8,
    "start_time": "2022-11-20T09:25:37.192Z"
   },
   {
    "duration": 6,
    "start_time": "2022-11-20T09:25:37.202Z"
   },
   {
    "duration": 6,
    "start_time": "2022-11-20T09:25:37.210Z"
   },
   {
    "duration": 11,
    "start_time": "2022-11-20T09:25:37.217Z"
   },
   {
    "duration": 4,
    "start_time": "2022-11-20T09:25:37.230Z"
   },
   {
    "duration": 5,
    "start_time": "2022-11-20T09:25:37.236Z"
   },
   {
    "duration": 15,
    "start_time": "2022-11-20T09:25:37.243Z"
   },
   {
    "duration": 55,
    "start_time": "2022-11-20T09:25:37.259Z"
   },
   {
    "duration": 0,
    "start_time": "2022-11-20T09:25:37.316Z"
   },
   {
    "duration": 0,
    "start_time": "2022-11-20T09:25:37.320Z"
   },
   {
    "duration": 0,
    "start_time": "2022-11-20T09:25:37.322Z"
   },
   {
    "duration": 0,
    "start_time": "2022-11-20T09:25:37.323Z"
   },
   {
    "duration": 0,
    "start_time": "2022-11-20T09:25:37.324Z"
   },
   {
    "duration": 0,
    "start_time": "2022-11-20T09:25:37.326Z"
   },
   {
    "duration": 0,
    "start_time": "2022-11-20T09:25:37.327Z"
   },
   {
    "duration": 0,
    "start_time": "2022-11-20T09:25:37.328Z"
   },
   {
    "duration": 16,
    "start_time": "2022-11-20T09:28:35.094Z"
   },
   {
    "duration": 57,
    "start_time": "2022-11-20T09:29:12.186Z"
   },
   {
    "duration": 30,
    "start_time": "2022-11-20T09:36:16.179Z"
   },
   {
    "duration": 26,
    "start_time": "2022-11-20T09:36:36.103Z"
   },
   {
    "duration": 3,
    "start_time": "2022-11-20T09:39:24.280Z"
   },
   {
    "duration": 207,
    "start_time": "2022-11-20T09:39:24.285Z"
   },
   {
    "duration": 13,
    "start_time": "2022-11-20T09:39:24.494Z"
   },
   {
    "duration": 65,
    "start_time": "2022-11-20T09:39:24.508Z"
   },
   {
    "duration": 14,
    "start_time": "2022-11-20T09:39:24.576Z"
   },
   {
    "duration": 27,
    "start_time": "2022-11-20T09:39:24.593Z"
   },
   {
    "duration": 20,
    "start_time": "2022-11-20T09:39:24.622Z"
   },
   {
    "duration": 16,
    "start_time": "2022-11-20T09:39:24.645Z"
   },
   {
    "duration": 61,
    "start_time": "2022-11-20T09:39:24.663Z"
   },
   {
    "duration": 41,
    "start_time": "2022-11-20T09:39:24.726Z"
   },
   {
    "duration": 48,
    "start_time": "2022-11-20T09:39:24.774Z"
   },
   {
    "duration": 2,
    "start_time": "2022-11-20T09:39:35.572Z"
   },
   {
    "duration": 180,
    "start_time": "2022-11-20T09:39:35.576Z"
   },
   {
    "duration": 13,
    "start_time": "2022-11-20T09:39:35.762Z"
   },
   {
    "duration": 35,
    "start_time": "2022-11-20T09:39:35.777Z"
   },
   {
    "duration": 2,
    "start_time": "2022-11-20T09:39:35.814Z"
   },
   {
    "duration": 6,
    "start_time": "2022-11-20T09:39:35.818Z"
   },
   {
    "duration": 31,
    "start_time": "2022-11-20T09:39:35.826Z"
   },
   {
    "duration": 4,
    "start_time": "2022-11-20T09:39:35.868Z"
   },
   {
    "duration": 29,
    "start_time": "2022-11-20T09:39:35.875Z"
   },
   {
    "duration": 21,
    "start_time": "2022-11-20T09:39:35.906Z"
   },
   {
    "duration": 45,
    "start_time": "2022-11-20T09:39:35.928Z"
   },
   {
    "duration": 12,
    "start_time": "2022-11-20T09:39:45.498Z"
   },
   {
    "duration": 191,
    "start_time": "2022-11-20T09:39:45.513Z"
   },
   {
    "duration": 12,
    "start_time": "2022-11-20T09:39:45.706Z"
   },
   {
    "duration": 64,
    "start_time": "2022-11-20T09:39:45.721Z"
   },
   {
    "duration": 26,
    "start_time": "2022-11-20T09:39:45.787Z"
   },
   {
    "duration": 34,
    "start_time": "2022-11-20T09:39:45.814Z"
   },
   {
    "duration": 41,
    "start_time": "2022-11-20T09:39:45.850Z"
   },
   {
    "duration": 36,
    "start_time": "2022-11-20T09:39:45.893Z"
   },
   {
    "duration": 66,
    "start_time": "2022-11-20T09:39:45.931Z"
   },
   {
    "duration": 45,
    "start_time": "2022-11-20T09:39:46.000Z"
   },
   {
    "duration": 62,
    "start_time": "2022-11-20T09:39:46.047Z"
   },
   {
    "duration": 85,
    "start_time": "2022-11-20T09:39:46.110Z"
   },
   {
    "duration": 3,
    "start_time": "2022-11-20T09:41:03.497Z"
   },
   {
    "duration": 194,
    "start_time": "2022-11-20T09:41:03.502Z"
   },
   {
    "duration": 15,
    "start_time": "2022-11-20T09:41:03.699Z"
   },
   {
    "duration": 62,
    "start_time": "2022-11-20T09:41:03.717Z"
   },
   {
    "duration": 3,
    "start_time": "2022-11-20T09:41:03.780Z"
   },
   {
    "duration": 8,
    "start_time": "2022-11-20T09:41:03.786Z"
   },
   {
    "duration": 12,
    "start_time": "2022-11-20T09:41:03.795Z"
   },
   {
    "duration": 6,
    "start_time": "2022-11-20T09:41:03.809Z"
   },
   {
    "duration": 38,
    "start_time": "2022-11-20T09:41:03.817Z"
   },
   {
    "duration": 28,
    "start_time": "2022-11-20T09:41:03.858Z"
   },
   {
    "duration": 44,
    "start_time": "2022-11-20T09:41:03.889Z"
   },
   {
    "duration": 99,
    "start_time": "2022-11-20T09:41:03.937Z"
   },
   {
    "duration": 3,
    "start_time": "2022-11-20T09:42:00.034Z"
   },
   {
    "duration": 207,
    "start_time": "2022-11-20T09:42:00.039Z"
   },
   {
    "duration": 17,
    "start_time": "2022-11-20T09:42:00.249Z"
   },
   {
    "duration": 63,
    "start_time": "2022-11-20T09:42:00.268Z"
   },
   {
    "duration": 19,
    "start_time": "2022-11-20T09:42:00.334Z"
   },
   {
    "duration": 38,
    "start_time": "2022-11-20T09:42:00.357Z"
   },
   {
    "duration": 28,
    "start_time": "2022-11-20T09:42:00.397Z"
   },
   {
    "duration": 38,
    "start_time": "2022-11-20T09:42:00.427Z"
   },
   {
    "duration": 47,
    "start_time": "2022-11-20T09:42:00.469Z"
   },
   {
    "duration": 44,
    "start_time": "2022-11-20T09:42:00.517Z"
   },
   {
    "duration": 52,
    "start_time": "2022-11-20T09:42:00.564Z"
   },
   {
    "duration": 97,
    "start_time": "2022-11-20T09:42:00.618Z"
   },
   {
    "duration": 96,
    "start_time": "2022-11-20T09:42:00.717Z"
   },
   {
    "duration": 3,
    "start_time": "2022-11-20T09:42:48.537Z"
   },
   {
    "duration": 182,
    "start_time": "2022-11-20T09:42:48.543Z"
   },
   {
    "duration": 11,
    "start_time": "2022-11-20T09:42:48.727Z"
   },
   {
    "duration": 53,
    "start_time": "2022-11-20T09:42:48.741Z"
   },
   {
    "duration": 4,
    "start_time": "2022-11-20T09:42:48.796Z"
   },
   {
    "duration": 10,
    "start_time": "2022-11-20T09:42:48.801Z"
   },
   {
    "duration": 10,
    "start_time": "2022-11-20T09:42:48.813Z"
   },
   {
    "duration": 5,
    "start_time": "2022-11-20T09:42:48.825Z"
   },
   {
    "duration": 33,
    "start_time": "2022-11-20T09:42:48.859Z"
   },
   {
    "duration": 19,
    "start_time": "2022-11-20T09:42:48.894Z"
   },
   {
    "duration": 41,
    "start_time": "2022-11-20T09:42:48.915Z"
   },
   {
    "duration": 80,
    "start_time": "2022-11-20T09:42:48.962Z"
   },
   {
    "duration": 93,
    "start_time": "2022-11-20T09:42:49.056Z"
   },
   {
    "duration": 18,
    "start_time": "2022-11-20T09:42:49.151Z"
   },
   {
    "duration": 3,
    "start_time": "2022-11-20T09:43:00.070Z"
   },
   {
    "duration": 226,
    "start_time": "2022-11-20T09:43:00.076Z"
   },
   {
    "duration": 11,
    "start_time": "2022-11-20T09:43:00.304Z"
   },
   {
    "duration": 50,
    "start_time": "2022-11-20T09:43:00.317Z"
   },
   {
    "duration": 23,
    "start_time": "2022-11-20T09:43:00.370Z"
   },
   {
    "duration": 33,
    "start_time": "2022-11-20T09:43:00.395Z"
   },
   {
    "duration": 54,
    "start_time": "2022-11-20T09:43:00.430Z"
   },
   {
    "duration": 22,
    "start_time": "2022-11-20T09:43:00.487Z"
   },
   {
    "duration": 63,
    "start_time": "2022-11-20T09:43:00.511Z"
   },
   {
    "duration": 55,
    "start_time": "2022-11-20T09:43:00.578Z"
   },
   {
    "duration": 46,
    "start_time": "2022-11-20T09:43:00.635Z"
   },
   {
    "duration": 90,
    "start_time": "2022-11-20T09:43:00.684Z"
   },
   {
    "duration": 132,
    "start_time": "2022-11-20T09:43:00.776Z"
   },
   {
    "duration": 10,
    "start_time": "2022-11-20T09:43:00.911Z"
   },
   {
    "duration": 3,
    "start_time": "2022-11-20T09:43:22.002Z"
   },
   {
    "duration": 211,
    "start_time": "2022-11-20T09:43:22.007Z"
   },
   {
    "duration": 12,
    "start_time": "2022-11-20T09:43:22.219Z"
   },
   {
    "duration": 66,
    "start_time": "2022-11-20T09:43:22.233Z"
   },
   {
    "duration": 2,
    "start_time": "2022-11-20T09:43:22.302Z"
   },
   {
    "duration": 8,
    "start_time": "2022-11-20T09:43:22.306Z"
   },
   {
    "duration": 13,
    "start_time": "2022-11-20T09:43:22.316Z"
   },
   {
    "duration": 5,
    "start_time": "2022-11-20T09:43:22.330Z"
   },
   {
    "duration": 46,
    "start_time": "2022-11-20T09:43:22.354Z"
   },
   {
    "duration": 19,
    "start_time": "2022-11-20T09:43:22.402Z"
   },
   {
    "duration": 67,
    "start_time": "2022-11-20T09:43:22.423Z"
   },
   {
    "duration": 70,
    "start_time": "2022-11-20T09:43:22.492Z"
   },
   {
    "duration": 94,
    "start_time": "2022-11-20T09:43:22.564Z"
   },
   {
    "duration": 75,
    "start_time": "2022-11-20T09:43:22.661Z"
   },
   {
    "duration": 3,
    "start_time": "2022-11-20T09:44:06.600Z"
   },
   {
    "duration": 223,
    "start_time": "2022-11-20T09:44:06.604Z"
   },
   {
    "duration": 11,
    "start_time": "2022-11-20T09:44:06.829Z"
   },
   {
    "duration": 98,
    "start_time": "2022-11-20T09:44:06.843Z"
   },
   {
    "duration": 53,
    "start_time": "2022-11-20T09:44:06.943Z"
   },
   {
    "duration": 34,
    "start_time": "2022-11-20T09:44:06.998Z"
   },
   {
    "duration": 60,
    "start_time": "2022-11-20T09:44:07.034Z"
   },
   {
    "duration": 23,
    "start_time": "2022-11-20T09:44:07.095Z"
   },
   {
    "duration": 71,
    "start_time": "2022-11-20T09:44:07.121Z"
   },
   {
    "duration": 30,
    "start_time": "2022-11-20T09:44:07.195Z"
   },
   {
    "duration": 31,
    "start_time": "2022-11-20T09:44:07.227Z"
   },
   {
    "duration": 109,
    "start_time": "2022-11-20T09:44:07.260Z"
   },
   {
    "duration": 95,
    "start_time": "2022-11-20T09:44:07.373Z"
   },
   {
    "duration": 4,
    "start_time": "2022-11-20T09:44:24.334Z"
   },
   {
    "duration": 269,
    "start_time": "2022-11-20T09:44:24.340Z"
   },
   {
    "duration": 15,
    "start_time": "2022-11-20T09:44:24.611Z"
   },
   {
    "duration": 63,
    "start_time": "2022-11-20T09:44:24.629Z"
   },
   {
    "duration": 11,
    "start_time": "2022-11-20T09:44:24.695Z"
   },
   {
    "duration": 10,
    "start_time": "2022-11-20T09:44:24.708Z"
   },
   {
    "duration": 13,
    "start_time": "2022-11-20T09:44:24.721Z"
   },
   {
    "duration": 9,
    "start_time": "2022-11-20T09:44:24.736Z"
   },
   {
    "duration": 79,
    "start_time": "2022-11-20T09:44:24.747Z"
   },
   {
    "duration": 28,
    "start_time": "2022-11-20T09:44:24.830Z"
   },
   {
    "duration": 77,
    "start_time": "2022-11-20T09:44:24.866Z"
   },
   {
    "duration": 98,
    "start_time": "2022-11-20T09:44:24.946Z"
   },
   {
    "duration": 90,
    "start_time": "2022-11-20T09:44:25.046Z"
   },
   {
    "duration": 88,
    "start_time": "2022-11-20T09:44:25.138Z"
   },
   {
    "duration": 3,
    "start_time": "2022-11-20T09:44:25.228Z"
   },
   {
    "duration": 5,
    "start_time": "2022-11-20T09:44:25.233Z"
   },
   {
    "duration": 20,
    "start_time": "2022-11-20T09:44:25.240Z"
   },
   {
    "duration": 27,
    "start_time": "2022-11-20T09:44:25.264Z"
   },
   {
    "duration": 5,
    "start_time": "2022-11-20T09:44:25.293Z"
   },
   {
    "duration": 6,
    "start_time": "2022-11-20T09:44:25.299Z"
   },
   {
    "duration": 8,
    "start_time": "2022-11-20T09:44:25.307Z"
   },
   {
    "duration": 5,
    "start_time": "2022-11-20T09:44:25.316Z"
   },
   {
    "duration": 7,
    "start_time": "2022-11-20T09:44:25.323Z"
   },
   {
    "duration": 9,
    "start_time": "2022-11-20T09:44:25.332Z"
   },
   {
    "duration": 8,
    "start_time": "2022-11-20T09:44:25.343Z"
   },
   {
    "duration": 36,
    "start_time": "2022-11-20T09:44:25.353Z"
   },
   {
    "duration": 5,
    "start_time": "2022-11-20T09:44:25.391Z"
   },
   {
    "duration": 3,
    "start_time": "2022-11-20T09:44:25.400Z"
   },
   {
    "duration": 7,
    "start_time": "2022-11-20T09:44:25.405Z"
   },
   {
    "duration": 53,
    "start_time": "2022-11-20T09:44:25.414Z"
   },
   {
    "duration": 0,
    "start_time": "2022-11-20T09:44:25.471Z"
   },
   {
    "duration": 0,
    "start_time": "2022-11-20T09:44:25.475Z"
   },
   {
    "duration": 0,
    "start_time": "2022-11-20T09:44:25.478Z"
   },
   {
    "duration": 0,
    "start_time": "2022-11-20T09:44:25.484Z"
   },
   {
    "duration": 0,
    "start_time": "2022-11-20T09:44:25.486Z"
   },
   {
    "duration": 0,
    "start_time": "2022-11-20T09:44:25.488Z"
   },
   {
    "duration": 1,
    "start_time": "2022-11-20T09:44:25.489Z"
   },
   {
    "duration": 0,
    "start_time": "2022-11-20T09:44:25.491Z"
   },
   {
    "duration": 91,
    "start_time": "2022-11-20T09:45:19.878Z"
   },
   {
    "duration": 4,
    "start_time": "2022-11-20T09:45:24.820Z"
   },
   {
    "duration": 289,
    "start_time": "2022-11-20T09:45:24.829Z"
   },
   {
    "duration": 11,
    "start_time": "2022-11-20T09:45:25.120Z"
   },
   {
    "duration": 88,
    "start_time": "2022-11-20T09:45:25.133Z"
   },
   {
    "duration": 3,
    "start_time": "2022-11-20T09:45:25.224Z"
   },
   {
    "duration": 7,
    "start_time": "2022-11-20T09:45:25.229Z"
   },
   {
    "duration": 8,
    "start_time": "2022-11-20T09:45:25.239Z"
   },
   {
    "duration": 4,
    "start_time": "2022-11-20T09:45:25.249Z"
   },
   {
    "duration": 68,
    "start_time": "2022-11-20T09:45:25.255Z"
   },
   {
    "duration": 21,
    "start_time": "2022-11-20T09:45:25.324Z"
   },
   {
    "duration": 46,
    "start_time": "2022-11-20T09:45:25.346Z"
   },
   {
    "duration": 83,
    "start_time": "2022-11-20T09:45:25.394Z"
   },
   {
    "duration": 114,
    "start_time": "2022-11-20T09:45:25.480Z"
   },
   {
    "duration": 100,
    "start_time": "2022-11-20T09:45:48.450Z"
   },
   {
    "duration": 3,
    "start_time": "2022-11-20T09:46:04.575Z"
   },
   {
    "duration": 280,
    "start_time": "2022-11-20T09:46:04.585Z"
   },
   {
    "duration": 21,
    "start_time": "2022-11-20T09:46:04.872Z"
   },
   {
    "duration": 83,
    "start_time": "2022-11-20T09:46:04.895Z"
   },
   {
    "duration": 36,
    "start_time": "2022-11-20T09:46:04.980Z"
   },
   {
    "duration": 16,
    "start_time": "2022-11-20T09:46:05.018Z"
   },
   {
    "duration": 30,
    "start_time": "2022-11-20T09:46:05.036Z"
   },
   {
    "duration": 40,
    "start_time": "2022-11-20T09:46:05.068Z"
   },
   {
    "duration": 65,
    "start_time": "2022-11-20T09:46:05.111Z"
   },
   {
    "duration": 55,
    "start_time": "2022-11-20T09:46:05.178Z"
   },
   {
    "duration": 35,
    "start_time": "2022-11-20T09:46:05.236Z"
   },
   {
    "duration": 113,
    "start_time": "2022-11-20T09:46:05.273Z"
   },
   {
    "duration": 95,
    "start_time": "2022-11-20T09:46:05.394Z"
   },
   {
    "duration": 3,
    "start_time": "2022-11-20T09:46:35.944Z"
   },
   {
    "duration": 196,
    "start_time": "2022-11-20T09:46:35.949Z"
   },
   {
    "duration": 19,
    "start_time": "2022-11-20T09:46:36.147Z"
   },
   {
    "duration": 40,
    "start_time": "2022-11-20T09:46:36.172Z"
   },
   {
    "duration": 3,
    "start_time": "2022-11-20T09:46:36.214Z"
   },
   {
    "duration": 26,
    "start_time": "2022-11-20T09:46:36.219Z"
   },
   {
    "duration": 27,
    "start_time": "2022-11-20T09:46:36.247Z"
   },
   {
    "duration": 11,
    "start_time": "2022-11-20T09:46:36.276Z"
   },
   {
    "duration": 31,
    "start_time": "2022-11-20T09:46:36.290Z"
   },
   {
    "duration": 22,
    "start_time": "2022-11-20T09:46:36.323Z"
   },
   {
    "duration": 39,
    "start_time": "2022-11-20T09:46:36.347Z"
   },
   {
    "duration": 98,
    "start_time": "2022-11-20T09:46:36.387Z"
   },
   {
    "duration": 89,
    "start_time": "2022-11-20T09:46:36.487Z"
   },
   {
    "duration": 64,
    "start_time": "2022-11-20T09:46:36.577Z"
   },
   {
    "duration": 17,
    "start_time": "2022-11-20T09:46:36.643Z"
   },
   {
    "duration": 44,
    "start_time": "2022-11-20T09:46:36.662Z"
   },
   {
    "duration": 27,
    "start_time": "2022-11-20T09:46:36.708Z"
   },
   {
    "duration": 19,
    "start_time": "2022-11-20T09:46:36.737Z"
   },
   {
    "duration": 21,
    "start_time": "2022-11-20T09:46:36.759Z"
   },
   {
    "duration": 29,
    "start_time": "2022-11-20T09:46:36.782Z"
   },
   {
    "duration": 8,
    "start_time": "2022-11-20T09:46:36.812Z"
   },
   {
    "duration": 5,
    "start_time": "2022-11-20T09:46:36.822Z"
   },
   {
    "duration": 6,
    "start_time": "2022-11-20T09:46:36.829Z"
   },
   {
    "duration": 4,
    "start_time": "2022-11-20T09:46:36.838Z"
   },
   {
    "duration": 8,
    "start_time": "2022-11-20T09:46:36.844Z"
   },
   {
    "duration": 26,
    "start_time": "2022-11-20T09:46:36.853Z"
   },
   {
    "duration": 5,
    "start_time": "2022-11-20T09:46:36.882Z"
   },
   {
    "duration": 5,
    "start_time": "2022-11-20T09:46:36.889Z"
   },
   {
    "duration": 6,
    "start_time": "2022-11-20T09:46:36.896Z"
   },
   {
    "duration": 52,
    "start_time": "2022-11-20T09:46:36.904Z"
   },
   {
    "duration": 0,
    "start_time": "2022-11-20T09:46:36.958Z"
   },
   {
    "duration": 0,
    "start_time": "2022-11-20T09:46:36.959Z"
   },
   {
    "duration": 0,
    "start_time": "2022-11-20T09:46:36.960Z"
   },
   {
    "duration": 0,
    "start_time": "2022-11-20T09:46:36.961Z"
   },
   {
    "duration": 0,
    "start_time": "2022-11-20T09:46:36.963Z"
   },
   {
    "duration": 0,
    "start_time": "2022-11-20T09:46:36.964Z"
   },
   {
    "duration": 0,
    "start_time": "2022-11-20T09:46:36.965Z"
   },
   {
    "duration": 0,
    "start_time": "2022-11-20T09:46:36.967Z"
   },
   {
    "duration": 3,
    "start_time": "2022-11-20T09:46:52.600Z"
   },
   {
    "duration": 243,
    "start_time": "2022-11-20T09:46:52.605Z"
   },
   {
    "duration": 19,
    "start_time": "2022-11-20T09:46:52.850Z"
   },
   {
    "duration": 53,
    "start_time": "2022-11-20T09:46:52.875Z"
   },
   {
    "duration": 43,
    "start_time": "2022-11-20T09:46:52.930Z"
   },
   {
    "duration": 52,
    "start_time": "2022-11-20T09:46:52.977Z"
   },
   {
    "duration": 72,
    "start_time": "2022-11-20T09:46:53.031Z"
   },
   {
    "duration": 34,
    "start_time": "2022-11-20T09:46:53.105Z"
   },
   {
    "duration": 59,
    "start_time": "2022-11-20T09:46:53.141Z"
   },
   {
    "duration": 48,
    "start_time": "2022-11-20T09:46:53.202Z"
   },
   {
    "duration": 57,
    "start_time": "2022-11-20T09:46:53.252Z"
   },
   {
    "duration": 91,
    "start_time": "2022-11-20T09:46:53.311Z"
   },
   {
    "duration": 3,
    "start_time": "2022-11-20T09:46:58.119Z"
   },
   {
    "duration": 216,
    "start_time": "2022-11-20T09:46:58.125Z"
   },
   {
    "duration": 24,
    "start_time": "2022-11-20T09:46:58.343Z"
   },
   {
    "duration": 52,
    "start_time": "2022-11-20T09:46:58.369Z"
   },
   {
    "duration": 7,
    "start_time": "2022-11-20T09:46:58.423Z"
   },
   {
    "duration": 9,
    "start_time": "2022-11-20T09:46:58.432Z"
   },
   {
    "duration": 15,
    "start_time": "2022-11-20T09:46:58.443Z"
   },
   {
    "duration": 25,
    "start_time": "2022-11-20T09:46:58.459Z"
   },
   {
    "duration": 35,
    "start_time": "2022-11-20T09:46:58.486Z"
   },
   {
    "duration": 23,
    "start_time": "2022-11-20T09:46:58.524Z"
   },
   {
    "duration": 38,
    "start_time": "2022-11-20T09:46:58.549Z"
   },
   {
    "duration": 86,
    "start_time": "2022-11-20T09:46:58.589Z"
   },
   {
    "duration": 93,
    "start_time": "2022-11-20T09:46:58.677Z"
   },
   {
    "duration": 3,
    "start_time": "2022-11-20T09:50:21.744Z"
   },
   {
    "duration": 345,
    "start_time": "2022-11-20T09:50:21.751Z"
   },
   {
    "duration": 18,
    "start_time": "2022-11-20T09:50:22.099Z"
   },
   {
    "duration": 97,
    "start_time": "2022-11-20T09:50:22.120Z"
   },
   {
    "duration": 40,
    "start_time": "2022-11-20T09:50:22.219Z"
   },
   {
    "duration": 14,
    "start_time": "2022-11-20T09:50:22.260Z"
   },
   {
    "duration": 23,
    "start_time": "2022-11-20T09:50:22.276Z"
   },
   {
    "duration": 10,
    "start_time": "2022-11-20T09:50:22.302Z"
   },
   {
    "duration": 47,
    "start_time": "2022-11-20T09:50:22.315Z"
   },
   {
    "duration": 53,
    "start_time": "2022-11-20T09:50:22.367Z"
   },
   {
    "duration": 54,
    "start_time": "2022-11-20T09:50:22.422Z"
   },
   {
    "duration": 120,
    "start_time": "2022-11-20T09:50:22.486Z"
   },
   {
    "duration": 127,
    "start_time": "2022-11-20T09:50:22.609Z"
   },
   {
    "duration": 107,
    "start_time": "2022-11-20T09:50:22.738Z"
   },
   {
    "duration": 4,
    "start_time": "2022-11-20T09:54:02.430Z"
   },
   {
    "duration": 216,
    "start_time": "2022-11-20T09:54:02.436Z"
   },
   {
    "duration": 18,
    "start_time": "2022-11-20T09:54:02.654Z"
   },
   {
    "duration": 49,
    "start_time": "2022-11-20T09:54:02.674Z"
   },
   {
    "duration": 3,
    "start_time": "2022-11-20T09:54:02.725Z"
   },
   {
    "duration": 11,
    "start_time": "2022-11-20T09:54:02.730Z"
   },
   {
    "duration": 18,
    "start_time": "2022-11-20T09:54:02.743Z"
   },
   {
    "duration": 25,
    "start_time": "2022-11-20T09:54:02.765Z"
   },
   {
    "duration": 29,
    "start_time": "2022-11-20T09:54:02.792Z"
   },
   {
    "duration": 41,
    "start_time": "2022-11-20T09:54:02.824Z"
   },
   {
    "duration": 43,
    "start_time": "2022-11-20T09:54:02.868Z"
   },
   {
    "duration": 103,
    "start_time": "2022-11-20T09:54:02.913Z"
   },
   {
    "duration": 115,
    "start_time": "2022-11-20T09:54:03.018Z"
   },
   {
    "duration": 4,
    "start_time": "2022-11-20T09:54:15.334Z"
   },
   {
    "duration": 268,
    "start_time": "2022-11-20T09:54:15.341Z"
   },
   {
    "duration": 12,
    "start_time": "2022-11-20T09:54:15.612Z"
   },
   {
    "duration": 67,
    "start_time": "2022-11-20T09:54:15.628Z"
   },
   {
    "duration": 8,
    "start_time": "2022-11-20T09:54:15.697Z"
   },
   {
    "duration": 13,
    "start_time": "2022-11-20T09:54:15.707Z"
   },
   {
    "duration": 20,
    "start_time": "2022-11-20T09:54:15.721Z"
   },
   {
    "duration": 33,
    "start_time": "2022-11-20T09:54:15.743Z"
   },
   {
    "duration": 41,
    "start_time": "2022-11-20T09:54:15.779Z"
   },
   {
    "duration": 39,
    "start_time": "2022-11-20T09:54:15.823Z"
   },
   {
    "duration": 53,
    "start_time": "2022-11-20T09:54:15.864Z"
   },
   {
    "duration": 91,
    "start_time": "2022-11-20T09:54:15.919Z"
   },
   {
    "duration": 99,
    "start_time": "2022-11-20T09:54:16.012Z"
   },
   {
    "duration": 85,
    "start_time": "2022-11-20T09:54:16.113Z"
   },
   {
    "duration": 3,
    "start_time": "2022-11-20T09:54:37.646Z"
   },
   {
    "duration": 269,
    "start_time": "2022-11-20T09:54:37.652Z"
   },
   {
    "duration": 12,
    "start_time": "2022-11-20T09:54:37.923Z"
   },
   {
    "duration": 58,
    "start_time": "2022-11-20T09:54:37.937Z"
   },
   {
    "duration": 3,
    "start_time": "2022-11-20T09:54:37.998Z"
   },
   {
    "duration": 8,
    "start_time": "2022-11-20T09:54:38.003Z"
   },
   {
    "duration": 20,
    "start_time": "2022-11-20T09:54:38.013Z"
   },
   {
    "duration": 30,
    "start_time": "2022-11-20T09:54:38.035Z"
   },
   {
    "duration": 43,
    "start_time": "2022-11-20T09:54:38.070Z"
   },
   {
    "duration": 23,
    "start_time": "2022-11-20T09:54:38.116Z"
   },
   {
    "duration": 48,
    "start_time": "2022-11-20T09:54:38.142Z"
   },
   {
    "duration": 104,
    "start_time": "2022-11-20T09:54:38.192Z"
   },
   {
    "duration": 121,
    "start_time": "2022-11-20T09:54:38.298Z"
   },
   {
    "duration": 103,
    "start_time": "2022-11-20T09:54:38.423Z"
   },
   {
    "duration": 4,
    "start_time": "2022-11-20T09:54:52.076Z"
   },
   {
    "duration": 213,
    "start_time": "2022-11-20T09:54:52.082Z"
   },
   {
    "duration": 12,
    "start_time": "2022-11-20T09:54:52.297Z"
   },
   {
    "duration": 69,
    "start_time": "2022-11-20T09:54:52.311Z"
   },
   {
    "duration": 13,
    "start_time": "2022-11-20T09:54:52.384Z"
   },
   {
    "duration": 20,
    "start_time": "2022-11-20T09:54:52.400Z"
   },
   {
    "duration": 12,
    "start_time": "2022-11-20T09:54:52.422Z"
   },
   {
    "duration": 7,
    "start_time": "2022-11-20T09:54:52.437Z"
   },
   {
    "duration": 65,
    "start_time": "2022-11-20T09:54:52.446Z"
   },
   {
    "duration": 44,
    "start_time": "2022-11-20T09:54:52.513Z"
   },
   {
    "duration": 46,
    "start_time": "2022-11-20T09:54:52.566Z"
   },
   {
    "duration": 112,
    "start_time": "2022-11-20T09:54:52.614Z"
   },
   {
    "duration": 181,
    "start_time": "2022-11-20T09:54:52.728Z"
   },
   {
    "duration": 4,
    "start_time": "2022-11-20T09:54:56.170Z"
   },
   {
    "duration": 189,
    "start_time": "2022-11-20T09:54:56.176Z"
   },
   {
    "duration": 16,
    "start_time": "2022-11-20T09:54:56.374Z"
   },
   {
    "duration": 56,
    "start_time": "2022-11-20T09:54:56.392Z"
   },
   {
    "duration": 6,
    "start_time": "2022-11-20T09:54:56.451Z"
   },
   {
    "duration": 23,
    "start_time": "2022-11-20T09:54:56.458Z"
   },
   {
    "duration": 10,
    "start_time": "2022-11-20T09:54:56.483Z"
   },
   {
    "duration": 11,
    "start_time": "2022-11-20T09:54:56.495Z"
   },
   {
    "duration": 63,
    "start_time": "2022-11-20T09:54:56.508Z"
   },
   {
    "duration": 30,
    "start_time": "2022-11-20T09:54:56.574Z"
   },
   {
    "duration": 46,
    "start_time": "2022-11-20T09:54:56.606Z"
   },
   {
    "duration": 74,
    "start_time": "2022-11-20T09:54:56.654Z"
   },
   {
    "duration": 104,
    "start_time": "2022-11-20T09:54:56.730Z"
   },
   {
    "duration": 78,
    "start_time": "2022-11-20T09:54:56.836Z"
   },
   {
    "duration": 3,
    "start_time": "2022-11-20T09:58:17.876Z"
   },
   {
    "duration": 240,
    "start_time": "2022-11-20T09:58:17.882Z"
   },
   {
    "duration": 15,
    "start_time": "2022-11-20T09:58:18.125Z"
   },
   {
    "duration": 88,
    "start_time": "2022-11-20T09:58:18.143Z"
   },
   {
    "duration": 25,
    "start_time": "2022-11-20T09:58:18.233Z"
   },
   {
    "duration": 41,
    "start_time": "2022-11-20T09:58:18.266Z"
   },
   {
    "duration": 33,
    "start_time": "2022-11-20T09:58:18.309Z"
   },
   {
    "duration": 57,
    "start_time": "2022-11-20T09:58:18.344Z"
   },
   {
    "duration": 61,
    "start_time": "2022-11-20T09:58:18.404Z"
   },
   {
    "duration": 31,
    "start_time": "2022-11-20T09:58:18.467Z"
   },
   {
    "duration": 72,
    "start_time": "2022-11-20T09:58:18.500Z"
   },
   {
    "duration": 97,
    "start_time": "2022-11-20T09:58:18.574Z"
   },
   {
    "duration": 88,
    "start_time": "2022-11-20T09:58:18.674Z"
   },
   {
    "duration": 69,
    "start_time": "2022-11-20T09:58:18.768Z"
   },
   {
    "duration": 4,
    "start_time": "2022-11-20T09:58:36.026Z"
   },
   {
    "duration": 248,
    "start_time": "2022-11-20T09:58:36.033Z"
   },
   {
    "duration": 15,
    "start_time": "2022-11-20T09:58:36.284Z"
   },
   {
    "duration": 35,
    "start_time": "2022-11-20T09:58:36.301Z"
   },
   {
    "duration": 3,
    "start_time": "2022-11-20T09:58:36.356Z"
   },
   {
    "duration": 31,
    "start_time": "2022-11-20T09:58:36.365Z"
   },
   {
    "duration": 8,
    "start_time": "2022-11-20T09:58:36.398Z"
   },
   {
    "duration": 6,
    "start_time": "2022-11-20T09:58:36.409Z"
   },
   {
    "duration": 34,
    "start_time": "2022-11-20T09:58:36.417Z"
   },
   {
    "duration": 34,
    "start_time": "2022-11-20T09:58:36.455Z"
   },
   {
    "duration": 71,
    "start_time": "2022-11-20T09:58:36.492Z"
   },
   {
    "duration": 119,
    "start_time": "2022-11-20T09:58:36.565Z"
   },
   {
    "duration": 118,
    "start_time": "2022-11-20T09:58:36.687Z"
   },
   {
    "duration": 102,
    "start_time": "2022-11-20T09:58:36.807Z"
   },
   {
    "duration": 2,
    "start_time": "2022-11-20T09:58:36.911Z"
   },
   {
    "duration": 6,
    "start_time": "2022-11-20T09:58:36.915Z"
   },
   {
    "duration": 6,
    "start_time": "2022-11-20T09:58:36.923Z"
   },
   {
    "duration": 6,
    "start_time": "2022-11-20T09:58:36.931Z"
   },
   {
    "duration": 5,
    "start_time": "2022-11-20T09:58:36.956Z"
   },
   {
    "duration": 26,
    "start_time": "2022-11-20T09:58:36.964Z"
   },
   {
    "duration": 8,
    "start_time": "2022-11-20T09:58:36.993Z"
   },
   {
    "duration": 8,
    "start_time": "2022-11-20T09:58:37.003Z"
   },
   {
    "duration": 4,
    "start_time": "2022-11-20T09:58:37.014Z"
   },
   {
    "duration": 9,
    "start_time": "2022-11-20T09:58:37.020Z"
   },
   {
    "duration": 10,
    "start_time": "2022-11-20T09:58:37.031Z"
   },
   {
    "duration": 7,
    "start_time": "2022-11-20T09:58:37.043Z"
   },
   {
    "duration": 27,
    "start_time": "2022-11-20T09:58:37.052Z"
   },
   {
    "duration": 7,
    "start_time": "2022-11-20T09:58:37.083Z"
   },
   {
    "duration": 9,
    "start_time": "2022-11-20T09:58:37.092Z"
   },
   {
    "duration": 71,
    "start_time": "2022-11-20T09:58:37.104Z"
   },
   {
    "duration": 1,
    "start_time": "2022-11-20T09:58:37.177Z"
   },
   {
    "duration": 0,
    "start_time": "2022-11-20T09:58:37.180Z"
   },
   {
    "duration": 0,
    "start_time": "2022-11-20T09:58:37.182Z"
   },
   {
    "duration": 0,
    "start_time": "2022-11-20T09:58:37.184Z"
   },
   {
    "duration": 0,
    "start_time": "2022-11-20T09:58:37.186Z"
   },
   {
    "duration": 0,
    "start_time": "2022-11-20T09:58:37.187Z"
   },
   {
    "duration": 0,
    "start_time": "2022-11-20T09:58:37.189Z"
   },
   {
    "duration": 0,
    "start_time": "2022-11-20T09:58:37.190Z"
   },
   {
    "duration": 448,
    "start_time": "2022-11-20T10:01:10.738Z"
   },
   {
    "duration": 197,
    "start_time": "2022-11-20T10:01:11.189Z"
   },
   {
    "duration": 17,
    "start_time": "2022-11-20T10:01:11.388Z"
   },
   {
    "duration": 48,
    "start_time": "2022-11-20T10:01:11.407Z"
   },
   {
    "duration": 20,
    "start_time": "2022-11-20T10:01:11.457Z"
   },
   {
    "duration": 9,
    "start_time": "2022-11-20T10:01:11.478Z"
   },
   {
    "duration": 15,
    "start_time": "2022-11-20T10:01:11.489Z"
   },
   {
    "duration": 8,
    "start_time": "2022-11-20T10:01:11.506Z"
   },
   {
    "duration": 30,
    "start_time": "2022-11-20T10:01:11.515Z"
   },
   {
    "duration": 34,
    "start_time": "2022-11-20T10:01:11.547Z"
   },
   {
    "duration": 30,
    "start_time": "2022-11-20T10:01:11.583Z"
   },
   {
    "duration": 89,
    "start_time": "2022-11-20T10:01:11.615Z"
   },
   {
    "duration": 102,
    "start_time": "2022-11-20T10:01:11.706Z"
   },
   {
    "duration": 87,
    "start_time": "2022-11-20T10:01:11.811Z"
   },
   {
    "duration": 3,
    "start_time": "2022-11-20T10:01:11.900Z"
   },
   {
    "duration": 6,
    "start_time": "2022-11-20T10:01:11.905Z"
   },
   {
    "duration": 7,
    "start_time": "2022-11-20T10:01:11.913Z"
   },
   {
    "duration": 7,
    "start_time": "2022-11-20T10:01:11.923Z"
   },
   {
    "duration": 6,
    "start_time": "2022-11-20T10:01:11.932Z"
   },
   {
    "duration": 18,
    "start_time": "2022-11-20T10:01:11.940Z"
   },
   {
    "duration": 7,
    "start_time": "2022-11-20T10:01:11.965Z"
   },
   {
    "duration": 13,
    "start_time": "2022-11-20T10:01:11.974Z"
   },
   {
    "duration": 6,
    "start_time": "2022-11-20T10:01:11.989Z"
   },
   {
    "duration": 9,
    "start_time": "2022-11-20T10:01:11.996Z"
   },
   {
    "duration": 11,
    "start_time": "2022-11-20T10:01:12.007Z"
   },
   {
    "duration": 5,
    "start_time": "2022-11-20T10:01:12.020Z"
   },
   {
    "duration": 5,
    "start_time": "2022-11-20T10:01:12.027Z"
   },
   {
    "duration": 6,
    "start_time": "2022-11-20T10:01:12.034Z"
   },
   {
    "duration": 6,
    "start_time": "2022-11-20T10:01:12.041Z"
   },
   {
    "duration": 60,
    "start_time": "2022-11-20T10:01:12.049Z"
   },
   {
    "duration": 0,
    "start_time": "2022-11-20T10:01:12.111Z"
   },
   {
    "duration": 0,
    "start_time": "2022-11-20T10:01:12.113Z"
   },
   {
    "duration": 0,
    "start_time": "2022-11-20T10:01:12.114Z"
   },
   {
    "duration": 0,
    "start_time": "2022-11-20T10:01:12.115Z"
   },
   {
    "duration": 0,
    "start_time": "2022-11-20T10:01:12.117Z"
   },
   {
    "duration": 0,
    "start_time": "2022-11-20T10:01:12.119Z"
   },
   {
    "duration": 0,
    "start_time": "2022-11-20T10:01:12.120Z"
   },
   {
    "duration": 0,
    "start_time": "2022-11-20T10:01:12.122Z"
   },
   {
    "duration": 3,
    "start_time": "2022-11-20T10:01:31.885Z"
   },
   {
    "duration": 229,
    "start_time": "2022-11-20T10:01:31.890Z"
   },
   {
    "duration": 12,
    "start_time": "2022-11-20T10:01:32.121Z"
   },
   {
    "duration": 58,
    "start_time": "2022-11-20T10:01:32.135Z"
   },
   {
    "duration": 22,
    "start_time": "2022-11-20T10:01:32.195Z"
   },
   {
    "duration": 9,
    "start_time": "2022-11-20T10:01:32.219Z"
   },
   {
    "duration": 17,
    "start_time": "2022-11-20T10:01:32.230Z"
   },
   {
    "duration": 32,
    "start_time": "2022-11-20T10:01:32.248Z"
   },
   {
    "duration": 32,
    "start_time": "2022-11-20T10:01:32.282Z"
   },
   {
    "duration": 27,
    "start_time": "2022-11-20T10:01:32.316Z"
   },
   {
    "duration": 40,
    "start_time": "2022-11-20T10:01:32.345Z"
   },
   {
    "duration": 94,
    "start_time": "2022-11-20T10:01:32.387Z"
   },
   {
    "duration": 94,
    "start_time": "2022-11-20T10:01:32.483Z"
   },
   {
    "duration": 94,
    "start_time": "2022-11-20T10:01:32.579Z"
   },
   {
    "duration": 3,
    "start_time": "2022-11-20T10:04:30.742Z"
   },
   {
    "duration": 269,
    "start_time": "2022-11-20T10:04:30.747Z"
   },
   {
    "duration": 14,
    "start_time": "2022-11-20T10:04:31.018Z"
   },
   {
    "duration": 65,
    "start_time": "2022-11-20T10:04:31.034Z"
   },
   {
    "duration": 24,
    "start_time": "2022-11-20T10:04:31.102Z"
   },
   {
    "duration": 33,
    "start_time": "2022-11-20T10:04:31.128Z"
   },
   {
    "duration": 61,
    "start_time": "2022-11-20T10:04:31.168Z"
   },
   {
    "duration": 48,
    "start_time": "2022-11-20T10:04:31.232Z"
   },
   {
    "duration": 55,
    "start_time": "2022-11-20T10:04:31.282Z"
   },
   {
    "duration": 53,
    "start_time": "2022-11-20T10:04:31.338Z"
   },
   {
    "duration": 53,
    "start_time": "2022-11-20T10:04:31.392Z"
   },
   {
    "duration": 116,
    "start_time": "2022-11-20T10:04:31.447Z"
   },
   {
    "duration": 106,
    "start_time": "2022-11-20T10:04:31.567Z"
   },
   {
    "duration": 68,
    "start_time": "2022-11-20T10:04:31.677Z"
   },
   {
    "duration": 60,
    "start_time": "2022-11-20T10:10:13.766Z"
   },
   {
    "duration": 650,
    "start_time": "2022-11-20T10:11:49.690Z"
   },
   {
    "duration": 64,
    "start_time": "2022-11-20T10:11:54.933Z"
   },
   {
    "duration": 584,
    "start_time": "2022-11-20T10:12:06.266Z"
   },
   {
    "duration": 688,
    "start_time": "2022-11-20T10:12:33.613Z"
   },
   {
    "duration": 609,
    "start_time": "2022-11-20T10:13:02.733Z"
   },
   {
    "duration": 581,
    "start_time": "2022-11-20T10:15:07.140Z"
   },
   {
    "duration": 3,
    "start_time": "2022-11-20T10:15:11.673Z"
   },
   {
    "duration": 189,
    "start_time": "2022-11-20T10:15:11.678Z"
   },
   {
    "duration": 13,
    "start_time": "2022-11-20T10:15:11.875Z"
   },
   {
    "duration": 41,
    "start_time": "2022-11-20T10:15:11.890Z"
   },
   {
    "duration": 3,
    "start_time": "2022-11-20T10:15:11.934Z"
   },
   {
    "duration": 11,
    "start_time": "2022-11-20T10:15:11.939Z"
   },
   {
    "duration": 23,
    "start_time": "2022-11-20T10:15:11.951Z"
   },
   {
    "duration": 14,
    "start_time": "2022-11-20T10:15:11.976Z"
   },
   {
    "duration": 52,
    "start_time": "2022-11-20T10:15:11.992Z"
   },
   {
    "duration": 30,
    "start_time": "2022-11-20T10:15:12.046Z"
   },
   {
    "duration": 38,
    "start_time": "2022-11-20T10:15:12.079Z"
   },
   {
    "duration": 86,
    "start_time": "2022-11-20T10:15:12.119Z"
   },
   {
    "duration": 81,
    "start_time": "2022-11-20T10:15:12.207Z"
   },
   {
    "duration": 65,
    "start_time": "2022-11-20T10:15:12.291Z"
   },
   {
    "duration": 3,
    "start_time": "2022-11-20T10:15:16.744Z"
   },
   {
    "duration": 204,
    "start_time": "2022-11-20T10:15:16.750Z"
   },
   {
    "duration": 29,
    "start_time": "2022-11-20T10:15:16.964Z"
   },
   {
    "duration": 63,
    "start_time": "2022-11-20T10:15:16.997Z"
   },
   {
    "duration": 16,
    "start_time": "2022-11-20T10:15:17.062Z"
   },
   {
    "duration": 8,
    "start_time": "2022-11-20T10:15:17.079Z"
   },
   {
    "duration": 11,
    "start_time": "2022-11-20T10:15:17.090Z"
   },
   {
    "duration": 5,
    "start_time": "2022-11-20T10:15:17.103Z"
   },
   {
    "duration": 55,
    "start_time": "2022-11-20T10:15:17.109Z"
   },
   {
    "duration": 29,
    "start_time": "2022-11-20T10:15:17.167Z"
   },
   {
    "duration": 40,
    "start_time": "2022-11-20T10:15:17.198Z"
   },
   {
    "duration": 116,
    "start_time": "2022-11-20T10:15:17.240Z"
   },
   {
    "duration": 111,
    "start_time": "2022-11-20T10:15:17.366Z"
   },
   {
    "duration": 65,
    "start_time": "2022-11-20T10:15:17.488Z"
   },
   {
    "duration": 63,
    "start_time": "2022-11-20T10:15:17.555Z"
   },
   {
    "duration": 3,
    "start_time": "2022-11-20T10:17:17.271Z"
   },
   {
    "duration": 198,
    "start_time": "2022-11-20T10:17:17.276Z"
   },
   {
    "duration": 13,
    "start_time": "2022-11-20T10:17:17.475Z"
   },
   {
    "duration": 34,
    "start_time": "2022-11-20T10:17:17.491Z"
   },
   {
    "duration": 3,
    "start_time": "2022-11-20T10:17:17.527Z"
   },
   {
    "duration": 41,
    "start_time": "2022-11-20T10:17:17.532Z"
   },
   {
    "duration": 11,
    "start_time": "2022-11-20T10:17:17.576Z"
   },
   {
    "duration": 7,
    "start_time": "2022-11-20T10:17:17.589Z"
   },
   {
    "duration": 32,
    "start_time": "2022-11-20T10:17:17.599Z"
   },
   {
    "duration": 42,
    "start_time": "2022-11-20T10:17:17.633Z"
   },
   {
    "duration": 29,
    "start_time": "2022-11-20T10:17:17.677Z"
   },
   {
    "duration": 95,
    "start_time": "2022-11-20T10:17:17.709Z"
   },
   {
    "duration": 79,
    "start_time": "2022-11-20T10:17:17.806Z"
   },
   {
    "duration": 84,
    "start_time": "2022-11-20T10:17:17.887Z"
   },
   {
    "duration": 87,
    "start_time": "2022-11-20T10:17:17.973Z"
   },
   {
    "duration": 72,
    "start_time": "2022-11-20T10:17:33.773Z"
   },
   {
    "duration": 562,
    "start_time": "2022-11-20T10:26:04.439Z"
   },
   {
    "duration": 212,
    "start_time": "2022-11-20T10:26:05.004Z"
   },
   {
    "duration": 22,
    "start_time": "2022-11-20T10:26:05.217Z"
   },
   {
    "duration": 53,
    "start_time": "2022-11-20T10:26:05.241Z"
   },
   {
    "duration": 13,
    "start_time": "2022-11-20T10:26:05.298Z"
   },
   {
    "duration": 13,
    "start_time": "2022-11-20T10:26:05.312Z"
   },
   {
    "duration": 29,
    "start_time": "2022-11-20T10:26:05.327Z"
   },
   {
    "duration": 13,
    "start_time": "2022-11-20T10:26:05.358Z"
   },
   {
    "duration": 39,
    "start_time": "2022-11-20T10:26:05.372Z"
   },
   {
    "duration": 22,
    "start_time": "2022-11-20T10:26:05.413Z"
   },
   {
    "duration": 37,
    "start_time": "2022-11-20T10:26:05.437Z"
   },
   {
    "duration": 77,
    "start_time": "2022-11-20T10:26:05.476Z"
   },
   {
    "duration": 83,
    "start_time": "2022-11-20T10:26:05.555Z"
   },
   {
    "duration": 86,
    "start_time": "2022-11-20T10:26:05.642Z"
   },
   {
    "duration": 66,
    "start_time": "2022-11-20T10:26:05.730Z"
   },
   {
    "duration": 2,
    "start_time": "2022-11-20T10:26:05.799Z"
   },
   {
    "duration": 8,
    "start_time": "2022-11-20T10:26:05.803Z"
   },
   {
    "duration": 5,
    "start_time": "2022-11-20T10:26:05.813Z"
   },
   {
    "duration": 6,
    "start_time": "2022-11-20T10:26:05.820Z"
   },
   {
    "duration": 5,
    "start_time": "2022-11-20T10:26:05.828Z"
   },
   {
    "duration": 47,
    "start_time": "2022-11-20T10:26:05.835Z"
   },
   {
    "duration": 6,
    "start_time": "2022-11-20T10:26:05.884Z"
   },
   {
    "duration": 6,
    "start_time": "2022-11-20T10:26:05.891Z"
   },
   {
    "duration": 9,
    "start_time": "2022-11-20T10:26:05.899Z"
   },
   {
    "duration": 7,
    "start_time": "2022-11-20T10:26:05.910Z"
   },
   {
    "duration": 7,
    "start_time": "2022-11-20T10:26:05.919Z"
   },
   {
    "duration": 7,
    "start_time": "2022-11-20T10:26:05.928Z"
   },
   {
    "duration": 8,
    "start_time": "2022-11-20T10:26:05.937Z"
   },
   {
    "duration": 6,
    "start_time": "2022-11-20T10:26:05.947Z"
   },
   {
    "duration": 62,
    "start_time": "2022-11-20T10:26:05.955Z"
   },
   {
    "duration": 0,
    "start_time": "2022-11-20T10:26:06.019Z"
   },
   {
    "duration": 0,
    "start_time": "2022-11-20T10:26:06.023Z"
   },
   {
    "duration": 0,
    "start_time": "2022-11-20T10:26:06.025Z"
   },
   {
    "duration": 0,
    "start_time": "2022-11-20T10:26:06.026Z"
   },
   {
    "duration": 0,
    "start_time": "2022-11-20T10:26:06.028Z"
   },
   {
    "duration": 0,
    "start_time": "2022-11-20T10:26:06.029Z"
   },
   {
    "duration": 0,
    "start_time": "2022-11-20T10:26:06.030Z"
   },
   {
    "duration": 0,
    "start_time": "2022-11-20T10:26:06.031Z"
   },
   {
    "duration": 3,
    "start_time": "2022-11-20T10:27:29.546Z"
   },
   {
    "duration": 341,
    "start_time": "2022-11-20T10:27:29.552Z"
   },
   {
    "duration": 27,
    "start_time": "2022-11-20T10:27:29.896Z"
   },
   {
    "duration": 144,
    "start_time": "2022-11-20T10:27:29.927Z"
   },
   {
    "duration": 72,
    "start_time": "2022-11-20T10:27:30.073Z"
   },
   {
    "duration": 68,
    "start_time": "2022-11-20T10:27:30.147Z"
   },
   {
    "duration": 29,
    "start_time": "2022-11-20T10:27:30.218Z"
   },
   {
    "duration": 40,
    "start_time": "2022-11-20T10:27:30.249Z"
   },
   {
    "duration": 135,
    "start_time": "2022-11-20T10:27:30.291Z"
   },
   {
    "duration": 62,
    "start_time": "2022-11-20T10:27:30.429Z"
   },
   {
    "duration": 107,
    "start_time": "2022-11-20T10:27:30.493Z"
   },
   {
    "duration": 133,
    "start_time": "2022-11-20T10:27:30.602Z"
   },
   {
    "duration": 129,
    "start_time": "2022-11-20T10:27:30.738Z"
   },
   {
    "duration": 103,
    "start_time": "2022-11-20T10:27:30.869Z"
   },
   {
    "duration": 4,
    "start_time": "2022-11-20T10:27:30.974Z"
   },
   {
    "duration": 5,
    "start_time": "2022-11-20T10:27:41.801Z"
   },
   {
    "duration": 261,
    "start_time": "2022-11-20T10:27:41.808Z"
   },
   {
    "duration": 21,
    "start_time": "2022-11-20T10:27:42.078Z"
   },
   {
    "duration": 79,
    "start_time": "2022-11-20T10:27:42.101Z"
   },
   {
    "duration": 41,
    "start_time": "2022-11-20T10:27:42.186Z"
   },
   {
    "duration": 9,
    "start_time": "2022-11-20T10:27:42.229Z"
   },
   {
    "duration": 11,
    "start_time": "2022-11-20T10:27:42.242Z"
   },
   {
    "duration": 56,
    "start_time": "2022-11-20T10:27:42.255Z"
   },
   {
    "duration": 69,
    "start_time": "2022-11-20T10:27:42.318Z"
   },
   {
    "duration": 51,
    "start_time": "2022-11-20T10:27:42.389Z"
   },
   {
    "duration": 54,
    "start_time": "2022-11-20T10:27:42.442Z"
   },
   {
    "duration": 93,
    "start_time": "2022-11-20T10:27:42.497Z"
   },
   {
    "duration": 108,
    "start_time": "2022-11-20T10:27:42.592Z"
   },
   {
    "duration": 70,
    "start_time": "2022-11-20T10:27:42.702Z"
   },
   {
    "duration": 11,
    "start_time": "2022-11-20T10:27:42.776Z"
   },
   {
    "duration": 9,
    "start_time": "2022-11-20T10:30:46.282Z"
   },
   {
    "duration": 249,
    "start_time": "2022-11-20T10:30:46.295Z"
   },
   {
    "duration": 43,
    "start_time": "2022-11-20T10:30:46.546Z"
   },
   {
    "duration": 59,
    "start_time": "2022-11-20T10:30:46.602Z"
   },
   {
    "duration": 3,
    "start_time": "2022-11-20T10:30:46.668Z"
   },
   {
    "duration": 40,
    "start_time": "2022-11-20T10:30:46.674Z"
   },
   {
    "duration": 15,
    "start_time": "2022-11-20T10:30:46.715Z"
   },
   {
    "duration": 10,
    "start_time": "2022-11-20T10:30:46.732Z"
   },
   {
    "duration": 63,
    "start_time": "2022-11-20T10:30:46.744Z"
   },
   {
    "duration": 37,
    "start_time": "2022-11-20T10:30:46.810Z"
   },
   {
    "duration": 57,
    "start_time": "2022-11-20T10:30:46.850Z"
   },
   {
    "duration": 98,
    "start_time": "2022-11-20T10:30:46.909Z"
   },
   {
    "duration": 87,
    "start_time": "2022-11-20T10:30:47.008Z"
   },
   {
    "duration": 80,
    "start_time": "2022-11-20T10:30:47.097Z"
   },
   {
    "duration": 85,
    "start_time": "2022-11-20T10:30:47.179Z"
   },
   {
    "duration": 5,
    "start_time": "2022-11-20T10:31:11.700Z"
   },
   {
    "duration": 224,
    "start_time": "2022-11-20T10:31:11.708Z"
   },
   {
    "duration": 15,
    "start_time": "2022-11-20T10:31:11.934Z"
   },
   {
    "duration": 87,
    "start_time": "2022-11-20T10:31:11.966Z"
   },
   {
    "duration": 8,
    "start_time": "2022-11-20T10:31:12.057Z"
   },
   {
    "duration": 42,
    "start_time": "2022-11-20T10:31:12.066Z"
   },
   {
    "duration": 14,
    "start_time": "2022-11-20T10:31:12.110Z"
   },
   {
    "duration": 13,
    "start_time": "2022-11-20T10:31:12.126Z"
   },
   {
    "duration": 93,
    "start_time": "2022-11-20T10:31:12.141Z"
   },
   {
    "duration": 32,
    "start_time": "2022-11-20T10:31:12.237Z"
   },
   {
    "duration": 54,
    "start_time": "2022-11-20T10:31:12.277Z"
   },
   {
    "duration": 105,
    "start_time": "2022-11-20T10:31:12.334Z"
   },
   {
    "duration": 106,
    "start_time": "2022-11-20T10:31:12.440Z"
   },
   {
    "duration": 91,
    "start_time": "2022-11-20T10:31:12.554Z"
   },
   {
    "duration": 78,
    "start_time": "2022-11-20T10:31:12.647Z"
   },
   {
    "duration": 3,
    "start_time": "2022-11-20T10:31:30.403Z"
   },
   {
    "duration": 260,
    "start_time": "2022-11-20T10:31:30.408Z"
   },
   {
    "duration": 16,
    "start_time": "2022-11-20T10:31:30.670Z"
   },
   {
    "duration": 89,
    "start_time": "2022-11-20T10:31:30.690Z"
   },
   {
    "duration": 48,
    "start_time": "2022-11-20T10:31:30.781Z"
   },
   {
    "duration": 21,
    "start_time": "2022-11-20T10:31:30.832Z"
   },
   {
    "duration": 55,
    "start_time": "2022-11-20T10:31:30.864Z"
   },
   {
    "duration": 62,
    "start_time": "2022-11-20T10:31:30.921Z"
   },
   {
    "duration": 96,
    "start_time": "2022-11-20T10:31:30.985Z"
   },
   {
    "duration": 57,
    "start_time": "2022-11-20T10:31:31.086Z"
   },
   {
    "duration": 54,
    "start_time": "2022-11-20T10:31:31.145Z"
   },
   {
    "duration": 118,
    "start_time": "2022-11-20T10:31:31.202Z"
   },
   {
    "duration": 109,
    "start_time": "2022-11-20T10:31:31.322Z"
   },
   {
    "duration": 93,
    "start_time": "2022-11-20T10:31:31.433Z"
   },
   {
    "duration": 88,
    "start_time": "2022-11-20T10:31:31.529Z"
   },
   {
    "duration": 3,
    "start_time": "2022-11-20T10:33:17.922Z"
   },
   {
    "duration": 241,
    "start_time": "2022-11-20T10:33:17.927Z"
   },
   {
    "duration": 17,
    "start_time": "2022-11-20T10:33:18.169Z"
   },
   {
    "duration": 49,
    "start_time": "2022-11-20T10:33:18.188Z"
   },
   {
    "duration": 3,
    "start_time": "2022-11-20T10:33:18.239Z"
   },
   {
    "duration": 12,
    "start_time": "2022-11-20T10:33:18.244Z"
   },
   {
    "duration": 54,
    "start_time": "2022-11-20T10:33:18.264Z"
   },
   {
    "duration": 14,
    "start_time": "2022-11-20T10:33:18.320Z"
   },
   {
    "duration": 58,
    "start_time": "2022-11-20T10:33:18.336Z"
   },
   {
    "duration": 27,
    "start_time": "2022-11-20T10:33:18.398Z"
   },
   {
    "duration": 48,
    "start_time": "2022-11-20T10:33:18.428Z"
   },
   {
    "duration": 127,
    "start_time": "2022-11-20T10:33:18.478Z"
   },
   {
    "duration": 109,
    "start_time": "2022-11-20T10:33:18.607Z"
   },
   {
    "duration": 103,
    "start_time": "2022-11-20T10:33:18.718Z"
   },
   {
    "duration": 99,
    "start_time": "2022-11-20T10:33:18.823Z"
   },
   {
    "duration": 4,
    "start_time": "2022-11-20T10:33:40.434Z"
   },
   {
    "duration": 270,
    "start_time": "2022-11-20T10:33:40.440Z"
   },
   {
    "duration": 22,
    "start_time": "2022-11-20T10:33:40.713Z"
   },
   {
    "duration": 52,
    "start_time": "2022-11-20T10:33:40.739Z"
   },
   {
    "duration": 34,
    "start_time": "2022-11-20T10:33:40.794Z"
   },
   {
    "duration": 8,
    "start_time": "2022-11-20T10:33:40.830Z"
   },
   {
    "duration": 10,
    "start_time": "2022-11-20T10:33:40.841Z"
   },
   {
    "duration": 7,
    "start_time": "2022-11-20T10:33:40.853Z"
   },
   {
    "duration": 111,
    "start_time": "2022-11-20T10:33:40.862Z"
   },
   {
    "duration": 83,
    "start_time": "2022-11-20T10:33:40.976Z"
   },
   {
    "duration": 46,
    "start_time": "2022-11-20T10:33:41.062Z"
   },
   {
    "duration": 99,
    "start_time": "2022-11-20T10:33:41.110Z"
   },
   {
    "duration": 115,
    "start_time": "2022-11-20T10:33:41.211Z"
   },
   {
    "duration": 91,
    "start_time": "2022-11-20T10:33:41.328Z"
   },
   {
    "duration": 95,
    "start_time": "2022-11-20T10:33:41.421Z"
   },
   {
    "duration": 3,
    "start_time": "2022-11-20T10:34:08.650Z"
   },
   {
    "duration": 268,
    "start_time": "2022-11-20T10:34:08.655Z"
   },
   {
    "duration": 21,
    "start_time": "2022-11-20T10:34:08.924Z"
   },
   {
    "duration": 59,
    "start_time": "2022-11-20T10:34:08.948Z"
   },
   {
    "duration": 12,
    "start_time": "2022-11-20T10:34:09.013Z"
   },
   {
    "duration": 8,
    "start_time": "2022-11-20T10:34:09.027Z"
   },
   {
    "duration": 13,
    "start_time": "2022-11-20T10:34:09.037Z"
   },
   {
    "duration": 46,
    "start_time": "2022-11-20T10:34:09.052Z"
   },
   {
    "duration": 39,
    "start_time": "2022-11-20T10:34:09.100Z"
   },
   {
    "duration": 30,
    "start_time": "2022-11-20T10:34:09.141Z"
   },
   {
    "duration": 39,
    "start_time": "2022-11-20T10:34:09.179Z"
   },
   {
    "duration": 86,
    "start_time": "2022-11-20T10:34:09.220Z"
   },
   {
    "duration": 107,
    "start_time": "2022-11-20T10:34:09.308Z"
   },
   {
    "duration": 82,
    "start_time": "2022-11-20T10:34:09.417Z"
   },
   {
    "duration": 94,
    "start_time": "2022-11-20T10:34:09.502Z"
   },
   {
    "duration": 7,
    "start_time": "2022-11-20T10:34:23.392Z"
   },
   {
    "duration": 216,
    "start_time": "2022-11-20T10:34:23.402Z"
   },
   {
    "duration": 17,
    "start_time": "2022-11-20T10:34:23.621Z"
   },
   {
    "duration": 72,
    "start_time": "2022-11-20T10:34:23.640Z"
   },
   {
    "duration": 27,
    "start_time": "2022-11-20T10:34:23.715Z"
   },
   {
    "duration": 7,
    "start_time": "2022-11-20T10:34:23.747Z"
   },
   {
    "duration": 90,
    "start_time": "2022-11-20T10:34:23.756Z"
   },
   {
    "duration": 16,
    "start_time": "2022-11-20T10:34:23.849Z"
   },
   {
    "duration": 65,
    "start_time": "2022-11-20T10:34:23.867Z"
   },
   {
    "duration": 48,
    "start_time": "2022-11-20T10:34:23.934Z"
   },
   {
    "duration": 47,
    "start_time": "2022-11-20T10:34:23.986Z"
   },
   {
    "duration": 87,
    "start_time": "2022-11-20T10:34:24.035Z"
   },
   {
    "duration": 104,
    "start_time": "2022-11-20T10:34:24.124Z"
   },
   {
    "duration": 83,
    "start_time": "2022-11-20T10:34:24.231Z"
   },
   {
    "duration": 3,
    "start_time": "2022-11-20T10:34:30.099Z"
   },
   {
    "duration": 284,
    "start_time": "2022-11-20T10:34:30.104Z"
   },
   {
    "duration": 15,
    "start_time": "2022-11-20T10:34:30.390Z"
   },
   {
    "duration": 82,
    "start_time": "2022-11-20T10:34:30.407Z"
   },
   {
    "duration": 58,
    "start_time": "2022-11-20T10:34:30.492Z"
   },
   {
    "duration": 54,
    "start_time": "2022-11-20T10:34:30.552Z"
   },
   {
    "duration": 29,
    "start_time": "2022-11-20T10:34:30.609Z"
   },
   {
    "duration": 78,
    "start_time": "2022-11-20T10:34:30.640Z"
   },
   {
    "duration": 61,
    "start_time": "2022-11-20T10:34:30.720Z"
   },
   {
    "duration": 56,
    "start_time": "2022-11-20T10:34:30.783Z"
   },
   {
    "duration": 64,
    "start_time": "2022-11-20T10:34:30.841Z"
   },
   {
    "duration": 104,
    "start_time": "2022-11-20T10:34:30.907Z"
   },
   {
    "duration": 100,
    "start_time": "2022-11-20T10:34:31.013Z"
   },
   {
    "duration": 84,
    "start_time": "2022-11-20T10:34:31.114Z"
   },
   {
    "duration": 59,
    "start_time": "2022-11-20T10:34:31.199Z"
   },
   {
    "duration": 4,
    "start_time": "2022-11-20T10:35:29.689Z"
   },
   {
    "duration": 213,
    "start_time": "2022-11-20T10:35:29.697Z"
   },
   {
    "duration": 15,
    "start_time": "2022-11-20T10:35:29.912Z"
   },
   {
    "duration": 59,
    "start_time": "2022-11-20T10:35:29.929Z"
   },
   {
    "duration": 17,
    "start_time": "2022-11-20T10:35:29.998Z"
   },
   {
    "duration": 12,
    "start_time": "2022-11-20T10:35:30.017Z"
   },
   {
    "duration": 16,
    "start_time": "2022-11-20T10:35:30.031Z"
   },
   {
    "duration": 55,
    "start_time": "2022-11-20T10:35:30.049Z"
   },
   {
    "duration": 46,
    "start_time": "2022-11-20T10:35:30.106Z"
   },
   {
    "duration": 80,
    "start_time": "2022-11-20T10:35:30.155Z"
   },
   {
    "duration": 43,
    "start_time": "2022-11-20T10:35:30.236Z"
   },
   {
    "duration": 131,
    "start_time": "2022-11-20T10:35:30.281Z"
   },
   {
    "duration": 107,
    "start_time": "2022-11-20T10:35:30.414Z"
   },
   {
    "duration": 102,
    "start_time": "2022-11-20T10:35:30.524Z"
   },
   {
    "duration": 94,
    "start_time": "2022-11-20T10:35:30.628Z"
   },
   {
    "duration": 3,
    "start_time": "2022-11-20T10:36:19.810Z"
   },
   {
    "duration": 280,
    "start_time": "2022-11-20T10:36:19.816Z"
   },
   {
    "duration": 19,
    "start_time": "2022-11-20T10:36:20.098Z"
   },
   {
    "duration": 59,
    "start_time": "2022-11-20T10:36:20.119Z"
   },
   {
    "duration": 42,
    "start_time": "2022-11-20T10:36:20.179Z"
   },
   {
    "duration": 25,
    "start_time": "2022-11-20T10:36:20.223Z"
   },
   {
    "duration": 65,
    "start_time": "2022-11-20T10:36:20.250Z"
   },
   {
    "duration": 17,
    "start_time": "2022-11-20T10:36:20.317Z"
   },
   {
    "duration": 100,
    "start_time": "2022-11-20T10:36:20.337Z"
   },
   {
    "duration": 84,
    "start_time": "2022-11-20T10:36:20.441Z"
   },
   {
    "duration": 80,
    "start_time": "2022-11-20T10:36:20.527Z"
   },
   {
    "duration": 113,
    "start_time": "2022-11-20T10:36:20.610Z"
   },
   {
    "duration": 107,
    "start_time": "2022-11-20T10:36:20.726Z"
   },
   {
    "duration": 91,
    "start_time": "2022-11-20T10:36:20.835Z"
   },
   {
    "duration": 100,
    "start_time": "2022-11-20T10:36:20.928Z"
   },
   {
    "duration": 4,
    "start_time": "2022-11-20T10:36:57.354Z"
   },
   {
    "duration": 273,
    "start_time": "2022-11-20T10:36:57.360Z"
   },
   {
    "duration": 13,
    "start_time": "2022-11-20T10:36:57.635Z"
   },
   {
    "duration": 75,
    "start_time": "2022-11-20T10:36:57.654Z"
   },
   {
    "duration": 8,
    "start_time": "2022-11-20T10:36:57.731Z"
   },
   {
    "duration": 9,
    "start_time": "2022-11-20T10:36:57.741Z"
   },
   {
    "duration": 61,
    "start_time": "2022-11-20T10:36:57.752Z"
   },
   {
    "duration": 16,
    "start_time": "2022-11-20T10:36:57.815Z"
   },
   {
    "duration": 83,
    "start_time": "2022-11-20T10:36:57.832Z"
   },
   {
    "duration": 34,
    "start_time": "2022-11-20T10:36:57.919Z"
   },
   {
    "duration": 61,
    "start_time": "2022-11-20T10:36:57.960Z"
   },
   {
    "duration": 98,
    "start_time": "2022-11-20T10:36:58.024Z"
   },
   {
    "duration": 105,
    "start_time": "2022-11-20T10:36:58.124Z"
   },
   {
    "duration": 91,
    "start_time": "2022-11-20T10:36:58.231Z"
   },
   {
    "duration": 106,
    "start_time": "2022-11-20T10:36:58.324Z"
   },
   {
    "duration": 14,
    "start_time": "2022-11-20T10:49:44.877Z"
   },
   {
    "duration": 48,
    "start_time": "2022-11-20T10:50:36.287Z"
   },
   {
    "duration": 5,
    "start_time": "2022-11-20T10:54:21.334Z"
   },
   {
    "duration": 9,
    "start_time": "2022-11-20T10:55:12.875Z"
   },
   {
    "duration": 3,
    "start_time": "2022-11-20T10:55:19.817Z"
   },
   {
    "duration": 210,
    "start_time": "2022-11-20T10:55:19.823Z"
   },
   {
    "duration": 11,
    "start_time": "2022-11-20T10:55:20.035Z"
   },
   {
    "duration": 78,
    "start_time": "2022-11-20T10:55:20.049Z"
   },
   {
    "duration": 2,
    "start_time": "2022-11-20T10:55:20.129Z"
   },
   {
    "duration": 32,
    "start_time": "2022-11-20T10:55:20.133Z"
   },
   {
    "duration": 22,
    "start_time": "2022-11-20T10:55:20.169Z"
   },
   {
    "duration": 27,
    "start_time": "2022-11-20T10:55:20.192Z"
   },
   {
    "duration": 57,
    "start_time": "2022-11-20T10:55:20.222Z"
   },
   {
    "duration": 34,
    "start_time": "2022-11-20T10:55:20.281Z"
   },
   {
    "duration": 42,
    "start_time": "2022-11-20T10:55:20.317Z"
   },
   {
    "duration": 80,
    "start_time": "2022-11-20T10:55:20.369Z"
   },
   {
    "duration": 77,
    "start_time": "2022-11-20T10:55:20.452Z"
   },
   {
    "duration": 75,
    "start_time": "2022-11-20T10:55:20.531Z"
   },
   {
    "duration": 88,
    "start_time": "2022-11-20T10:55:20.608Z"
   },
   {
    "duration": 15,
    "start_time": "2022-11-20T10:55:20.698Z"
   },
   {
    "duration": 101,
    "start_time": "2022-11-20T10:55:20.715Z"
   },
   {
    "duration": 5,
    "start_time": "2022-11-20T10:55:20.818Z"
   },
   {
    "duration": 3,
    "start_time": "2022-11-20T10:58:09.345Z"
   },
   {
    "duration": 202,
    "start_time": "2022-11-20T10:58:09.351Z"
   },
   {
    "duration": 22,
    "start_time": "2022-11-20T10:58:09.563Z"
   },
   {
    "duration": 44,
    "start_time": "2022-11-20T10:58:09.586Z"
   },
   {
    "duration": 16,
    "start_time": "2022-11-20T10:58:09.633Z"
   },
   {
    "duration": 38,
    "start_time": "2022-11-20T10:58:09.651Z"
   },
   {
    "duration": 17,
    "start_time": "2022-11-20T10:58:09.691Z"
   },
   {
    "duration": 31,
    "start_time": "2022-11-20T10:58:09.710Z"
   },
   {
    "duration": 57,
    "start_time": "2022-11-20T10:58:09.742Z"
   },
   {
    "duration": 37,
    "start_time": "2022-11-20T10:58:09.801Z"
   },
   {
    "duration": 41,
    "start_time": "2022-11-20T10:58:09.839Z"
   },
   {
    "duration": 94,
    "start_time": "2022-11-20T10:58:09.881Z"
   },
   {
    "duration": 67,
    "start_time": "2022-11-20T10:58:09.978Z"
   },
   {
    "duration": 71,
    "start_time": "2022-11-20T10:58:10.054Z"
   },
   {
    "duration": 73,
    "start_time": "2022-11-20T10:58:10.126Z"
   },
   {
    "duration": 12,
    "start_time": "2022-11-20T10:58:10.201Z"
   },
   {
    "duration": 61,
    "start_time": "2022-11-20T10:58:10.214Z"
   },
   {
    "duration": 671,
    "start_time": "2022-11-20T10:58:10.277Z"
   },
   {
    "duration": 5,
    "start_time": "2022-11-20T10:59:16.081Z"
   },
   {
    "duration": 210,
    "start_time": "2022-11-20T10:59:16.088Z"
   },
   {
    "duration": 12,
    "start_time": "2022-11-20T10:59:16.300Z"
   },
   {
    "duration": 54,
    "start_time": "2022-11-20T10:59:16.314Z"
   },
   {
    "duration": 11,
    "start_time": "2022-11-20T10:59:16.380Z"
   },
   {
    "duration": 6,
    "start_time": "2022-11-20T10:59:16.393Z"
   },
   {
    "duration": 14,
    "start_time": "2022-11-20T10:59:16.401Z"
   },
   {
    "duration": 9,
    "start_time": "2022-11-20T10:59:16.417Z"
   },
   {
    "duration": 60,
    "start_time": "2022-11-20T10:59:16.428Z"
   },
   {
    "duration": 53,
    "start_time": "2022-11-20T10:59:16.490Z"
   },
   {
    "duration": 49,
    "start_time": "2022-11-20T10:59:16.545Z"
   },
   {
    "duration": 78,
    "start_time": "2022-11-20T10:59:16.596Z"
   },
   {
    "duration": 87,
    "start_time": "2022-11-20T10:59:16.677Z"
   },
   {
    "duration": 72,
    "start_time": "2022-11-20T10:59:16.769Z"
   },
   {
    "duration": 85,
    "start_time": "2022-11-20T10:59:16.843Z"
   },
   {
    "duration": 40,
    "start_time": "2022-11-20T10:59:16.930Z"
   },
   {
    "duration": 65,
    "start_time": "2022-11-20T10:59:16.972Z"
   },
   {
    "duration": 69,
    "start_time": "2022-11-20T10:59:17.039Z"
   },
   {
    "duration": 4,
    "start_time": "2022-11-20T11:01:24.455Z"
   },
   {
    "duration": 267,
    "start_time": "2022-11-20T11:01:24.460Z"
   },
   {
    "duration": 12,
    "start_time": "2022-11-20T11:01:24.731Z"
   },
   {
    "duration": 74,
    "start_time": "2022-11-20T11:01:24.745Z"
   },
   {
    "duration": 7,
    "start_time": "2022-11-20T11:01:24.827Z"
   },
   {
    "duration": 24,
    "start_time": "2022-11-20T11:01:24.836Z"
   },
   {
    "duration": 56,
    "start_time": "2022-11-20T11:01:24.862Z"
   },
   {
    "duration": 6,
    "start_time": "2022-11-20T11:01:24.920Z"
   },
   {
    "duration": 82,
    "start_time": "2022-11-20T11:01:24.927Z"
   },
   {
    "duration": 65,
    "start_time": "2022-11-20T11:01:25.014Z"
   },
   {
    "duration": 64,
    "start_time": "2022-11-20T11:01:25.086Z"
   },
   {
    "duration": 88,
    "start_time": "2022-11-20T11:01:25.152Z"
   },
   {
    "duration": 89,
    "start_time": "2022-11-20T11:01:25.242Z"
   },
   {
    "duration": 91,
    "start_time": "2022-11-20T11:01:25.333Z"
   },
   {
    "duration": 74,
    "start_time": "2022-11-20T11:01:25.425Z"
   },
   {
    "duration": 11,
    "start_time": "2022-11-20T11:01:25.501Z"
   },
   {
    "duration": 66,
    "start_time": "2022-11-20T11:01:25.514Z"
   },
   {
    "duration": 58,
    "start_time": "2022-11-20T11:01:25.582Z"
   },
   {
    "duration": 4,
    "start_time": "2022-11-20T11:01:59.495Z"
   },
   {
    "duration": 239,
    "start_time": "2022-11-20T11:01:59.501Z"
   },
   {
    "duration": 11,
    "start_time": "2022-11-20T11:01:59.742Z"
   },
   {
    "duration": 106,
    "start_time": "2022-11-20T11:01:59.755Z"
   },
   {
    "duration": 41,
    "start_time": "2022-11-20T11:01:59.868Z"
   },
   {
    "duration": 41,
    "start_time": "2022-11-20T11:01:59.911Z"
   },
   {
    "duration": 66,
    "start_time": "2022-11-20T11:01:59.954Z"
   },
   {
    "duration": 35,
    "start_time": "2022-11-20T11:02:00.022Z"
   },
   {
    "duration": 113,
    "start_time": "2022-11-20T11:02:00.059Z"
   },
   {
    "duration": 73,
    "start_time": "2022-11-20T11:02:00.174Z"
   },
   {
    "duration": 79,
    "start_time": "2022-11-20T11:02:00.249Z"
   },
   {
    "duration": 135,
    "start_time": "2022-11-20T11:02:00.330Z"
   },
   {
    "duration": 84,
    "start_time": "2022-11-20T11:02:00.473Z"
   },
   {
    "duration": 82,
    "start_time": "2022-11-20T11:02:00.559Z"
   },
   {
    "duration": 80,
    "start_time": "2022-11-20T11:02:00.643Z"
   },
   {
    "duration": 12,
    "start_time": "2022-11-20T11:02:00.725Z"
   },
   {
    "duration": 100,
    "start_time": "2022-11-20T11:02:00.739Z"
   },
   {
    "duration": 8,
    "start_time": "2022-11-20T11:02:00.841Z"
   },
   {
    "duration": 3,
    "start_time": "2022-11-20T11:02:20.032Z"
   },
   {
    "duration": 284,
    "start_time": "2022-11-20T11:02:20.037Z"
   },
   {
    "duration": 12,
    "start_time": "2022-11-20T11:02:20.323Z"
   },
   {
    "duration": 99,
    "start_time": "2022-11-20T11:02:20.337Z"
   },
   {
    "duration": 11,
    "start_time": "2022-11-20T11:02:20.439Z"
   },
   {
    "duration": 46,
    "start_time": "2022-11-20T11:02:20.452Z"
   },
   {
    "duration": 37,
    "start_time": "2022-11-20T11:02:20.500Z"
   },
   {
    "duration": 44,
    "start_time": "2022-11-20T11:02:20.539Z"
   },
   {
    "duration": 93,
    "start_time": "2022-11-20T11:02:20.592Z"
   },
   {
    "duration": 44,
    "start_time": "2022-11-20T11:02:20.687Z"
   },
   {
    "duration": 61,
    "start_time": "2022-11-20T11:02:20.733Z"
   },
   {
    "duration": 88,
    "start_time": "2022-11-20T11:02:20.796Z"
   },
   {
    "duration": 84,
    "start_time": "2022-11-20T11:02:20.886Z"
   },
   {
    "duration": 82,
    "start_time": "2022-11-20T11:02:20.973Z"
   },
   {
    "duration": 81,
    "start_time": "2022-11-20T11:02:21.057Z"
   },
   {
    "duration": 73,
    "start_time": "2022-11-20T11:02:21.140Z"
   },
   {
    "duration": 81,
    "start_time": "2022-11-20T11:02:21.215Z"
   },
   {
    "duration": 5,
    "start_time": "2022-11-20T11:02:21.298Z"
   },
   {
    "duration": 3,
    "start_time": "2022-11-20T11:04:22.791Z"
   },
   {
    "duration": 225,
    "start_time": "2022-11-20T11:04:22.797Z"
   },
   {
    "duration": 12,
    "start_time": "2022-11-20T11:04:23.024Z"
   },
   {
    "duration": 63,
    "start_time": "2022-11-20T11:04:23.038Z"
   },
   {
    "duration": 3,
    "start_time": "2022-11-20T11:04:23.103Z"
   },
   {
    "duration": 9,
    "start_time": "2022-11-20T11:04:23.107Z"
   },
   {
    "duration": 13,
    "start_time": "2022-11-20T11:04:23.118Z"
   },
   {
    "duration": 24,
    "start_time": "2022-11-20T11:04:23.133Z"
   },
   {
    "duration": 47,
    "start_time": "2022-11-20T11:04:23.161Z"
   },
   {
    "duration": 21,
    "start_time": "2022-11-20T11:04:23.210Z"
   },
   {
    "duration": 80,
    "start_time": "2022-11-20T11:04:23.233Z"
   },
   {
    "duration": 93,
    "start_time": "2022-11-20T11:04:23.315Z"
   },
   {
    "duration": 91,
    "start_time": "2022-11-20T11:04:23.411Z"
   },
   {
    "duration": 90,
    "start_time": "2022-11-20T11:04:23.504Z"
   },
   {
    "duration": 83,
    "start_time": "2022-11-20T11:04:23.596Z"
   },
   {
    "duration": 22,
    "start_time": "2022-11-20T11:04:23.681Z"
   },
   {
    "duration": 88,
    "start_time": "2022-11-20T11:04:23.707Z"
   },
   {
    "duration": 62,
    "start_time": "2022-11-20T11:04:23.797Z"
   },
   {
    "duration": 3,
    "start_time": "2022-11-20T11:05:33.814Z"
   },
   {
    "duration": 209,
    "start_time": "2022-11-20T11:05:33.819Z"
   },
   {
    "duration": 14,
    "start_time": "2022-11-20T11:05:34.031Z"
   },
   {
    "duration": 50,
    "start_time": "2022-11-20T11:05:34.054Z"
   },
   {
    "duration": 3,
    "start_time": "2022-11-20T11:05:34.107Z"
   },
   {
    "duration": 9,
    "start_time": "2022-11-20T11:05:34.112Z"
   },
   {
    "duration": 18,
    "start_time": "2022-11-20T11:05:34.123Z"
   },
   {
    "duration": 42,
    "start_time": "2022-11-20T11:05:34.143Z"
   },
   {
    "duration": 36,
    "start_time": "2022-11-20T11:05:34.187Z"
   },
   {
    "duration": 17,
    "start_time": "2022-11-20T11:05:34.226Z"
   },
   {
    "duration": 47,
    "start_time": "2022-11-20T11:05:34.245Z"
   },
   {
    "duration": 72,
    "start_time": "2022-11-20T11:05:34.294Z"
   },
   {
    "duration": 74,
    "start_time": "2022-11-20T11:05:34.375Z"
   },
   {
    "duration": 83,
    "start_time": "2022-11-20T11:05:34.451Z"
   },
   {
    "duration": 83,
    "start_time": "2022-11-20T11:05:34.537Z"
   },
   {
    "duration": 18,
    "start_time": "2022-11-20T11:05:34.622Z"
   },
   {
    "duration": 83,
    "start_time": "2022-11-20T11:05:34.642Z"
   },
   {
    "duration": 68,
    "start_time": "2022-11-20T11:05:34.728Z"
   },
   {
    "duration": 4,
    "start_time": "2022-11-20T11:08:54.514Z"
   },
   {
    "duration": 287,
    "start_time": "2022-11-20T11:08:54.524Z"
   },
   {
    "duration": 14,
    "start_time": "2022-11-20T11:08:54.821Z"
   },
   {
    "duration": 94,
    "start_time": "2022-11-20T11:08:54.838Z"
   },
   {
    "duration": 35,
    "start_time": "2022-11-20T11:08:54.935Z"
   },
   {
    "duration": 57,
    "start_time": "2022-11-20T11:08:54.971Z"
   },
   {
    "duration": 22,
    "start_time": "2022-11-20T11:08:55.030Z"
   },
   {
    "duration": 60,
    "start_time": "2022-11-20T11:08:55.057Z"
   },
   {
    "duration": 134,
    "start_time": "2022-11-20T11:08:55.119Z"
   },
   {
    "duration": 109,
    "start_time": "2022-11-20T11:08:55.266Z"
   },
   {
    "duration": 43,
    "start_time": "2022-11-20T11:08:55.377Z"
   },
   {
    "duration": 116,
    "start_time": "2022-11-20T11:08:55.422Z"
   },
   {
    "duration": 107,
    "start_time": "2022-11-20T11:08:55.540Z"
   },
   {
    "duration": 87,
    "start_time": "2022-11-20T11:08:55.654Z"
   },
   {
    "duration": 92,
    "start_time": "2022-11-20T11:08:55.742Z"
   },
   {
    "duration": 32,
    "start_time": "2022-11-20T11:08:55.836Z"
   },
   {
    "duration": 114,
    "start_time": "2022-11-20T11:08:55.870Z"
   },
   {
    "duration": 26,
    "start_time": "2022-11-20T11:08:55.986Z"
   },
   {
    "duration": 90,
    "start_time": "2022-11-20T11:08:56.014Z"
   },
   {
    "duration": 4,
    "start_time": "2022-11-20T11:09:22.381Z"
   },
   {
    "duration": 286,
    "start_time": "2022-11-20T11:09:22.387Z"
   },
   {
    "duration": 13,
    "start_time": "2022-11-20T11:09:22.678Z"
   },
   {
    "duration": 51,
    "start_time": "2022-11-20T11:09:22.694Z"
   },
   {
    "duration": 4,
    "start_time": "2022-11-20T11:09:22.747Z"
   },
   {
    "duration": 53,
    "start_time": "2022-11-20T11:09:22.754Z"
   },
   {
    "duration": 53,
    "start_time": "2022-11-20T11:09:22.809Z"
   },
   {
    "duration": 54,
    "start_time": "2022-11-20T11:09:22.863Z"
   },
   {
    "duration": 70,
    "start_time": "2022-11-20T11:09:22.919Z"
   },
   {
    "duration": 56,
    "start_time": "2022-11-20T11:09:22.993Z"
   },
   {
    "duration": 44,
    "start_time": "2022-11-20T11:09:23.051Z"
   },
   {
    "duration": 113,
    "start_time": "2022-11-20T11:09:23.097Z"
   },
   {
    "duration": 89,
    "start_time": "2022-11-20T11:09:23.212Z"
   },
   {
    "duration": 75,
    "start_time": "2022-11-20T11:09:23.304Z"
   },
   {
    "duration": 56,
    "start_time": "2022-11-20T11:09:23.381Z"
   },
   {
    "duration": 20,
    "start_time": "2022-11-20T11:09:23.456Z"
   },
   {
    "duration": 85,
    "start_time": "2022-11-20T11:09:23.478Z"
   },
   {
    "duration": 23,
    "start_time": "2022-11-20T11:09:23.565Z"
   },
   {
    "duration": 81,
    "start_time": "2022-11-20T11:09:23.590Z"
   },
   {
    "duration": 3,
    "start_time": "2022-11-20T11:10:00.845Z"
   },
   {
    "duration": 270,
    "start_time": "2022-11-20T11:10:00.851Z"
   },
   {
    "duration": 22,
    "start_time": "2022-11-20T11:10:01.124Z"
   },
   {
    "duration": 96,
    "start_time": "2022-11-20T11:10:01.149Z"
   },
   {
    "duration": 30,
    "start_time": "2022-11-20T11:10:01.247Z"
   },
   {
    "duration": 28,
    "start_time": "2022-11-20T11:10:01.279Z"
   },
   {
    "duration": 36,
    "start_time": "2022-11-20T11:10:01.309Z"
   },
   {
    "duration": 51,
    "start_time": "2022-11-20T11:10:01.347Z"
   },
   {
    "duration": 65,
    "start_time": "2022-11-20T11:10:01.402Z"
   },
   {
    "duration": 67,
    "start_time": "2022-11-20T11:10:01.469Z"
   },
   {
    "duration": 57,
    "start_time": "2022-11-20T11:10:01.538Z"
   },
   {
    "duration": 288,
    "start_time": "2022-11-20T11:10:01.597Z"
   },
   {
    "duration": 108,
    "start_time": "2022-11-20T11:10:01.887Z"
   },
   {
    "duration": 110,
    "start_time": "2022-11-20T11:10:01.997Z"
   },
   {
    "duration": 66,
    "start_time": "2022-11-20T11:10:02.109Z"
   },
   {
    "duration": 18,
    "start_time": "2022-11-20T11:10:02.176Z"
   },
   {
    "duration": 77,
    "start_time": "2022-11-20T11:10:02.196Z"
   },
   {
    "duration": 21,
    "start_time": "2022-11-20T11:10:02.275Z"
   },
   {
    "duration": 62,
    "start_time": "2022-11-20T11:10:02.298Z"
   },
   {
    "duration": 3,
    "start_time": "2022-11-20T11:29:17.538Z"
   },
   {
    "duration": 273,
    "start_time": "2022-11-20T11:29:17.543Z"
   },
   {
    "duration": 20,
    "start_time": "2022-11-20T11:29:17.821Z"
   },
   {
    "duration": 64,
    "start_time": "2022-11-20T11:29:17.844Z"
   },
   {
    "duration": 16,
    "start_time": "2022-11-20T11:29:17.915Z"
   },
   {
    "duration": 17,
    "start_time": "2022-11-20T11:29:17.940Z"
   },
   {
    "duration": 20,
    "start_time": "2022-11-20T11:29:17.964Z"
   },
   {
    "duration": 27,
    "start_time": "2022-11-20T11:29:17.991Z"
   },
   {
    "duration": 56,
    "start_time": "2022-11-20T11:29:18.025Z"
   },
   {
    "duration": 28,
    "start_time": "2022-11-20T11:29:18.084Z"
   },
   {
    "duration": 54,
    "start_time": "2022-11-20T11:29:18.116Z"
   },
   {
    "duration": 154,
    "start_time": "2022-11-20T11:29:18.173Z"
   },
   {
    "duration": 117,
    "start_time": "2022-11-20T11:29:18.330Z"
   },
   {
    "duration": 99,
    "start_time": "2022-11-20T11:29:18.450Z"
   },
   {
    "duration": 98,
    "start_time": "2022-11-20T11:29:18.558Z"
   },
   {
    "duration": 17,
    "start_time": "2022-11-20T11:29:18.658Z"
   },
   {
    "duration": 93,
    "start_time": "2022-11-20T11:29:18.678Z"
   },
   {
    "duration": 21,
    "start_time": "2022-11-20T11:29:18.776Z"
   },
   {
    "duration": 22,
    "start_time": "2022-11-20T11:29:18.799Z"
   },
   {
    "duration": 12,
    "start_time": "2022-11-20T11:29:18.824Z"
   },
   {
    "duration": 4,
    "start_time": "2022-11-20T11:29:38.856Z"
   },
   {
    "duration": 255,
    "start_time": "2022-11-20T11:29:38.862Z"
   },
   {
    "duration": 14,
    "start_time": "2022-11-20T11:29:39.120Z"
   },
   {
    "duration": 56,
    "start_time": "2022-11-20T11:29:39.137Z"
   },
   {
    "duration": 7,
    "start_time": "2022-11-20T11:29:39.197Z"
   },
   {
    "duration": 10,
    "start_time": "2022-11-20T11:29:39.206Z"
   },
   {
    "duration": 18,
    "start_time": "2022-11-20T11:29:39.218Z"
   },
   {
    "duration": 9,
    "start_time": "2022-11-20T11:29:39.239Z"
   },
   {
    "duration": 60,
    "start_time": "2022-11-20T11:29:39.256Z"
   },
   {
    "duration": 34,
    "start_time": "2022-11-20T11:29:39.318Z"
   },
   {
    "duration": 48,
    "start_time": "2022-11-20T11:29:39.358Z"
   },
   {
    "duration": 123,
    "start_time": "2022-11-20T11:29:39.408Z"
   },
   {
    "duration": 120,
    "start_time": "2022-11-20T11:29:39.534Z"
   },
   {
    "duration": 96,
    "start_time": "2022-11-20T11:29:39.658Z"
   },
   {
    "duration": 87,
    "start_time": "2022-11-20T11:29:39.759Z"
   },
   {
    "duration": 19,
    "start_time": "2022-11-20T11:29:39.848Z"
   },
   {
    "duration": 81,
    "start_time": "2022-11-20T11:29:39.869Z"
   },
   {
    "duration": 21,
    "start_time": "2022-11-20T11:29:39.955Z"
   },
   {
    "duration": 18,
    "start_time": "2022-11-20T11:29:39.978Z"
   },
   {
    "duration": 11,
    "start_time": "2022-11-20T11:29:39.999Z"
   },
   {
    "duration": 3,
    "start_time": "2022-11-20T11:30:19.120Z"
   },
   {
    "duration": 268,
    "start_time": "2022-11-20T11:30:19.130Z"
   },
   {
    "duration": 15,
    "start_time": "2022-11-20T11:30:19.400Z"
   },
   {
    "duration": 54,
    "start_time": "2022-11-20T11:30:19.419Z"
   },
   {
    "duration": 12,
    "start_time": "2022-11-20T11:30:19.475Z"
   },
   {
    "duration": 17,
    "start_time": "2022-11-20T11:30:19.490Z"
   },
   {
    "duration": 25,
    "start_time": "2022-11-20T11:30:19.509Z"
   },
   {
    "duration": 18,
    "start_time": "2022-11-20T11:30:19.537Z"
   },
   {
    "duration": 56,
    "start_time": "2022-11-20T11:30:19.557Z"
   },
   {
    "duration": 38,
    "start_time": "2022-11-20T11:30:19.616Z"
   },
   {
    "duration": 45,
    "start_time": "2022-11-20T11:30:19.657Z"
   },
   {
    "duration": 116,
    "start_time": "2022-11-20T11:30:19.704Z"
   },
   {
    "duration": 119,
    "start_time": "2022-11-20T11:30:19.823Z"
   },
   {
    "duration": 101,
    "start_time": "2022-11-20T11:30:19.944Z"
   },
   {
    "duration": 88,
    "start_time": "2022-11-20T11:30:20.055Z"
   },
   {
    "duration": 18,
    "start_time": "2022-11-20T11:30:20.156Z"
   },
   {
    "duration": 88,
    "start_time": "2022-11-20T11:30:20.176Z"
   },
   {
    "duration": 21,
    "start_time": "2022-11-20T11:30:20.266Z"
   },
   {
    "duration": 39,
    "start_time": "2022-11-20T11:30:20.290Z"
   },
   {
    "duration": 18,
    "start_time": "2022-11-20T11:30:20.331Z"
   },
   {
    "duration": 5,
    "start_time": "2022-11-20T11:30:52.992Z"
   },
   {
    "duration": 275,
    "start_time": "2022-11-20T11:30:53.007Z"
   },
   {
    "duration": 16,
    "start_time": "2022-11-20T11:30:53.284Z"
   },
   {
    "duration": 66,
    "start_time": "2022-11-20T11:30:53.306Z"
   },
   {
    "duration": 19,
    "start_time": "2022-11-20T11:30:53.381Z"
   },
   {
    "duration": 12,
    "start_time": "2022-11-20T11:30:53.403Z"
   },
   {
    "duration": 22,
    "start_time": "2022-11-20T11:30:53.418Z"
   },
   {
    "duration": 45,
    "start_time": "2022-11-20T11:30:53.442Z"
   },
   {
    "duration": 50,
    "start_time": "2022-11-20T11:30:53.491Z"
   },
   {
    "duration": 35,
    "start_time": "2022-11-20T11:30:53.545Z"
   },
   {
    "duration": 151,
    "start_time": "2022-11-20T11:30:53.588Z"
   },
   {
    "duration": 185,
    "start_time": "2022-11-20T11:30:53.746Z"
   },
   {
    "duration": 106,
    "start_time": "2022-11-20T11:30:53.933Z"
   },
   {
    "duration": 82,
    "start_time": "2022-11-20T11:30:54.041Z"
   },
   {
    "duration": 93,
    "start_time": "2022-11-20T11:30:54.125Z"
   },
   {
    "duration": 15,
    "start_time": "2022-11-20T11:30:54.221Z"
   },
   {
    "duration": 82,
    "start_time": "2022-11-20T11:30:54.238Z"
   },
   {
    "duration": 17,
    "start_time": "2022-11-20T11:30:54.322Z"
   },
   {
    "duration": 32,
    "start_time": "2022-11-20T11:30:54.342Z"
   },
   {
    "duration": 3,
    "start_time": "2022-11-20T11:31:03.996Z"
   },
   {
    "duration": 360,
    "start_time": "2022-11-20T11:31:04.003Z"
   },
   {
    "duration": 31,
    "start_time": "2022-11-20T11:31:04.365Z"
   },
   {
    "duration": 185,
    "start_time": "2022-11-20T11:31:04.410Z"
   },
   {
    "duration": 88,
    "start_time": "2022-11-20T11:31:04.602Z"
   },
   {
    "duration": 90,
    "start_time": "2022-11-20T11:31:04.693Z"
   },
   {
    "duration": 127,
    "start_time": "2022-11-20T11:31:04.785Z"
   },
   {
    "duration": 93,
    "start_time": "2022-11-20T11:31:04.916Z"
   },
   {
    "duration": 194,
    "start_time": "2022-11-20T11:31:05.011Z"
   },
   {
    "duration": 167,
    "start_time": "2022-11-20T11:31:05.212Z"
   },
   {
    "duration": 99,
    "start_time": "2022-11-20T11:31:05.387Z"
   },
   {
    "duration": 158,
    "start_time": "2022-11-20T11:31:05.494Z"
   },
   {
    "duration": 192,
    "start_time": "2022-11-20T11:31:05.658Z"
   },
   {
    "duration": 110,
    "start_time": "2022-11-20T11:31:05.859Z"
   },
   {
    "duration": 222,
    "start_time": "2022-11-20T11:31:05.978Z"
   },
   {
    "duration": 38,
    "start_time": "2022-11-20T11:31:06.207Z"
   },
   {
    "duration": 108,
    "start_time": "2022-11-20T11:31:06.252Z"
   },
   {
    "duration": 34,
    "start_time": "2022-11-20T11:31:06.373Z"
   },
   {
    "duration": 55,
    "start_time": "2022-11-20T11:31:06.413Z"
   },
   {
    "duration": 14,
    "start_time": "2022-11-20T11:31:06.472Z"
   },
   {
    "duration": 3,
    "start_time": "2022-11-20T11:39:01.707Z"
   },
   {
    "duration": 208,
    "start_time": "2022-11-20T11:39:01.713Z"
   },
   {
    "duration": 15,
    "start_time": "2022-11-20T11:39:01.922Z"
   },
   {
    "duration": 60,
    "start_time": "2022-11-20T11:39:01.939Z"
   },
   {
    "duration": 3,
    "start_time": "2022-11-20T11:39:02.002Z"
   },
   {
    "duration": 8,
    "start_time": "2022-11-20T11:39:02.007Z"
   },
   {
    "duration": 38,
    "start_time": "2022-11-20T11:39:02.017Z"
   },
   {
    "duration": 23,
    "start_time": "2022-11-20T11:39:02.058Z"
   },
   {
    "duration": 35,
    "start_time": "2022-11-20T11:39:02.083Z"
   },
   {
    "duration": 25,
    "start_time": "2022-11-20T11:39:02.120Z"
   },
   {
    "duration": 35,
    "start_time": "2022-11-20T11:39:02.147Z"
   },
   {
    "duration": 82,
    "start_time": "2022-11-20T11:39:02.184Z"
   },
   {
    "duration": 90,
    "start_time": "2022-11-20T11:39:02.268Z"
   },
   {
    "duration": 96,
    "start_time": "2022-11-20T11:39:02.361Z"
   },
   {
    "duration": 57,
    "start_time": "2022-11-20T11:39:02.459Z"
   },
   {
    "duration": 12,
    "start_time": "2022-11-20T11:39:02.518Z"
   },
   {
    "duration": 69,
    "start_time": "2022-11-20T11:39:02.532Z"
   },
   {
    "duration": 20,
    "start_time": "2022-11-20T11:39:02.603Z"
   },
   {
    "duration": 41,
    "start_time": "2022-11-20T11:39:02.625Z"
   },
   {
    "duration": 5,
    "start_time": "2022-11-20T11:39:02.668Z"
   },
   {
    "duration": 3,
    "start_time": "2022-11-20T11:49:30.966Z"
   },
   {
    "duration": 235,
    "start_time": "2022-11-20T11:49:30.971Z"
   },
   {
    "duration": 11,
    "start_time": "2022-11-20T11:49:31.209Z"
   },
   {
    "duration": 56,
    "start_time": "2022-11-20T11:49:31.223Z"
   },
   {
    "duration": 18,
    "start_time": "2022-11-20T11:49:31.283Z"
   },
   {
    "duration": 17,
    "start_time": "2022-11-20T11:49:31.303Z"
   },
   {
    "duration": 19,
    "start_time": "2022-11-20T11:49:31.322Z"
   },
   {
    "duration": 24,
    "start_time": "2022-11-20T11:49:31.343Z"
   },
   {
    "duration": 55,
    "start_time": "2022-11-20T11:49:31.368Z"
   },
   {
    "duration": 38,
    "start_time": "2022-11-20T11:49:31.425Z"
   },
   {
    "duration": 46,
    "start_time": "2022-11-20T11:49:31.466Z"
   },
   {
    "duration": 96,
    "start_time": "2022-11-20T11:49:31.514Z"
   },
   {
    "duration": 94,
    "start_time": "2022-11-20T11:49:31.612Z"
   },
   {
    "duration": 84,
    "start_time": "2022-11-20T11:49:31.708Z"
   },
   {
    "duration": 78,
    "start_time": "2022-11-20T11:49:31.794Z"
   },
   {
    "duration": 26,
    "start_time": "2022-11-20T11:49:31.874Z"
   },
   {
    "duration": 51,
    "start_time": "2022-11-20T11:49:31.902Z"
   },
   {
    "duration": 24,
    "start_time": "2022-11-20T11:49:31.955Z"
   },
   {
    "duration": 23,
    "start_time": "2022-11-20T11:49:31.981Z"
   },
   {
    "duration": 5,
    "start_time": "2022-11-20T11:49:32.006Z"
   },
   {
    "duration": 32,
    "start_time": "2022-11-20T11:49:32.013Z"
   },
   {
    "duration": 33,
    "start_time": "2022-11-20T11:49:32.054Z"
   },
   {
    "duration": 19,
    "start_time": "2022-11-20T11:49:32.090Z"
   },
   {
    "duration": 49,
    "start_time": "2022-11-20T11:49:32.111Z"
   },
   {
    "duration": 30,
    "start_time": "2022-11-20T11:49:32.167Z"
   },
   {
    "duration": 21,
    "start_time": "2022-11-20T11:49:32.199Z"
   },
   {
    "duration": 9,
    "start_time": "2022-11-20T11:51:13.018Z"
   },
   {
    "duration": 235,
    "start_time": "2022-11-20T11:51:13.029Z"
   },
   {
    "duration": 16,
    "start_time": "2022-11-20T11:51:13.266Z"
   },
   {
    "duration": 55,
    "start_time": "2022-11-20T11:51:13.285Z"
   },
   {
    "duration": 4,
    "start_time": "2022-11-20T11:51:13.342Z"
   },
   {
    "duration": 43,
    "start_time": "2022-11-20T11:51:13.348Z"
   },
   {
    "duration": 18,
    "start_time": "2022-11-20T11:51:13.393Z"
   },
   {
    "duration": 20,
    "start_time": "2022-11-20T11:51:13.413Z"
   },
   {
    "duration": 72,
    "start_time": "2022-11-20T11:51:13.435Z"
   },
   {
    "duration": 36,
    "start_time": "2022-11-20T11:51:13.510Z"
   },
   {
    "duration": 77,
    "start_time": "2022-11-20T11:51:13.548Z"
   },
   {
    "duration": 132,
    "start_time": "2022-11-20T11:51:13.628Z"
   },
   {
    "duration": 94,
    "start_time": "2022-11-20T11:51:13.761Z"
   },
   {
    "duration": 69,
    "start_time": "2022-11-20T11:51:13.857Z"
   },
   {
    "duration": 79,
    "start_time": "2022-11-20T11:51:13.928Z"
   },
   {
    "duration": 11,
    "start_time": "2022-11-20T11:51:14.009Z"
   },
   {
    "duration": 82,
    "start_time": "2022-11-20T11:51:14.021Z"
   },
   {
    "duration": 13,
    "start_time": "2022-11-20T11:51:14.104Z"
   },
   {
    "duration": 21,
    "start_time": "2022-11-20T11:51:14.119Z"
   },
   {
    "duration": 43,
    "start_time": "2022-11-20T11:51:14.142Z"
   },
   {
    "duration": 38,
    "start_time": "2022-11-20T11:51:14.187Z"
   },
   {
    "duration": 23,
    "start_time": "2022-11-20T11:51:14.227Z"
   },
   {
    "duration": 34,
    "start_time": "2022-11-20T11:51:14.252Z"
   },
   {
    "duration": 37,
    "start_time": "2022-11-20T11:51:14.288Z"
   },
   {
    "duration": 39,
    "start_time": "2022-11-20T11:51:14.327Z"
   },
   {
    "duration": 32,
    "start_time": "2022-11-20T11:51:14.368Z"
   },
   {
    "duration": 4,
    "start_time": "2022-11-20T11:56:08.374Z"
   },
   {
    "duration": 247,
    "start_time": "2022-11-20T11:56:08.381Z"
   },
   {
    "duration": 13,
    "start_time": "2022-11-20T11:56:08.630Z"
   },
   {
    "duration": 58,
    "start_time": "2022-11-20T11:56:08.645Z"
   },
   {
    "duration": 11,
    "start_time": "2022-11-20T11:56:08.707Z"
   },
   {
    "duration": 13,
    "start_time": "2022-11-20T11:56:08.720Z"
   },
   {
    "duration": 25,
    "start_time": "2022-11-20T11:56:08.735Z"
   },
   {
    "duration": 25,
    "start_time": "2022-11-20T11:56:08.762Z"
   },
   {
    "duration": 66,
    "start_time": "2022-11-20T11:56:08.789Z"
   },
   {
    "duration": 49,
    "start_time": "2022-11-20T11:56:08.857Z"
   },
   {
    "duration": 70,
    "start_time": "2022-11-20T11:56:08.908Z"
   },
   {
    "duration": 101,
    "start_time": "2022-11-20T11:56:08.981Z"
   },
   {
    "duration": 84,
    "start_time": "2022-11-20T11:56:09.084Z"
   },
   {
    "duration": 64,
    "start_time": "2022-11-20T11:56:09.172Z"
   },
   {
    "duration": 101,
    "start_time": "2022-11-20T11:56:09.237Z"
   },
   {
    "duration": 26,
    "start_time": "2022-11-20T11:56:09.340Z"
   },
   {
    "duration": 50,
    "start_time": "2022-11-20T11:56:09.368Z"
   },
   {
    "duration": 41,
    "start_time": "2022-11-20T11:56:09.420Z"
   },
   {
    "duration": 18,
    "start_time": "2022-11-20T11:56:09.463Z"
   },
   {
    "duration": 15,
    "start_time": "2022-11-20T11:56:09.484Z"
   },
   {
    "duration": 85,
    "start_time": "2022-11-20T11:56:09.502Z"
   },
   {
    "duration": 37,
    "start_time": "2022-11-20T11:56:09.588Z"
   },
   {
    "duration": 18,
    "start_time": "2022-11-20T11:56:09.627Z"
   },
   {
    "duration": 34,
    "start_time": "2022-11-20T11:56:09.647Z"
   },
   {
    "duration": 20,
    "start_time": "2022-11-20T11:56:09.683Z"
   },
   {
    "duration": 46,
    "start_time": "2022-11-20T11:56:09.705Z"
   },
   {
    "duration": 28,
    "start_time": "2022-11-20T11:56:09.753Z"
   },
   {
    "duration": 4,
    "start_time": "2022-11-20T11:56:39.312Z"
   },
   {
    "duration": 253,
    "start_time": "2022-11-20T11:56:39.319Z"
   },
   {
    "duration": 16,
    "start_time": "2022-11-20T11:56:39.574Z"
   },
   {
    "duration": 65,
    "start_time": "2022-11-20T11:56:39.593Z"
   },
   {
    "duration": 3,
    "start_time": "2022-11-20T11:56:39.662Z"
   },
   {
    "duration": 16,
    "start_time": "2022-11-20T11:56:39.667Z"
   },
   {
    "duration": 21,
    "start_time": "2022-11-20T11:56:39.685Z"
   },
   {
    "duration": 21,
    "start_time": "2022-11-20T11:56:39.708Z"
   },
   {
    "duration": 60,
    "start_time": "2022-11-20T11:56:39.731Z"
   },
   {
    "duration": 46,
    "start_time": "2022-11-20T11:56:39.793Z"
   },
   {
    "duration": 46,
    "start_time": "2022-11-20T11:56:39.841Z"
   },
   {
    "duration": 114,
    "start_time": "2022-11-20T11:56:39.889Z"
   },
   {
    "duration": 108,
    "start_time": "2022-11-20T11:56:40.005Z"
   },
   {
    "duration": 97,
    "start_time": "2022-11-20T11:56:40.117Z"
   },
   {
    "duration": 86,
    "start_time": "2022-11-20T11:56:40.216Z"
   },
   {
    "duration": 20,
    "start_time": "2022-11-20T11:56:40.304Z"
   },
   {
    "duration": 85,
    "start_time": "2022-11-20T11:56:40.326Z"
   },
   {
    "duration": 22,
    "start_time": "2022-11-20T11:56:40.413Z"
   },
   {
    "duration": 32,
    "start_time": "2022-11-20T11:56:40.437Z"
   },
   {
    "duration": 6,
    "start_time": "2022-11-20T11:56:40.471Z"
   },
   {
    "duration": 32,
    "start_time": "2022-11-20T11:56:40.480Z"
   },
   {
    "duration": 51,
    "start_time": "2022-11-20T11:56:40.515Z"
   },
   {
    "duration": 25,
    "start_time": "2022-11-20T11:56:40.569Z"
   },
   {
    "duration": 22,
    "start_time": "2022-11-20T11:56:40.597Z"
   },
   {
    "duration": 29,
    "start_time": "2022-11-20T11:56:40.654Z"
   },
   {
    "duration": 28,
    "start_time": "2022-11-20T11:56:40.685Z"
   },
   {
    "duration": 43,
    "start_time": "2022-11-20T11:56:40.716Z"
   },
   {
    "duration": 3,
    "start_time": "2022-11-20T12:03:26.237Z"
   },
   {
    "duration": 274,
    "start_time": "2022-11-20T12:03:26.243Z"
   },
   {
    "duration": 16,
    "start_time": "2022-11-20T12:03:26.519Z"
   },
   {
    "duration": 59,
    "start_time": "2022-11-20T12:03:26.538Z"
   },
   {
    "duration": 31,
    "start_time": "2022-11-20T12:03:26.599Z"
   },
   {
    "duration": 21,
    "start_time": "2022-11-20T12:03:26.634Z"
   },
   {
    "duration": 30,
    "start_time": "2022-11-20T12:03:26.658Z"
   },
   {
    "duration": 42,
    "start_time": "2022-11-20T12:03:26.690Z"
   },
   {
    "duration": 63,
    "start_time": "2022-11-20T12:03:26.734Z"
   },
   {
    "duration": 62,
    "start_time": "2022-11-20T12:03:26.801Z"
   },
   {
    "duration": 49,
    "start_time": "2022-11-20T12:03:26.866Z"
   },
   {
    "duration": 123,
    "start_time": "2022-11-20T12:03:26.917Z"
   },
   {
    "duration": 104,
    "start_time": "2022-11-20T12:03:27.043Z"
   },
   {
    "duration": 90,
    "start_time": "2022-11-20T12:03:27.150Z"
   },
   {
    "duration": 83,
    "start_time": "2022-11-20T12:03:27.254Z"
   },
   {
    "duration": 26,
    "start_time": "2022-11-20T12:03:27.339Z"
   },
   {
    "duration": 100,
    "start_time": "2022-11-20T12:03:27.368Z"
   },
   {
    "duration": 22,
    "start_time": "2022-11-20T12:03:27.470Z"
   },
   {
    "duration": 17,
    "start_time": "2022-11-20T12:03:27.494Z"
   },
   {
    "duration": 5,
    "start_time": "2022-11-20T12:03:27.513Z"
   },
   {
    "duration": 54,
    "start_time": "2022-11-20T12:03:27.521Z"
   },
   {
    "duration": 26,
    "start_time": "2022-11-20T12:03:27.578Z"
   },
   {
    "duration": 48,
    "start_time": "2022-11-20T12:03:27.606Z"
   },
   {
    "duration": 25,
    "start_time": "2022-11-20T12:03:27.657Z"
   },
   {
    "duration": 30,
    "start_time": "2022-11-20T12:03:27.684Z"
   },
   {
    "duration": 54,
    "start_time": "2022-11-20T12:03:27.716Z"
   },
   {
    "duration": 20,
    "start_time": "2022-11-20T12:03:27.772Z"
   },
   {
    "duration": 5,
    "start_time": "2022-11-20T12:05:18.676Z"
   },
   {
    "duration": 245,
    "start_time": "2022-11-20T12:05:18.684Z"
   },
   {
    "duration": 26,
    "start_time": "2022-11-20T12:05:18.931Z"
   },
   {
    "duration": 63,
    "start_time": "2022-11-20T12:05:18.959Z"
   },
   {
    "duration": 60,
    "start_time": "2022-11-20T12:05:19.029Z"
   },
   {
    "duration": 27,
    "start_time": "2022-11-20T12:05:19.092Z"
   },
   {
    "duration": 15,
    "start_time": "2022-11-20T12:05:19.121Z"
   },
   {
    "duration": 11,
    "start_time": "2022-11-20T12:05:19.139Z"
   },
   {
    "duration": 55,
    "start_time": "2022-11-20T12:05:19.152Z"
   },
   {
    "duration": 39,
    "start_time": "2022-11-20T12:05:19.210Z"
   },
   {
    "duration": 46,
    "start_time": "2022-11-20T12:05:19.251Z"
   },
   {
    "duration": 112,
    "start_time": "2022-11-20T12:05:19.299Z"
   },
   {
    "duration": 108,
    "start_time": "2022-11-20T12:05:19.414Z"
   },
   {
    "duration": 99,
    "start_time": "2022-11-20T12:05:19.526Z"
   },
   {
    "duration": 97,
    "start_time": "2022-11-20T12:05:19.627Z"
   },
   {
    "duration": 25,
    "start_time": "2022-11-20T12:05:19.728Z"
   },
   {
    "duration": 80,
    "start_time": "2022-11-20T12:05:19.756Z"
   },
   {
    "duration": 27,
    "start_time": "2022-11-20T12:05:19.837Z"
   },
   {
    "duration": 37,
    "start_time": "2022-11-20T12:05:19.866Z"
   },
   {
    "duration": 6,
    "start_time": "2022-11-20T12:05:19.904Z"
   },
   {
    "duration": 36,
    "start_time": "2022-11-20T12:05:19.911Z"
   },
   {
    "duration": 26,
    "start_time": "2022-11-20T12:05:19.950Z"
   },
   {
    "duration": 46,
    "start_time": "2022-11-20T12:05:19.978Z"
   },
   {
    "duration": 43,
    "start_time": "2022-11-20T12:05:20.026Z"
   },
   {
    "duration": 40,
    "start_time": "2022-11-20T12:05:20.077Z"
   },
   {
    "duration": 28,
    "start_time": "2022-11-20T12:05:20.119Z"
   },
   {
    "duration": 6,
    "start_time": "2022-11-20T12:05:20.149Z"
   },
   {
    "duration": 4,
    "start_time": "2022-11-20T12:05:32.635Z"
   },
   {
    "duration": 268,
    "start_time": "2022-11-20T12:05:32.642Z"
   },
   {
    "duration": 18,
    "start_time": "2022-11-20T12:05:32.912Z"
   },
   {
    "duration": 64,
    "start_time": "2022-11-20T12:05:32.932Z"
   },
   {
    "duration": 12,
    "start_time": "2022-11-20T12:05:32.999Z"
   },
   {
    "duration": 11,
    "start_time": "2022-11-20T12:05:33.013Z"
   },
   {
    "duration": 20,
    "start_time": "2022-11-20T12:05:33.026Z"
   },
   {
    "duration": 13,
    "start_time": "2022-11-20T12:05:33.049Z"
   },
   {
    "duration": 56,
    "start_time": "2022-11-20T12:05:33.064Z"
   },
   {
    "duration": 46,
    "start_time": "2022-11-20T12:05:33.124Z"
   },
   {
    "duration": 49,
    "start_time": "2022-11-20T12:05:33.173Z"
   },
   {
    "duration": 114,
    "start_time": "2022-11-20T12:05:33.224Z"
   },
   {
    "duration": 105,
    "start_time": "2022-11-20T12:05:33.340Z"
   },
   {
    "duration": 102,
    "start_time": "2022-11-20T12:05:33.454Z"
   },
   {
    "duration": 97,
    "start_time": "2022-11-20T12:05:33.559Z"
   },
   {
    "duration": 19,
    "start_time": "2022-11-20T12:05:33.658Z"
   },
   {
    "duration": 95,
    "start_time": "2022-11-20T12:05:33.680Z"
   },
   {
    "duration": 36,
    "start_time": "2022-11-20T12:05:33.778Z"
   },
   {
    "duration": 22,
    "start_time": "2022-11-20T12:05:33.818Z"
   },
   {
    "duration": 14,
    "start_time": "2022-11-20T12:05:33.842Z"
   },
   {
    "duration": 59,
    "start_time": "2022-11-20T12:05:33.858Z"
   },
   {
    "duration": 24,
    "start_time": "2022-11-20T12:05:33.920Z"
   },
   {
    "duration": 27,
    "start_time": "2022-11-20T12:05:33.947Z"
   },
   {
    "duration": 24,
    "start_time": "2022-11-20T12:05:33.977Z"
   },
   {
    "duration": 28,
    "start_time": "2022-11-20T12:05:34.003Z"
   },
   {
    "duration": 45,
    "start_time": "2022-11-20T12:05:34.033Z"
   },
   {
    "duration": 12,
    "start_time": "2022-11-20T12:05:34.080Z"
   },
   {
    "duration": 3,
    "start_time": "2022-11-20T12:08:44.218Z"
   },
   {
    "duration": 198,
    "start_time": "2022-11-20T12:08:44.223Z"
   },
   {
    "duration": 13,
    "start_time": "2022-11-20T12:08:44.423Z"
   },
   {
    "duration": 60,
    "start_time": "2022-11-20T12:08:44.439Z"
   },
   {
    "duration": 3,
    "start_time": "2022-11-20T12:08:44.501Z"
   },
   {
    "duration": 12,
    "start_time": "2022-11-20T12:08:44.506Z"
   },
   {
    "duration": 19,
    "start_time": "2022-11-20T12:08:44.520Z"
   },
   {
    "duration": 28,
    "start_time": "2022-11-20T12:08:44.556Z"
   },
   {
    "duration": 51,
    "start_time": "2022-11-20T12:08:44.588Z"
   },
   {
    "duration": 47,
    "start_time": "2022-11-20T12:08:44.642Z"
   },
   {
    "duration": 56,
    "start_time": "2022-11-20T12:08:44.691Z"
   },
   {
    "duration": 150,
    "start_time": "2022-11-20T12:08:44.750Z"
   },
   {
    "duration": 115,
    "start_time": "2022-11-20T12:08:44.902Z"
   },
   {
    "duration": 98,
    "start_time": "2022-11-20T12:08:45.019Z"
   },
   {
    "duration": 61,
    "start_time": "2022-11-20T12:08:45.119Z"
   },
   {
    "duration": 15,
    "start_time": "2022-11-20T12:08:45.182Z"
   },
   {
    "duration": 71,
    "start_time": "2022-11-20T12:08:45.199Z"
   },
   {
    "duration": 16,
    "start_time": "2022-11-20T12:08:45.272Z"
   },
   {
    "duration": 18,
    "start_time": "2022-11-20T12:08:45.291Z"
   },
   {
    "duration": 5,
    "start_time": "2022-11-20T12:08:45.311Z"
   },
   {
    "duration": 57,
    "start_time": "2022-11-20T12:08:45.318Z"
   },
   {
    "duration": 19,
    "start_time": "2022-11-20T12:08:45.377Z"
   },
   {
    "duration": 23,
    "start_time": "2022-11-20T12:08:45.398Z"
   },
   {
    "duration": 45,
    "start_time": "2022-11-20T12:08:45.425Z"
   },
   {
    "duration": 28,
    "start_time": "2022-11-20T12:08:45.472Z"
   },
   {
    "duration": 53,
    "start_time": "2022-11-20T12:08:45.502Z"
   },
   {
    "duration": 10,
    "start_time": "2022-11-20T12:08:45.558Z"
   },
   {
    "duration": 44,
    "start_time": "2022-11-20T12:08:45.570Z"
   },
   {
    "duration": 408,
    "start_time": "2022-11-21T10:15:40.345Z"
   },
   {
    "duration": 218,
    "start_time": "2022-11-21T10:15:40.755Z"
   },
   {
    "duration": 17,
    "start_time": "2022-11-21T10:15:40.974Z"
   },
   {
    "duration": 47,
    "start_time": "2022-11-21T10:15:40.993Z"
   },
   {
    "duration": 7,
    "start_time": "2022-11-21T10:15:41.044Z"
   },
   {
    "duration": 24,
    "start_time": "2022-11-21T10:15:41.053Z"
   },
   {
    "duration": 20,
    "start_time": "2022-11-21T10:15:41.079Z"
   },
   {
    "duration": 29,
    "start_time": "2022-11-21T10:15:41.101Z"
   },
   {
    "duration": 34,
    "start_time": "2022-11-21T10:15:41.132Z"
   },
   {
    "duration": 20,
    "start_time": "2022-11-21T10:15:41.168Z"
   },
   {
    "duration": 26,
    "start_time": "2022-11-21T10:15:41.190Z"
   },
   {
    "duration": 83,
    "start_time": "2022-11-21T10:15:41.218Z"
   },
   {
    "duration": 65,
    "start_time": "2022-11-21T10:15:41.302Z"
   },
   {
    "duration": 60,
    "start_time": "2022-11-21T10:15:41.376Z"
   },
   {
    "duration": 65,
    "start_time": "2022-11-21T10:15:41.438Z"
   },
   {
    "duration": 11,
    "start_time": "2022-11-21T10:15:41.505Z"
   },
   {
    "duration": 62,
    "start_time": "2022-11-21T10:15:41.517Z"
   },
   {
    "duration": 12,
    "start_time": "2022-11-21T10:15:41.581Z"
   },
   {
    "duration": 12,
    "start_time": "2022-11-21T10:15:41.595Z"
   },
   {
    "duration": 3,
    "start_time": "2022-11-21T10:15:41.609Z"
   },
   {
    "duration": 29,
    "start_time": "2022-11-21T10:15:41.613Z"
   },
   {
    "duration": 13,
    "start_time": "2022-11-21T10:15:41.644Z"
   },
   {
    "duration": 16,
    "start_time": "2022-11-21T10:15:41.676Z"
   },
   {
    "duration": 18,
    "start_time": "2022-11-21T10:15:41.693Z"
   },
   {
    "duration": 19,
    "start_time": "2022-11-21T10:15:41.713Z"
   },
   {
    "duration": 14,
    "start_time": "2022-11-21T10:15:41.735Z"
   },
   {
    "duration": 29,
    "start_time": "2022-11-21T10:15:41.751Z"
   },
   {
    "duration": 15,
    "start_time": "2022-11-21T10:15:41.782Z"
   },
   {
    "duration": 10,
    "start_time": "2022-11-21T10:15:41.798Z"
   },
   {
    "duration": 8,
    "start_time": "2022-11-21T10:15:41.810Z"
   },
   {
    "duration": 2,
    "start_time": "2022-11-21T10:18:27.128Z"
   },
   {
    "duration": 189,
    "start_time": "2022-11-21T10:18:27.132Z"
   },
   {
    "duration": 11,
    "start_time": "2022-11-21T10:18:27.323Z"
   },
   {
    "duration": 37,
    "start_time": "2022-11-21T10:18:27.335Z"
   },
   {
    "duration": 2,
    "start_time": "2022-11-21T10:18:27.376Z"
   },
   {
    "duration": 13,
    "start_time": "2022-11-21T10:18:27.380Z"
   },
   {
    "duration": 11,
    "start_time": "2022-11-21T10:18:27.395Z"
   },
   {
    "duration": 4,
    "start_time": "2022-11-21T10:18:27.407Z"
   },
   {
    "duration": 28,
    "start_time": "2022-11-21T10:18:27.412Z"
   },
   {
    "duration": 17,
    "start_time": "2022-11-21T10:18:27.442Z"
   },
   {
    "duration": 31,
    "start_time": "2022-11-21T10:18:27.462Z"
   },
   {
    "duration": 64,
    "start_time": "2022-11-21T10:18:27.494Z"
   },
   {
    "duration": 68,
    "start_time": "2022-11-21T10:18:27.560Z"
   },
   {
    "duration": 63,
    "start_time": "2022-11-21T10:18:27.629Z"
   },
   {
    "duration": 47,
    "start_time": "2022-11-21T10:18:27.693Z"
   },
   {
    "duration": 12,
    "start_time": "2022-11-21T10:18:27.742Z"
   },
   {
    "duration": 60,
    "start_time": "2022-11-21T10:18:27.756Z"
   },
   {
    "duration": 12,
    "start_time": "2022-11-21T10:18:27.817Z"
   },
   {
    "duration": 11,
    "start_time": "2022-11-21T10:18:27.830Z"
   },
   {
    "duration": 10,
    "start_time": "2022-11-21T10:18:27.842Z"
   },
   {
    "duration": 33,
    "start_time": "2022-11-21T10:18:27.853Z"
   },
   {
    "duration": 14,
    "start_time": "2022-11-21T10:18:27.887Z"
   },
   {
    "duration": 13,
    "start_time": "2022-11-21T10:18:27.902Z"
   },
   {
    "duration": 12,
    "start_time": "2022-11-21T10:18:27.917Z"
   },
   {
    "duration": 17,
    "start_time": "2022-11-21T10:18:27.930Z"
   },
   {
    "duration": 39,
    "start_time": "2022-11-21T10:18:27.948Z"
   },
   {
    "duration": 9,
    "start_time": "2022-11-21T10:18:27.989Z"
   },
   {
    "duration": 17,
    "start_time": "2022-11-21T10:18:28.000Z"
   },
   {
    "duration": 11,
    "start_time": "2022-11-21T10:18:28.020Z"
   },
   {
    "duration": 5,
    "start_time": "2022-11-21T10:18:28.033Z"
   },
   {
    "duration": 50,
    "start_time": "2022-11-21T10:18:28.040Z"
   },
   {
    "duration": 3,
    "start_time": "2022-11-21T10:19:55.641Z"
   },
   {
    "duration": 169,
    "start_time": "2022-11-21T10:19:55.645Z"
   },
   {
    "duration": 10,
    "start_time": "2022-11-21T10:19:55.816Z"
   },
   {
    "duration": 33,
    "start_time": "2022-11-21T10:19:55.828Z"
   },
   {
    "duration": 13,
    "start_time": "2022-11-21T10:19:55.863Z"
   },
   {
    "duration": 16,
    "start_time": "2022-11-21T10:19:55.878Z"
   },
   {
    "duration": 9,
    "start_time": "2022-11-21T10:19:55.895Z"
   },
   {
    "duration": 8,
    "start_time": "2022-11-21T10:19:55.906Z"
   },
   {
    "duration": 26,
    "start_time": "2022-11-21T10:19:55.916Z"
   },
   {
    "duration": 15,
    "start_time": "2022-11-21T10:19:55.944Z"
   },
   {
    "duration": 20,
    "start_time": "2022-11-21T10:19:55.960Z"
   },
   {
    "duration": 68,
    "start_time": "2022-11-21T10:19:55.982Z"
   },
   {
    "duration": 71,
    "start_time": "2022-11-21T10:19:56.054Z"
   },
   {
    "duration": 58,
    "start_time": "2022-11-21T10:19:56.127Z"
   },
   {
    "duration": 46,
    "start_time": "2022-11-21T10:19:56.187Z"
   },
   {
    "duration": 11,
    "start_time": "2022-11-21T10:19:56.235Z"
   },
   {
    "duration": 61,
    "start_time": "2022-11-21T10:19:56.247Z"
   },
   {
    "duration": 12,
    "start_time": "2022-11-21T10:19:56.310Z"
   },
   {
    "duration": 10,
    "start_time": "2022-11-21T10:19:56.324Z"
   },
   {
    "duration": 7,
    "start_time": "2022-11-21T10:19:56.336Z"
   },
   {
    "duration": 36,
    "start_time": "2022-11-21T10:19:56.344Z"
   },
   {
    "duration": 14,
    "start_time": "2022-11-21T10:19:56.381Z"
   },
   {
    "duration": 14,
    "start_time": "2022-11-21T10:19:56.397Z"
   },
   {
    "duration": 13,
    "start_time": "2022-11-21T10:19:56.412Z"
   },
   {
    "duration": 16,
    "start_time": "2022-11-21T10:19:56.427Z"
   },
   {
    "duration": 42,
    "start_time": "2022-11-21T10:19:56.445Z"
   },
   {
    "duration": 9,
    "start_time": "2022-11-21T10:19:56.488Z"
   },
   {
    "duration": 19,
    "start_time": "2022-11-21T10:19:56.498Z"
   },
   {
    "duration": 9,
    "start_time": "2022-11-21T10:19:56.518Z"
   },
   {
    "duration": 4,
    "start_time": "2022-11-21T10:19:56.529Z"
   },
   {
    "duration": 20,
    "start_time": "2022-11-21T10:19:56.535Z"
   },
   {
    "duration": 10,
    "start_time": "2022-11-21T10:19:56.576Z"
   },
   {
    "duration": 13,
    "start_time": "2022-11-21T10:19:56.588Z"
   },
   {
    "duration": 13,
    "start_time": "2022-11-21T10:19:56.602Z"
   },
   {
    "duration": 3,
    "start_time": "2022-11-21T10:25:28.005Z"
   },
   {
    "duration": 179,
    "start_time": "2022-11-21T10:25:28.010Z"
   },
   {
    "duration": 12,
    "start_time": "2022-11-21T10:25:28.191Z"
   },
   {
    "duration": 43,
    "start_time": "2022-11-21T10:25:28.205Z"
   },
   {
    "duration": 12,
    "start_time": "2022-11-21T10:25:28.250Z"
   },
   {
    "duration": 23,
    "start_time": "2022-11-21T10:25:28.263Z"
   },
   {
    "duration": 17,
    "start_time": "2022-11-21T10:25:28.288Z"
   },
   {
    "duration": 19,
    "start_time": "2022-11-21T10:25:28.307Z"
   },
   {
    "duration": 43,
    "start_time": "2022-11-21T10:25:28.328Z"
   },
   {
    "duration": 25,
    "start_time": "2022-11-21T10:25:28.373Z"
   },
   {
    "duration": 36,
    "start_time": "2022-11-21T10:25:28.400Z"
   },
   {
    "duration": 72,
    "start_time": "2022-11-21T10:25:28.437Z"
   },
   {
    "duration": 68,
    "start_time": "2022-11-21T10:25:28.511Z"
   },
   {
    "duration": 54,
    "start_time": "2022-11-21T10:25:28.580Z"
   },
   {
    "duration": 58,
    "start_time": "2022-11-21T10:25:28.636Z"
   },
   {
    "duration": 13,
    "start_time": "2022-11-21T10:25:28.696Z"
   },
   {
    "duration": 57,
    "start_time": "2022-11-21T10:25:28.710Z"
   },
   {
    "duration": 11,
    "start_time": "2022-11-21T10:25:28.769Z"
   },
   {
    "duration": 47,
    "start_time": "2022-11-21T10:25:28.782Z"
   },
   {
    "duration": 12,
    "start_time": "2022-11-21T10:25:28.831Z"
   },
   {
    "duration": 38,
    "start_time": "2022-11-21T10:25:28.845Z"
   },
   {
    "duration": 36,
    "start_time": "2022-11-21T10:25:28.885Z"
   },
   {
    "duration": 25,
    "start_time": "2022-11-21T10:25:28.923Z"
   },
   {
    "duration": 18,
    "start_time": "2022-11-21T10:25:28.950Z"
   },
   {
    "duration": 17,
    "start_time": "2022-11-21T10:25:28.969Z"
   },
   {
    "duration": 27,
    "start_time": "2022-11-21T10:25:28.987Z"
   },
   {
    "duration": 11,
    "start_time": "2022-11-21T10:25:29.016Z"
   },
   {
    "duration": 15,
    "start_time": "2022-11-21T10:25:29.028Z"
   },
   {
    "duration": 9,
    "start_time": "2022-11-21T10:25:29.045Z"
   },
   {
    "duration": 4,
    "start_time": "2022-11-21T10:25:29.056Z"
   },
   {
    "duration": 27,
    "start_time": "2022-11-21T10:25:29.061Z"
   },
   {
    "duration": 13,
    "start_time": "2022-11-21T10:25:29.090Z"
   },
   {
    "duration": 24,
    "start_time": "2022-11-21T10:25:29.105Z"
   },
   {
    "duration": 15,
    "start_time": "2022-11-21T10:25:29.131Z"
   },
   {
    "duration": 18,
    "start_time": "2022-11-21T10:25:29.148Z"
   },
   {
    "duration": 33,
    "start_time": "2022-11-21T10:25:29.176Z"
   },
   {
    "duration": 2,
    "start_time": "2022-11-21T10:29:52.806Z"
   },
   {
    "duration": 189,
    "start_time": "2022-11-21T10:29:52.810Z"
   },
   {
    "duration": 10,
    "start_time": "2022-11-21T10:29:53.002Z"
   },
   {
    "duration": 40,
    "start_time": "2022-11-21T10:29:53.014Z"
   },
   {
    "duration": 3,
    "start_time": "2022-11-21T10:29:53.056Z"
   },
   {
    "duration": 29,
    "start_time": "2022-11-21T10:29:53.061Z"
   },
   {
    "duration": 8,
    "start_time": "2022-11-21T10:29:53.092Z"
   },
   {
    "duration": 4,
    "start_time": "2022-11-21T10:29:53.101Z"
   },
   {
    "duration": 35,
    "start_time": "2022-11-21T10:29:53.108Z"
   },
   {
    "duration": 27,
    "start_time": "2022-11-21T10:29:53.144Z"
   },
   {
    "duration": 27,
    "start_time": "2022-11-21T10:29:53.173Z"
   },
   {
    "duration": 61,
    "start_time": "2022-11-21T10:29:53.202Z"
   },
   {
    "duration": 69,
    "start_time": "2022-11-21T10:29:53.265Z"
   },
   {
    "duration": 66,
    "start_time": "2022-11-21T10:29:53.336Z"
   },
   {
    "duration": 47,
    "start_time": "2022-11-21T10:29:53.403Z"
   },
   {
    "duration": 27,
    "start_time": "2022-11-21T10:29:53.452Z"
   },
   {
    "duration": 62,
    "start_time": "2022-11-21T10:29:53.480Z"
   },
   {
    "duration": 22,
    "start_time": "2022-11-21T10:29:53.544Z"
   },
   {
    "duration": 35,
    "start_time": "2022-11-21T10:29:53.567Z"
   },
   {
    "duration": 22,
    "start_time": "2022-11-21T10:29:53.603Z"
   },
   {
    "duration": 61,
    "start_time": "2022-11-21T10:29:53.626Z"
   },
   {
    "duration": 47,
    "start_time": "2022-11-21T10:29:53.688Z"
   },
   {
    "duration": 27,
    "start_time": "2022-11-21T10:29:53.736Z"
   },
   {
    "duration": 43,
    "start_time": "2022-11-21T10:29:53.766Z"
   },
   {
    "duration": 32,
    "start_time": "2022-11-21T10:29:53.811Z"
   },
   {
    "duration": 47,
    "start_time": "2022-11-21T10:29:53.845Z"
   },
   {
    "duration": 13,
    "start_time": "2022-11-21T10:29:53.894Z"
   },
   {
    "duration": 21,
    "start_time": "2022-11-21T10:29:53.908Z"
   },
   {
    "duration": 35,
    "start_time": "2022-11-21T10:29:53.931Z"
   },
   {
    "duration": 38,
    "start_time": "2022-11-21T10:29:53.967Z"
   },
   {
    "duration": 59,
    "start_time": "2022-11-21T10:29:54.010Z"
   },
   {
    "duration": 11,
    "start_time": "2022-11-21T10:29:54.070Z"
   },
   {
    "duration": 39,
    "start_time": "2022-11-21T10:29:54.083Z"
   },
   {
    "duration": 26,
    "start_time": "2022-11-21T10:29:54.124Z"
   },
   {
    "duration": 11,
    "start_time": "2022-11-21T10:29:54.152Z"
   },
   {
    "duration": 19,
    "start_time": "2022-11-21T10:29:54.165Z"
   },
   {
    "duration": 3,
    "start_time": "2022-11-21T10:31:32.509Z"
   },
   {
    "duration": 171,
    "start_time": "2022-11-21T10:31:32.514Z"
   },
   {
    "duration": 11,
    "start_time": "2022-11-21T10:31:32.687Z"
   },
   {
    "duration": 34,
    "start_time": "2022-11-21T10:31:32.700Z"
   },
   {
    "duration": 3,
    "start_time": "2022-11-21T10:31:32.736Z"
   },
   {
    "duration": 21,
    "start_time": "2022-11-21T10:31:32.741Z"
   },
   {
    "duration": 7,
    "start_time": "2022-11-21T10:31:32.776Z"
   },
   {
    "duration": 11,
    "start_time": "2022-11-21T10:31:32.784Z"
   },
   {
    "duration": 28,
    "start_time": "2022-11-21T10:31:32.799Z"
   },
   {
    "duration": 20,
    "start_time": "2022-11-21T10:31:32.830Z"
   },
   {
    "duration": 29,
    "start_time": "2022-11-21T10:31:32.875Z"
   },
   {
    "duration": 79,
    "start_time": "2022-11-21T10:31:32.907Z"
   },
   {
    "duration": 65,
    "start_time": "2022-11-21T10:31:32.988Z"
   },
   {
    "duration": 68,
    "start_time": "2022-11-21T10:31:33.054Z"
   },
   {
    "duration": 65,
    "start_time": "2022-11-21T10:31:33.124Z"
   },
   {
    "duration": 12,
    "start_time": "2022-11-21T10:31:33.191Z"
   },
   {
    "duration": 43,
    "start_time": "2022-11-21T10:31:33.204Z"
   },
   {
    "duration": 29,
    "start_time": "2022-11-21T10:31:33.249Z"
   },
   {
    "duration": 11,
    "start_time": "2022-11-21T10:31:33.280Z"
   },
   {
    "duration": 10,
    "start_time": "2022-11-21T10:31:33.293Z"
   },
   {
    "duration": 39,
    "start_time": "2022-11-21T10:31:33.305Z"
   },
   {
    "duration": 31,
    "start_time": "2022-11-21T10:31:33.346Z"
   },
   {
    "duration": 25,
    "start_time": "2022-11-21T10:31:33.379Z"
   },
   {
    "duration": 20,
    "start_time": "2022-11-21T10:31:33.409Z"
   },
   {
    "duration": 20,
    "start_time": "2022-11-21T10:31:33.431Z"
   },
   {
    "duration": 24,
    "start_time": "2022-11-21T10:31:33.453Z"
   },
   {
    "duration": 8,
    "start_time": "2022-11-21T10:31:33.479Z"
   },
   {
    "duration": 21,
    "start_time": "2022-11-21T10:31:33.489Z"
   },
   {
    "duration": 13,
    "start_time": "2022-11-21T10:31:33.512Z"
   },
   {
    "duration": 11,
    "start_time": "2022-11-21T10:31:33.527Z"
   },
   {
    "duration": 47,
    "start_time": "2022-11-21T10:31:33.540Z"
   },
   {
    "duration": 13,
    "start_time": "2022-11-21T10:31:33.589Z"
   },
   {
    "duration": 27,
    "start_time": "2022-11-21T10:31:33.604Z"
   },
   {
    "duration": 24,
    "start_time": "2022-11-21T10:31:33.633Z"
   },
   {
    "duration": 17,
    "start_time": "2022-11-21T10:31:33.659Z"
   },
   {
    "duration": 32,
    "start_time": "2022-11-21T10:31:33.678Z"
   },
   {
    "duration": 3,
    "start_time": "2022-11-21T10:31:41.341Z"
   },
   {
    "duration": 178,
    "start_time": "2022-11-21T10:31:41.346Z"
   },
   {
    "duration": 15,
    "start_time": "2022-11-21T10:31:41.526Z"
   },
   {
    "duration": 44,
    "start_time": "2022-11-21T10:31:41.543Z"
   },
   {
    "duration": 2,
    "start_time": "2022-11-21T10:31:41.590Z"
   },
   {
    "duration": 6,
    "start_time": "2022-11-21T10:31:41.593Z"
   },
   {
    "duration": 7,
    "start_time": "2022-11-21T10:31:41.601Z"
   },
   {
    "duration": 4,
    "start_time": "2022-11-21T10:31:41.609Z"
   },
   {
    "duration": 26,
    "start_time": "2022-11-21T10:31:41.615Z"
   },
   {
    "duration": 52,
    "start_time": "2022-11-21T10:31:41.642Z"
   },
   {
    "duration": 26,
    "start_time": "2022-11-21T10:31:41.696Z"
   },
   {
    "duration": 78,
    "start_time": "2022-11-21T10:31:41.724Z"
   },
   {
    "duration": 76,
    "start_time": "2022-11-21T10:31:41.807Z"
   },
   {
    "duration": 59,
    "start_time": "2022-11-21T10:31:41.885Z"
   },
   {
    "duration": 70,
    "start_time": "2022-11-21T10:31:41.946Z"
   },
   {
    "duration": 16,
    "start_time": "2022-11-21T10:31:42.018Z"
   },
   {
    "duration": 58,
    "start_time": "2022-11-21T10:31:42.036Z"
   },
   {
    "duration": 11,
    "start_time": "2022-11-21T10:31:42.096Z"
   },
   {
    "duration": 14,
    "start_time": "2022-11-21T10:31:42.109Z"
   },
   {
    "duration": 3,
    "start_time": "2022-11-21T10:31:42.125Z"
   },
   {
    "duration": 28,
    "start_time": "2022-11-21T10:31:42.129Z"
   },
   {
    "duration": 28,
    "start_time": "2022-11-21T10:31:42.159Z"
   },
   {
    "duration": 21,
    "start_time": "2022-11-21T10:31:42.188Z"
   },
   {
    "duration": 16,
    "start_time": "2022-11-21T10:31:42.210Z"
   },
   {
    "duration": 17,
    "start_time": "2022-11-21T10:31:42.228Z"
   },
   {
    "duration": 39,
    "start_time": "2022-11-21T10:31:42.246Z"
   },
   {
    "duration": 7,
    "start_time": "2022-11-21T10:31:42.287Z"
   },
   {
    "duration": 17,
    "start_time": "2022-11-21T10:31:42.295Z"
   },
   {
    "duration": 9,
    "start_time": "2022-11-21T10:31:42.313Z"
   },
   {
    "duration": 14,
    "start_time": "2022-11-21T10:31:42.324Z"
   },
   {
    "duration": 27,
    "start_time": "2022-11-21T10:31:42.340Z"
   },
   {
    "duration": 18,
    "start_time": "2022-11-21T10:31:42.368Z"
   },
   {
    "duration": 15,
    "start_time": "2022-11-21T10:31:42.387Z"
   },
   {
    "duration": 10,
    "start_time": "2022-11-21T10:31:42.404Z"
   },
   {
    "duration": 7,
    "start_time": "2022-11-21T10:31:42.415Z"
   },
   {
    "duration": 5,
    "start_time": "2022-11-21T10:31:42.424Z"
   },
   {
    "duration": 2,
    "start_time": "2022-11-21T10:32:27.685Z"
   },
   {
    "duration": 157,
    "start_time": "2022-11-21T10:32:27.689Z"
   },
   {
    "duration": 10,
    "start_time": "2022-11-21T10:32:27.848Z"
   },
   {
    "duration": 47,
    "start_time": "2022-11-21T10:32:27.859Z"
   },
   {
    "duration": 15,
    "start_time": "2022-11-21T10:32:27.908Z"
   },
   {
    "duration": 28,
    "start_time": "2022-11-21T10:32:27.925Z"
   },
   {
    "duration": 25,
    "start_time": "2022-11-21T10:32:27.955Z"
   },
   {
    "duration": 23,
    "start_time": "2022-11-21T10:32:27.982Z"
   },
   {
    "duration": 44,
    "start_time": "2022-11-21T10:32:28.007Z"
   },
   {
    "duration": 35,
    "start_time": "2022-11-21T10:32:28.053Z"
   },
   {
    "duration": 42,
    "start_time": "2022-11-21T10:32:28.089Z"
   },
   {
    "duration": 75,
    "start_time": "2022-11-21T10:32:28.132Z"
   },
   {
    "duration": 70,
    "start_time": "2022-11-21T10:32:28.208Z"
   },
   {
    "duration": 52,
    "start_time": "2022-11-21T10:32:28.280Z"
   },
   {
    "duration": 52,
    "start_time": "2022-11-21T10:32:28.334Z"
   },
   {
    "duration": 10,
    "start_time": "2022-11-21T10:32:28.387Z"
   },
   {
    "duration": 46,
    "start_time": "2022-11-21T10:32:28.398Z"
   },
   {
    "duration": 10,
    "start_time": "2022-11-21T10:32:28.446Z"
   },
   {
    "duration": 30,
    "start_time": "2022-11-21T10:32:28.458Z"
   },
   {
    "duration": 15,
    "start_time": "2022-11-21T10:32:28.489Z"
   },
   {
    "duration": 29,
    "start_time": "2022-11-21T10:32:28.505Z"
   },
   {
    "duration": 29,
    "start_time": "2022-11-21T10:32:28.536Z"
   },
   {
    "duration": 13,
    "start_time": "2022-11-21T10:32:28.566Z"
   },
   {
    "duration": 12,
    "start_time": "2022-11-21T10:32:28.581Z"
   },
   {
    "duration": 15,
    "start_time": "2022-11-21T10:32:28.594Z"
   },
   {
    "duration": 16,
    "start_time": "2022-11-21T10:32:28.611Z"
   },
   {
    "duration": 8,
    "start_time": "2022-11-21T10:32:28.628Z"
   },
   {
    "duration": 41,
    "start_time": "2022-11-21T10:32:28.639Z"
   },
   {
    "duration": 21,
    "start_time": "2022-11-21T10:32:28.681Z"
   },
   {
    "duration": 4,
    "start_time": "2022-11-21T10:32:28.704Z"
   },
   {
    "duration": 27,
    "start_time": "2022-11-21T10:32:28.709Z"
   },
   {
    "duration": 10,
    "start_time": "2022-11-21T10:32:28.738Z"
   },
   {
    "duration": 32,
    "start_time": "2022-11-21T10:32:28.749Z"
   },
   {
    "duration": 10,
    "start_time": "2022-11-21T10:32:28.782Z"
   },
   {
    "duration": 23,
    "start_time": "2022-11-21T10:32:28.793Z"
   },
   {
    "duration": 12,
    "start_time": "2022-11-21T10:32:28.818Z"
   },
   {
    "duration": 409,
    "start_time": "2022-11-21T10:33:24.380Z"
   },
   {
    "duration": 175,
    "start_time": "2022-11-21T10:33:24.791Z"
   },
   {
    "duration": 23,
    "start_time": "2022-11-21T10:33:24.968Z"
   },
   {
    "duration": 33,
    "start_time": "2022-11-21T10:33:24.993Z"
   },
   {
    "duration": 3,
    "start_time": "2022-11-21T10:33:25.029Z"
   },
   {
    "duration": 18,
    "start_time": "2022-11-21T10:33:25.033Z"
   },
   {
    "duration": 28,
    "start_time": "2022-11-21T10:33:25.053Z"
   },
   {
    "duration": 14,
    "start_time": "2022-11-21T10:33:25.083Z"
   },
   {
    "duration": 29,
    "start_time": "2022-11-21T10:33:25.099Z"
   },
   {
    "duration": 19,
    "start_time": "2022-11-21T10:33:25.130Z"
   },
   {
    "duration": 34,
    "start_time": "2022-11-21T10:33:25.150Z"
   },
   {
    "duration": 81,
    "start_time": "2022-11-21T10:33:25.186Z"
   },
   {
    "duration": 76,
    "start_time": "2022-11-21T10:33:25.269Z"
   },
   {
    "duration": 58,
    "start_time": "2022-11-21T10:33:25.348Z"
   },
   {
    "duration": 46,
    "start_time": "2022-11-21T10:33:25.408Z"
   },
   {
    "duration": 21,
    "start_time": "2022-11-21T10:33:25.455Z"
   },
   {
    "duration": 42,
    "start_time": "2022-11-21T10:33:25.478Z"
   },
   {
    "duration": 12,
    "start_time": "2022-11-21T10:33:25.522Z"
   },
   {
    "duration": 14,
    "start_time": "2022-11-21T10:33:25.535Z"
   },
   {
    "duration": 26,
    "start_time": "2022-11-21T10:33:25.550Z"
   },
   {
    "duration": 16,
    "start_time": "2022-11-21T10:33:25.577Z"
   },
   {
    "duration": 24,
    "start_time": "2022-11-21T10:33:25.594Z"
   },
   {
    "duration": 23,
    "start_time": "2022-11-21T10:33:25.619Z"
   },
   {
    "duration": 13,
    "start_time": "2022-11-21T10:33:25.643Z"
   },
   {
    "duration": 26,
    "start_time": "2022-11-21T10:33:25.657Z"
   },
   {
    "duration": 22,
    "start_time": "2022-11-21T10:33:25.684Z"
   },
   {
    "duration": 23,
    "start_time": "2022-11-21T10:33:25.707Z"
   },
   {
    "duration": 14,
    "start_time": "2022-11-21T10:33:25.731Z"
   },
   {
    "duration": 8,
    "start_time": "2022-11-21T10:33:25.746Z"
   },
   {
    "duration": 4,
    "start_time": "2022-11-21T10:33:25.756Z"
   },
   {
    "duration": 23,
    "start_time": "2022-11-21T10:33:25.761Z"
   },
   {
    "duration": 11,
    "start_time": "2022-11-21T10:33:25.786Z"
   },
   {
    "duration": 15,
    "start_time": "2022-11-21T10:33:25.798Z"
   },
   {
    "duration": 14,
    "start_time": "2022-11-21T10:33:25.814Z"
   },
   {
    "duration": 9,
    "start_time": "2022-11-21T10:33:25.829Z"
   },
   {
    "duration": 6,
    "start_time": "2022-11-21T10:33:25.839Z"
   },
   {
    "duration": 30,
    "start_time": "2022-11-21T10:33:25.846Z"
   },
   {
    "duration": 5,
    "start_time": "2022-11-21T10:33:25.878Z"
   },
   {
    "duration": 2,
    "start_time": "2022-11-21T10:35:07.374Z"
   },
   {
    "duration": 194,
    "start_time": "2022-11-21T10:35:07.378Z"
   },
   {
    "duration": 14,
    "start_time": "2022-11-21T10:35:07.575Z"
   },
   {
    "duration": 31,
    "start_time": "2022-11-21T10:35:07.591Z"
   },
   {
    "duration": 3,
    "start_time": "2022-11-21T10:35:07.624Z"
   },
   {
    "duration": 7,
    "start_time": "2022-11-21T10:35:07.628Z"
   },
   {
    "duration": 7,
    "start_time": "2022-11-21T10:35:07.637Z"
   },
   {
    "duration": 32,
    "start_time": "2022-11-21T10:35:07.645Z"
   },
   {
    "duration": 40,
    "start_time": "2022-11-21T10:35:07.679Z"
   },
   {
    "duration": 15,
    "start_time": "2022-11-21T10:35:07.722Z"
   },
   {
    "duration": 41,
    "start_time": "2022-11-21T10:35:07.739Z"
   },
   {
    "duration": 59,
    "start_time": "2022-11-21T10:35:07.782Z"
   },
   {
    "duration": 70,
    "start_time": "2022-11-21T10:35:07.843Z"
   },
   {
    "duration": 49,
    "start_time": "2022-11-21T10:35:07.914Z"
   },
   {
    "duration": 54,
    "start_time": "2022-11-21T10:35:07.964Z"
   },
   {
    "duration": 11,
    "start_time": "2022-11-21T10:35:08.019Z"
   },
   {
    "duration": 62,
    "start_time": "2022-11-21T10:35:08.032Z"
   },
   {
    "duration": 13,
    "start_time": "2022-11-21T10:35:08.096Z"
   },
   {
    "duration": 11,
    "start_time": "2022-11-21T10:35:08.111Z"
   },
   {
    "duration": 4,
    "start_time": "2022-11-21T10:35:08.123Z"
   },
   {
    "duration": 23,
    "start_time": "2022-11-21T10:35:08.129Z"
   },
   {
    "duration": 15,
    "start_time": "2022-11-21T10:35:08.177Z"
   },
   {
    "duration": 14,
    "start_time": "2022-11-21T10:35:08.193Z"
   },
   {
    "duration": 11,
    "start_time": "2022-11-21T10:35:08.211Z"
   },
   {
    "duration": 15,
    "start_time": "2022-11-21T10:35:08.223Z"
   },
   {
    "duration": 48,
    "start_time": "2022-11-21T10:35:08.240Z"
   },
   {
    "duration": 10,
    "start_time": "2022-11-21T10:35:08.289Z"
   },
   {
    "duration": 14,
    "start_time": "2022-11-21T10:35:08.301Z"
   },
   {
    "duration": 10,
    "start_time": "2022-11-21T10:35:08.316Z"
   },
   {
    "duration": 4,
    "start_time": "2022-11-21T10:35:08.328Z"
   },
   {
    "duration": 47,
    "start_time": "2022-11-21T10:35:08.333Z"
   },
   {
    "duration": 11,
    "start_time": "2022-11-21T10:35:08.381Z"
   },
   {
    "duration": 15,
    "start_time": "2022-11-21T10:35:08.393Z"
   },
   {
    "duration": 17,
    "start_time": "2022-11-21T10:35:08.409Z"
   },
   {
    "duration": 14,
    "start_time": "2022-11-21T10:35:08.428Z"
   },
   {
    "duration": 33,
    "start_time": "2022-11-21T10:35:08.444Z"
   },
   {
    "duration": 3,
    "start_time": "2022-11-21T10:36:26.749Z"
   },
   {
    "duration": 166,
    "start_time": "2022-11-21T10:36:26.753Z"
   },
   {
    "duration": 10,
    "start_time": "2022-11-21T10:36:26.920Z"
   },
   {
    "duration": 47,
    "start_time": "2022-11-21T10:36:26.931Z"
   },
   {
    "duration": 3,
    "start_time": "2022-11-21T10:36:26.980Z"
   },
   {
    "duration": 22,
    "start_time": "2022-11-21T10:36:26.984Z"
   },
   {
    "duration": 26,
    "start_time": "2022-11-21T10:36:27.007Z"
   },
   {
    "duration": 21,
    "start_time": "2022-11-21T10:36:27.034Z"
   },
   {
    "duration": 43,
    "start_time": "2022-11-21T10:36:27.056Z"
   },
   {
    "duration": 45,
    "start_time": "2022-11-21T10:36:27.101Z"
   },
   {
    "duration": 23,
    "start_time": "2022-11-21T10:36:27.148Z"
   },
   {
    "duration": 71,
    "start_time": "2022-11-21T10:36:27.173Z"
   },
   {
    "duration": 63,
    "start_time": "2022-11-21T10:36:27.247Z"
   },
   {
    "duration": 65,
    "start_time": "2022-11-21T10:36:27.312Z"
   },
   {
    "duration": 45,
    "start_time": "2022-11-21T10:36:27.379Z"
   },
   {
    "duration": 10,
    "start_time": "2022-11-21T10:36:27.426Z"
   },
   {
    "duration": 57,
    "start_time": "2022-11-21T10:36:27.437Z"
   },
   {
    "duration": 11,
    "start_time": "2022-11-21T10:36:27.496Z"
   },
   {
    "duration": 20,
    "start_time": "2022-11-21T10:36:27.508Z"
   },
   {
    "duration": 4,
    "start_time": "2022-11-21T10:36:27.530Z"
   },
   {
    "duration": 36,
    "start_time": "2022-11-21T10:36:27.536Z"
   },
   {
    "duration": 17,
    "start_time": "2022-11-21T10:36:27.575Z"
   },
   {
    "duration": 18,
    "start_time": "2022-11-21T10:36:27.594Z"
   },
   {
    "duration": 16,
    "start_time": "2022-11-21T10:36:27.613Z"
   },
   {
    "duration": 51,
    "start_time": "2022-11-21T10:36:27.631Z"
   },
   {
    "duration": 15,
    "start_time": "2022-11-21T10:36:27.683Z"
   },
   {
    "duration": 9,
    "start_time": "2022-11-21T10:36:27.700Z"
   },
   {
    "duration": 25,
    "start_time": "2022-11-21T10:36:27.710Z"
   },
   {
    "duration": 11,
    "start_time": "2022-11-21T10:36:27.737Z"
   },
   {
    "duration": 4,
    "start_time": "2022-11-21T10:36:27.749Z"
   },
   {
    "duration": 35,
    "start_time": "2022-11-21T10:36:27.754Z"
   },
   {
    "duration": 10,
    "start_time": "2022-11-21T10:36:27.791Z"
   },
   {
    "duration": 15,
    "start_time": "2022-11-21T10:36:27.803Z"
   },
   {
    "duration": 10,
    "start_time": "2022-11-21T10:36:27.819Z"
   },
   {
    "duration": 7,
    "start_time": "2022-11-21T10:36:27.831Z"
   },
   {
    "duration": 37,
    "start_time": "2022-11-21T10:36:27.840Z"
   },
   {
    "duration": 6,
    "start_time": "2022-11-21T10:36:27.880Z"
   },
   {
    "duration": 3,
    "start_time": "2022-11-21T10:36:32.396Z"
   },
   {
    "duration": 165,
    "start_time": "2022-11-21T10:36:32.405Z"
   },
   {
    "duration": 11,
    "start_time": "2022-11-21T10:36:32.572Z"
   },
   {
    "duration": 47,
    "start_time": "2022-11-21T10:36:32.584Z"
   },
   {
    "duration": 4,
    "start_time": "2022-11-21T10:36:32.633Z"
   },
   {
    "duration": 23,
    "start_time": "2022-11-21T10:36:32.640Z"
   },
   {
    "duration": 21,
    "start_time": "2022-11-21T10:36:32.665Z"
   },
   {
    "duration": 19,
    "start_time": "2022-11-21T10:36:32.687Z"
   },
   {
    "duration": 65,
    "start_time": "2022-11-21T10:36:32.708Z"
   },
   {
    "duration": 50,
    "start_time": "2022-11-21T10:36:32.774Z"
   },
   {
    "duration": 67,
    "start_time": "2022-11-21T10:36:32.826Z"
   },
   {
    "duration": 87,
    "start_time": "2022-11-21T10:36:32.894Z"
   },
   {
    "duration": 58,
    "start_time": "2022-11-21T10:36:32.983Z"
   },
   {
    "duration": 66,
    "start_time": "2022-11-21T10:36:33.042Z"
   },
   {
    "duration": 49,
    "start_time": "2022-11-21T10:36:33.111Z"
   },
   {
    "duration": 28,
    "start_time": "2022-11-21T10:36:33.162Z"
   },
   {
    "duration": 66,
    "start_time": "2022-11-21T10:36:33.191Z"
   },
   {
    "duration": 26,
    "start_time": "2022-11-21T10:36:33.259Z"
   },
   {
    "duration": 28,
    "start_time": "2022-11-21T10:36:33.286Z"
   },
   {
    "duration": 19,
    "start_time": "2022-11-21T10:36:33.315Z"
   },
   {
    "duration": 49,
    "start_time": "2022-11-21T10:36:33.336Z"
   },
   {
    "duration": 18,
    "start_time": "2022-11-21T10:36:33.387Z"
   },
   {
    "duration": 23,
    "start_time": "2022-11-21T10:36:33.407Z"
   },
   {
    "duration": 17,
    "start_time": "2022-11-21T10:36:33.432Z"
   },
   {
    "duration": 29,
    "start_time": "2022-11-21T10:36:33.451Z"
   },
   {
    "duration": 17,
    "start_time": "2022-11-21T10:36:33.482Z"
   },
   {
    "duration": 8,
    "start_time": "2022-11-21T10:36:33.501Z"
   },
   {
    "duration": 30,
    "start_time": "2022-11-21T10:36:33.511Z"
   },
   {
    "duration": 12,
    "start_time": "2022-11-21T10:36:33.543Z"
   },
   {
    "duration": 20,
    "start_time": "2022-11-21T10:36:33.558Z"
   },
   {
    "duration": 43,
    "start_time": "2022-11-21T10:36:33.580Z"
   },
   {
    "duration": 25,
    "start_time": "2022-11-21T10:36:33.625Z"
   },
   {
    "duration": 23,
    "start_time": "2022-11-21T10:36:33.651Z"
   },
   {
    "duration": 13,
    "start_time": "2022-11-21T10:36:33.675Z"
   },
   {
    "duration": 26,
    "start_time": "2022-11-21T10:36:33.689Z"
   },
   {
    "duration": 20,
    "start_time": "2022-11-21T10:36:33.716Z"
   },
   {
    "duration": 18,
    "start_time": "2022-11-21T10:36:33.737Z"
   },
   {
    "duration": 18,
    "start_time": "2022-11-21T10:36:33.756Z"
   },
   {
    "duration": 421,
    "start_time": "2022-12-06T13:50:34.221Z"
   },
   {
    "duration": 260,
    "start_time": "2022-12-06T13:50:34.644Z"
   },
   {
    "duration": 19,
    "start_time": "2022-12-06T13:50:34.906Z"
   },
   {
    "duration": 42,
    "start_time": "2022-12-06T13:50:34.927Z"
   },
   {
    "duration": 11,
    "start_time": "2022-12-06T13:50:34.972Z"
   },
   {
    "duration": 23,
    "start_time": "2022-12-06T13:50:34.984Z"
   },
   {
    "duration": 18,
    "start_time": "2022-12-06T13:50:35.010Z"
   },
   {
    "duration": 19,
    "start_time": "2022-12-06T13:50:35.030Z"
   },
   {
    "duration": 44,
    "start_time": "2022-12-06T13:50:35.051Z"
   },
   {
    "duration": 34,
    "start_time": "2022-12-06T13:50:35.097Z"
   },
   {
    "duration": 48,
    "start_time": "2022-12-06T13:50:35.133Z"
   },
   {
    "duration": 85,
    "start_time": "2022-12-06T13:50:35.182Z"
   },
   {
    "duration": 73,
    "start_time": "2022-12-06T13:50:35.268Z"
   },
   {
    "duration": 75,
    "start_time": "2022-12-06T13:50:35.344Z"
   },
   {
    "duration": 47,
    "start_time": "2022-12-06T13:50:35.421Z"
   },
   {
    "duration": 21,
    "start_time": "2022-12-06T13:50:35.470Z"
   },
   {
    "duration": 68,
    "start_time": "2022-12-06T13:50:35.493Z"
   },
   {
    "duration": 14,
    "start_time": "2022-12-06T13:50:35.563Z"
   },
   {
    "duration": 44,
    "start_time": "2022-12-06T13:50:35.580Z"
   },
   {
    "duration": 29,
    "start_time": "2022-12-06T13:50:35.626Z"
   },
   {
    "duration": 79,
    "start_time": "2022-12-06T13:50:35.657Z"
   },
   {
    "duration": 32,
    "start_time": "2022-12-06T13:50:35.737Z"
   },
   {
    "duration": 28,
    "start_time": "2022-12-06T13:50:35.771Z"
   },
   {
    "duration": 29,
    "start_time": "2022-12-06T13:50:35.800Z"
   },
   {
    "duration": 24,
    "start_time": "2022-12-06T13:50:35.831Z"
   },
   {
    "duration": 19,
    "start_time": "2022-12-06T13:50:35.857Z"
   },
   {
    "duration": 22,
    "start_time": "2022-12-06T13:50:35.878Z"
   },
   {
    "duration": 31,
    "start_time": "2022-12-06T13:50:35.901Z"
   },
   {
    "duration": 14,
    "start_time": "2022-12-06T13:50:35.934Z"
   },
   {
    "duration": 10,
    "start_time": "2022-12-06T13:50:35.950Z"
   },
   {
    "duration": 43,
    "start_time": "2022-12-06T13:50:35.962Z"
   },
   {
    "duration": 14,
    "start_time": "2022-12-06T13:50:36.007Z"
   },
   {
    "duration": 30,
    "start_time": "2022-12-06T13:50:36.023Z"
   },
   {
    "duration": 23,
    "start_time": "2022-12-06T13:50:36.054Z"
   },
   {
    "duration": 15,
    "start_time": "2022-12-06T13:50:36.079Z"
   },
   {
    "duration": 27,
    "start_time": "2022-12-06T13:50:36.096Z"
   },
   {
    "duration": 31,
    "start_time": "2022-12-06T13:50:36.124Z"
   },
   {
    "duration": 13,
    "start_time": "2022-12-06T13:50:36.157Z"
   },
   {
    "duration": 403,
    "start_time": "2023-05-01T13:48:34.846Z"
   },
   {
    "duration": 273,
    "start_time": "2023-05-01T13:48:35.251Z"
   },
   {
    "duration": 18,
    "start_time": "2023-05-01T13:48:35.526Z"
   },
   {
    "duration": 31,
    "start_time": "2023-05-01T13:48:35.546Z"
   },
   {
    "duration": 9,
    "start_time": "2023-05-01T13:48:35.579Z"
   },
   {
    "duration": 6,
    "start_time": "2023-05-01T13:48:35.589Z"
   },
   {
    "duration": 18,
    "start_time": "2023-05-01T13:48:35.597Z"
   },
   {
    "duration": 12,
    "start_time": "2023-05-01T13:48:35.616Z"
   },
   {
    "duration": 25,
    "start_time": "2023-05-01T13:48:35.629Z"
   },
   {
    "duration": 19,
    "start_time": "2023-05-01T13:48:35.656Z"
   },
   {
    "duration": 47,
    "start_time": "2023-05-01T13:48:35.677Z"
   },
   {
    "duration": 68,
    "start_time": "2023-05-01T13:48:35.725Z"
   },
   {
    "duration": 85,
    "start_time": "2023-05-01T13:48:35.795Z"
   },
   {
    "duration": 78,
    "start_time": "2023-05-01T13:48:35.882Z"
   },
   {
    "duration": 63,
    "start_time": "2023-05-01T13:48:35.962Z"
   },
   {
    "duration": 13,
    "start_time": "2023-05-01T13:48:36.027Z"
   },
   {
    "duration": 54,
    "start_time": "2023-05-01T13:48:36.041Z"
   },
   {
    "duration": 26,
    "start_time": "2023-05-01T13:48:36.097Z"
   },
   {
    "duration": 11,
    "start_time": "2023-05-01T13:48:36.125Z"
   },
   {
    "duration": 3,
    "start_time": "2023-05-01T13:48:36.138Z"
   },
   {
    "duration": 21,
    "start_time": "2023-05-01T13:48:36.143Z"
   },
   {
    "duration": 3,
    "start_time": "2023-05-01T13:48:36.166Z"
   },
   {
    "duration": 0,
    "start_time": "2023-05-01T13:48:36.171Z"
   },
   {
    "duration": 0,
    "start_time": "2023-05-01T13:48:36.172Z"
   },
   {
    "duration": 0,
    "start_time": "2023-05-01T13:48:36.173Z"
   },
   {
    "duration": 0,
    "start_time": "2023-05-01T13:48:36.175Z"
   },
   {
    "duration": 0,
    "start_time": "2023-05-01T13:48:36.176Z"
   },
   {
    "duration": 0,
    "start_time": "2023-05-01T13:48:36.177Z"
   },
   {
    "duration": 0,
    "start_time": "2023-05-01T13:48:36.178Z"
   },
   {
    "duration": 0,
    "start_time": "2023-05-01T13:48:36.211Z"
   },
   {
    "duration": 0,
    "start_time": "2023-05-01T13:48:36.212Z"
   },
   {
    "duration": 0,
    "start_time": "2023-05-01T13:48:36.213Z"
   },
   {
    "duration": 0,
    "start_time": "2023-05-01T13:48:36.213Z"
   },
   {
    "duration": 0,
    "start_time": "2023-05-01T13:48:36.214Z"
   },
   {
    "duration": 0,
    "start_time": "2023-05-01T13:48:36.215Z"
   },
   {
    "duration": 0,
    "start_time": "2023-05-01T13:48:36.216Z"
   },
   {
    "duration": 0,
    "start_time": "2023-05-01T13:48:36.217Z"
   },
   {
    "duration": 0,
    "start_time": "2023-05-01T13:48:36.218Z"
   },
   {
    "duration": 392,
    "start_time": "2023-05-01T13:49:00.749Z"
   },
   {
    "duration": 184,
    "start_time": "2023-05-01T13:49:01.144Z"
   },
   {
    "duration": 19,
    "start_time": "2023-05-01T13:49:01.330Z"
   },
   {
    "duration": 55,
    "start_time": "2023-05-01T13:49:01.351Z"
   },
   {
    "duration": 34,
    "start_time": "2023-05-01T13:49:01.407Z"
   },
   {
    "duration": 43,
    "start_time": "2023-05-01T13:49:01.442Z"
   },
   {
    "duration": 46,
    "start_time": "2023-05-01T13:49:01.487Z"
   },
   {
    "duration": 37,
    "start_time": "2023-05-01T13:49:01.534Z"
   },
   {
    "duration": 69,
    "start_time": "2023-05-01T13:49:01.573Z"
   },
   {
    "duration": 49,
    "start_time": "2023-05-01T13:49:01.644Z"
   },
   {
    "duration": 52,
    "start_time": "2023-05-01T13:49:01.695Z"
   },
   {
    "duration": 89,
    "start_time": "2023-05-01T13:49:01.748Z"
   },
   {
    "duration": 85,
    "start_time": "2023-05-01T13:49:01.839Z"
   },
   {
    "duration": 65,
    "start_time": "2023-05-01T13:49:01.926Z"
   },
   {
    "duration": 64,
    "start_time": "2023-05-01T13:49:01.993Z"
   },
   {
    "duration": 11,
    "start_time": "2023-05-01T13:49:02.059Z"
   },
   {
    "duration": 65,
    "start_time": "2023-05-01T13:49:02.072Z"
   },
   {
    "duration": 14,
    "start_time": "2023-05-01T13:49:02.139Z"
   },
   {
    "duration": 26,
    "start_time": "2023-05-01T13:49:02.155Z"
   },
   {
    "duration": 38,
    "start_time": "2023-05-01T13:49:02.183Z"
   },
   {
    "duration": 48,
    "start_time": "2023-05-01T13:49:02.223Z"
   },
   {
    "duration": 32,
    "start_time": "2023-05-01T13:49:02.273Z"
   },
   {
    "duration": 36,
    "start_time": "2023-05-01T13:49:02.307Z"
   },
   {
    "duration": 25,
    "start_time": "2023-05-01T13:49:02.345Z"
   },
   {
    "duration": 34,
    "start_time": "2023-05-01T13:49:02.371Z"
   },
   {
    "duration": 30,
    "start_time": "2023-05-01T13:49:02.406Z"
   },
   {
    "duration": 21,
    "start_time": "2023-05-01T13:49:02.438Z"
   },
   {
    "duration": 16,
    "start_time": "2023-05-01T13:49:02.462Z"
   },
   {
    "duration": 15,
    "start_time": "2023-05-01T13:49:02.480Z"
   },
   {
    "duration": 13,
    "start_time": "2023-05-01T13:49:02.497Z"
   },
   {
    "duration": 51,
    "start_time": "2023-05-01T13:49:02.511Z"
   },
   {
    "duration": 12,
    "start_time": "2023-05-01T13:49:02.564Z"
   },
   {
    "duration": 17,
    "start_time": "2023-05-01T13:49:02.578Z"
   },
   {
    "duration": 12,
    "start_time": "2023-05-01T13:49:02.597Z"
   },
   {
    "duration": 10,
    "start_time": "2023-05-01T13:49:02.612Z"
   },
   {
    "duration": 11,
    "start_time": "2023-05-01T13:49:02.625Z"
   },
   {
    "duration": 7,
    "start_time": "2023-05-01T13:49:02.638Z"
   },
   {
    "duration": 31,
    "start_time": "2023-05-01T13:49:02.647Z"
   }
  ],
  "colab": {
   "collapsed_sections": [
    "E0vqbgi9ay0H",
    "VUC88oWjTJw2"
   ],
   "name": "automatization_template_upd4.ipynb",
   "provenance": []
  },
  "kernelspec": {
   "display_name": "Python 3 (ipykernel)",
   "language": "python",
   "name": "python3"
  },
  "language_info": {
   "codemirror_mode": {
    "name": "ipython",
    "version": 3
   },
   "file_extension": ".py",
   "mimetype": "text/x-python",
   "name": "python",
   "nbconvert_exporter": "python",
   "pygments_lexer": "ipython3",
   "version": "3.9.5"
  },
  "toc": {
   "base_numbering": 1,
   "nav_menu": {
    "height": "215px",
    "width": "403px"
   },
   "number_sections": true,
   "sideBar": true,
   "skip_h1_title": true,
   "title_cell": "Table of Contents",
   "title_sidebar": "Contents",
   "toc_cell": false,
   "toc_position": {
    "height": "calc(100% - 180px)",
    "left": "10px",
    "top": "150px",
    "width": "285.825px"
   },
   "toc_section_display": true,
   "toc_window_display": false
  }
 },
 "nbformat": 4,
 "nbformat_minor": 1
}
